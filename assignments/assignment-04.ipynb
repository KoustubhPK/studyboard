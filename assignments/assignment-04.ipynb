{
 "cells": [
  {
   "cell_type": "markdown",
   "metadata": {},
   "source": [
    "# Topics: Dict, Set"
   ]
  },
  {
   "cell_type": "markdown",
   "metadata": {},
   "source": [
    "1. What is a dictionary in Python? List out all properties of Dictionary."
   ]
  },
  {
   "cell_type": "code",
   "execution_count": 1,
   "metadata": {},
   "outputs": [
    {
     "name": "stdout",
     "output_type": "stream",
     "text": [
      "it proved why keys are immutabe means in e.g.1\n",
      "--> O/P: {True: 'maybe'}\n"
     ]
    }
   ],
   "source": [
    "\"\"\"\n",
    "in python dictionary is a special data type which contains keys with it's associated values.\n",
    "it is a partially mutable data type, we can update or delete the values but keys are immutable constraints.\n",
    "keys must be unique and hashable | which has fixed for lifetime i.e keys.__hash__()\n",
    "values could be anything.\n",
    "we can access the values by keys & if we want by values then need to interate the dict.itmes() to retrive the keys.\n",
    "-syntax : dict={key:value}\n",
    "\"\"\"\n",
    "\n",
    "# e.g 1.:\n",
    "my_dict={\n",
    "    True: 'yes',\n",
    "    1: 'no',\n",
    "    1.0: 'maybe'\n",
    "}\n",
    "\n",
    "print(f\"it proved why keys are immutabe means in e.g.1\\n--> O/P: {my_dict}\")\n"
   ]
  },
  {
   "cell_type": "markdown",
   "metadata": {},
   "source": [
    "2. Explain the concept of dictionary comprehension in Python."
   ]
  },
  {
   "cell_type": "code",
   "execution_count": 2,
   "metadata": {},
   "outputs": [
    {
     "name": "stdout",
     "output_type": "stream",
     "text": [
      "Table of TWO: {1: 2, 3: 6, 5: 10, 7: 14, 9: 18}\n",
      "\n",
      "{'Explain': 7, 'the': 3, 'concept': 7, 'of': 2, 'dictionary': 10, 'comprehension': 13, 'in': 2, 'Python': 6} \n",
      "\n",
      "{1: 'math', 2: 'physics', 3: 'chemistry'}\n"
     ]
    }
   ],
   "source": [
    "\"\"\"\n",
    "Dictionary comprehentions is shorter and smarter way to minimize the block of code and\n",
    "still intact the readability with it's expressions for e.g: {k:v for k,v in zip(iterable1, iterable2)}\n",
    "\"\"\"\n",
    "\n",
    "table = {x:x*2 for x in range(1,11) if x%2==1}\n",
    "print(f\"Table of TWO: {table}\\n\")\n",
    "\n",
    "sentence = \"Explain the concept of dictionary comprehension in Python.\"\n",
    "words = sentence.replace(\".\",\"\").split()\n",
    "word_len = {word:len(word) for word in words}\n",
    "print(word_len,\"\\n\")\n",
    "\n",
    "sub_id = [1,2,3,4,5]\n",
    "subject_list = [\"math\", \"physics\",\"chemistry\"]\n",
    "sub_dict = {k:v for k,v in zip(sub_id, subject_list)}\n",
    "print(sub_dict)"
   ]
  },
  {
   "cell_type": "markdown",
   "metadata": {},
   "source": [
    "3. Explain the difference between the dict.get(key) method and accessing dict[key] directly."
   ]
  },
  {
   "cell_type": "code",
   "execution_count": 3,
   "metadata": {},
   "outputs": [
    {
     "name": "stdout",
     "output_type": "stream",
     "text": [
      "None\n",
      "tripped\n"
     ]
    }
   ],
   "source": [
    "\"\"\"\n",
    "--> dict.get(key)\n",
    "returns the values if key exists else None or default value if provided.\n",
    "\n",
    "--> dict[key]\n",
    "it only work until keys are exists in dictionary else raises the KeyError.\n",
    "\"\"\"\n",
    "\n",
    "# case 1.\n",
    "safe = sub_dict.get(4)\n",
    "print(safe)\n",
    "\n",
    "# case 2.\n",
    "safe = sub_dict.get(5,\"tripped\")\n",
    "print(safe)\n",
    "\n",
    "# case 3.\n",
    "# riskier = sub_dict[4]\n",
    "\n",
    "## OUTPUT:\n",
    "\n",
    "\n",
    "# ---------------------------------------------------------------------------\n",
    "# KeyError                                  Traceback (most recent call last)\n",
    "# Cell In[17], line 11\n",
    "#       8 safe = sub_dict.get(5,\"tripped\")\n",
    "#       9 print(safe)\n",
    "# ---> 11 riskier = sub_dict[4]\n",
    "#      12 print(riskier)\n",
    "\n",
    "# KeyError: 4\n"
   ]
  },
  {
   "cell_type": "markdown",
   "metadata": {},
   "source": [
    "4. How can you merge two dictionaries in Python?"
   ]
  },
  {
   "cell_type": "code",
   "execution_count": 4,
   "metadata": {},
   "outputs": [
    {
     "name": "stdout",
     "output_type": "stream",
     "text": [
      "{1: 'a', 2: 'b', 3: 'c', 4: 'd', 5: 'e', 6: 'f'}\n"
     ]
    }
   ],
   "source": [
    "# we have multiple aproaches like update method, bitwise operator pipe (|)\n",
    "\n",
    "dict1 = {1:\"a\", 2:\"b\", 3:\"c\"}\n",
    "dict2 = {4:\"d\", 5:\"e\", 6:\"f\"}\n",
    "\n",
    "updated_dict = dict1 | dict2\n",
    "print(updated_dict)"
   ]
  },
  {
   "cell_type": "markdown",
   "metadata": {},
   "source": [
    "5. How can you update dictionary values in Python? Provide examples."
   ]
  },
  {
   "cell_type": "code",
   "execution_count": 5,
   "metadata": {},
   "outputs": [
    {
     "name": "stdout",
     "output_type": "stream",
     "text": [
      "{1: 'updated a', 2: 'b', 3: 'c'}\n",
      "{4: 'four', 5: 'e', 6: 'f'}\n"
     ]
    }
   ],
   "source": [
    "# Example 1\n",
    "dict1 = {1:\"a\", 2:\"b\", 3:\"c\"}\n",
    "dict1[1]=\"updated a\"\n",
    "print(dict1)\n",
    "\n",
    "# Example 2\n",
    "dict2 = {4:\"d\", 5:\"e\", 6:\"f\"}\n",
    "value = \"four\"\n",
    "updated = {x:(value if x == 4 else v) for x,v in dict2.items()}\n",
    "print(updated)"
   ]
  },
  {
   "cell_type": "markdown",
   "metadata": {},
   "source": [
    "6. How can you iterate over a dictionary to access keys, values, and key-value pairs?"
   ]
  },
  {
   "cell_type": "code",
   "execution_count": 6,
   "metadata": {},
   "outputs": [
    {
     "name": "stdout",
     "output_type": "stream",
     "text": [
      "dictionary access by keys: [4, 5, 6]\n",
      "\n",
      "dictionary access by values: ['four', 'e', 'f']\n",
      "\n",
      "key-value pair: (4, 'four')\n",
      "key-value pair: (5, 'e')\n",
      "key-value pair: (6, 'f')\n"
     ]
    }
   ],
   "source": [
    "keys = [x for x in updated.keys()]\n",
    "print(f\"dictionary access by keys: {keys}\\n\")\n",
    "\n",
    "values = [x for x in updated.values()]\n",
    "print(f\"dictionary access by values: {values}\\n\")\n",
    "\n",
    "for k,v in updated.items():\n",
    "    print(f\"key-value pair: {k,v}\")"
   ]
  },
  {
   "cell_type": "markdown",
   "metadata": {},
   "source": [
    "7. What are the different ways to delete items from dict"
   ]
  },
  {
   "cell_type": "code",
   "execution_count": 7,
   "metadata": {},
   "outputs": [
    {
     "name": "stdout",
     "output_type": "stream",
     "text": [
      "dict.pop(key) ===> {1: 'Microsoft', 2: 'Google', 3: 'IBM', 4: 'Apple', 6: 'Intel'}\n",
      "del dict[key] ===> {1: 'Microsoft', 2: 'Google', 3: 'IBM', 5: 'Oracle', 6: 'Intel'}\n",
      "dict.popitem() ==> {1: 'Microsoft', 2: 'Google', 3: 'IBM', 4: 'Apple', 5: 'Oracle'}\n",
      "dict.clear() ====> {}\n"
     ]
    }
   ],
   "source": [
    "# dict.pop(key)\n",
    "data = {1:\"Microsoft\", 2:\"Google\", 3:\"IBM\", 4:\"Apple\", 5:\"Oracle\", 6:\"Intel\"}\n",
    "data.pop(5)\n",
    "print(f\"dict.pop(key) ===> {data}\")\n",
    "\n",
    "# del dict[key]\n",
    "data = {1:\"Microsoft\", 2:\"Google\", 3:\"IBM\", 4:\"Apple\", 5:\"Oracle\", 6:\"Intel\"}\n",
    "del data[4]\n",
    "print(f\"del dict[key] ===> {data}\")\n",
    "\n",
    "# dict.popitem()\n",
    "data = {1:\"Microsoft\", 2:\"Google\", 3:\"IBM\", 4:\"Apple\", 5:\"Oracle\", 6:\"Intel\"}\n",
    "data.popitem()\n",
    "print(f\"dict.popitem() ==> {data}\")\n",
    "\n",
    "# dict.clear()\n",
    "data = {1:\"Microsoft\", 2:\"Google\", 3:\"IBM\", 4:\"Apple\", 5:\"Oracle\", 6:\"Intel\"}\n",
    "data.clear()\n",
    "print(f\"dict.clear() ====> {data}\")\n",
    "\n"
   ]
  },
  {
   "cell_type": "markdown",
   "metadata": {},
   "source": [
    "8. Count the frequency of each word in a given sentence using a dictionary."
   ]
  },
  {
   "cell_type": "code",
   "execution_count": 8,
   "metadata": {},
   "outputs": [
    {
     "name": "stdout",
     "output_type": "stream",
     "text": [
      "{'Count': 1, 'the': 1, 'frequency': 1, 'of': 1, 'each': 1, 'word': 1, 'in': 1, 'a': 2, 'given': 1, 'sentence': 1, 'using': 1, 'dictionary': 1}\n",
      "{'this': 1, 'is': 1, 'the': 2, 'testing': 1, 'by': 1, 'dictionary': 1, 'comprehension': 1}\n"
     ]
    }
   ],
   "source": [
    "# Using for loop\n",
    "sentence = \"Count the frequency of each word in a given sentence using a dictionary\"\n",
    "word_count = dict()\n",
    "for x in sentence.split():\n",
    "    if x in word_count:\n",
    "        word_count[x] += 1\n",
    "    else:\n",
    "        word_count[x] = 1\n",
    "print(word_count)\n",
    "\n",
    "# Using dictionary comprehension\n",
    "sentence = \"this is the testing by the dictionary comprehension\"\n",
    "word_count = {x: sentence.split().count(x) for x in sentence.split()}\n",
    "print(word_count)"
   ]
  },
  {
   "cell_type": "markdown",
   "metadata": {},
   "source": [
    "9. Count the frequency of each character in a given word using a dictionary."
   ]
  },
  {
   "cell_type": "code",
   "execution_count": 9,
   "metadata": {},
   "outputs": [
    {
     "name": "stdout",
     "output_type": "stream",
     "text": [
      "*************** FOR LOOP ***************\n",
      "{'f': 1, 'o': 3, 'r': 1, 'l': 1, 'p': 1} \n",
      "\n",
      "********** Dict Comprehension **********\n",
      "{'d': 1, 'i': 3, 'c': 2, 't': 1, 'o': 3, 'n': 3, 'a': 1, 'r': 2, 'y': 1, 'm': 1, 'p': 1, 'e': 2, 'h': 1, 's': 1}\n"
     ]
    }
   ],
   "source": [
    "# Using for loop\n",
    "print(f\"{'*'*15} FOR LOOP {'*'*15}\")\n",
    "sentence = \"for loop\"\n",
    "word_count = dict()\n",
    "for x in sentence.replace(\" \",\"\"):\n",
    "    if x in word_count:\n",
    "        word_count[x] += 1\n",
    "    else:\n",
    "        word_count[x] = 1\n",
    "print(word_count,\"\\n\")\n",
    "\n",
    "# Using dictionary comprehension\n",
    "print(f\"{'*'*10} Dict Comprehension {'*'*10}\")\n",
    "sentence = \"dictionary comprehension\"\n",
    "word_count = {x: sentence.replace(\" \",\"\").count(x) for x in sentence.replace(\" \",\"\")}\n",
    "print(word_count)"
   ]
  },
  {
   "cell_type": "markdown",
   "metadata": {},
   "source": [
    "10. Sort a dictionary by keys and values."
   ]
  },
  {
   "cell_type": "code",
   "execution_count": 10,
   "metadata": {},
   "outputs": [
    {
     "name": "stdout",
     "output_type": "stream",
     "text": [
      "*************** Sort By Keys ***************\n",
      "Sorted by keys -- Method 1.: {'f': 1, 'l': 9, 'o': 3, 'p': 4, 'r': 5}\n",
      "Sorted by keys -- Method 2.: {'f': 1, 'l': 9, 'o': 3, 'p': 4, 'r': 5}\n",
      "\n",
      "*************** Sort By Values ***************\n",
      "Sorted by values -- Method 1.: {'f': 1, 'o': 3, 'p': 4, 'r': 5, 'l': 9}\n"
     ]
    }
   ],
   "source": [
    "data = {'f': 1, 'o': 3, 'r': 5, 'l': 9, 'p': 4}\n",
    "\n",
    "# By keys\n",
    "# Method: 1\n",
    "print(f\"{'*'*15} Sort By Keys {'*'*15}\")\n",
    "sorted_keys = sorted(data.keys())\n",
    "s_d = dict()\n",
    "for s in sorted_keys:\n",
    "    s_d[s] = data[s]\n",
    "print(f\"Sorted by keys -- Method 1.: {s_d}\")\n",
    "\n",
    "# Method: 2\n",
    "new_dict = {k:data[k] for k in sorted(data.keys())}\n",
    "print(f\"Sorted by keys -- Method 2.: {new_dict}\\n\")\n",
    "\n",
    "# By values\n",
    "print(f\"{'*'*15} Sort By Values {'*'*15}\")\n",
    "sorted_values = sorted(data.values())\n",
    "sorted_dict_by_value = dict()\n",
    "for x in sorted_values:\n",
    "    for y in data:\n",
    "        if x == data[y]:\n",
    "            sorted_dict_by_value.update({y:x})\n",
    "\n",
    "print(f\"Sorted by values -- Method 1.: {sorted_dict_by_value}\")"
   ]
  },
  {
   "cell_type": "markdown",
   "metadata": {},
   "source": [
    "11. Find the sum of all values in a dictionary."
   ]
  },
  {
   "cell_type": "code",
   "execution_count": 11,
   "metadata": {},
   "outputs": [
    {
     "name": "stdout",
     "output_type": "stream",
     "text": [
      "Total sum is: 22\n"
     ]
    }
   ],
   "source": [
    "data = {'f': 1, 'o': 3, 'r': 5, 'l': 9, 'p': 4}\n",
    "\n",
    "sum_of_all_values = sum(data.values())\n",
    "print(f\"Total sum is: {sum_of_all_values}\")"
   ]
  },
  {
   "cell_type": "markdown",
   "metadata": {},
   "source": [
    "12. Create a dictionary using dictionary comprehension that contains even numbers as keys\n",
    "and their squares as values from 1 to 10."
   ]
  },
  {
   "cell_type": "code",
   "execution_count": 12,
   "metadata": {},
   "outputs": [
    {
     "name": "stdout",
     "output_type": "stream",
     "text": [
      "Even key Squares: {2: 4, 4: 16, 6: 36, 8: 64, 10: 100}\n"
     ]
    }
   ],
   "source": [
    "num_range = range(1,11)\n",
    "\n",
    "even_squares = {x:x*x for x in num_range if x%2==0}\n",
    "print(f\"Even key Squares: {even_squares}\")"
   ]
  },
  {
   "cell_type": "markdown",
   "metadata": {},
   "source": [
    "13. Group a list of words into lists of anagrams using a dictionary. Print the list of lists where each inner list contains words that are anagrams of each other.\n",
    "\n",
    "Input: [\"listen\", \"silent\", \"enlist\", \"hello\", \"lemon\", \"melon\", \"debitcard\", \"badcredit\"]\n",
    "\n",
    "Anagram groups: [['listen', 'silent', 'enlist'], ['hello'], ['lemon', 'melon'], ['debitcard', 'badcredit']]"
   ]
  },
  {
   "cell_type": "code",
   "execution_count": 13,
   "metadata": {},
   "outputs": [
    {
     "name": "stdout",
     "output_type": "stream",
     "text": [
      "[['listen', 'silent', 'enlist'], ['hello'], ['lemon', 'melon'], ['debitcard', 'badcredit']]\n"
     ]
    }
   ],
   "source": [
    "input_list = [\"listen\", \"silent\", \"enlist\", \"hello\", \"lemon\", \"melon\", \"debitcard\", \"badcredit\"]\n",
    "\n",
    "anagram_dict = dict()\n",
    "\n",
    "for x in input_list:\n",
    "    key = ''.join(sorted(x))\n",
    "    if key in anagram_dict:\n",
    "        anagram_dict[key].append(x)\n",
    "    else:\n",
    "        anagram_dict[key] = [x]\n",
    "\n",
    "anagrams = list(anagram_dict.values())\n",
    "print(anagrams)"
   ]
  },
  {
   "cell_type": "markdown",
   "metadata": {},
   "source": [
    "14. Merge two dictionaries. If there are common keys, sum their values. Print the merged\n",
    "dictionary."
   ]
  },
  {
   "cell_type": "code",
   "execution_count": 14,
   "metadata": {},
   "outputs": [
    {
     "name": "stdout",
     "output_type": "stream",
     "text": [
      "{'a': 9, 'b': 8, 'c': 4, 'd': 6, 'e': 9}\n"
     ]
    }
   ],
   "source": [
    "d1 = {\"a\":2, \"b\":3, \"c\":4}\n",
    "d2 = {\"b\":5, \"d\":6, \"a\":7, \"e\":9}\n",
    "\n",
    "common_keys = dict()\n",
    "for x,y in d1.items():\n",
    "    for i,j in d2.items():\n",
    "        if x==i:\n",
    "            common_keys[x] = y+j\n",
    "\n",
    "merged_dict = d1 | d2 | common_keys\n",
    "print(merged_dict)"
   ]
  },
  {
   "cell_type": "markdown",
   "metadata": {},
   "source": [
    "15. Merge two lists into a dictionary using dictionary comprehension."
   ]
  },
  {
   "cell_type": "code",
   "execution_count": 15,
   "metadata": {},
   "outputs": [
    {
     "name": "stdout",
     "output_type": "stream",
     "text": [
      "{'apple': 120, 'banana': 70, 'orange': 100, 'mango': 150}\n"
     ]
    }
   ],
   "source": [
    "fruits = [\"apple\", \"banana\", \"orange\", \"mango\"]\n",
    "prices = [120, 70, 100, 150]\n",
    "\n",
    "dict_from_list = {x:y for x,y in zip(fruits, prices)}\n",
    "print(dict_from_list)"
   ]
  },
  {
   "cell_type": "markdown",
   "metadata": {},
   "source": [
    "16. Find mirror characters in a string using a dictionary.\n",
    "\n",
    "For example, 'A' mirrors to 'Z', 'B' mirrors to 'Y',\n",
    "Input string: \"Hello World\""
   ]
  },
  {
   "cell_type": "code",
   "execution_count": 16,
   "metadata": {},
   "outputs": [
    {
     "name": "stdout",
     "output_type": "stream",
     "text": [
      "Input String:---> Hello World\n",
      "Mirror String:--> Svool Dliow\n"
     ]
    }
   ],
   "source": [
    "input_str = \"Hello World\"\n",
    "\n",
    "mirror_string = str()\n",
    "for x in input_str:\n",
    "    if 'A' <= x and x <= 'Z':\n",
    "        mirror_string += chr(ord('Z') - (ord(x) - ord('A')))\n",
    "    elif 'a' <= x and x <= 'z':\n",
    "        mirror_string += chr(ord('z') - (ord(x) - ord('a')))\n",
    "    else:\n",
    "        mirror_string += x\n",
    "\n",
    "print(f\"Input String:---> {input_str}\\nMirror String:--> {mirror_string}\")"
   ]
  },
  {
   "cell_type": "markdown",
   "metadata": {},
   "source": [
    "17. Convert a list of tuples into a dictionary."
   ]
  },
  {
   "cell_type": "code",
   "execution_count": 17,
   "metadata": {},
   "outputs": [
    {
     "name": "stdout",
     "output_type": "stream",
     "text": [
      "*************** Solution 1 ***************\n",
      "By using dict(): {'a': 1, 'b': 2, 'c': 3}\n",
      "\n",
      "*************** Solution 2 ***************\n",
      "By dict comprehension: {'a': 1, 'b': 2, 'c': 3}\n",
      "\n",
      "*************** Solution 3 ***************\n",
      "By using for loop: {'a': 1, 'b': 2, 'c': 3}\n"
     ]
    }
   ],
   "source": [
    "list_of_tuples = [(\"a\", 1), (\"b\", 2), (\"c\", 3)]\n",
    "\n",
    "print(f\"{'*'*15} Solution 1 {'*'*15}\")\n",
    "result = dict(list_of_tuples)\n",
    "print(f\"By using dict(): {result}\\n\")\n",
    "\n",
    "print(f\"{'*'*15} Solution 2 {'*'*15}\")\n",
    "result = {k: v for k, v in list_of_tuples}\n",
    "print(f\"By dict comprehension: {result}\\n\")\n",
    "\n",
    "print(f\"{'*'*15} Solution 3 {'*'*15}\")\n",
    "result = {}\n",
    "for k, v in list_of_tuples:\n",
    "    result[k] = v\n",
    "print(f\"By using for loop: {result}\")"
   ]
  },
  {
   "cell_type": "markdown",
   "metadata": {},
   "source": [
    "18. Convert a dictionary to a list of tuples."
   ]
  },
  {
   "cell_type": "code",
   "execution_count": 18,
   "metadata": {},
   "outputs": [
    {
     "name": "stdout",
     "output_type": "stream",
     "text": [
      "*************** Solution 1 ***************\n",
      "By using items(): [('a', 1), ('b', 2), ('c', 3)]\n",
      "\n",
      "*************** Solution 2 ***************\n",
      "By list comprehension: [('a', 1), ('b', 2), ('c', 3)]\n",
      "\n",
      "*************** Solution 3 ***************\n",
      "By using for loop: [('a', 1), ('b', 2), ('c', 3)]\n"
     ]
    }
   ],
   "source": [
    "my_dict = {'a': 1, 'b': 2, 'c': 3}\n",
    "\n",
    "print(f\"{'*'*15} Solution 1 {'*'*15}\")\n",
    "result = list(my_dict.items())\n",
    "print(f\"By using items(): {result}\\n\")\n",
    "\n",
    "print(f\"{'*'*15} Solution 2 {'*'*15}\")\n",
    "result = [(k, v) for k, v in my_dict.items()]\n",
    "print(f\"By list comprehension: {result}\\n\")\n",
    "\n",
    "print(f\"{'*'*15} Solution 3 {'*'*15}\")\n",
    "result = []\n",
    "for k, v in my_dict.items():\n",
    "    result.append((k, v))\n",
    "print(f\"By using for loop: {result}\")\n"
   ]
  },
  {
   "cell_type": "markdown",
   "metadata": {},
   "source": [
    "19. Create a dictionary that maps each lowercase and uppercase alphabet to its corresponding ASCII code."
   ]
  },
  {
   "cell_type": "code",
   "execution_count": 19,
   "metadata": {},
   "outputs": [
    {
     "name": "stdout",
     "output_type": "stream",
     "text": [
      "*************** Solution 1 ***************\n",
      "# By dict comprehension:\n",
      "{'a': 97, 'b': 98, 'c': 99, 'd': 100, 'e': 101, 'f': 102, 'g': 103, 'h': 104, 'i': 105, 'j': 106, 'k': 107, 'l': 108, 'm': 109, 'n': 110, 'o': 111, 'p': 112, 'q': 113, 'r': 114, 's': 115, 't': 116, 'u': 117, 'v': 118, 'w': 119, 'x': 120, 'y': 121, 'z': 122, 'A': 65, 'B': 66, 'C': 67, 'D': 68, 'E': 69, 'F': 70, 'G': 71, 'H': 72, 'I': 73, 'J': 74, 'K': 75, 'L': 76, 'M': 77, 'N': 78, 'O': 79, 'P': 80, 'Q': 81, 'R': 82, 'S': 83, 'T': 84, 'U': 85, 'V': 86, 'W': 87, 'X': 88, 'Y': 89, 'Z': 90}\n",
      "\n",
      "*************** Solution 2 ***************\n",
      "# By importing string module:\n",
      "{'a': 97, 'b': 98, 'c': 99, 'd': 100, 'e': 101, 'f': 102, 'g': 103, 'h': 104, 'i': 105, 'j': 106, 'k': 107, 'l': 108, 'm': 109, 'n': 110, 'o': 111, 'p': 112, 'q': 113, 'r': 114, 's': 115, 't': 116, 'u': 117, 'v': 118, 'w': 119, 'x': 120, 'y': 121, 'z': 122, 'A': 65, 'B': 66, 'C': 67, 'D': 68, 'E': 69, 'F': 70, 'G': 71, 'H': 72, 'I': 73, 'J': 74, 'K': 75, 'L': 76, 'M': 77, 'N': 78, 'O': 79, 'P': 80, 'Q': 81, 'R': 82, 'S': 83, 'T': 84, 'U': 85, 'V': 86, 'W': 87, 'X': 88, 'Y': 89, 'Z': 90}\n"
     ]
    }
   ],
   "source": [
    "alphabets = ('abcdefghijklmnopqrstuvwxyzABCDEFGHIJKLMNOPQRSTUVWXYZ')\n",
    "\n",
    "print(f\"{'*'*15} Solution 1 {'*'*15}\")\n",
    "alphabet_ascii = {x:ord(x) for x in alphabets}\n",
    "print(f\"# By dict comprehension:\\n{alphabet_ascii}\\n\")\n",
    "\n",
    "\"\"\"\n",
    "Note: We have using string module import to get the letters\n",
    "\"\"\"\n",
    "print(f\"{'*'*15} Solution 2 {'*'*15}\")\n",
    "import string\n",
    "lower = {ch: ord(ch) for ch in string.ascii_lowercase}\n",
    "upper = {ch: ord(ch) for ch in string.ascii_uppercase}\n",
    "alphabet_ascii = lower | upper\n",
    "print(f\"# By importing string module:\\n{alphabet_ascii}\")"
   ]
  },
  {
   "cell_type": "markdown",
   "metadata": {},
   "source": [
    "20. Count the number of vowels (both uppercase and lowercase) in a given string and store the counts in a dictionary."
   ]
  },
  {
   "cell_type": "code",
   "execution_count": 20,
   "metadata": {},
   "outputs": [
    {
     "name": "stdout",
     "output_type": "stream",
     "text": [
      "*************** Solution 1 ***************\n",
      "By dict comprehension: {'a': 7, 'e': 10, 'i': 6, 'o': 8, 'u': 4}\n",
      "\n",
      "*************** Solution 2 ***************\n",
      "By using for loop: {'o': 8, 'u': 4, 'e': 10, 'a': 7, 'i': 6}\n"
     ]
    }
   ],
   "source": [
    "text = \"Count the number of vowels (both uppercase and lowercase) in a given string and store the counts in a dictionary\"\n",
    "vowels = \"aeiouAEIOU\"\n",
    "\n",
    "print(f\"{'*'*15} Solution 1 {'*'*15}\")\n",
    "count_vowels = {x:text.count(x) for x in vowels if x in text}\n",
    "print(f\"By dict comprehension: {count_vowels}\\n\")\n",
    "\n",
    "print(f\"{'*'*15} Solution 2 {'*'*15}\")\n",
    "count = dict()\n",
    "for x in text:\n",
    "    if x in vowels:\n",
    "        count[x] = count.get(x,0)+1\n",
    "print(f\"By using for loop: {count}\")"
   ]
  }
 ],
 "metadata": {
  "kernelspec": {
   "display_name": "Python 3",
   "language": "python",
   "name": "python3"
  },
  "language_info": {
   "codemirror_mode": {
    "name": "ipython",
    "version": 3
   },
   "file_extension": ".py",
   "mimetype": "text/x-python",
   "name": "python",
   "nbconvert_exporter": "python",
   "pygments_lexer": "ipython3",
   "version": "3.11.0"
  }
 },
 "nbformat": 4,
 "nbformat_minor": 2
}
