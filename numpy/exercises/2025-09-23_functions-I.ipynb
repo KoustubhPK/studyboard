{
 "cells": [
  {
   "cell_type": "markdown",
   "metadata": {},
   "source": [
    "# __NumPy__"
   ]
  },
  {
   "cell_type": "markdown",
   "metadata": {},
   "source": [
    "#### __1. Introduction__"
   ]
  },
  {
   "cell_type": "markdown",
   "metadata": {},
   "source": [
    "NumPy stands for __Numerical Python__ which is a Python library used to work with arrays.\n",
    "\n",
    "All Data Science algorithms (ML, DL, NLP, GenAI, Agentic AI, etc.) ultimately require input data to be in numerical form.\n",
    "Non-numeric data like text, images, or audio is first transformed into numerical representations before being processed by algorithms"
   ]
  },
  {
   "cell_type": "markdown",
   "metadata": {},
   "source": [
    "#### __2. Installation & Import__"
   ]
  },
  {
   "cell_type": "markdown",
   "metadata": {},
   "source": [
    "```\n",
    "pip install numpy\n",
    "import numpy as np\n",
    "```"
   ]
  },
  {
   "cell_type": "code",
   "execution_count": 1,
   "metadata": {},
   "outputs": [],
   "source": [
    "import numpy as np"
   ]
  },
  {
   "cell_type": "markdown",
   "metadata": {},
   "source": [
    "#### __3. Features__"
   ]
  },
  {
   "cell_type": "markdown",
   "metadata": {},
   "source": [
    "__i) Homogeneous Datatypes:__\n",
    "- All elements in a NumPy array are of the same type, ensuring faster operations.\n",
    "\n",
    "__ii) High Performance:__\n",
    "- Written in C(partially in python), NumPy executes much faster than Python lists.\n",
    "\n",
    "__iii) Memory Efficient:__\n",
    "- NumPy arrays take less space because data is stored together in one continuous block of memory\n",
    "\n",
    "__iv) Multidimensional Support:__\n",
    "- Can handle 1D, 2D, 3D, and higher-dimensional arrays easily.\n",
    "\n",
    "__v) Rich Mathematical Functions:__\n",
    "- Provides built-in functions for statistics, algebra, broadcasting and random number generation."
   ]
  },
  {
   "cell_type": "markdown",
   "metadata": {},
   "source": [
    "#### __4. Use cases:__"
   ]
  },
  {
   "cell_type": "markdown",
   "metadata": {},
   "source": [
    "1. Linear Algebra(Metrix, Polynomial, ALgebric equations, etc)\n",
    "2. Statistics(mean, median, mode, std, var, etc)\n",
    "3. Trigonometry(sin,cos, tac, rad, deg,etc)\n",
    "4. Logarithmic(log2, log, log10, etc)\n",
    "5. Image Processing and CV\n",
    "6. All Numerical calculations"
   ]
  },
  {
   "cell_type": "markdown",
   "metadata": {},
   "source": [
    "# __Functions - I__"
   ]
  },
  {
   "cell_type": "markdown",
   "metadata": {},
   "source": [
    "## __1. np.array__"
   ]
  },
  {
   "cell_type": "markdown",
   "metadata": {},
   "source": [
    "A _np.array_ refers to an N-dimensional array, the fundamental data structure in the NumPy library for Python."
   ]
  },
  {
   "cell_type": "code",
   "execution_count": 2,
   "metadata": {},
   "outputs": [
    {
     "data": {
      "text/plain": [
       "array([], shape=(1, 0), dtype=int64)"
      ]
     },
     "execution_count": 2,
     "metadata": {},
     "output_type": "execute_result"
    }
   ],
   "source": [
    "np.array([],dtype = int, ndmin = 2)"
   ]
  },
  {
   "cell_type": "markdown",
   "metadata": {},
   "source": [
    "## __2. np.ndim__"
   ]
  },
  {
   "cell_type": "markdown",
   "metadata": {},
   "source": [
    "_ndim_ is an attribute of a NumPy array _(ndarray)_ that returns the number of dimensions (axes) of the array."
   ]
  },
  {
   "cell_type": "code",
   "execution_count": 3,
   "metadata": {},
   "outputs": [
    {
     "name": "stdout",
     "output_type": "stream",
     "text": [
      "Python List Dimention : 2\n",
      "Increased Dimention   : 3\n"
     ]
    }
   ],
   "source": [
    "new_list = [[15,5,3,7], [51,60,75,18], [1,2,3,4]]\n",
    "print(f\"Python List Dimention : {np.ndim(new_list)}\")\n",
    "\n",
    "np_list2 = np.array(new_list, ndmin=3)\n",
    "print(f\"Increased Dimention   : {np_list2.ndim}\")"
   ]
  },
  {
   "cell_type": "markdown",
   "metadata": {},
   "source": [
    "## __3. np.shape__"
   ]
  },
  {
   "cell_type": "markdown",
   "metadata": {},
   "source": [
    "_numpy.shape()_ is a function in the NumPy library for Python that returns the shape of an array. The shape of an array refers to the number of elements along each dimension of the array."
   ]
  },
  {
   "cell_type": "code",
   "execution_count": 4,
   "metadata": {},
   "outputs": [
    {
     "name": "stdout",
     "output_type": "stream",
     "text": [
      "[[[15  5  3  7]\n",
      "  [51 60 75 18]\n",
      "  [ 1  2  3  4]]] \n",
      "\n",
      "Shape of 'np_list2': (1, 3, 4)\n"
     ]
    }
   ],
   "source": [
    "print(np_list2, \"\\n\")\n",
    "print(f\"Shape of 'np_list2': {np_list2.shape}\")"
   ]
  },
  {
   "cell_type": "markdown",
   "metadata": {},
   "source": [
    "## __4. np.reshape()__"
   ]
  },
  {
   "cell_type": "markdown",
   "metadata": {},
   "source": [
    "The _np.reshape()_ function is a fundamental tool in the NumPy library for manipulating the shape of arrays. It allows you to change the dimensions of an array without altering its underlying data."
   ]
  },
  {
   "cell_type": "code",
   "execution_count": 5,
   "metadata": {},
   "outputs": [],
   "source": [
    "normal_list = [15, 5, 3, 7, 51, 60, 75, 18, 1, 2, 3, 4]"
   ]
  },
  {
   "cell_type": "markdown",
   "metadata": {},
   "source": [
    "#### __(Row, Column)__"
   ]
  },
  {
   "cell_type": "code",
   "execution_count": 6,
   "metadata": {},
   "outputs": [
    {
     "name": "stdout",
     "output_type": "stream",
     "text": [
      "[[15  5]\n",
      " [ 3  7]\n",
      " [51 60]\n",
      " [75 18]\n",
      " [ 1  2]\n",
      " [ 3  4]] \n",
      "\n",
      "Shape of Array: (6, 2)\n"
     ]
    }
   ],
   "source": [
    "my_reshape = normal_list\n",
    "print(np.array(normal_list).reshape(6,2), \"\\n\")      # 1st Row | 2nd Column\n",
    "\n",
    "print(f\"Shape of Array: {np.array(normal_list).reshape(6,2).shape}\")"
   ]
  },
  {
   "cell_type": "markdown",
   "metadata": {},
   "source": [
    "#### __(Dimention, Row, Column)__"
   ]
  },
  {
   "cell_type": "code",
   "execution_count": 7,
   "metadata": {},
   "outputs": [
    {
     "name": "stdout",
     "output_type": "stream",
     "text": [
      "[[[15  5  3]\n",
      "  [ 7 51 60]]\n",
      "\n",
      " [[75 18  1]\n",
      "  [ 2  3  4]]] \n",
      "\n",
      "Shape of Array: (2, 2, 3)\n"
     ]
    }
   ],
   "source": [
    "my_reshape = normal_list\n",
    "print(np.array(normal_list).reshape(2,2,3), \"\\n\")     # 1st Dimention | 2nd Row | 3rd Column\n",
    "print(f\"Shape of Array: {np.array(normal_list).reshape(2,2,3).shape}\")"
   ]
  },
  {
   "cell_type": "code",
   "execution_count": 8,
   "metadata": {},
   "outputs": [
    {
     "name": "stdout",
     "output_type": "stream",
     "text": [
      "[[[[[15  5]\n",
      "    [ 3  7]\n",
      "    [51 60]]\n",
      "\n",
      "   [[75 18]\n",
      "    [ 1  2]\n",
      "    [ 3  4]]]]] \n",
      "\n",
      "Shape of Array: (1, 1, 2, 3, 2)\n"
     ]
    }
   ],
   "source": [
    "my_reshape = normal_list\n",
    "print(np.array(normal_list).reshape(1,1,2,3,2), \"\\n\")  # 1st Dimention (1,1,2) | 4th Row | 5th Column\n",
    "print(f\"Shape of Array: {np.array(normal_list).reshape(1,1,2,3,2).shape}\")"
   ]
  },
  {
   "cell_type": "markdown",
   "metadata": {},
   "source": [
    "## __5. np.nditer()__"
   ]
  },
  {
   "cell_type": "markdown",
   "metadata": {},
   "source": [
    "It is an efficient, multi-dimensional iterator object in NumPy designed to iterate over arrays."
   ]
  },
  {
   "cell_type": "code",
   "execution_count": 9,
   "metadata": {},
   "outputs": [
    {
     "name": "stdout",
     "output_type": "stream",
     "text": [
      "********** Joined **********\n",
      "15 5 3 7 51 60 75 18 1 2 3 4 "
     ]
    }
   ],
   "source": [
    "new_list = [[15,5,3,7], [51,60,75,18], [1,2,3,4]]\n",
    "\n",
    "np_list = np.array(new_list)\n",
    "\n",
    "print(f\"{'*'*10} Joined {'*'*10}\")\n",
    "for x in np.nditer(np_list):\n",
    "    print(x, end=\" \")"
   ]
  },
  {
   "cell_type": "markdown",
   "metadata": {},
   "source": [
    "## __6. np.ndenumerate()__"
   ]
  },
  {
   "cell_type": "markdown",
   "metadata": {},
   "source": [
    "It is a function in NumPy that provides an iterator yielding pairs of array coordinates (indices) and the corresponding values for each element in an N-dimensional array."
   ]
  },
  {
   "cell_type": "code",
   "execution_count": 10,
   "metadata": {},
   "outputs": [
    {
     "name": "stdout",
     "output_type": "stream",
     "text": [
      "********** 2D Array **********\n",
      "[[15  5  3  7]\n",
      " [51 60 75 18]\n",
      " [ 1  2  3  4]] \n",
      "\n",
      "((0,), np.int64(15))\n",
      "((1,), np.int64(5))\n",
      "((2,), np.int64(3))\n",
      "((3,), np.int64(7))\n",
      "((4,), np.int64(51))\n",
      "((5,), np.int64(60))\n",
      "((6,), np.int64(75))\n",
      "((7,), np.int64(18))\n",
      "((8,), np.int64(1))\n",
      "((9,), np.int64(2))\n",
      "((10,), np.int64(3))\n",
      "((11,), np.int64(4))\n"
     ]
    }
   ],
   "source": [
    "new_list = [[15,5,3,7], [51,60,75,18], [1,2,3,4]]\n",
    "\n",
    "np_list = np.array(new_list)\n",
    "\n",
    "print(f\"{'*'*10} 2D Array {'*'*10}\")\n",
    "print(np_list, \"\\n\")\n",
    "\n",
    "for x in np.ndenumerate(np.nditer(np_list)):\n",
    "    print(x)"
   ]
  },
  {
   "cell_type": "code",
   "execution_count": 11,
   "metadata": {},
   "outputs": [
    {
     "name": "stdout",
     "output_type": "stream",
     "text": [
      "********** 3D Array **********\n",
      "[[[15  5  3  7]\n",
      "  [51 60 75 18]\n",
      "  [ 1  2  3  4]]] \n",
      "\n",
      "((0, 0, 0), np.int64(15))\n",
      "((0, 0, 1), np.int64(5))\n",
      "((0, 0, 2), np.int64(3))\n",
      "((0, 0, 3), np.int64(7))\n",
      "((0, 1, 0), np.int64(51))\n",
      "((0, 1, 1), np.int64(60))\n",
      "((0, 1, 2), np.int64(75))\n",
      "((0, 1, 3), np.int64(18))\n",
      "((0, 2, 0), np.int64(1))\n",
      "((0, 2, 1), np.int64(2))\n",
      "((0, 2, 2), np.int64(3))\n",
      "((0, 2, 3), np.int64(4))\n"
     ]
    }
   ],
   "source": [
    "print(f\"{'*'*10} 3D Array {'*'*10}\")\n",
    "print(np_list2, \"\\n\")\n",
    "for x in np.ndenumerate(np_list2):\n",
    "    print(x)"
   ]
  },
  {
   "cell_type": "code",
   "execution_count": 12,
   "metadata": {},
   "outputs": [
    {
     "name": "stdout",
     "output_type": "stream",
     "text": [
      "********** 5D Array **********\n",
      "\n",
      "((0, 0, 0, 0, 0), np.int64(15))\n",
      "((0, 0, 0, 0, 1), np.int64(5))\n",
      "((0, 0, 0, 1, 0), np.int64(3))\n",
      "((0, 0, 0, 1, 1), np.int64(7))\n",
      "((0, 0, 0, 2, 0), np.int64(51))\n",
      "((0, 0, 0, 2, 1), np.int64(60))\n",
      "((0, 0, 1, 0, 0), np.int64(75))\n",
      "((0, 0, 1, 0, 1), np.int64(18))\n",
      "((0, 0, 1, 1, 0), np.int64(1))\n",
      "((0, 0, 1, 1, 1), np.int64(2))\n",
      "((0, 0, 1, 2, 0), np.int64(3))\n",
      "((0, 0, 1, 2, 1), np.int64(4))\n",
      "\n",
      "Total Dimentions: 5\n"
     ]
    }
   ],
   "source": [
    "print(f\"{'*'*10} 5D Array {'*'*10}\\n\")\n",
    "\n",
    "for x in np.ndenumerate(np.array(normal_list).reshape(1,1,2,3,2)):\n",
    "    print(x)\n",
    "print()\n",
    "print(f\"Total Dimentions: {np.ndim(np.array(normal_list).reshape(1,1,2,3,2))}\")"
   ]
  },
  {
   "cell_type": "markdown",
   "metadata": {},
   "source": [
    "## __7. array.flatten()__"
   ]
  },
  {
   "cell_type": "markdown",
   "metadata": {},
   "source": [
    "The _flatten()_ method in NumPy is used to convert a multi-dimensional NumPy array into a one-dimensional array.\n",
    "\n",
    "#### __Parameters:__\n",
    "\n",
    "- order ({'C', 'F', 'A', 'K'}) Optional\n",
    "\n",
    "    - 'C' (default): Flatten in row-major (C-style) order.\n",
    "    - 'F': Flatten in column-major (Fortran-style) order.\n",
    "    - 'A': Flatten in column-major order if the array is Fortran contiguous in memory, row-major order otherwise.\n",
    "    - 'K': Flatten in the order the elements occur in memory. \n",
    "\n",
    "#### __Example:__"
   ]
  },
  {
   "cell_type": "markdown",
   "metadata": {},
   "source": [
    "__7.1 Order = 'C'__ _Default_"
   ]
  },
  {
   "cell_type": "code",
   "execution_count": 13,
   "metadata": {},
   "outputs": [
    {
     "data": {
      "text/plain": [
       "array([15,  5,  3,  7, 51, 60, 75, 18,  1,  2,  3,  4])"
      ]
     },
     "execution_count": 13,
     "metadata": {},
     "output_type": "execute_result"
    }
   ],
   "source": [
    "flatten = np_list2.flatten()\n",
    "flatten"
   ]
  },
  {
   "cell_type": "markdown",
   "metadata": {},
   "source": [
    "__7.2 Order = 'F'__"
   ]
  },
  {
   "cell_type": "code",
   "execution_count": 14,
   "metadata": {},
   "outputs": [
    {
     "data": {
      "text/plain": [
       "array([15, 51,  1,  5, 60,  2,  3, 75,  3,  7, 18,  4])"
      ]
     },
     "execution_count": 14,
     "metadata": {},
     "output_type": "execute_result"
    }
   ],
   "source": [
    "flatten = np_list2.flatten(order=\"F\")\n",
    "flatten"
   ]
  },
  {
   "cell_type": "markdown",
   "metadata": {},
   "source": [
    "## __8. array.size__"
   ]
  },
  {
   "cell_type": "markdown",
   "metadata": {},
   "source": [
    "- The _.size_ attribute of a NumPy array _(ndarray)_ returns the total number of elements in the array."
   ]
  },
  {
   "cell_type": "code",
   "execution_count": 15,
   "metadata": {},
   "outputs": [
    {
     "name": "stdout",
     "output_type": "stream",
     "text": [
      "Array Size: 12\n"
     ]
    }
   ],
   "source": [
    "print(f\"Array Size: {flatten.size}\")"
   ]
  },
  {
   "cell_type": "markdown",
   "metadata": {},
   "source": [
    "## __9. array.tolist()__"
   ]
  },
  {
   "cell_type": "markdown",
   "metadata": {},
   "source": [
    "The _tolist()_ method in NumPy is used to convert a NumPy array _(ndarray)_ into a standard Python list."
   ]
  },
  {
   "cell_type": "code",
   "execution_count": 16,
   "metadata": {},
   "outputs": [
    {
     "name": "stdout",
     "output_type": "stream",
     "text": [
      "<class 'list'>\n"
     ]
    },
    {
     "data": {
      "text/plain": [
       "[15, 51, 1, 5, 60, 2, 3, 75, 3, 7, 18, 4]"
      ]
     },
     "execution_count": 16,
     "metadata": {},
     "output_type": "execute_result"
    }
   ],
   "source": [
    "normal_python_list = flatten.tolist()      # list\n",
    "print(type(normal_python_list))\n",
    "normal_python_list"
   ]
  },
  {
   "cell_type": "markdown",
   "metadata": {},
   "source": [
    "## __10. stack__\n",
    "\n",
    "- _np.stack()_ is a NumPy function used to join a sequence of arrays along a new axis.\n",
    "- Resulting stacked array will have one more dimension than the input arrays.\n",
    "\n",
    "#### __Example:__"
   ]
  },
  {
   "cell_type": "code",
   "execution_count": 17,
   "metadata": {},
   "outputs": [],
   "source": [
    "arr1 = np.array([1, 2, 3])\n",
    "arr2 = np.array([4, 5, 6])"
   ]
  },
  {
   "cell_type": "markdown",
   "metadata": {},
   "source": [
    "### __10.1 np.stack__"
   ]
  },
  {
   "cell_type": "markdown",
   "metadata": {},
   "source": [
    "__10.1.1 Axis 0 (Default )__\n",
    "\n",
    "- _np.stack_ with axis=0 joins a sequence of arrays along a new axis at the beginning (index 0) of the resulting array's dimensions."
   ]
  },
  {
   "cell_type": "code",
   "execution_count": 18,
   "metadata": {},
   "outputs": [
    {
     "data": {
      "text/plain": [
       "array([[1, 2, 3],\n",
       "       [4, 5, 6]])"
      ]
     },
     "execution_count": 18,
     "metadata": {},
     "output_type": "execute_result"
    }
   ],
   "source": [
    "stack0 = np.stack((arr1, arr2))\n",
    "stack0"
   ]
  },
  {
   "cell_type": "markdown",
   "metadata": {},
   "source": [
    "__10.1.2 Axis 1__\n",
    "\n",
    "- _np.stack()_ with axis=1 it means the new axis will be inserted at index 1 in the resulting array's dimensions."
   ]
  },
  {
   "cell_type": "code",
   "execution_count": 19,
   "metadata": {},
   "outputs": [
    {
     "data": {
      "text/plain": [
       "array([[1, 4],\n",
       "       [2, 5],\n",
       "       [3, 6]])"
      ]
     },
     "execution_count": 19,
     "metadata": {},
     "output_type": "execute_result"
    }
   ],
   "source": [
    "stack1 = np.stack((arr1, arr2), axis=1)\n",
    "stack1"
   ]
  },
  {
   "cell_type": "markdown",
   "metadata": {},
   "source": [
    "### __10.2 np.hstack__"
   ]
  },
  {
   "cell_type": "markdown",
   "metadata": {},
   "source": [
    "- _np.hstack_ stands for horizontal stack.\n",
    "- _np.hstack()_ is a function in the NumPy library used to stack arrays in sequence horizontally (column-wise)."
   ]
  },
  {
   "cell_type": "code",
   "execution_count": 20,
   "metadata": {},
   "outputs": [
    {
     "name": "stdout",
     "output_type": "stream",
     "text": [
      "Dimention is: 1\n"
     ]
    },
    {
     "data": {
      "text/plain": [
       "array([1, 2, 3, 4, 5, 6])"
      ]
     },
     "execution_count": 20,
     "metadata": {},
     "output_type": "execute_result"
    }
   ],
   "source": [
    "hstack = np.hstack((arr1, arr2))\n",
    "print(f\"Dimention is: {np.ndim(hstack)}\")\n",
    "hstack"
   ]
  },
  {
   "cell_type": "markdown",
   "metadata": {},
   "source": [
    "### __10.3 np.dstack__"
   ]
  },
  {
   "cell_type": "markdown",
   "metadata": {},
   "source": [
    "- _np.dstack_ stands for depth-wise stack.\n",
    "- _np.dstack()_ is a function in the NumPy library used to stack arrays in sequence depth-wise, meaning along the third axis (axis=2)."
   ]
  },
  {
   "cell_type": "code",
   "execution_count": 21,
   "metadata": {},
   "outputs": [
    {
     "name": "stdout",
     "output_type": "stream",
     "text": [
      "Dimention is: 3\n"
     ]
    },
    {
     "data": {
      "text/plain": [
       "array([[[1, 4],\n",
       "        [2, 5],\n",
       "        [3, 6]]])"
      ]
     },
     "execution_count": 21,
     "metadata": {},
     "output_type": "execute_result"
    }
   ],
   "source": [
    "dstack = np.dstack((arr1, arr2))\n",
    "print(f\"Dimention is: {np.ndim(dstack)}\")\n",
    "dstack"
   ]
  }
 ],
 "metadata": {
  "kernelspec": {
   "display_name": "Python 3",
   "language": "python",
   "name": "python3"
  },
  "language_info": {
   "codemirror_mode": {
    "name": "ipython",
    "version": 3
   },
   "file_extension": ".py",
   "mimetype": "text/x-python",
   "name": "python",
   "nbconvert_exporter": "python",
   "pygments_lexer": "ipython3",
   "version": "3.11.0"
  }
 },
 "nbformat": 4,
 "nbformat_minor": 2
}
