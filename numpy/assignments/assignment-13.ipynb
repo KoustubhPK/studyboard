{
 "cells": [
  {
   "cell_type": "markdown",
   "metadata": {},
   "source": [
    "# __Topics: Numpy__"
   ]
  },
  {
   "cell_type": "code",
   "execution_count": 1,
   "metadata": {},
   "outputs": [],
   "source": [
    "import numpy as np\n",
    "import scipy\n",
    "import scipy.stats"
   ]
  },
  {
   "cell_type": "markdown",
   "metadata": {},
   "source": [
    "### __1. What is NumPy?__"
   ]
  },
  {
   "cell_type": "markdown",
   "metadata": {},
   "source": [
    "- NumPy is the fundamental package for scientific computing in Python.\n",
    "- It is a Python library that provides a multidimensional array object, various derived objects _(such as masked arrays and matrices)_ and an assortment of routines for fast operations on arrays, including mathematical, logical, shape manipulation, sorting, selecting, I/O, discrete Fourier transforms, basic linear algebra, basic statistical operations, random simulation and much more."
   ]
  },
  {
   "cell_type": "markdown",
   "metadata": {},
   "source": [
    "### __33. Write a Python program to compute the determinant, covariance, and inverse of a matrix using NumPy.__"
   ]
  },
  {
   "cell_type": "code",
   "execution_count": 2,
   "metadata": {},
   "outputs": [
    {
     "name": "stdout",
     "output_type": "stream",
     "text": [
      "Sample matrix to find Determinant, Covariance & Inverse is:\n",
      "[[1 2 3]\n",
      " [4 5 6]\n",
      " [7 8 9]]\n"
     ]
    }
   ],
   "source": [
    "sample_matrix = np.arange(1,10).reshape(3,3)\n",
    "print(f\"Sample matrix to find Determinant, Covariance & Inverse is:\\n{sample_matrix}\")"
   ]
  },
  {
   "cell_type": "markdown",
   "metadata": {},
   "source": [
    "- __33.1 Determinant:__"
   ]
  },
  {
   "cell_type": "code",
   "execution_count": 3,
   "metadata": {},
   "outputs": [
    {
     "name": "stdout",
     "output_type": "stream",
     "text": [
      "Determinant of Matrix is:\n",
      "0.0\n"
     ]
    }
   ],
   "source": [
    "print(f\"Determinant of Matrix is:\\n{np.linalg.det(sample_matrix)}\")"
   ]
  },
  {
   "cell_type": "markdown",
   "metadata": {},
   "source": [
    "- __33.2 Covariance:__"
   ]
  },
  {
   "cell_type": "code",
   "execution_count": 4,
   "metadata": {},
   "outputs": [
    {
     "name": "stdout",
     "output_type": "stream",
     "text": [
      "Covariance of Matrix is:\n",
      "[[1. 1. 1.]\n",
      " [1. 1. 1.]\n",
      " [1. 1. 1.]]\n"
     ]
    }
   ],
   "source": [
    "print(f\"Covariance of Matrix is:\\n{np.cov(sample_matrix)}\")"
   ]
  },
  {
   "cell_type": "markdown",
   "metadata": {},
   "source": [
    "- __33.3 Inverse:__"
   ]
  },
  {
   "cell_type": "code",
   "execution_count": 5,
   "metadata": {},
   "outputs": [
    {
     "name": "stdout",
     "output_type": "stream",
     "text": [
      "Inverse of Matrix is:\n",
      "[[ 0.95   0.125 -0.45 ]\n",
      " [-0.65   0.125  0.15 ]\n",
      " [ 0.45  -0.125  0.05 ]]\n"
     ]
    }
   ],
   "source": [
    "print(f\"Inverse of Matrix is:\\n{np.linalg.inv([[1,2,3],[4,10,6],[1,7,8]])}\")"
   ]
  },
  {
   "cell_type": "markdown",
   "metadata": {},
   "source": [
    "### __34. Write a Python program to compute the mean, median, mode, standard deviation, and variance of a NumPy array__"
   ]
  },
  {
   "cell_type": "code",
   "execution_count": 6,
   "metadata": {},
   "outputs": [
    {
     "name": "stdout",
     "output_type": "stream",
     "text": [
      "Sample NumPy Array:\n",
      "[1 2 3 4 5 6 7 8 9]\n"
     ]
    }
   ],
   "source": [
    "np_array = list()\n",
    "for x in np.nditer(sample_matrix):\n",
    "    np_array.append(x.tolist())\n",
    "\n",
    "print(f\"Sample NumPy Array:\\n{np.array(np_array)}\")"
   ]
  },
  {
   "cell_type": "markdown",
   "metadata": {},
   "source": [
    "- __34.1 mean():__"
   ]
  },
  {
   "cell_type": "code",
   "execution_count": 7,
   "metadata": {},
   "outputs": [
    {
     "name": "stdout",
     "output_type": "stream",
     "text": [
      "Mean of NumPy Array is:\n",
      "5.0\n"
     ]
    }
   ],
   "source": [
    "print(f\"Mean of NumPy Array is:\\n{np.mean(np_array)}\")"
   ]
  },
  {
   "cell_type": "markdown",
   "metadata": {},
   "source": [
    "- __34.2 median():__"
   ]
  },
  {
   "cell_type": "code",
   "execution_count": 8,
   "metadata": {},
   "outputs": [
    {
     "name": "stdout",
     "output_type": "stream",
     "text": [
      "Meadian of NumPy Array is:\n",
      "5.0\n"
     ]
    }
   ],
   "source": [
    "print(f\"Meadian of NumPy Array is:\\n{np.median(np_array)}\")"
   ]
  },
  {
   "cell_type": "markdown",
   "metadata": {},
   "source": [
    "- __34.3 mode():__"
   ]
  },
  {
   "cell_type": "code",
   "execution_count": 9,
   "metadata": {},
   "outputs": [
    {
     "name": "stdout",
     "output_type": "stream",
     "text": [
      "Meadian of NumPy Array is:\n",
      "[1 2 3]\n"
     ]
    }
   ],
   "source": [
    "print(f\"Meadian of NumPy Array is:\\n{scipy.stats.mode(sample_matrix)[0]}\")"
   ]
  },
  {
   "cell_type": "markdown",
   "metadata": {},
   "source": [
    "- __34.4 Standard Deviation _np.std()_:__"
   ]
  },
  {
   "cell_type": "code",
   "execution_count": 10,
   "metadata": {},
   "outputs": [
    {
     "name": "stdout",
     "output_type": "stream",
     "text": [
      "Standard Deviation of NumPy Array is:\n",
      "2.581988897471611\n"
     ]
    }
   ],
   "source": [
    "print(f\"Standard Deviation of NumPy Array is:\\n{np.std(np_array)}\")"
   ]
  },
  {
   "cell_type": "markdown",
   "metadata": {},
   "source": [
    "- __34.5 Variance _np.var()_:__"
   ]
  },
  {
   "cell_type": "code",
   "execution_count": 11,
   "metadata": {},
   "outputs": [
    {
     "name": "stdout",
     "output_type": "stream",
     "text": [
      "Varianec of NumPy Array is:\n",
      "6.666666666666667\n"
     ]
    }
   ],
   "source": [
    "print(f\"Varianec of NumPy Array is:\\n{np.var(np_array)}\")"
   ]
  },
  {
   "cell_type": "markdown",
   "metadata": {},
   "source": [
    "### __35. Write a Python program to convert a 1D array to a 3D array and a 4D array to a 2D array using NumPy.__"
   ]
  },
  {
   "cell_type": "code",
   "execution_count": 12,
   "metadata": {},
   "outputs": [],
   "source": [
    "original_1d_array = f\"# STEP-1:\\nOriginal 1D Array is:\\n{np_array}\\n\""
   ]
  },
  {
   "cell_type": "markdown",
   "metadata": {},
   "source": [
    "#### __1D to 3D__"
   ]
  },
  {
   "cell_type": "markdown",
   "metadata": {},
   "source": [
    "_Approach 1_"
   ]
  },
  {
   "cell_type": "code",
   "execution_count": 13,
   "metadata": {},
   "outputs": [
    {
     "name": "stdout",
     "output_type": "stream",
     "text": [
      "# STEP-1:\n",
      "Original 1D Array is:\n",
      "[1, 2, 3, 4, 5, 6, 7, 8, 9]\n",
      "\n",
      "# STEP-2:\n",
      "Coverting this to 3D Array:\n",
      "[[[1 2 3]\n",
      "  [4 5 6]\n",
      "  [7 8 9]]]\n"
     ]
    }
   ],
   "source": [
    "print(original_1d_array)\n",
    "print(f\"# STEP-2:\\nCoverting this to 3D Array:\\n{np.array([np.reshape(np_array, [3,3])])}\")"
   ]
  },
  {
   "cell_type": "markdown",
   "metadata": {},
   "source": [
    "_Approach 2_"
   ]
  },
  {
   "cell_type": "code",
   "execution_count": 14,
   "metadata": {},
   "outputs": [
    {
     "name": "stdout",
     "output_type": "stream",
     "text": [
      "# STEP-1:\n",
      "Original 1D Array is:\n",
      "[1, 2, 3, 4, 5, 6, 7, 8, 9]\n",
      "\n",
      "# STEP-2:\n",
      "Coverting this to 3D Array:\n",
      "[[[1 2 3]\n",
      "  [4 5 6]\n",
      "  [7 8 9]]]\n"
     ]
    }
   ],
   "source": [
    "print(original_1d_array)\n",
    "print(f\"# STEP-2:\\nCoverting this to 3D Array:\\n{np.array(np_array).reshape(1, 3, 3)}\")"
   ]
  },
  {
   "cell_type": "markdown",
   "metadata": {},
   "source": [
    "#### __4D to 2D__"
   ]
  },
  {
   "cell_type": "code",
   "execution_count": 15,
   "metadata": {},
   "outputs": [
    {
     "name": "stdout",
     "output_type": "stream",
     "text": [
      "# STEP-1:\n",
      "Original 1D Array is:\n",
      "[1, 2, 3, 4, 5, 6, 7, 8, 9]\n",
      "\n",
      "# STEP-2:\n",
      "Creating 4D Array from Original:\n",
      "[[[[1 2 3]\n",
      "   [4 5 6]\n",
      "   [7 8 9]]]]\n",
      "\n",
      "# STEP-3:\n",
      "Coverting this 4D Array to 2D Array:\n",
      "[[1 2 3]\n",
      " [4 5 6]\n",
      " [7 8 9]]\n"
     ]
    }
   ],
   "source": [
    "print(original_1d_array)\n",
    "d4_array = np.array([[np.reshape(np_array, [3,3])]])\n",
    "print(f\"# STEP-2:\\nCreating 4D Array from Original:\\n{d4_array}\\n\")\n",
    "print(f\"# STEP-3:\\nCoverting this 4D Array to 2D Array:\\n{np.reshape(d4_array, [3,3])}\")"
   ]
  },
  {
   "cell_type": "markdown",
   "metadata": {},
   "source": [
    "### __36. Write a Python program to calculate the eigenvalues and eigenvectors of the matrix [[4, 1], [2, 3]] using NumPy__"
   ]
  },
  {
   "cell_type": "code",
   "execution_count": 16,
   "metadata": {},
   "outputs": [
    {
     "name": "stdout",
     "output_type": "stream",
     "text": [
      "1. Eigenvalues of given matrix is:\n",
      "[5. 2.]\n",
      "\n",
      "2. Eigenvectors of given matrix is:\n",
      "[[ 0.70710678 -0.4472136 ]\n",
      " [ 0.70710678  0.89442719]]\n"
     ]
    }
   ],
   "source": [
    "sample_matrix = [[4,1],[2,3]]\n",
    "\n",
    "eigenvalues, eigenvectors = np.linalg.eig(sample_matrix)\n",
    "print(f\"1. Eigenvalues of given matrix is:\\n{eigenvalues}\\n\\n2. Eigenvectors of given matrix is:\\n{eigenvectors}\")"
   ]
  },
  {
   "cell_type": "markdown",
   "metadata": {},
   "source": [
    "### __37. Use the np.eye() function to create a 4x4 identity matrix and demonstrate how to multiply it by another 4x4 matrix filled with random numbers using NumPy.__"
   ]
  },
  {
   "cell_type": "markdown",
   "metadata": {},
   "source": [
    "- __Creating 4x4 Identity & Another Matrix with Random Numbers:__"
   ]
  },
  {
   "cell_type": "code",
   "execution_count": 17,
   "metadata": {},
   "outputs": [
    {
     "name": "stdout",
     "output_type": "stream",
     "text": [
      "Identity Matrix is:\n",
      "[[1 0 0 0]\n",
      " [0 1 0 0]\n",
      " [0 0 1 0]\n",
      " [0 0 0 1]]\n",
      "\n",
      "Another Matrix with Random Numbers:\n",
      "[[11  8 19 17]\n",
      " [12  5 14 14]\n",
      " [ 3 22 16  8]\n",
      " [21  2 13 19]]\n"
     ]
    }
   ],
   "source": [
    "identity = np.eye(4,4, dtype=int)\n",
    "print(f\"Identity Matrix is:\\n{identity}\\n\")\n",
    "\n",
    "another = np.random.randint(1,25, [4,4])\n",
    "print(f\"Another Matrix with Random Numbers:\\n{another}\")"
   ]
  },
  {
   "cell_type": "markdown",
   "metadata": {},
   "source": [
    "- __Multiplying Identity Matrix with Another Matrix:__"
   ]
  },
  {
   "cell_type": "code",
   "execution_count": 18,
   "metadata": {},
   "outputs": [
    {
     "name": "stdout",
     "output_type": "stream",
     "text": [
      "Final Outcome is:\n",
      "[[11  0  0  0]\n",
      " [ 0  5  0  0]\n",
      " [ 0  0 16  0]\n",
      " [ 0  0  0 19]]\n"
     ]
    }
   ],
   "source": [
    "print(f\"Final Outcome is:\\n{identity*another}\")"
   ]
  },
  {
   "cell_type": "markdown",
   "metadata": {},
   "source": [
    "### __38. Given two arrays A = np.array([1, 2, 3, 4, 5]) and B = np.array([4, 5, 6, 7, 8]), write a Python program to find their union and intersection using NumPy__"
   ]
  },
  {
   "cell_type": "code",
   "execution_count": 19,
   "metadata": {},
   "outputs": [],
   "source": [
    "A = np.array([1, 2, 3, 4, 5])\n",
    "B = np.array([4, 5, 6, 7, 8])"
   ]
  },
  {
   "cell_type": "markdown",
   "metadata": {},
   "source": [
    "- __38.1 Union__"
   ]
  },
  {
   "cell_type": "code",
   "execution_count": 20,
   "metadata": {},
   "outputs": [
    {
     "name": "stdout",
     "output_type": "stream",
     "text": [
      "Union of Given Arrays:\n",
      "[1 2 3 4 5 6 7 8]\n"
     ]
    }
   ],
   "source": [
    "print(f\"Union of Given Arrays:\\n{np.union1d(A,B)}\")"
   ]
  },
  {
   "cell_type": "markdown",
   "metadata": {},
   "source": [
    "- __38.2 Intersection__"
   ]
  },
  {
   "cell_type": "code",
   "execution_count": 21,
   "metadata": {},
   "outputs": [
    {
     "name": "stdout",
     "output_type": "stream",
     "text": [
      "Intersection of Given Arrays:\n",
      "[4 5]\n"
     ]
    }
   ],
   "source": [
    "print(f\"Intersection of Given Arrays:\\n{np.intersect1d(A,B)}\")"
   ]
  },
  {
   "cell_type": "markdown",
   "metadata": {},
   "source": [
    "### __39. Create two sets from arrays and demonstrate how to perform the set difference between them using NumPy.__"
   ]
  },
  {
   "cell_type": "markdown",
   "metadata": {},
   "source": [
    "- __39.1 Creating 2 Sets From Arrays:__"
   ]
  },
  {
   "cell_type": "code",
   "execution_count": 22,
   "metadata": {},
   "outputs": [],
   "source": [
    "array = np.random.randint(0,5,10).reshape(2,5)\n",
    "set1, set2 = array[0], array[1]"
   ]
  },
  {
   "cell_type": "markdown",
   "metadata": {},
   "source": [
    "- __39.2 Created Sets:__"
   ]
  },
  {
   "cell_type": "code",
   "execution_count": 23,
   "metadata": {},
   "outputs": [
    {
     "name": "stdout",
     "output_type": "stream",
     "text": [
      "Set-1: [1 4 1 0 0]\n",
      "Set-2: [4 1 3 3 0]\n"
     ]
    }
   ],
   "source": [
    "print(f\"Set-1: {set1}\\nSet-2: {set2}\")"
   ]
  },
  {
   "cell_type": "markdown",
   "metadata": {},
   "source": [
    "- __39.3 Difference between Set-1 & Set-2:__"
   ]
  },
  {
   "cell_type": "code",
   "execution_count": 24,
   "metadata": {},
   "outputs": [
    {
     "name": "stdout",
     "output_type": "stream",
     "text": [
      "Difference between Set1 & Set2 is:\n",
      "[]\n"
     ]
    }
   ],
   "source": [
    "print(f\"Difference between Set1 & Set2 is:\\n{np.setdiff1d(set1,set2)}\")"
   ]
  },
  {
   "cell_type": "markdown",
   "metadata": {},
   "source": [
    "### __40. Given the polynomial equation P(x)=4x^2+6x−24, write a Python program to use NumPy to find the roots of this equation.__"
   ]
  },
  {
   "cell_type": "markdown",
   "metadata": {},
   "source": [
    "- __40.1 Equation__"
   ]
  },
  {
   "cell_type": "code",
   "execution_count": 25,
   "metadata": {},
   "outputs": [
    {
     "data": {
      "text/latex": [
       "$x \\mapsto \\text{-24.0} + \\text{6.0}\\,x + \\text{4.0}\\,x^{2}$"
      ],
      "text/plain": [
       "Polynomial([-24.,   6.,   4.], domain=[-1.,  1.], window=[-1.,  1.], symbol='x')"
      ]
     },
     "execution_count": 25,
     "metadata": {},
     "output_type": "execute_result"
    }
   ],
   "source": [
    "equation = [-24, 6, 4]\n",
    "np.polynomial.Polynomial(equation)"
   ]
  },
  {
   "cell_type": "markdown",
   "metadata": {},
   "source": [
    "- __40.2 Finding Roots__"
   ]
  },
  {
   "cell_type": "markdown",
   "metadata": {},
   "source": [
    "_Approach 1_"
   ]
  },
  {
   "cell_type": "code",
   "execution_count": 26,
   "metadata": {},
   "outputs": [
    {
     "name": "stdout",
     "output_type": "stream",
     "text": [
      "Roots of above Equation is:\n",
      "[-3.31173769  1.81173769]\n"
     ]
    }
   ],
   "source": [
    "print(f\"Roots of above Equation is:\\n{np.polynomial.Polynomial(equation).roots()}\")"
   ]
  },
  {
   "cell_type": "markdown",
   "metadata": {},
   "source": [
    "_Approach 2_"
   ]
  },
  {
   "cell_type": "code",
   "execution_count": 27,
   "metadata": {},
   "outputs": [
    {
     "name": "stdout",
     "output_type": "stream",
     "text": [
      "Roots of above Equation is:\n",
      "[-3.31173769  1.81173769]\n"
     ]
    }
   ],
   "source": [
    "print(f\"Roots of above Equation is:\\n{np.polynomial.Polynomial.roots(np.polynomial.Polynomial(equation))}\")"
   ]
  }
 ],
 "metadata": {
  "kernelspec": {
   "display_name": "Python 3",
   "language": "python",
   "name": "python3"
  },
  "language_info": {
   "codemirror_mode": {
    "name": "ipython",
    "version": 3
   },
   "file_extension": ".py",
   "mimetype": "text/x-python",
   "name": "python",
   "nbconvert_exporter": "python",
   "pygments_lexer": "ipython3",
   "version": "3.11.0"
  }
 },
 "nbformat": 4,
 "nbformat_minor": 2
}
