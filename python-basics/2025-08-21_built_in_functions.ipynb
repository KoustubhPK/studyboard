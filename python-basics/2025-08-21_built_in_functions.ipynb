{
 "cells": [
  {
   "cell_type": "markdown",
   "metadata": {},
   "source": [
    "# Built-in Function"
   ]
  },
  {
   "cell_type": "markdown",
   "metadata": {},
   "source": [
    "### 1. filter()\n",
    "\n",
    "filter(function_name, iterable)\n",
    "\n",
    "function_name >> user defined or lambda function"
   ]
  },
  {
   "cell_type": "code",
   "execution_count": 1,
   "metadata": {},
   "outputs": [
    {
     "name": "stdout",
     "output_type": "stream",
     "text": [
      "['P', 'D', 'S']\n",
      "['y', 't', 'h', 'o', 'n', 'a', 'n', 'd', 'a', 't', 'a', 'c', 'i', 'e', 'n', 'c', 'e']\n",
      "[2, 4, 6, 8, 14]\n"
     ]
    }
   ],
   "source": [
    "my_string = \"Python and Data Science\"\n",
    "\n",
    "upper_letters1 = list(filter(lambda x : x.isupper(), my_string))\n",
    "print(upper_letters1)\n",
    "\n",
    "lower_letters1 = list(filter(lambda x : x.islower(), my_string))\n",
    "print(lower_letters1)\n",
    "\n",
    "numbers = [2,3,4,6,8,11,13,14,15,17]\n",
    "even_numbers1 = list(filter(lambda x:x%2==0, numbers))\n",
    "print(even_numbers1)"
   ]
  },
  {
   "cell_type": "code",
   "execution_count": 2,
   "metadata": {},
   "outputs": [
    {
     "name": "stdout",
     "output_type": "stream",
     "text": [
      "['P', 'D', 'S']\n",
      "['y', 't', 'h', 'o', 'n', 'a', 'n', 'd', 'a', 't', 'a', 'c', 'i', 'e', 'n', 'c', 'e']\n",
      "[2, 4, 6, 8, 14]\n"
     ]
    }
   ],
   "source": [
    "# with for loop\n",
    "my_string = \"Python and Data Science\"\n",
    "\n",
    "upper_letters2 = []\n",
    "for x in my_string:\n",
    "    if x.isupper():\n",
    "        upper_letters2.append(x)\n",
    "print(upper_letters2)\n",
    "\n",
    "lower_letters2 = []\n",
    "for x in my_string:\n",
    "    if x.islower():\n",
    "        lower_letters2.append(x)\n",
    "print(lower_letters2)\n",
    "\n",
    "numbers = [2,3,4,6,8,11,13,14,15,17]\n",
    "even_numbers2 = list()\n",
    "for x in numbers:\n",
    "    if x%2 == 0:\n",
    "        even_numbers2.append(x)\n",
    "print(even_numbers2)"
   ]
  },
  {
   "cell_type": "code",
   "execution_count": 3,
   "metadata": {},
   "outputs": [
    {
     "name": "stdout",
     "output_type": "stream",
     "text": [
      "['P', 'D', 'S']\n",
      "['y', 't', 'h', 'o', 'n', 'a', 'n', 'd', 'a', 't', 'a', 'c', 'i', 'e', 'n', 'c', 'e']\n",
      "[2, 4, 6, 8, 14]\n"
     ]
    }
   ],
   "source": [
    "# with list comprehension\n",
    "my_string = \"Python and Data Science\"\n",
    "\n",
    "upper_letters3 = [x for x in my_string if x.isupper()]\n",
    "print(upper_letters3)\n",
    "\n",
    "lower_letters3 = [x for x in my_string if x.islower()]\n",
    "print(lower_letters3)\n",
    "\n",
    "numbers = [2,3,4,6,8,11,13,14,15,17]\n",
    "even_numbers3 = [x for x in numbers if x%2 ==0]\n",
    "print(even_numbers3)"
   ]
  },
  {
   "cell_type": "markdown",
   "metadata": {},
   "source": [
    "### 2. map()\n",
    "\n",
    "map(function_name, iterables)\n",
    "\n",
    "function_name >> user defined or lambda function\n",
    "\n",
    "map is higher order function"
   ]
  },
  {
   "cell_type": "code",
   "execution_count": 12,
   "metadata": {},
   "outputs": [
    {
     "name": "stdout",
     "output_type": "stream",
     "text": [
      "[True, False, False, False, False, False, False, False, False, False, False, True, False, False, False, False, True, False, False, False, False, False, False]\n",
      "squares--> [4, 9, 16, 36, 64, 121, 169, 196, 225, 289]\n",
      "cubes----> [8, 27, 64, 216, 512, 1331, 2197, 2744, 3375, 4913]\n"
     ]
    }
   ],
   "source": [
    "my_string = \"Python and Data Science\"\n",
    "list_result = list(map(lambda x: x.isupper(), my_string))\n",
    "print(list_result)\n",
    "\n",
    "numbers = [2,3,4,6,8,11,13,14,15,17]\n",
    "\n",
    "squares = list(map(lambda x: x**2, numbers))\n",
    "print(\"squares-->\", squares)\n",
    "\n",
    "cubes = list(map(lambda x: x**3, numbers))\n",
    "print(\"cubes---->\", cubes)"
   ]
  },
  {
   "cell_type": "code",
   "execution_count": 23,
   "metadata": {},
   "outputs": [
    {
     "name": "stdout",
     "output_type": "stream",
     "text": [
      "numbers1 + numbers2        ------> [21, 42, 64, 85, 115, 126]\n",
      "numbers1 + numbers3        ------> [111, 222, 334, 445, 565, 666]\n",
      "numbers1 + numbers2 + numbers3---> [121, 242, 364, 485, 615, 726]\n"
     ]
    }
   ],
   "source": [
    "numbers1 = [11,22,34,45,65,66]\n",
    "numbers2 = [10,20,30,40,50,60]\n",
    "numbers3 = [100,200,300,400,500,600]\n",
    "\n",
    "new_list = list(map(lambda x,y,z: x+y, numbers1, numbers2, numbers3))\n",
    "print(\"numbers1 + numbers2        ------>\",new_list)\n",
    "\n",
    "new_list = list(map(lambda x,y,z: x+z, numbers1, numbers2, numbers3))\n",
    "print(\"numbers1 + numbers3        ------>\",new_list)\n",
    "\n",
    "new_list = list(map(lambda x,y,z: x+y+z, numbers1, numbers2, numbers3))\n",
    "print(\"numbers1 + numbers2 + numbers3--->\",new_list)"
   ]
  },
  {
   "cell_type": "code",
   "execution_count": 26,
   "metadata": {},
   "outputs": [
    {
     "name": "stdout",
     "output_type": "stream",
     "text": [
      "pmyutmhboani\n"
     ]
    }
   ],
   "source": [
    "str1 = 'python'\n",
    "str2 = 'mumbai'\n",
    "\n",
    "string_concat = \"\".join(list(map(lambda x,y: x+y, str1, str2)))\n",
    "print(string_concat)"
   ]
  },
  {
   "cell_type": "markdown",
   "metadata": {},
   "source": [
    "### 3. zip()\n",
    "\n",
    "zip(iterables)"
   ]
  },
  {
   "cell_type": "code",
   "execution_count": 38,
   "metadata": {},
   "outputs": [
    {
     "name": "stdout",
     "output_type": "stream",
     "text": [
      "[('a', 0, 0), ('b', 1, 1), ('c', 2, 2), ('d', 3, 3)]\n"
     ]
    }
   ],
   "source": [
    "new_string = list(zip('abcdefg', range(4), range(6)))\n",
    "print(new_string)"
   ]
  }
 ],
 "metadata": {
  "kernelspec": {
   "display_name": "Python 3",
   "language": "python",
   "name": "python3"
  },
  "language_info": {
   "codemirror_mode": {
    "name": "ipython",
    "version": 3
   },
   "file_extension": ".py",
   "mimetype": "text/x-python",
   "name": "python",
   "nbconvert_exporter": "python",
   "pygments_lexer": "ipython3",
   "version": "3.11.0"
  }
 },
 "nbformat": 4,
 "nbformat_minor": 2
}
