{
 "cells": [
  {
   "cell_type": "markdown",
   "metadata": {},
   "source": [
    "# Modules"
   ]
  },
  {
   "cell_type": "markdown",
   "metadata": {},
   "source": [
    "A module is a single Python file with .py extension which contains variables, functions and classes\n",
    "\n",
    "import keyword is used to Import Modules, library and packages"
   ]
  },
  {
   "cell_type": "code",
   "execution_count": 1,
   "metadata": {},
   "outputs": [
    {
     "name": "stdout",
     "output_type": "stream",
     "text": [
      "Todays day is: 25 & month is: 8\n",
      "I printed this statement on time 12:30\n"
     ]
    }
   ],
   "source": [
    "import datetime\n",
    "\n",
    "current_datetime = datetime.datetime.now()\n",
    "\n",
    "print(f\"Todays day is: {current_datetime.day} & month is: {current_datetime.month}\")\n",
    "print(f\"I printed this statement on time {current_datetime.hour}:{current_datetime.minute}\")"
   ]
  },
  {
   "cell_type": "code",
   "execution_count": 2,
   "metadata": {},
   "outputs": [
    {
     "name": "stdout",
     "output_type": "stream",
     "text": [
      "The value of Pi is: 3.141592653589793\n",
      "The value of e is: 2.718281828459045\n"
     ]
    }
   ],
   "source": [
    "import math\n",
    "\n",
    "print(f\"The value of Pi is: {math.pi}\") # value of Pi\n",
    "\n",
    "print(f\"The value of e is: {math.e}\") # value of (e)"
   ]
  },
  {
   "cell_type": "code",
   "execution_count": 3,
   "metadata": {},
   "outputs": [
    {
     "name": "stdout",
     "output_type": "stream",
     "text": [
      "The square root of 25 is: 5.0\n"
     ]
    }
   ],
   "source": [
    "# Calculating the square root of a number\n",
    "number = 25\n",
    "sqrt_result = math.sqrt(number)\n",
    "print(f\"The square root of {number} is: {sqrt_result}\")"
   ]
  },
  {
   "cell_type": "code",
   "execution_count": 4,
   "metadata": {},
   "outputs": [
    {
     "name": "stdout",
     "output_type": "stream",
     "text": [
      "The natural logarithm of 10 is: 2.302585092994046\n"
     ]
    }
   ],
   "source": [
    "# Calculating the natural logarithm (base e)\n",
    "log_result = math.log(10)\n",
    "print(f\"The natural logarithm of 10 is: {log_result}\")"
   ]
  },
  {
   "cell_type": "code",
   "execution_count": 5,
   "metadata": {},
   "outputs": [
    {
     "name": "stdout",
     "output_type": "stream",
     "text": [
      "2 to the power of 3 is: 8.0\n"
     ]
    }
   ],
   "source": [
    "# Calculating the power of a number\n",
    "power_result = math.pow(2, 3) # 2 raised to the power of 3\n",
    "print(f\"2 to the power of 3 is: {power_result}\")"
   ]
  },
  {
   "cell_type": "code",
   "execution_count": 6,
   "metadata": {},
   "outputs": [
    {
     "name": "stdout",
     "output_type": "stream",
     "text": [
      "The sine of 90 degrees is: 1.0\n",
      "0.8660254037844387\n"
     ]
    }
   ],
   "source": [
    "# Calculating the sine of an angle (in radians)\n",
    "angle_radians = math.radians(90) # Need to convert degrees to radians\n",
    "sine_result = math.sin(angle_radians)\n",
    "print(f\"The sine of 90 degrees is: {sine_result}\")\n",
    "\n",
    "# without using variables\n",
    "print(math.sin(math.radians(120)))"
   ]
  },
  {
   "cell_type": "code",
   "execution_count": 7,
   "metadata": {},
   "outputs": [
    {
     "name": "stdout",
     "output_type": "stream",
     "text": [
      "The square root of 16 is: 4.0\n",
      "The value of Pi is: 3.141592653589793\n"
     ]
    }
   ],
   "source": [
    "from math import sqrt, pi\n",
    "\n",
    "# without 'math.' prefix\n",
    "print(f\"The square root of 16 is: {sqrt(16)}\")\n",
    "print(f\"The value of Pi is: {pi}\")"
   ]
  }
 ],
 "metadata": {
  "kernelspec": {
   "display_name": "Python 3",
   "language": "python",
   "name": "python3"
  },
  "language_info": {
   "codemirror_mode": {
    "name": "ipython",
    "version": 3
   },
   "file_extension": ".py",
   "mimetype": "text/x-python",
   "name": "python",
   "nbconvert_exporter": "python",
   "pygments_lexer": "ipython3",
   "version": "3.11.0"
  }
 },
 "nbformat": 4,
 "nbformat_minor": 2
}
