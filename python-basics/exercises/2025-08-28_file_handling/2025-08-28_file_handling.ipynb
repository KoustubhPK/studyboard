{
 "cells": [
  {
   "cell_type": "markdown",
   "metadata": {},
   "source": [
    "# File Handling"
   ]
  },
  {
   "cell_type": "markdown",
   "metadata": {},
   "source": [
    "In Python, file handling is the technique used to interact with files stored on a system. With it, you can create new files, open existing ones, read or modify their contents, and finally close them once the task is done. This process acts as a bridge between a program and the underlying storage, making sure data is managed in a reliable and efficient manner.\n",
    "\n",
    "#### Importance of File Handling:\n",
    "    1. Output of program will be stored in file.\n",
    "    2. We can create any type of data files.\n",
    "    3. Helps in processing large amounts of information without loading everything into memory at once.\n",
    "    4. Enables automation such as reading configuration files or generating reports.\n",
    "\n",
    "#### Opening Files in Python\n",
    "\n",
    "To begin working with a file, Python provides the built-in open() function. It needs two things: the file name (or path) and the mode that defines how you want to use the file (i.e.: read, write or append)."
   ]
  },
  {
   "cell_type": "markdown",
   "metadata": {},
   "source": [
    "#### Modes\n",
    "1.  r   -   read the file\n",
    "2.  r+  -   read & write\n",
    "3.  w   -   write only\n",
    "4.  w+  -   read & write (but overwrite the content)\n",
    "5.  a   -   append the content at the end\n",
    "6.  a+  -   read and append the content at the end\n",
    "7.  rb  -   read in binary\n",
    "8.  rb+ -   read and write in binary\n",
    "9.  wb  -   write in binary\n",
    "10. wb+ -   read and write in binary"
   ]
  },
  {
   "cell_type": "markdown",
   "metadata": {},
   "source": [
    "### Data Files Path\n",
    "Note: All generated files will stored in this path location."
   ]
  },
  {
   "cell_type": "code",
   "execution_count": 1,
   "metadata": {},
   "outputs": [],
   "source": [
    "absolute_path = r\"F:\\studyboard\\python-basics\\exercises\\2025-08-28_file_handling\\data\""
   ]
  },
  {
   "cell_type": "markdown",
   "metadata": {
    "vscode": {
     "languageId": "plaintext"
    }
   },
   "source": [
    "### 1. Write Mode"
   ]
  },
  {
   "cell_type": "code",
   "execution_count": 2,
   "metadata": {},
   "outputs": [
    {
     "name": "stdout",
     "output_type": "stream",
     "text": [
      "file created successfully...\n"
     ]
    }
   ],
   "source": [
    "f = open(f\"{absolute_path}\\my_first_text_file.txt\", \"w\")\n",
    "f.write(\"test content...\")\n",
    "print(\"file created successfully...\")\n",
    "f.close()"
   ]
  },
  {
   "cell_type": "markdown",
   "metadata": {},
   "source": [
    "### 2. Append Mode"
   ]
  },
  {
   "cell_type": "code",
   "execution_count": 3,
   "metadata": {},
   "outputs": [
    {
     "name": "stdout",
     "output_type": "stream",
     "text": [
      "data appended successfully...\n"
     ]
    }
   ],
   "source": [
    "f = open(f\"{absolute_path}/my_first_text_file.txt\", \"a\")\n",
    "f.write(\"\\ncheck\")\n",
    "print(\"data appended successfully...\")\n",
    "f.close()"
   ]
  },
  {
   "cell_type": "markdown",
   "metadata": {},
   "source": [
    "### 3. Read Mode"
   ]
  },
  {
   "cell_type": "code",
   "execution_count": 4,
   "metadata": {},
   "outputs": [
    {
     "name": "stdout",
     "output_type": "stream",
     "text": [
      "test content...\n",
      "check\n"
     ]
    }
   ],
   "source": [
    "f = open(f\"{absolute_path}/my_first_text_file.txt\", \"r\")\n",
    "text = f.read()\n",
    "f.close()\n",
    "print(text)\n"
   ]
  },
  {
   "cell_type": "markdown",
   "metadata": {},
   "source": [
    "### 4. Write Mode - with open()"
   ]
  },
  {
   "cell_type": "code",
   "execution_count": 5,
   "metadata": {},
   "outputs": [
    {
     "name": "stdout",
     "output_type": "stream",
     "text": [
      "file created successfully...\n"
     ]
    }
   ],
   "source": [
    "with open(f\"{absolute_path}/with_open_test.txt\", \"w\") as f:\n",
    "    f.write(\"no need to close the file explicitely if we use with statement.\")\n",
    "    print(\"file created successfully...\")"
   ]
  },
  {
   "cell_type": "markdown",
   "metadata": {},
   "source": [
    "### 5. Append Mode - with open()"
   ]
  },
  {
   "cell_type": "code",
   "execution_count": 6,
   "metadata": {},
   "outputs": [
    {
     "name": "stdout",
     "output_type": "stream",
     "text": [
      "data appended successfully...\n"
     ]
    }
   ],
   "source": [
    "with open(f\"{absolute_path}/with_open_test.txt\", \"a\") as f:\n",
    "    f.write(\"\\nfile handing does smoothly by with open.\")\n",
    "    print(\"data appended successfully...\")"
   ]
  },
  {
   "cell_type": "markdown",
   "metadata": {},
   "source": [
    "### 6. Read Mode - with open()"
   ]
  },
  {
   "cell_type": "code",
   "execution_count": 7,
   "metadata": {},
   "outputs": [
    {
     "name": "stdout",
     "output_type": "stream",
     "text": [
      "no need to close the file explicitely if we use with statement.\n",
      "file handing does smoothly by with open.\n"
     ]
    }
   ],
   "source": [
    "with open(f\"{absolute_path}/with_open_test.txt\", \"r\") as f:\n",
    "    data = f.read()\n",
    "print(data)"
   ]
  },
  {
   "cell_type": "markdown",
   "metadata": {},
   "source": [
    "### 7. Count Words, Lines & Characters in a File"
   ]
  },
  {
   "cell_type": "code",
   "execution_count": 8,
   "metadata": {},
   "outputs": [
    {
     "name": "stdout",
     "output_type": "stream",
     "text": [
      "Lines: 2\n",
      "Words: 19\n",
      "Characters: 104\n"
     ]
    }
   ],
   "source": [
    "with open(f\"{absolute_path}/with_open_test.txt\", \"r\") as f:\n",
    "    text = f.read()\n",
    "\n",
    "print(\"Lines:\", text.count(\"\\n\") + 1)\n",
    "print(\"Words:\", len(text.split()))\n",
    "print(\"Characters:\", len(text))"
   ]
  },
  {
   "cell_type": "markdown",
   "metadata": {},
   "source": [
    "### 8. Write Multiple Lines at Once"
   ]
  },
  {
   "cell_type": "code",
   "execution_count": 9,
   "metadata": {},
   "outputs": [
    {
     "name": "stdout",
     "output_type": "stream",
     "text": [
      "File content:\n",
      " Python\n",
      "File Handling\n",
      "Multiple Lines\n",
      "\n"
     ]
    }
   ],
   "source": [
    "# writelines() use for writing the multiple lines\n",
    "\n",
    "data = [\"Python\\n\", \"File Handling\\n\", \"Multiple Lines\\n\"]\n",
    "\n",
    "with open(f\"{absolute_path}/multiple_lines.txt\", \"w+\") as f:\n",
    "    f.writelines(data)\n",
    "\n",
    "    f.seek(0)\n",
    "    content = f.read()\n",
    "    print(\"File content:\\n\", content)"
   ]
  },
  {
   "cell_type": "markdown",
   "metadata": {},
   "source": [
    "### 9. Read, Modify & Write back"
   ]
  },
  {
   "cell_type": "code",
   "execution_count": 10,
   "metadata": {},
   "outputs": [
    {
     "name": "stdout",
     "output_type": "stream",
     "text": [
      "********** Before Update **********\n",
      "Python\n",
      "File Handling\n",
      "Multiple Lines\n",
      "\n",
      "********** After Update **********\n",
      "PYTHON\n",
      "FILE HANDLING\n",
      "MULTIPLE LINES\n",
      "\n"
     ]
    }
   ],
   "source": [
    "with open(f\"{absolute_path}/multiple_lines.txt\", \"r+\") as f:\n",
    "    print(f\"{'*'*10} Before Update {'*'*10}\")\n",
    "    content = f.read()\n",
    "    print(content)\n",
    "\n",
    "    updated = content.upper()\n",
    "    f.seek(0)\n",
    "    f.write(updated)\n",
    "    f.truncate()\n",
    "    \n",
    "    print(f\"{'*'*10} After Update {'*'*10}\")\n",
    "    print(updated)"
   ]
  },
  {
   "cell_type": "markdown",
   "metadata": {},
   "source": [
    "### 10. Reverse File Content"
   ]
  },
  {
   "cell_type": "code",
   "execution_count": 11,
   "metadata": {},
   "outputs": [
    {
     "name": "stdout",
     "output_type": "stream",
     "text": [
      "\n",
      "********** Original Data **********\n",
      "no need to close the file explicitely if we use with statement.\n",
      "file handing does smoothly by with open.\n",
      "\n",
      "*********** O/P Message ***********\n",
      "Success: Content Reversed\n",
      "\n",
      "********** Reversed Data **********\n",
      ".nepo htiw yb ylhtooms seod gnidnah elif\n",
      ".tnemetats htiw esu ew fi yleticilpxe elif eht esolc ot deen on\n"
     ]
    }
   ],
   "source": [
    "print(f\"\\n{'*'*10} Original Data {'*'*10}\")\n",
    "with open(f\"{absolute_path}/with_open_test.txt\", \"r\") as f:\n",
    "    content = f.read()\n",
    "    print(content)\n",
    "\n",
    "print(f\"\\n{'*'*11} O/P Message {'*'*11}\")\n",
    "with open(f\"{absolute_path}/reversed.txt\", \"w\") as f:\n",
    "    data = f.writelines(reversed(content))\n",
    "    print(\"Success: Content Reversed\")\n",
    "\n",
    "print(f\"\\n{'*'*10} Reversed Data {'*'*10}\")\n",
    "with open(f\"{absolute_path}/reversed.txt\", \"r\") as f:\n",
    "    print(f.read())"
   ]
  }
 ],
 "metadata": {
  "kernelspec": {
   "display_name": "Python 3",
   "language": "python",
   "name": "python3"
  },
  "language_info": {
   "codemirror_mode": {
    "name": "ipython",
    "version": 3
   },
   "file_extension": ".py",
   "mimetype": "text/x-python",
   "name": "python",
   "nbconvert_exporter": "python",
   "pygments_lexer": "ipython3",
   "version": "3.11.0"
  }
 },
 "nbformat": 4,
 "nbformat_minor": 2
}
