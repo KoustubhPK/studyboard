{
 "cells": [
  {
   "cell_type": "markdown",
   "metadata": {},
   "source": [
    "# OS Module\n",
    "\n",
    "The os module in Python is a built-in standard library that provides functions for interacting with the operating system."
   ]
  },
  {
   "cell_type": "markdown",
   "metadata": {},
   "source": [
    "### Functions\n",
    "\n",
    "OS Module:\n",
    "1. os.rename()\n",
    "2. os.remove()\n",
    "3. os.path.exists()\n",
    "4. os.mkdir()\n",
    "5. os.makedirs()\n",
    "6. os.rmdir()\n",
    "7. os.listdir()\n",
    "8. os.getcwd()\n",
    "9. os.path.join()\n",
    "\n",
    "Shutil Module:\n",
    "1. shutil.rmtree()\n",
    "2. shutil.copy()\n",
    "\n",
    "glob:\n",
    "1. glob.glob(folder_path + \"\\\\\" + \"*.txt\")"
   ]
  },
  {
   "cell_type": "code",
   "execution_count": 1,
   "metadata": {},
   "outputs": [],
   "source": [
    "import os, time\n",
    "source_file_path = r\"F:\\studyboard\\python-basics\\exercises\\2025-08-28_file_handling\\data\""
   ]
  },
  {
   "cell_type": "markdown",
   "metadata": {},
   "source": [
    "## 1. Rename\n",
    "###### syntax: os.rename(source_file_name, destination_file_name)"
   ]
  },
  {
   "cell_type": "markdown",
   "metadata": {},
   "source": [
    "1.1 Rename File & Move"
   ]
  },
  {
   "cell_type": "code",
   "execution_count": 2,
   "metadata": {},
   "outputs": [],
   "source": [
    "with open(os.path.join(source_file_path, \"sample.txt\"), \"w\") as f:\n",
    "    f.write(\"Test file\")"
   ]
  },
  {
   "cell_type": "code",
   "execution_count": 3,
   "metadata": {},
   "outputs": [
    {
     "name": "stdout",
     "output_type": "stream",
     "text": [
      "Renaming the filename...\n",
      "Filename changed and moved successfuly!\n"
     ]
    }
   ],
   "source": [
    "old_file = os.path.join(source_file_path, \"sample.txt\")\n",
    "new_file = os.path.join(source_file_path, \"moved/sample_renamed.txt\")\n",
    "\n",
    "if os.path.exists(old_file):\n",
    "    print(\"Renaming the filename...\")\n",
    "    time.sleep(0.5)\n",
    "    os.rename(old_file, new_file)\n",
    "    time.sleep(0.5)\n",
    "    print(\"Filename changed and moved successfuly!\")\n",
    "else:\n",
    "    print(\"File does not exist, cannot rename!\")"
   ]
  },
  {
   "cell_type": "markdown",
   "metadata": {},
   "source": [
    "## 2. Remove\n",
    "###### syntax: os.remove(file_path, file_name)"
   ]
  },
  {
   "cell_type": "code",
   "execution_count": 4,
   "metadata": {},
   "outputs": [
    {
     "name": "stdout",
     "output_type": "stream",
     "text": [
      "Removing the file...\n",
      "File removed successfuly!\n"
     ]
    }
   ],
   "source": [
    "file_name = os.path.join(source_file_path, \"moved/sample_renamed.txt\")\n",
    "\n",
    "if os.path.exists(file_name):\n",
    "    time.sleep(0.5)\n",
    "    print(\"Removing the file...\")\n",
    "    os.remove(file_name)\n",
    "    time.sleep(0.5)\n",
    "    print(\"File removed successfuly!\")\n",
    "else:\n",
    "    print(\"File does not exist, cannot remove!\")"
   ]
  },
  {
   "cell_type": "markdown",
   "metadata": {},
   "source": [
    "## 3. Check file/folder exists or not.\n",
    "###### syntax: os.path.exists(file_path)"
   ]
  },
  {
   "cell_type": "code",
   "execution_count": 5,
   "metadata": {},
   "outputs": [
    {
     "data": {
      "text/plain": [
       "False"
      ]
     },
     "execution_count": 5,
     "metadata": {},
     "output_type": "execute_result"
    }
   ],
   "source": [
    "os.path.exists(\"random.txt\")"
   ]
  },
  {
   "cell_type": "code",
   "execution_count": 6,
   "metadata": {},
   "outputs": [
    {
     "data": {
      "text/plain": [
       "True"
      ]
     },
     "execution_count": 6,
     "metadata": {},
     "output_type": "execute_result"
    }
   ],
   "source": [
    "os.path.exists(\"data/\")"
   ]
  },
  {
   "cell_type": "markdown",
   "metadata": {},
   "source": [
    "## 4. Creating directory\n",
    "###### syntax: os.mkdir(\"dir_name\")"
   ]
  },
  {
   "cell_type": "code",
   "execution_count": 7,
   "metadata": {},
   "outputs": [
    {
     "name": "stdout",
     "output_type": "stream",
     "text": [
      "['.ipynb_checkpoints', '2025-08-28_file_handling.ipynb', '2025-08-29_os_module.ipynb', 'data']\n",
      "Directory created successfuly.\n",
      "['.ipynb_checkpoints', '2025-08-28_file_handling.ipynb', '2025-08-29_os_module.ipynb', 'data', 'temp']\n"
     ]
    }
   ],
   "source": [
    "print(os.listdir())\n",
    "\n",
    "if not os.path.exists(os.path.join(os.getcwd(), \"temp\")):\n",
    "    os.mkdir(\"temp\")\n",
    "    print(\"Directory created successfuly.\")\n",
    "else:\n",
    "    print(\"Directory already exists\")\n",
    "\n",
    "print(os.listdir())"
   ]
  },
  {
   "cell_type": "markdown",
   "metadata": {},
   "source": [
    "## 5. Creating multiple directories\n",
    "###### syntax: os.makedirs(\"dir_name1/dir_name2/dir_name3/...\")"
   ]
  },
  {
   "cell_type": "code",
   "execution_count": 8,
   "metadata": {},
   "outputs": [
    {
     "name": "stdout",
     "output_type": "stream",
     "text": [
      "['.ipynb_checkpoints', '2025-08-28_file_handling.ipynb', '2025-08-29_os_module.ipynb', 'data', 'temp']\n",
      "All directories are created\n",
      "['.ipynb_checkpoints', '2025-08-28_file_handling.ipynb', '2025-08-29_os_module.ipynb', 'data', 'temp', 'temp1']\n"
     ]
    }
   ],
   "source": [
    "print(os.listdir())\n",
    "if not os.path.exists(os.path.join(os.getcwd(), \"temp1\")):\n",
    "    os.makedirs(\"temp1/new_dir/test/python\")\n",
    "    print(\"All directories are created\")\n",
    "else:\n",
    "    print(\"Directory already exists\")\n",
    "\n",
    "print(os.listdir())"
   ]
  },
  {
   "cell_type": "markdown",
   "metadata": {},
   "source": [
    "## 6. Check directory path\n",
    "###### syntax: os.listdir(dir_path)"
   ]
  },
  {
   "cell_type": "code",
   "execution_count": 9,
   "metadata": {},
   "outputs": [
    {
     "name": "stdout",
     "output_type": "stream",
     "text": [
      "['moved', 'multiple_lines.txt', 'my_first_text_file.txt', 'reversed.txt', 'with_open_test.txt']\n"
     ]
    }
   ],
   "source": [
    "print(os.listdir(source_file_path))"
   ]
  },
  {
   "cell_type": "markdown",
   "metadata": {},
   "source": [
    "## 7. Delete empty directory\n",
    "###### syntax: os.rmdir(dir_path)"
   ]
  },
  {
   "cell_type": "code",
   "execution_count": 10,
   "metadata": {},
   "outputs": [
    {
     "name": "stdout",
     "output_type": "stream",
     "text": [
      "Empty directory deleted successfuly\n"
     ]
    }
   ],
   "source": [
    "dir_path = os.path.join(os.getcwd(), \"temp\")\n",
    "if os.path.exists(dir_path):\n",
    "    os.rmdir(dir_path)\n",
    "    time.sleep(0.5)\n",
    "    print(\"Empty directory deleted successfuly\")\n",
    "else:\n",
    "    print(\"Directory does not exists\")"
   ]
  },
  {
   "cell_type": "markdown",
   "metadata": {},
   "source": [
    "## 8. Delete non empty directory\n",
    "\n",
    "import shutil\n",
    "###### syntax: os.rmtree(dir_path)"
   ]
  },
  {
   "cell_type": "code",
   "execution_count": 11,
   "metadata": {},
   "outputs": [
    {
     "name": "stdout",
     "output_type": "stream",
     "text": [
      "Caution: Deleting the directory including all contained data...\n",
      "Directory Deleted Successfuly.\n"
     ]
    }
   ],
   "source": [
    "import shutil\n",
    "dir_path = os.path.join(os.getcwd(), \"temp1\")\n",
    "\n",
    "if os.path.exists(dir_path):\n",
    "    print(\"Caution: Deleting the directory including all contained data...\")\n",
    "    time.sleep(0.5)\n",
    "    shutil.rmtree(dir_path)\n",
    "    print(\"Directory Deleted Successfuly.\")\n",
    "else:\n",
    "    print(\"Directory does not exists\")"
   ]
  },
  {
   "cell_type": "markdown",
   "metadata": {},
   "source": [
    "## 9. Current workind directory path\n",
    "\n",
    "###### syntax: os.getcwd()"
   ]
  },
  {
   "cell_type": "code",
   "execution_count": 12,
   "metadata": {},
   "outputs": [
    {
     "name": "stdout",
     "output_type": "stream",
     "text": [
      "f:\\studyboard\\python-basics\\exercises\\2025-08-28_file_handling\n"
     ]
    }
   ],
   "source": [
    "print(os.getcwd())"
   ]
  },
  {
   "cell_type": "markdown",
   "metadata": {},
   "source": [
    "## 10. Globe | get all similar file type\n",
    "\n",
    "import glob\n",
    "###### syntax: glob.glob(dir_path + '//' + '*.txt')"
   ]
  },
  {
   "cell_type": "code",
   "execution_count": 13,
   "metadata": {},
   "outputs": [
    {
     "data": {
      "text/plain": [
       "['f:\\\\studyboard\\\\python-basics\\\\exercises\\\\2025-08-28_file_handling\\\\2025-08-28_file_handling.ipynb',\n",
       " 'f:\\\\studyboard\\\\python-basics\\\\exercises\\\\2025-08-28_file_handling\\\\2025-08-29_os_module.ipynb']"
      ]
     },
     "execution_count": 13,
     "metadata": {},
     "output_type": "execute_result"
    }
   ],
   "source": [
    "import glob\n",
    "dir_path = os.getcwd()\n",
    "ipynb_files = glob.glob(dir_path + '//' + '*.ipynb')\n",
    "ipynb_files"
   ]
  }
 ],
 "metadata": {
  "kernelspec": {
   "display_name": "Python 3",
   "language": "python",
   "name": "python3"
  },
  "language_info": {
   "codemirror_mode": {
    "name": "ipython",
    "version": 3
   },
   "file_extension": ".py",
   "mimetype": "text/x-python",
   "name": "python",
   "nbconvert_exporter": "python",
   "pygments_lexer": "ipython3",
   "version": "3.11.0"
  }
 },
 "nbformat": 4,
 "nbformat_minor": 2
}
