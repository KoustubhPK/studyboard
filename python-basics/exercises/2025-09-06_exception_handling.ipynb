{
 "cells": [
  {
   "cell_type": "markdown",
   "metadata": {},
   "source": [
    "# Exception Handling"
   ]
  },
  {
   "cell_type": "markdown",
   "metadata": {},
   "source": [
    "### Exception handling in Python is a mechanism for managing errors or exceptional events that disrupt the normal flow of a program.\n",
    "\n",
    "Here is the list of default Python exceptions with descriptions:\n",
    "\n",
    "    AssertionError: raised when the assert statement fails.\n",
    "    AttributeError: raised when the attribute assignment or reference fails.\n",
    "    IndexError: occurs when the index of a sequence is out of range\n",
    "    NameError: raised when a variable is not found in the local or global scope. \n",
    "    ValueError: occurs when the operation or function receives an argument with the right type but the wrong value. \n",
    "    ZeroDivisionError: raised when you divide a value or variable with zero. \n",
    "    SyntaxError: raised by the parser when the Python syntax is wrong. \n",
    "    IndentationError: occurs when there is a wrong indentation.\n",
    "    SystemError: raised when the interpreter detects an internal error.\n"
   ]
  },
  {
   "cell_type": "markdown",
   "metadata": {},
   "source": [
    "### 23. Explain the purpose of the raise statement in Python. Provide an example."
   ]
  },
  {
   "cell_type": "code",
   "execution_count": 1,
   "metadata": {},
   "outputs": [],
   "source": [
    "\"\"\"\n",
    "Raise:\n",
    "    The raise statement is used to manually trigger (raise) an exception in your program.\n",
    "    Normally, exceptions occur automatically (e.g., dividing by zero).\n",
    "    But sometimes, you want to force an error when a certain condition is met → that’s where raise comes in. \n",
    "\"\"\"\n",
    "\n",
    "# E.g.:\n",
    "age = -5\n",
    "\n",
    "if age < 0:\n",
    "    # raise ValueError(\"not ksjdjl possible\")\n",
    "    pass\n",
    "else:\n",
    "    print(f\"age = {age}\")\n",
    "\n",
    "\"\"\"\n",
    "---------------------------------------------------------------------------\n",
    "ValueError                                Traceback (most recent call last)\n",
    "Cell In[1], line 12\n",
    "      9 age = -5\n",
    "     11 if age < 0:\n",
    "---> 12     raise ValueError(\"not ksjdjl possible\")\n",
    "     13 else:\n",
    "     14     print(f\"age = {age}\")\n",
    "\n",
    "ValueError: not ksjdjl possible\n",
    "\"\"\"\n",
    "pass"
   ]
  },
  {
   "cell_type": "markdown",
   "metadata": {},
   "source": [
    "### 24. Explain the use of the assert statement in Python with an example."
   ]
  },
  {
   "cell_type": "code",
   "execution_count": 2,
   "metadata": {},
   "outputs": [],
   "source": [
    "\"\"\"\n",
    "Python Assertions in any programming language are the debugging tools that help in the smooth flow of code.\n",
    "Assertions are mainly assumptions that a programmer knows or always wants to be true and hence puts them in code so\n",
    "that failure of these doesn't allow the code to execute further. \n",
    "\n",
    "syntax:\n",
    "     assert condition_check, \"error message\"\n",
    "\"\"\"\n",
    "\n",
    "my_list = [18,56,23,43,14]\n",
    "age_check = 18\n",
    "\n",
    "# for x in my_list:\n",
    "#     assert x >= age_check, \"my custom message\"\n",
    "#     print(x)\n",
    "\n",
    "# E.g: 1\n",
    "\"\"\"\n",
    "18\n",
    "56\n",
    "23\n",
    "43\n",
    "---------------------------------------------------------------------------\n",
    "AssertionError                            Traceback (most recent call last)\n",
    "Cell In[40], line 12\n",
    "      9 age_check = 18\n",
    "     11 for x in my_list:\n",
    "---> 12     assert x >= age_check, \"my custom message\"\n",
    "     13     print(x)\n",
    "\n",
    "AssertionError: my custom message\n",
    "\"\"\"\n",
    "\n",
    "\n",
    "\"\"\"\n",
    "Python Assertions in any programming language are the debugging tools that help in the smooth flow of code.\n",
    "Assertions are mainly assumptions that a programmer knows or always wants to be true and hence puts them in code so\n",
    "that failure of these doesn't allow the code to execute further. \n",
    "\n",
    "syntax:\n",
    "     assert condition_check, \"error message\"\n",
    "\"\"\"\n",
    "\n",
    "my_list = [18,56,23,43,14]\n",
    "age_check = 18\n",
    "\n",
    "# for x in my_list:\n",
    "#     assert x >= age_check, \"my custom message\"\n",
    "#     print(x)\n",
    "\n",
    "\"\"\"\n",
    "18\n",
    "56\n",
    "23\n",
    "43\n",
    "---------------------------------------------------------------------------\n",
    "AssertionError                            Traceback (most recent call last)\n",
    "Cell In[40], line 12\n",
    "      9 age_check = 18\n",
    "     11 for x in my_list:\n",
    "---> 12     assert x >= age_check, \"my custom message\"\n",
    "     13     print(x)\n",
    "\n",
    "AssertionError: my custom message\n",
    "\"\"\"\n",
    "\n",
    "\n",
    "# E.g: 2 \n",
    "\n",
    "# my_dict = {\"apple\": 1, \"banana\": 2, \"cherry\": 3}\n",
    "# assert my_dict[\"apple\"] == 1\n",
    "# assert my_dict[\"banana\"] == 2\n",
    "# assert my_dict[\"cherry\"] == 4, \"my value error\"\n",
    "# print(my_dict)\n",
    "\n",
    "\"\"\"\n",
    "---------------------------------------------------------------------------\n",
    "AssertionError                            Traceback (most recent call last)\n",
    "Cell In[50], line 6\n",
    "      4 assert my_dict[\"apple\"] == 1\n",
    "      5 assert my_dict[\"banana\"] == 2\n",
    "----> 6 assert my_dict[\"cherry\"] == 4, \"my value error\"\n",
    "      9 print(my_dict)\n",
    "\n",
    "AssertionError: my value error\n",
    "\"\"\"\n",
    "pass"
   ]
  },
  {
   "cell_type": "markdown",
   "metadata": {},
   "source": [
    "### 25. How do you create a custom exception in Python? Provide an example."
   ]
  },
  {
   "cell_type": "code",
   "execution_count": 3,
   "metadata": {},
   "outputs": [],
   "source": [
    "class MyTestError(Exception):\n",
    "    pass\n",
    "\n",
    "age = -5\n",
    "if age < 0:\n",
    "    pass\n",
    "    # raise MyTestError(\"age should not less than 0\")\n",
    "else:\n",
    "    print(f\"age:--> {age}\")\n",
    "\n",
    "\"\"\"\n",
    "---------------------------------------------------------------------------\n",
    "MyTestError                               Traceback (most recent call last)\n",
    "Cell In[58], line 6\n",
    "      4 age = -5\n",
    "      5 if age < 0:\n",
    "----> 6     raise MyTestError(\"age should not less than 0\")\n",
    "      7 else:\n",
    "      8     print(f\"age:--> {age}\")\n",
    "\n",
    "MyTestError: age should not less than 0\n",
    "\"\"\"\n",
    "pass"
   ]
  },
  {
   "cell_type": "markdown",
   "metadata": {},
   "source": [
    "### 26. Explain how the finally block works in Python exception handling with an example."
   ]
  },
  {
   "cell_type": "code",
   "execution_count": 4,
   "metadata": {},
   "outputs": [
    {
     "name": "stdout",
     "output_type": "stream",
     "text": [
      "check the path\n",
      "this block always execute...\n"
     ]
    }
   ],
   "source": [
    "\"\"\"\n",
    "# Finally:\n",
    "    - The finally block is always executed, whether an exception occurs or not.\n",
    "    - It’s often used for cleanup actions (closing files, releasing resources, etc.).\n",
    "\"\"\"\n",
    "\n",
    "# E.g.:\n",
    "try:\n",
    "    with open(\"data/test112.txt\", \"r\") as f:\n",
    "        print(f.read(12))\n",
    "except FileNotFoundError:\n",
    "    print(\"check the path\")\n",
    "finally:\n",
    "    print(\"this block always execute...\")"
   ]
  },
  {
   "cell_type": "markdown",
   "metadata": {},
   "source": [
    "### 27. Python Program to handle division by zero exception"
   ]
  },
  {
   "cell_type": "code",
   "execution_count": 5,
   "metadata": {},
   "outputs": [
    {
     "name": "stdout",
     "output_type": "stream",
     "text": [
      "0 can't divide...\n"
     ]
    }
   ],
   "source": [
    "var1 = 5\n",
    "var2 = 0\n",
    "try:\n",
    "    div = var1/var2\n",
    "    print(div)\n",
    "except ZeroDivisionError:\n",
    "    print(\"0 can't divide...\")\n"
   ]
  },
  {
   "cell_type": "markdown",
   "metadata": {},
   "source": [
    "### 28. Python Program to handle both ValueError and TypeError."
   ]
  },
  {
   "cell_type": "code",
   "execution_count": 6,
   "metadata": {},
   "outputs": [
    {
     "name": "stdout",
     "output_type": "stream",
     "text": [
      "ValueError: cannot do str to int directly\n",
      "TypeError : this is type error\n"
     ]
    }
   ],
   "source": [
    "\"\"\"\n",
    "# ValueError:\n",
    "    - operation receives an argument that has the correct data type but an inappropriate value\n",
    "\n",
    "# TypeError:\n",
    "    - when an operation or function is applied to an object of an inappropriate or incompatible type.\n",
    "\"\"\"\n",
    "\n",
    "# E.g.:\n",
    "try:\n",
    "    try:\n",
    "        a = \"aa\"\n",
    "        print(int(a)) # break 1st\n",
    "    except ValueError:\n",
    "        print(\"ValueError: cannot do str to int directly\")\n",
    "\n",
    "    a = \"aa\"\n",
    "    b = a+12\n",
    "    print(b) # break 2nd\n",
    "\n",
    "except TypeError:\n",
    "    print(\"TypeError : this is type error\")\n"
   ]
  },
  {
   "cell_type": "markdown",
   "metadata": {},
   "source": [
    "### 29. Python Program to demonstrate the use of the else block with exception handling"
   ]
  },
  {
   "cell_type": "code",
   "execution_count": 7,
   "metadata": {},
   "outputs": [
    {
     "name": "stdout",
     "output_type": "stream",
     "text": [
      "Division: 2.5\n",
      "else printing, because try block executed successfuly...\n"
     ]
    }
   ],
   "source": [
    "\"\"\"\n",
    "else block in exception handling runs only if no exception occurs inside the try block.\n",
    "\"\"\"\n",
    "\n",
    "var1 = 5\n",
    "var2 = 2\n",
    "try:\n",
    "    div = var1/var2\n",
    "    print(f\"Division: {div}\")\n",
    "except ZeroDivisionError:\n",
    "    print(\"0 can't divide...\")\n",
    "else:\n",
    "    print(\"else printing, because try block executed successfuly...\")"
   ]
  },
  {
   "cell_type": "markdown",
   "metadata": {},
   "source": [
    "### 30. Python Program to demonstrate nested try blocks"
   ]
  },
  {
   "cell_type": "code",
   "execution_count": 8,
   "metadata": {},
   "outputs": [
    {
     "name": "stdout",
     "output_type": "stream",
     "text": [
      "--- Inner Try Block ---\n",
      "cannot do str to int directly\n",
      "\n",
      "--- Outer Try Block ---\n",
      "this is type error\n"
     ]
    }
   ],
   "source": [
    "\"\"\"\n",
    "A nested try block in Python refers to the placement of one try-except block inside another try block or its corresponding except block.\n",
    "\"\"\"\n",
    "\n",
    "# E.g.:\n",
    "try:\n",
    "    try:\n",
    "        a = \"aa\"\n",
    "        print(int(a)) # break 1st\n",
    "    except ValueError:\n",
    "        print(\"--- Inner Try Block ---\")\n",
    "        print(\"cannot do str to int directly\\n\")\n",
    "\n",
    "    a = \"aa\"\n",
    "    b = a+12\n",
    "    print(b) # break 2nd\n",
    "\n",
    "except TypeError:\n",
    "    print(\"--- Outer Try Block ---\")\n",
    "    print(\"this is type error\")"
   ]
  }
 ],
 "metadata": {
  "kernelspec": {
   "display_name": "Python 3",
   "language": "python",
   "name": "python3"
  },
  "language_info": {
   "codemirror_mode": {
    "name": "ipython",
    "version": 3
   },
   "file_extension": ".py",
   "mimetype": "text/x-python",
   "name": "python",
   "nbconvert_exporter": "python",
   "pygments_lexer": "ipython3",
   "version": "3.11.0"
  }
 },
 "nbformat": 4,
 "nbformat_minor": 2
}
