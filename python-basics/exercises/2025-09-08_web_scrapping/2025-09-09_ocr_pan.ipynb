{
 "cells": [
  {
   "cell_type": "markdown",
   "metadata": {},
   "source": [
    "# Optical Character Recognition"
   ]
  },
  {
   "cell_type": "markdown",
   "metadata": {},
   "source": [
    "### PAN Card Data Pattern"
   ]
  },
  {
   "cell_type": "code",
   "execution_count": 1,
   "metadata": {},
   "outputs": [],
   "source": [
    "import pytesseract\n",
    "import re\n",
    "import os\n",
    "import pandas as pd\n",
    "pytesseract.pytesseract.tesseract_cmd = r\"C:\\Program Files\\Tesseract-OCR\\tesseract.exe\""
   ]
  },
  {
   "cell_type": "markdown",
   "metadata": {},
   "source": [
    "### Renaming All Files"
   ]
  },
  {
   "cell_type": "code",
   "execution_count": 2,
   "metadata": {},
   "outputs": [],
   "source": [
    "pan_card_dir = r\"data\\pan\"\n",
    "files = os.listdir(pan_card_dir)\n",
    "\n",
    "for i, x in enumerate(files):\n",
    "    source_path = os.path.join(pan_card_dir, x)\n",
    "    dest_path = os.path.join(pan_card_dir, f\"pan_{i+1}.jpg\")\n",
    "    os.rename(source_path, dest_path)"
   ]
  },
  {
   "cell_type": "markdown",
   "metadata": {},
   "source": [
    "### OCR for PAN Card"
   ]
  },
  {
   "cell_type": "code",
   "execution_count": 3,
   "metadata": {},
   "outputs": [],
   "source": [
    "pan_data = str()\n",
    "for x in os.listdir(\"data/pan\"):\n",
    "    full_path = os.path.join(pan_card_dir, x)\n",
    "    pan_data+=pytesseract.image_to_string(full_path)"
   ]
  },
  {
   "cell_type": "markdown",
   "metadata": {},
   "source": [
    "### Exracting All Useful PAN Data"
   ]
  },
  {
   "cell_type": "code",
   "execution_count": 4,
   "metadata": {},
   "outputs": [
    {
     "name": "stdout",
     "output_type": "stream",
     "text": [
      "['MAHADEV SHINDE', 'KOCHERLA SRIKANTH', 'MUKKANTI KOCHERLA']\n",
      "['31/10/1992', '16/07/1986', '04/05/1997']\n",
      "['EJAPS0276M', 'BNZPM2501F', 'GQBPK8700C']\n"
     ]
    }
   ],
   "source": [
    "pan_name=re.findall(r\"\\b[.A-Z]{7,8}\\s[A-Z]+\",pan_data)[1::]\n",
    "print(pan_name)\n",
    "\n",
    "birth =re.findall(r\"[0-3]\\d[/][0-1]\\d[/]\\d{4}\",pan_data)\n",
    "print(birth)\n",
    "\n",
    "pan_cardnum=re.findall(r\"[A-Z]{5}\\d{4}[A-Z]\",pan_data)\n",
    "print(pan_cardnum)\n",
    "\n",
    "results={\n",
    "    \"Name\":pan_name,\n",
    "    \"Pancard\":pan_cardnum,\n",
    "    \"Date of birth\":birth\n",
    "}"
   ]
  },
  {
   "cell_type": "markdown",
   "metadata": {},
   "source": [
    "### Converting into DataFrame & Exporting to Excel"
   ]
  },
  {
   "cell_type": "code",
   "execution_count": 5,
   "metadata": {},
   "outputs": [
    {
     "data": {
      "text/html": [
       "<div>\n",
       "<style scoped>\n",
       "    .dataframe tbody tr th:only-of-type {\n",
       "        vertical-align: middle;\n",
       "    }\n",
       "\n",
       "    .dataframe tbody tr th {\n",
       "        vertical-align: top;\n",
       "    }\n",
       "\n",
       "    .dataframe thead th {\n",
       "        text-align: right;\n",
       "    }\n",
       "</style>\n",
       "<table border=\"1\" class=\"dataframe\">\n",
       "  <thead>\n",
       "    <tr style=\"text-align: right;\">\n",
       "      <th></th>\n",
       "      <th>Name</th>\n",
       "      <th>Pancard</th>\n",
       "      <th>Date of birth</th>\n",
       "    </tr>\n",
       "  </thead>\n",
       "  <tbody>\n",
       "    <tr>\n",
       "      <th>0</th>\n",
       "      <td>MAHADEV SHINDE</td>\n",
       "      <td>EJAPS0276M</td>\n",
       "      <td>31/10/1992</td>\n",
       "    </tr>\n",
       "    <tr>\n",
       "      <th>1</th>\n",
       "      <td>KOCHERLA SRIKANTH</td>\n",
       "      <td>BNZPM2501F</td>\n",
       "      <td>16/07/1986</td>\n",
       "    </tr>\n",
       "    <tr>\n",
       "      <th>2</th>\n",
       "      <td>MUKKANTI KOCHERLA</td>\n",
       "      <td>GQBPK8700C</td>\n",
       "      <td>04/05/1997</td>\n",
       "    </tr>\n",
       "  </tbody>\n",
       "</table>\n",
       "</div>"
      ],
      "text/plain": [
       "                Name     Pancard Date of birth\n",
       "0     MAHADEV SHINDE  EJAPS0276M    31/10/1992\n",
       "1  KOCHERLA SRIKANTH  BNZPM2501F    16/07/1986\n",
       "2  MUKKANTI KOCHERLA  GQBPK8700C    04/05/1997"
      ]
     },
     "execution_count": 5,
     "metadata": {},
     "output_type": "execute_result"
    }
   ],
   "source": [
    "df = pd.DataFrame(results)\n",
    "df.to_excel(\"data/pan_details.xlsx\", index=False)\n",
    "df"
   ]
  }
 ],
 "metadata": {
  "kernelspec": {
   "display_name": "Python 3",
   "language": "python",
   "name": "python3"
  },
  "language_info": {
   "codemirror_mode": {
    "name": "ipython",
    "version": 3
   },
   "file_extension": ".py",
   "mimetype": "text/x-python",
   "name": "python",
   "nbconvert_exporter": "python",
   "pygments_lexer": "ipython3",
   "version": "3.11.0"
  }
 },
 "nbformat": 4,
 "nbformat_minor": 2
}
