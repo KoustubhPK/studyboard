{
 "cells": [
  {
   "cell_type": "markdown",
   "metadata": {},
   "source": [
    "# Web Scrapping"
   ]
  },
  {
   "cell_type": "markdown",
   "metadata": {},
   "source": [
    "Web Scrapping is a process of extracting meaningful data from webpages"
   ]
  },
  {
   "cell_type": "code",
   "execution_count": 1,
   "metadata": {},
   "outputs": [],
   "source": [
    "import re\n",
    "import urllib\n",
    "import pandas as pd"
   ]
  },
  {
   "cell_type": "code",
   "execution_count": 2,
   "metadata": {},
   "outputs": [],
   "source": [
    "url = \"https://www.summet.com/dmsi/html/codesamples/addresses.html\"\n",
    "url_data_object = urllib.request.urlopen(url)\n",
    "data = url_data_object.read().decode()"
   ]
  },
  {
   "cell_type": "code",
   "execution_count": 3,
   "metadata": {},
   "outputs": [
    {
     "data": {
      "text/plain": [
       "100"
      ]
     },
     "execution_count": 3,
     "metadata": {},
     "output_type": "execute_result"
    }
   ],
   "source": [
    "name_pattern = re.compile(\"<li>[A-Z]\\w+[ ][A-Z]\\w+<br/>\")\n",
    "test = re.findall(name_pattern, data)\n",
    "name_test = [x.replace(\"<li>\", \"\").replace(\"<br/>\", \"\") for x in test if x == \"<li>\" or \"<br/>\"]\n",
    "len(name_test)\n"
   ]
  },
  {
   "cell_type": "code",
   "execution_count": 4,
   "metadata": {},
   "outputs": [
    {
     "data": {
      "text/plain": [
       "100"
      ]
     },
     "execution_count": 4,
     "metadata": {},
     "output_type": "execute_result"
    }
   ],
   "source": [
    "zip_code_pattern = re.compile(r\"\\b\\d{5}\\b\")\n",
    "zip_test = re.findall(zip_code_pattern, data)\n",
    "len(zip_test)"
   ]
  },
  {
   "cell_type": "code",
   "execution_count": 5,
   "metadata": {},
   "outputs": [
    {
     "data": {
      "text/plain": [
       "100"
      ]
     },
     "execution_count": 5,
     "metadata": {},
     "output_type": "execute_result"
    }
   ],
   "source": [
    "contact_number_pattern = re.compile(r\"[(]\\d{3}[)][ ]\\d{3}[-]\\d{4}\")\n",
    "contact_test = re.findall(contact_number_pattern, data)\n",
    "len(contact_test)"
   ]
  },
  {
   "cell_type": "code",
   "execution_count": 6,
   "metadata": {},
   "outputs": [],
   "source": [
    "scrapped_data = {\n",
    "    \"Names\" : name_test,\n",
    "    \"Zip-code\" : zip_test,\n",
    "    \"Contact Number\" : contact_test\n",
    "}"
   ]
  },
  {
   "cell_type": "code",
   "execution_count": 7,
   "metadata": {},
   "outputs": [
    {
     "data": {
      "text/html": [
       "<div>\n",
       "<style scoped>\n",
       "    .dataframe tbody tr th:only-of-type {\n",
       "        vertical-align: middle;\n",
       "    }\n",
       "\n",
       "    .dataframe tbody tr th {\n",
       "        vertical-align: top;\n",
       "    }\n",
       "\n",
       "    .dataframe thead th {\n",
       "        text-align: right;\n",
       "    }\n",
       "</style>\n",
       "<table border=\"1\" class=\"dataframe\">\n",
       "  <thead>\n",
       "    <tr style=\"text-align: right;\">\n",
       "      <th></th>\n",
       "      <th>Names</th>\n",
       "      <th>Zip-code</th>\n",
       "      <th>Contact Number</th>\n",
       "    </tr>\n",
       "  </thead>\n",
       "  <tbody>\n",
       "    <tr>\n",
       "      <th>0</th>\n",
       "      <td>Cecilia Chapman</td>\n",
       "      <td>96522</td>\n",
       "      <td>(257) 563-7401</td>\n",
       "    </tr>\n",
       "    <tr>\n",
       "      <th>1</th>\n",
       "      <td>Iris Watson</td>\n",
       "      <td>20620</td>\n",
       "      <td>(372) 587-2335</td>\n",
       "    </tr>\n",
       "    <tr>\n",
       "      <th>2</th>\n",
       "      <td>Celeste Slater</td>\n",
       "      <td>11523</td>\n",
       "      <td>(786) 713-8616</td>\n",
       "    </tr>\n",
       "    <tr>\n",
       "      <th>3</th>\n",
       "      <td>Theodore Lowe</td>\n",
       "      <td>39531</td>\n",
       "      <td>(793) 151-6230</td>\n",
       "    </tr>\n",
       "    <tr>\n",
       "      <th>4</th>\n",
       "      <td>Calista Wise</td>\n",
       "      <td>47096</td>\n",
       "      <td>(492) 709-6392</td>\n",
       "    </tr>\n",
       "    <tr>\n",
       "      <th>...</th>\n",
       "      <td>...</td>\n",
       "      <td>...</td>\n",
       "      <td>...</td>\n",
       "    </tr>\n",
       "    <tr>\n",
       "      <th>95</th>\n",
       "      <td>Pascale Patton</td>\n",
       "      <td>36734</td>\n",
       "      <td>(676) 334-2174</td>\n",
       "    </tr>\n",
       "    <tr>\n",
       "      <th>96</th>\n",
       "      <td>Nasim Strong</td>\n",
       "      <td>70863</td>\n",
       "      <td>(437) 994-5270</td>\n",
       "    </tr>\n",
       "    <tr>\n",
       "      <th>97</th>\n",
       "      <td>Keaton Underwood</td>\n",
       "      <td>19587</td>\n",
       "      <td>(564) 908-6970</td>\n",
       "    </tr>\n",
       "    <tr>\n",
       "      <th>98</th>\n",
       "      <td>Keegan Blair</td>\n",
       "      <td>07528</td>\n",
       "      <td>(577) 333-6244</td>\n",
       "    </tr>\n",
       "    <tr>\n",
       "      <th>99</th>\n",
       "      <td>Tamara Howe</td>\n",
       "      <td>48580</td>\n",
       "      <td>(655) 840-6139</td>\n",
       "    </tr>\n",
       "  </tbody>\n",
       "</table>\n",
       "<p>100 rows × 3 columns</p>\n",
       "</div>"
      ],
      "text/plain": [
       "               Names Zip-code  Contact Number\n",
       "0    Cecilia Chapman    96522  (257) 563-7401\n",
       "1        Iris Watson    20620  (372) 587-2335\n",
       "2     Celeste Slater    11523  (786) 713-8616\n",
       "3      Theodore Lowe    39531  (793) 151-6230\n",
       "4       Calista Wise    47096  (492) 709-6392\n",
       "..               ...      ...             ...\n",
       "95    Pascale Patton    36734  (676) 334-2174\n",
       "96      Nasim Strong    70863  (437) 994-5270\n",
       "97  Keaton Underwood    19587  (564) 908-6970\n",
       "98      Keegan Blair    07528  (577) 333-6244\n",
       "99       Tamara Howe    48580  (655) 840-6139\n",
       "\n",
       "[100 rows x 3 columns]"
      ]
     },
     "execution_count": 7,
     "metadata": {},
     "output_type": "execute_result"
    }
   ],
   "source": [
    "df = pd.DataFrame(scrapped_data)\n",
    "df.to_excel(\"data/web_scrapped_data.xlsx\", index=False)\n",
    "df"
   ]
  }
 ],
 "metadata": {
  "kernelspec": {
   "display_name": "Python 3",
   "language": "python",
   "name": "python3"
  },
  "language_info": {
   "codemirror_mode": {
    "name": "ipython",
    "version": 3
   },
   "file_extension": ".py",
   "mimetype": "text/x-python",
   "name": "python",
   "nbconvert_exporter": "python",
   "pygments_lexer": "ipython3",
   "version": "3.11.0"
  }
 },
 "nbformat": 4,
 "nbformat_minor": 2
}
