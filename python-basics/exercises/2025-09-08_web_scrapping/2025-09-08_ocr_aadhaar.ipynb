{
 "cells": [
  {
   "cell_type": "markdown",
   "metadata": {},
   "source": [
    "# Optical Character Recognition"
   ]
  },
  {
   "cell_type": "markdown",
   "metadata": {},
   "source": [
    "### Aadhaar Card Data Pattern"
   ]
  },
  {
   "cell_type": "markdown",
   "metadata": {},
   "source": [
    "### Pytesseract"
   ]
  },
  {
   "cell_type": "code",
   "execution_count": 1,
   "metadata": {},
   "outputs": [],
   "source": [
    "import os\n",
    "import re\n",
    "import pytesseract\n",
    "import pandas as pd\n",
    "pytesseract.pytesseract.tesseract_cmd = r\"C:\\Program Files\\Tesseract-OCR\\tesseract.exe\""
   ]
  },
  {
   "cell_type": "code",
   "execution_count": 2,
   "metadata": {},
   "outputs": [],
   "source": [
    "aadhaar_image_path = \"data/aadhaar\"\n",
    "files = os.listdir(aadhaar_image_path)\n",
    "\n",
    "for x, file in enumerate(files):\n",
    "    source_file = os.path.join(aadhaar_image_path, file)\n",
    "    destination_file = os.path.join(aadhaar_image_path, f\"aadhaar_{x+1}.jpg\")\n",
    "    os.rename(source_file, destination_file)"
   ]
  },
  {
   "cell_type": "code",
   "execution_count": 3,
   "metadata": {},
   "outputs": [
    {
     "name": "stdout",
     "output_type": "stream",
     "text": [
      "UA AHI AN\n",
      "\n",
      "GOVERNMENT OF AADHAAR\n",
      "\n",
      "Manish Das\n",
      "DOB: 25/08/1990\n",
      "Gender: Male\n",
      "\n",
      "1234 5678 9012\n",
      "\n",
      "12, Park Street\n",
      "Kolkata, West Bengal - 700016\n",
      "\n",
      "STAR — Tear Wa\n",
      "\n",
      "\n"
     ]
    }
   ],
   "source": [
    "img_path = r\"data\\aadhaar\\aadhaar_7.jpg\"\n",
    "img_text = pytesseract.image_to_string(img_path)\n",
    "print(img_text)\n",
    "\n"
   ]
  },
  {
   "cell_type": "code",
   "execution_count": 4,
   "metadata": {},
   "outputs": [
    {
     "data": {
      "text/plain": [
       "{'Name': 'Manish Das',\n",
       " 'DOB': '25/08/1990',\n",
       " 'Pin Code': '700016',\n",
       " 'Aadhaar': '1234 5678 9012'}"
      ]
     },
     "execution_count": 4,
     "metadata": {},
     "output_type": "execute_result"
    }
   ],
   "source": [
    "name_obj = re.search(r\"[A-Z][a-z]+[ ][A-Z][a-z]+\", img_text)\n",
    "if name_obj:\n",
    "    name = name_obj.group()\n",
    "else:\n",
    "    name = None\n",
    "\n",
    "dob_obj = re.search(\"[0-3][0-9][/][0-1][0-9][/]\\d{4}\", img_text)\n",
    "if dob_obj:\n",
    "    dob = dob_obj.group()\n",
    "else:\n",
    "    dob = None\n",
    "\n",
    "pin_code_obj = re.search(r\"\\b\\d{6}\\b\", img_text)\n",
    "if pin_code_obj:\n",
    "    pin_code = pin_code_obj.group()\n",
    "else:\n",
    "    pin_code = None\n",
    "\n",
    "aadhaar_obj = re.search(r\"\\b\\d{4}[ ]\\d{4}[ ]\\d{4}\", img_text)\n",
    "if aadhaar_obj:\n",
    "    aadhaar = aadhaar_obj.group()\n",
    "else:\n",
    "    aadhaar = None\n",
    "\n",
    "result = {\n",
    "    \"Name\" : name,\n",
    "    \"DOB\" : dob,\n",
    "    \"Pin Code\" : pin_code,\n",
    "    \"Aadhaar\" : aadhaar\n",
    "}\n",
    "\n",
    "result"
   ]
  },
  {
   "cell_type": "code",
   "execution_count": 5,
   "metadata": {},
   "outputs": [],
   "source": [
    "def fetch_aadhaar_details(img_path):\n",
    "    img_text = pytesseract.image_to_string(img_path)\n",
    "\n",
    "    name_obj = re.search(r\"[A-Z][a-z]+[ ][A-Z][a-z]+\", img_text)\n",
    "    if name_obj:\n",
    "        name = name_obj.group()\n",
    "    else:\n",
    "        name = None\n",
    "\n",
    "    dob_obj = re.search(\"[0-3][0-9][/][0-1][0-9][/]\\d{4}\", img_text)\n",
    "    if dob_obj:\n",
    "        dob = dob_obj.group()\n",
    "    else:\n",
    "        dob = None\n",
    "\n",
    "    pin_code_obj = re.search(r\"\\b\\d{6}\\b\", img_text)\n",
    "    if pin_code_obj:\n",
    "        pin_code = pin_code_obj.group()\n",
    "    else:\n",
    "        pin_code = None\n",
    "\n",
    "    aadhaar_obj = re.search(r\"\\b\\d{4}[ ]\\d{4}[ ]\\d{4}\", img_text)\n",
    "    if aadhaar_obj:\n",
    "        aadhaar = aadhaar_obj.group()\n",
    "    else:\n",
    "        aadhaar = None\n",
    "\n",
    "    result = {\n",
    "        \"Name\" : name,\n",
    "        \"DOB\" : dob,\n",
    "        \"Pin Code\" : pin_code,\n",
    "        \"Aadhaar\" : aadhaar\n",
    "    }\n",
    "    return result"
   ]
  },
  {
   "cell_type": "code",
   "execution_count": 6,
   "metadata": {},
   "outputs": [],
   "source": [
    "img_dir = r\"data/aadhaar\"\n",
    "imgs = os.listdir(img_dir)\n",
    "results = []\n",
    "for x in imgs:\n",
    "    full_path = os.path.join(img_dir, x)\n",
    "    details = fetch_aadhaar_details(full_path)\n",
    "    results.append(details)\n",
    "    "
   ]
  },
  {
   "cell_type": "code",
   "execution_count": 7,
   "metadata": {},
   "outputs": [
    {
     "data": {
      "text/html": [
       "<div>\n",
       "<style scoped>\n",
       "    .dataframe tbody tr th:only-of-type {\n",
       "        vertical-align: middle;\n",
       "    }\n",
       "\n",
       "    .dataframe tbody tr th {\n",
       "        vertical-align: top;\n",
       "    }\n",
       "\n",
       "    .dataframe thead th {\n",
       "        text-align: right;\n",
       "    }\n",
       "</style>\n",
       "<table border=\"1\" class=\"dataframe\">\n",
       "  <thead>\n",
       "    <tr style=\"text-align: right;\">\n",
       "      <th></th>\n",
       "      <th>Name</th>\n",
       "      <th>DOB</th>\n",
       "      <th>Pin Code</th>\n",
       "      <th>Aadhaar</th>\n",
       "    </tr>\n",
       "  </thead>\n",
       "  <tbody>\n",
       "    <tr>\n",
       "      <th>0</th>\n",
       "      <td>Qeveujun Car</td>\n",
       "      <td>17/11/1999</td>\n",
       "      <td>None</td>\n",
       "      <td>None</td>\n",
       "    </tr>\n",
       "    <tr>\n",
       "      <th>1</th>\n",
       "      <td>Vaishnavi Singh</td>\n",
       "      <td>16/11/2004</td>\n",
       "      <td>None</td>\n",
       "      <td>8911 3824 2345</td>\n",
       "    </tr>\n",
       "    <tr>\n",
       "      <th>2</th>\n",
       "      <td>Cristiano Ronaldo</td>\n",
       "      <td>None</td>\n",
       "      <td>None</td>\n",
       "      <td>9876 5432 1098</td>\n",
       "    </tr>\n",
       "    <tr>\n",
       "      <th>3</th>\n",
       "      <td>Mobile No</td>\n",
       "      <td>21/11/2000</td>\n",
       "      <td>None</td>\n",
       "      <td>3317 8533 4833</td>\n",
       "    </tr>\n",
       "    <tr>\n",
       "      <th>4</th>\n",
       "      <td>Nikhil Kumar</td>\n",
       "      <td>29/07/1980</td>\n",
       "      <td>None</td>\n",
       "      <td>None</td>\n",
       "    </tr>\n",
       "    <tr>\n",
       "      <th>5</th>\n",
       "      <td>Anjali Patel</td>\n",
       "      <td>30/04/1996</td>\n",
       "      <td>None</td>\n",
       "      <td>6975 1133 7134</td>\n",
       "    </tr>\n",
       "    <tr>\n",
       "      <th>6</th>\n",
       "      <td>Manish Das</td>\n",
       "      <td>25/08/1990</td>\n",
       "      <td>700016</td>\n",
       "      <td>1234 5678 9012</td>\n",
       "    </tr>\n",
       "    <tr>\n",
       "      <th>7</th>\n",
       "      <td>None</td>\n",
       "      <td>None</td>\n",
       "      <td>None</td>\n",
       "      <td>1234 5678 9012</td>\n",
       "    </tr>\n",
       "    <tr>\n",
       "      <th>8</th>\n",
       "      <td>Kiran Kumari</td>\n",
       "      <td>01/01/2003</td>\n",
       "      <td>None</td>\n",
       "      <td>4382 5165 5729</td>\n",
       "    </tr>\n",
       "  </tbody>\n",
       "</table>\n",
       "</div>"
      ],
      "text/plain": [
       "                Name         DOB Pin Code         Aadhaar\n",
       "0       Qeveujun Car  17/11/1999     None            None\n",
       "1    Vaishnavi Singh  16/11/2004     None  8911 3824 2345\n",
       "2  Cristiano Ronaldo        None     None  9876 5432 1098\n",
       "3          Mobile No  21/11/2000     None  3317 8533 4833\n",
       "4       Nikhil Kumar  29/07/1980     None            None\n",
       "5       Anjali Patel  30/04/1996     None  6975 1133 7134\n",
       "6         Manish Das  25/08/1990   700016  1234 5678 9012\n",
       "7               None        None     None  1234 5678 9012\n",
       "8       Kiran Kumari  01/01/2003     None  4382 5165 5729"
      ]
     },
     "execution_count": 7,
     "metadata": {},
     "output_type": "execute_result"
    }
   ],
   "source": [
    "df = pd.DataFrame(results)\n",
    "df.to_excel(\"data/aadhaar_details.xlsx\", index=False)\n",
    "df"
   ]
  }
 ],
 "metadata": {
  "kernelspec": {
   "display_name": "Python 3",
   "language": "python",
   "name": "python3"
  },
  "language_info": {
   "codemirror_mode": {
    "name": "ipython",
    "version": 3
   },
   "file_extension": ".py",
   "mimetype": "text/x-python",
   "name": "python",
   "nbconvert_exporter": "python",
   "pygments_lexer": "ipython3",
   "version": "3.11.0"
  }
 },
 "nbformat": 4,
 "nbformat_minor": 2
}
