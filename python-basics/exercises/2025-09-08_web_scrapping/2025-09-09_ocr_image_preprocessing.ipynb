{
 "cells": [
  {
   "cell_type": "markdown",
   "metadata": {},
   "source": [
    "# Image Pre-processing For OCR"
   ]
  },
  {
   "cell_type": "code",
   "execution_count": 1,
   "metadata": {},
   "outputs": [],
   "source": [
    "import pytesseract\n",
    "import re\n",
    "from PIL import Image, ImageEnhance\n",
    "pytesseract.pytesseract.tesseract_cmd = r\"C:\\Program Files\\Tesseract-OCR\\tesseract.exe\""
   ]
  },
  {
   "cell_type": "markdown",
   "metadata": {},
   "source": [
    "# 1. Example: A"
   ]
  },
  {
   "cell_type": "markdown",
   "metadata": {},
   "source": [
    "### 1.1 Before Image Processing"
   ]
  },
  {
   "cell_type": "code",
   "execution_count": 2,
   "metadata": {},
   "outputs": [
    {
     "name": "stdout",
     "output_type": "stream",
     "text": [
      "ARA UR\n",
      "INCOMETAXDEPARTMENT © 3 «= GOVT. OF INDIA\n",
      "VENKATA peeve EEDUPUGANTI\n",
      "\n",
      "\n"
     ]
    }
   ],
   "source": [
    "print(pytesseract.image_to_string(\"data/pan/pan_5.jpg\"))"
   ]
  },
  {
   "cell_type": "markdown",
   "metadata": {},
   "source": [
    "### 1.2 Enhancing Image Quality"
   ]
  },
  {
   "cell_type": "code",
   "execution_count": 3,
   "metadata": {},
   "outputs": [],
   "source": [
    "img = Image.open(\"data/pan/pan_5.jpg\")\n",
    "\n",
    "img_sharp = ImageEnhance.Sharpness(img)\n",
    "sharpen = img_sharp.enhance(2.5)\n",
    "\n",
    "img_bright = ImageEnhance.Brightness(sharpen)\n",
    "brightned = img_bright.enhance(2)\n",
    "brightned.show()"
   ]
  },
  {
   "cell_type": "markdown",
   "metadata": {},
   "source": [
    "### 1.3 After Image Processing"
   ]
  },
  {
   "cell_type": "code",
   "execution_count": 4,
   "metadata": {},
   "outputs": [
    {
     "data": {
      "text/plain": [
       "'ARTA Ue\\nGOVT. OF INDIA\\n\\nsizer feat\\n} INCOME TAX DEPARTMENT\\nEEDUPUGANTI HARITHA\\n\\nVENKATA KRISHNARAO EEDUPUGANTI\\n\\n16/08/1984\\n\\nPermanent‘Account Number\\n\\nABSPE2059A\\nHobithee\\n\\nSignature\\n\\n'"
      ]
     },
     "execution_count": 4,
     "metadata": {},
     "output_type": "execute_result"
    }
   ],
   "source": [
    "processed_data = pytesseract.image_to_string(brightned)\n",
    "processed_data"
   ]
  },
  {
   "cell_type": "markdown",
   "metadata": {},
   "source": [
    "### 1.4 Exracting Useful PAN Data"
   ]
  },
  {
   "cell_type": "code",
   "execution_count": 5,
   "metadata": {},
   "outputs": [
    {
     "name": "stdout",
     "output_type": "stream",
     "text": [
      "[]\n",
      "['16/08/1984']\n",
      "['ABSPE2059A']\n"
     ]
    }
   ],
   "source": [
    "pan_name=re.findall(r\"\\b[.A-Z]{7,8}\\s[A-Z]+\",processed_data)[1::]\n",
    "print(pan_name)\n",
    "\n",
    "birth =re.findall(r\"[0-3]\\d[/][0-1]\\d[/]\\d{4}\",processed_data)\n",
    "print(birth)\n",
    "\n",
    "pan_cardnum=re.findall(r\"[A-Z]{5}\\d{4}[A-Z]\",processed_data)\n",
    "print(pan_cardnum)\n",
    "\n",
    "result1={\n",
    "    \"Name\":pan_name,\n",
    "    \"Pancard\":pan_cardnum,\n",
    "    \"Date of birth\":birth\n",
    "}"
   ]
  },
  {
   "cell_type": "markdown",
   "metadata": {},
   "source": [
    "# 2. Example: B"
   ]
  },
  {
   "cell_type": "markdown",
   "metadata": {},
   "source": [
    "### 2.1 Before Image Processing"
   ]
  },
  {
   "cell_type": "code",
   "execution_count": 6,
   "metadata": {},
   "outputs": [
    {
     "name": "stdout",
     "output_type": "stream",
     "text": [
      "\n"
     ]
    }
   ],
   "source": [
    "print(pytesseract.image_to_string(\"data/pan/pan_3.jpg\"))"
   ]
  },
  {
   "cell_type": "markdown",
   "metadata": {},
   "source": [
    "### 2.2 Enhancing & Croping Unnecessary Image Area "
   ]
  },
  {
   "cell_type": "code",
   "execution_count": 7,
   "metadata": {},
   "outputs": [],
   "source": [
    "img = Image.open(\"data/pan/pan_3.jpg\")\n",
    "new_img = (15, 200, 550, 550)       # # (left, upper, right, lower)\n",
    "cropped_img = img.crop(new_img)\n",
    "\n",
    "img_sharp = ImageEnhance.Sharpness(cropped_img)\n",
    "sharpen = img_sharp.enhance(5)\n",
    "\n",
    "img_bright = ImageEnhance.Brightness(sharpen)\n",
    "brightned = img_bright.enhance(2)\n",
    "brightned.show()"
   ]
  },
  {
   "cell_type": "markdown",
   "metadata": {},
   "source": [
    "### 2.3 After Image Processing"
   ]
  },
  {
   "cell_type": "code",
   "execution_count": 8,
   "metadata": {},
   "outputs": [
    {
     "data": {
      "text/plain": [
       "\"sie feast ) FRA war\\n\\nINCOME TAX DEPARTMENT GOVT. OF INDIA\\ncorel chan te are &\\n\\nPermanent Account Number Card\\nBFAPL9762A\\n\\n| TE Name\\n| SELHUVO LOHE\\n\\n‘ert ay sre / Father's Name SEB\\nCHINEY! LOHE —\\n\\nora fi arian\\n\\nDate of Birth Sige\\n\\n0/09/2004 <\\nEMER Signature\\n\\n\""
      ]
     },
     "execution_count": 8,
     "metadata": {},
     "output_type": "execute_result"
    }
   ],
   "source": [
    "croped_image_pan_data = pytesseract.image_to_string(brightned)\n",
    "croped_image_pan_data"
   ]
  },
  {
   "cell_type": "markdown",
   "metadata": {},
   "source": [
    "### 2.4 Exracting Useful PAN Data"
   ]
  },
  {
   "cell_type": "code",
   "execution_count": 9,
   "metadata": {},
   "outputs": [
    {
     "name": "stdout",
     "output_type": "stream",
     "text": [
      "[]\n",
      "[]\n",
      "['BFAPL9762A']\n"
     ]
    }
   ],
   "source": [
    "pan_name=re.findall(r\"\\b[.A-Z]{7,8}\\s[A-Z]+\",croped_image_pan_data)[1::]\n",
    "print(pan_name)\n",
    "\n",
    "birth =re.findall(r\"[0-3]\\d[/][0-1]\\d[/]\\d{4}\",croped_image_pan_data)\n",
    "print(birth)\n",
    "\n",
    "pan_cardnum=re.findall(r\"[A-Z]{5}\\d{4}[A-Z]\",croped_image_pan_data)\n",
    "print(pan_cardnum)\n",
    "\n",
    "result1={\n",
    "    \"Name\":pan_name,\n",
    "    \"Pancard\":pan_cardnum,\n",
    "    \"Date of birth\":birth\n",
    "}"
   ]
  }
 ],
 "metadata": {
  "kernelspec": {
   "display_name": "Python 3",
   "language": "python",
   "name": "python3"
  },
  "language_info": {
   "codemirror_mode": {
    "name": "ipython",
    "version": 3
   },
   "file_extension": ".py",
   "mimetype": "text/x-python",
   "name": "python",
   "nbconvert_exporter": "python",
   "pygments_lexer": "ipython3",
   "version": "3.11.0"
  }
 },
 "nbformat": 4,
 "nbformat_minor": 2
}
