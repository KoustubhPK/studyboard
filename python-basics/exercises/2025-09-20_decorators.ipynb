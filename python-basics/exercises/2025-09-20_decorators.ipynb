{
 "cells": [
  {
   "cell_type": "markdown",
   "metadata": {},
   "source": [
    "# Decorators"
   ]
  },
  {
   "cell_type": "markdown",
   "metadata": {},
   "source": [
    "- A decorator in Python is a function that modifies the behavior of another function or class method\n",
    "without changing its actual code.\n",
    "- Decorators are used to extend functionality in a reusable and readable manner.\n",
    "- Decorators wrap another function and execute code before or after the wrapped function runs.\n",
    "- They are applied using the @decorator_name syntax.\n",
    "- decorators are higher-order functions in Python.\n",
    "\n",
    "### A higher-order function is a function that either:\n",
    "- Takes another function as an argument.\n",
    "- Returns a function as a result.\n",
    "\n",
    "__Object of Outer Function : <function __main__.my_function(func)>__\n",
    "\n",
    "__Object of wrapper Function : <function __main__.my_function.<locals>.wrapper()>__\n",
    "\n",
    "### Use Cases:\n",
    "1. Logging Function Calls: Helps in debugging and monitoring function calls.\n",
    "2. Measuring Execution Time: Useful for performance monitoring and optimization.\n",
    "3. Access Control (Authentication & Authorization)\n",
    "4. Ensures security by restricting access based on user roles.\n",
    "5. Converting Function Output to JSON Format: Useful for APIs returning structured data."
   ]
  },
  {
   "cell_type": "code",
   "execution_count": 1,
   "metadata": {},
   "outputs": [],
   "source": [
    "import random"
   ]
  },
  {
   "cell_type": "markdown",
   "metadata": {},
   "source": [
    "# Example 1."
   ]
  },
  {
   "cell_type": "markdown",
   "metadata": {},
   "source": [
    "### 1.1 Step Counter"
   ]
  },
  {
   "cell_type": "code",
   "execution_count": 2,
   "metadata": {},
   "outputs": [],
   "source": [
    "step_counter = {\"count\": 1}\n",
    "\n",
    "def step_print(message):\n",
    "    print(f\"Step {step_counter['count']}: {message}\")\n",
    "    step_counter[\"count\"] += 1"
   ]
  },
  {
   "cell_type": "markdown",
   "metadata": {},
   "source": [
    "### 1.2 Defining Wrapper Functions"
   ]
  },
  {
   "cell_type": "code",
   "execution_count": 3,
   "metadata": {},
   "outputs": [],
   "source": [
    "def pramila(func):\n",
    "    def wrapper(*args, **kwargs):\n",
    "        step_print(\"Pramila is Boiling the Potatos.\")\n",
    "        func(*args, **kwargs)\n",
    "    return wrapper\n",
    "\n",
    "def sachin(func):\n",
    "    def wrapper(*args, **kwargs):\n",
    "        step_print(\"Sachin is Making a Batter.\")\n",
    "        func(*args, **kwargs)\n",
    "    return wrapper\n",
    "\n",
    "def divyanshu(func):\n",
    "    def wrapper(*args, **kwargs):\n",
    "        step_print(\"Divyanshu Monitorig the process & quality checks.\")\n",
    "        func(*args, **kwargs)\n",
    "    return wrapper\n",
    "\n",
    "def koustubh(func):\n",
    "    def wrapper(*args, **kwargs):\n",
    "        func(*args, **kwargs)\n",
    "        step_print(\"Koustubh were Testing the food.\")\n",
    "\n",
    "    return wrapper"
   ]
  },
  {
   "cell_type": "markdown",
   "metadata": {},
   "source": [
    "### 1.3 Use of Decorators"
   ]
  },
  {
   "cell_type": "code",
   "execution_count": 4,
   "metadata": {},
   "outputs": [
    {
     "name": "stdout",
     "output_type": "stream",
     "text": [
      "Step 1: Pramila is Boiling the Potatos.\n",
      "Step 2: Sachin is Making a Batter.\n",
      "Step 3: Divyanshu Monitorig the process & quality checks.\n",
      "Step 4: Bhagyashri Preparing the Vada & serving with Pav.\n",
      "Step 5: Koustubh were Testing the food.\n"
     ]
    }
   ],
   "source": [
    "@pramila\n",
    "@sachin\n",
    "@divyanshu\n",
    "@koustubh\n",
    "def bhagyashri(item):\n",
    "    step_print(f\"Bhagyashri Preparing the Vada & serving with {item}.\")\n",
    "bhagyashri(\"Pav\")"
   ]
  },
  {
   "cell_type": "markdown",
   "metadata": {},
   "source": [
    "# Example 2."
   ]
  },
  {
   "cell_type": "markdown",
   "metadata": {},
   "source": [
    "### 2.1 Defining Wrapper Function"
   ]
  },
  {
   "cell_type": "markdown",
   "metadata": {},
   "source": [
    "__Which keeps track of the numbers of the executions.__"
   ]
  },
  {
   "cell_type": "code",
   "execution_count": 5,
   "metadata": {},
   "outputs": [],
   "source": [
    "def max_attempts(limit):\n",
    "\n",
    "    def decorator(fun):\n",
    "        attempts = 0\n",
    "        result = \"\"\n",
    "\n",
    "        def wrapper(*args, **kwargs):\n",
    "            nonlocal attempts, result\n",
    "            if attempts >= limit:\n",
    "                print(\"max limit is exeeded....\")\n",
    "                return result\n",
    "            attempts += 1\n",
    "            print(f\"Attempts: {attempts}\")\n",
    "            result =  fun(*args, **kwargs)\n",
    "            return result\n",
    "        \n",
    "        return wrapper\n",
    "    return decorator"
   ]
  },
  {
   "cell_type": "markdown",
   "metadata": {},
   "source": [
    "### 2.1 Use of Decorator"
   ]
  },
  {
   "cell_type": "markdown",
   "metadata": {},
   "source": [
    "__Applying the decoraror with Attempt Limit: 3.__"
   ]
  },
  {
   "cell_type": "code",
   "execution_count": 6,
   "metadata": {},
   "outputs": [],
   "source": [
    "@max_attempts(limit=3)\n",
    "def assignment_distribution(questions, persons):\n",
    "    n = len(persons)\n",
    "    shuffled_persons = persons[:]\n",
    "    random.shuffle(shuffled_persons)\n",
    "    base, extra = divmod(questions, n)\n",
    "\n",
    "    assignments = {}\n",
    "    start = 1\n",
    "\n",
    "    for x, person in enumerate(shuffled_persons):\n",
    "        count = base + (1 if x < extra else 0)\n",
    "        end = start + count - 1\n",
    "        assignments[person] = f\"{start}-{end}\"\n",
    "        start = end + 1\n",
    "    \n",
    "    return assignments"
   ]
  },
  {
   "cell_type": "code",
   "execution_count": 7,
   "metadata": {},
   "outputs": [
    {
     "name": "stdout",
     "output_type": "stream",
     "text": [
      "Attempts: 1\n"
     ]
    },
    {
     "data": {
      "text/plain": [
       "{'Pramila': '1-6',\n",
       " 'Koustubh': '7-12',\n",
       " 'Divyanshu': '13-18',\n",
       " 'Bhagyashri': '19-24',\n",
       " 'Sachin': '25-30'}"
      ]
     },
     "execution_count": 7,
     "metadata": {},
     "output_type": "execute_result"
    }
   ],
   "source": [
    "names = [\"Sachin\", \"Pramila\", \"Bhagyashri\", \"Divyanshu\", \"Koustubh\"]\n",
    "assignment_distribution(30, names)"
   ]
  },
  {
   "cell_type": "code",
   "execution_count": 8,
   "metadata": {},
   "outputs": [
    {
     "name": "stdout",
     "output_type": "stream",
     "text": [
      "Attempts: 2\n"
     ]
    },
    {
     "data": {
      "text/plain": [
       "{'Divyanshu': '1-6',\n",
       " 'Koustubh': '7-12',\n",
       " 'Pramila': '13-18',\n",
       " 'Sachin': '19-24',\n",
       " 'Bhagyashri': '25-30'}"
      ]
     },
     "execution_count": 8,
     "metadata": {},
     "output_type": "execute_result"
    }
   ],
   "source": [
    "names = [\"Sachin\", \"Pramila\", \"Bhagyashri\", \"Divyanshu\", \"Koustubh\"]\n",
    "assignment_distribution(30, names)"
   ]
  },
  {
   "cell_type": "code",
   "execution_count": 9,
   "metadata": {},
   "outputs": [
    {
     "name": "stdout",
     "output_type": "stream",
     "text": [
      "Attempts: 3\n"
     ]
    },
    {
     "data": {
      "text/plain": [
       "{'Sachin': '1-6',\n",
       " 'Bhagyashri': '7-12',\n",
       " 'Pramila': '13-18',\n",
       " 'Koustubh': '19-24',\n",
       " 'Divyanshu': '25-30'}"
      ]
     },
     "execution_count": 9,
     "metadata": {},
     "output_type": "execute_result"
    }
   ],
   "source": [
    "names = [\"Sachin\", \"Pramila\", \"Bhagyashri\", \"Divyanshu\", \"Koustubh\"]\n",
    "assignment_distribution(30, names)"
   ]
  },
  {
   "cell_type": "code",
   "execution_count": 10,
   "metadata": {},
   "outputs": [
    {
     "name": "stdout",
     "output_type": "stream",
     "text": [
      "max limit is exeeded....\n"
     ]
    },
    {
     "data": {
      "text/plain": [
       "{'Sachin': '1-6',\n",
       " 'Bhagyashri': '7-12',\n",
       " 'Pramila': '13-18',\n",
       " 'Koustubh': '19-24',\n",
       " 'Divyanshu': '25-30'}"
      ]
     },
     "execution_count": 10,
     "metadata": {},
     "output_type": "execute_result"
    }
   ],
   "source": [
    "names = [\"Sachin\", \"Pramila\", \"Bhagyashri\", \"Divyanshu\", \"Koustubh\"]\n",
    "assignment_distribution(30, names)"
   ]
  }
 ],
 "metadata": {
  "kernelspec": {
   "display_name": "Python 3",
   "language": "python",
   "name": "python3"
  },
  "language_info": {
   "codemirror_mode": {
    "name": "ipython",
    "version": 3
   },
   "file_extension": ".py",
   "mimetype": "text/x-python",
   "name": "python",
   "nbconvert_exporter": "python",
   "pygments_lexer": "ipython3",
   "version": "3.11.0"
  }
 },
 "nbformat": 4,
 "nbformat_minor": 2
}
