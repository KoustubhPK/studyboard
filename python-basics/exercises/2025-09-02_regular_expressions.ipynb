{
 "cells": [
  {
   "cell_type": "markdown",
   "metadata": {},
   "source": [
    "# RE"
   ]
  },
  {
   "cell_type": "markdown",
   "metadata": {},
   "source": [
    "\n",
    "In Python, 're' refers to the built-in module that provides support for regular expressions. Regular expressions often abbreviated as regex or RE. This is powerful tools used for pattern matching within strings.\n",
    "\n",
    "### The re module allows you to:\n",
    "\n",
    "    Search for patterns : Find specific sequences of characters within a larger string.\n",
    "    Match patterns      : Determine if a string or a part of a string conforms to a defined pattern.\n",
    "    Replace text        : Substitute occurrences of a pattern with a different string.\n",
    "    Split strings       : Divide a string into a list of substrings based on a pattern.\n",
    "    Extract information : Pull out specific data like email addresses, phone numbers or dates from text. \n",
    "\n",
    "### Commonly used functions within the re module include: \n",
    "\n",
    "    re.search()         : Finds the first occurrence of a pattern in a string.\n",
    "    re.findall()        : Returns a list of all non-overlapping matches of a pattern.\n",
    "    re.sub()            : Replaces occurrences of a pattern with a specified replacement string.\n",
    "    re.split()          : Splits a string by occurrences of a pattern.\n",
    "    re.match()          : Checks if the pattern matches at the beginning of the string."
   ]
  },
  {
   "cell_type": "code",
   "execution_count": 1,
   "metadata": {},
   "outputs": [],
   "source": [
    "import re"
   ]
  },
  {
   "cell_type": "markdown",
   "metadata": {},
   "source": [
    "### Findall()"
   ]
  },
  {
   "cell_type": "markdown",
   "metadata": {},
   "source": [
    "Special Sequences:\n",
    "\n",
    "    w = word\n",
    "    s = spaces\n",
    "    d = digit\n",
    "    b = restrict the matches"
   ]
  },
  {
   "cell_type": "code",
   "execution_count": 2,
   "metadata": {},
   "outputs": [
    {
     "name": "stdout",
     "output_type": "stream",
     "text": [
      "Valid Mail    : ['rohit_sharma123@gmail.com']\n",
      "Valid PAN     : ['ASDFG9876W', 'DFGHJ4567V']\n",
      "Valid Aadhaar : ['1234 2932 4313', '5422 2454 1343']\n"
     ]
    }
   ],
   "source": [
    "string = \"\"\"PAN Numbers\n",
    "rohit_sharma123@gmail.com\n",
    "rohit0123_@gmail.com\n",
    "ASDFG9876W\n",
    "DFGHJ4567V\n",
    "FGBVJD4562J\n",
    "HIOPA1234KO\n",
    "IJYUA47896P\n",
    "1234 2932 4313\n",
    "5422 2454 1343 @#$%^&\n",
    "5422 2454 13436 @#$%^&\n",
    "\"\"\"\n",
    "\n",
    "# E.g.:\n",
    "valid_mail = re.findall(\"[a-z_]{1,15}[0-9]+[@][a-z.]+\", string, flags=re.ASCII)\n",
    "valid_pan = re.findall(r\"\\b[A-Z]{5}[0-9]{4}[A-z]\\b\", string)\n",
    "valid_aadhaar = re.findall(r\"\\b[\\d]{4}[ ]\\d{4}[ ]\\d{4}\\b\", string)\n",
    "print(f\"Valid Mail    : {valid_mail}\\nValid PAN     : {valid_pan}\\nValid Aadhaar : {valid_aadhaar}\")"
   ]
  },
  {
   "cell_type": "code",
   "execution_count": 3,
   "metadata": {},
   "outputs": [
    {
     "name": "stdout",
     "output_type": "stream",
     "text": [
      "['goals', 'tasks', 'human']\n"
     ]
    }
   ],
   "source": [
    "data = \"\"\"\n",
    "Agentic AI refers to autonomous artificial intelligence systems capable of setting goals,\n",
    "planning, and executing tasks with minimal human intervention to achieve objectives in dynamic environments.\n",
    "\"\"\"\n",
    "\n",
    "five_letter_words = re.findall(r\"\\b[a-z]{5}\\b\", data.lower())\n",
    "print(five_letter_words)"
   ]
  },
  {
   "cell_type": "code",
   "execution_count": 4,
   "metadata": {},
   "outputs": [
    {
     "name": "stdout",
     "output_type": "stream",
     "text": [
      "Valid Dates : ['02-09-2025', '02/09/2025', '15/12/2025', '25-10-1992', '12.07.1998']\n"
     ]
    }
   ],
   "source": [
    "dates = \"\"\"\n",
    "Dates:\n",
    "02-09-2025\n",
    "02/09/2025\n",
    "15/12/2025\n",
    "25-10-1992\n",
    "12.07.1998\n",
    "32-21-2000\n",
    "\"\"\"\n",
    "\n",
    "valid_dates = re.findall(\"[0-3][0-9][-/.][0-1][0-9][-/.][0-9]{4}\", dates)\n",
    "print(f\"Valid Dates : {valid_dates}\")"
   ]
  },
  {
   "cell_type": "code",
   "execution_count": 5,
   "metadata": {},
   "outputs": [
    {
     "data": {
      "text/plain": [
       "datetime.datetime(2025, 7, 1, 15, 5, 14)"
      ]
     },
     "execution_count": 5,
     "metadata": {},
     "output_type": "execute_result"
    }
   ],
   "source": [
    "from dateutil import parser\n",
    "\n",
    "date1 = '18.08.2023'\n",
    "date2 = \"02-09-2025\"\n",
    "date3 = \"2014/08/15\"\n",
    "date4 = \"2025 Jul 15\"\n",
    "date5 = \"Jul-01-2025 15:5:14\"\n",
    "\n",
    "parser.parse(date5, fuzzy=False)\n"
   ]
  },
  {
   "cell_type": "markdown",
   "metadata": {},
   "source": [
    "### Splitting Date & Time Seperately From String"
   ]
  },
  {
   "cell_type": "code",
   "execution_count": 6,
   "metadata": {},
   "outputs": [
    {
     "name": "stdout",
     "output_type": "stream",
     "text": [
      "['05.12.2016', '05.13.2016', '01.14.2016'] ['15:58:31', '15:58:31']\n"
     ]
    }
   ],
   "source": [
    "mixed_string = \"\"\"\n",
    "05.12.2016 15:58:31 jsfkgskdlfsgfdslkcbj 05.13.2016 15:58:31  sdfasjdcakscsdv\n",
    "01.14.2016fsdkjgfdhkvjxdbvxd\n",
    "\"\"\"\n",
    "\n",
    "textdate = re.findall(\"[0-3][0-9][.][0-1][0-9][.][0-9]{4}\", mixed_string)\n",
    "texttime = re.findall(\"[0-9]{2}[:][0-9]{2}[:][0-9]{2}\", mixed_string)\n",
    "print(textdate,texttime)"
   ]
  },
  {
   "cell_type": "markdown",
   "metadata": {},
   "source": [
    "### Combining Matched Date and Time From Text"
   ]
  },
  {
   "cell_type": "code",
   "execution_count": 7,
   "metadata": {},
   "outputs": [
    {
     "data": {
      "text/plain": [
       "['05.12.2016 15:58:31', '05.13.2016 15:58:31']"
      ]
     },
     "execution_count": 7,
     "metadata": {},
     "output_type": "execute_result"
    }
   ],
   "source": [
    "first_res = list(map(lambda x: \" \".join(x), zip(textdate,texttime)))\n",
    "first_res"
   ]
  },
  {
   "cell_type": "markdown",
   "metadata": {},
   "source": [
    "### Matching Date & Time Togather by Findall()"
   ]
  },
  {
   "cell_type": "code",
   "execution_count": 8,
   "metadata": {},
   "outputs": [
    {
     "name": "stdout",
     "output_type": "stream",
     "text": [
      "['05.12.2016 15:58:31', '05.13.2016 15:58:31']\n"
     ]
    }
   ],
   "source": [
    "text_date_time = re.findall(\"[0-3][0-9][.][0-1][0-9][.][0-9]{4}[ ][0-9]{2}[:][0-9]{2}[:][0-9]{2}\", mixed_string)\n",
    "print(text_date_time)"
   ]
  }
 ],
 "metadata": {
  "kernelspec": {
   "display_name": "Python 3",
   "language": "python",
   "name": "python3"
  },
  "language_info": {
   "codemirror_mode": {
    "name": "ipython",
    "version": 3
   },
   "file_extension": ".py",
   "mimetype": "text/x-python",
   "name": "python",
   "nbconvert_exporter": "python",
   "pygments_lexer": "ipython3",
   "version": "3.11.0"
  }
 },
 "nbformat": 4,
 "nbformat_minor": 2
}
