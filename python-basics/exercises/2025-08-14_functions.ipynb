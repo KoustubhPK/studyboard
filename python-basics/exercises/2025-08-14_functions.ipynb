{
 "cells": [
  {
   "cell_type": "markdown",
   "id": "b7b93aac-73c3-4fb7-af06-ea2148714508",
   "metadata": {},
   "source": [
    "# Functions "
   ]
  },
  {
   "cell_type": "markdown",
   "id": "b41ac60e",
   "metadata": {},
   "source": [
    "##### 1. Positional Arguments "
   ]
  },
  {
   "cell_type": "code",
   "execution_count": null,
   "id": "35ba73b0-c2db-40c5-a495-459d901da196",
   "metadata": {},
   "outputs": [],
   "source": [
    "def average(a,b,c):\n",
    "    \"\"\"\n",
    "    Calculates the average of the numbers.\n",
    "\n",
    "    Args:\n",
    "        a (float): The first positional argument.\n",
    "        b (float): The second positional argument.\n",
    "        c (float): The third positional argument.\n",
    "\n",
    "    Returns:\n",
    "        float: The calculated average of the sum.\n",
    "    \"\"\"\n",
    "    avg = (a+b+c)/3\n",
    "    return avg\n",
    "\n",
    "average(1,2,3)"
   ]
  },
  {
   "cell_type": "code",
   "execution_count": 1,
   "id": "2fa4540e-e284-4714-9879-a1b6aa3bfea9",
   "metadata": {},
   "outputs": [
    {
     "data": {
      "text/plain": [
       "[0, 1, 1, 2, 3, 5, 8, 13, 21, 34]"
      ]
     },
     "execution_count": 1,
     "metadata": {},
     "output_type": "execute_result"
    }
   ],
   "source": [
    "def fibonacci_series(n):\n",
    "    \"\"\"\n",
    "    Fibonacci series of the numbers.\n",
    "\n",
    "    Args:\n",
    "        n (int): Required positional argument.\n",
    "\n",
    "    Returns:\n",
    "        list: The addition of the number with previous digit upto length of n.\n",
    "    \"\"\"\n",
    "    first, second = 0, 1\n",
    "    fibo_series = [first, second]\n",
    "    for i in range(n-2):\n",
    "        first, second = second, first+second\n",
    "        fibo_series.append(second)\n",
    "    return fibo_series\n",
    "\n",
    "fibonacci_series(10)"
   ]
  },
  {
   "cell_type": "markdown",
   "id": "e6f251a3",
   "metadata": {},
   "source": [
    "##### 2. Default Arguments "
   ]
  },
  {
   "cell_type": "code",
   "execution_count": null,
   "id": "10f3f4d4",
   "metadata": {},
   "outputs": [],
   "source": [
    "# case 1\n",
    "def test_default_arg1(arg1=5, arg2=10, arg3=15):\n",
    "    \"\"\"\n",
    "    This function demonstrates the use of default arguments.If arguments are\n",
    "    not provided when the function is called, the default values are used.\n",
    "    Otherwise, the provided arguments override the default assignments.\n",
    "\n",
    "    Returns:\n",
    "        str: A formatted string displaying the values of arg1, arg2, and arg3.\n",
    "    \"\"\"\n",
    "    return \"arg1 is {}, agr2 is {}, agr3 is {}\".format(arg1,arg2,arg3)\n",
    "\n",
    "test_default_arg1()"
   ]
  },
  {
   "cell_type": "code",
   "execution_count": null,
   "id": "366deeae",
   "metadata": {},
   "outputs": [],
   "source": [
    "# case 2\n",
    "def test_default_arg2(arg1, arg2, arg3):\n",
    "    \"\"\"\n",
    "    This function accepts three required arguments and returns a string\n",
    "    that incorporates their values. While these arguments can be passed\n",
    "    positionally during the function call for enhanced readability and explicitness.\n",
    "    \n",
    "    Returns:\n",
    "        str: A formatted string displaying the values of arg1, arg2, and arg3.\n",
    "    \"\"\"\n",
    "    return \"arg1 is {}, agr2 is {}, agr3 is {}\".format(arg1,arg2,arg3)\n",
    "\n",
    "test_default_arg2(arg1=1, arg2=2, arg3=3)"
   ]
  },
  {
   "cell_type": "code",
   "execution_count": null,
   "id": "8e8291ba",
   "metadata": {},
   "outputs": [],
   "source": [
    "# case 3\n",
    "def test_default_arg3(arg1, arg2, arg3):\n",
    "    \"\"\"\n",
    "    This function accepts three required arguments and returns a string\n",
    "    that incorporates their values. While these arguments can be passed\n",
    "    positionally during the function call for enhanced readability and explicitness.\n",
    "    \n",
    "    Returns:\n",
    "        str: A formatted string displaying the values of arg1, arg2, and arg3.\n",
    "    \"\"\"\n",
    "    return \"arg1 is {}, agr2 is {}, agr3 is {}\".format(arg1,arg2,arg3)\n",
    "\n",
    "test_default_arg2(50, arg2=2, arg3=3)"
   ]
  },
  {
   "cell_type": "code",
   "execution_count": null,
   "id": "35549e04",
   "metadata": {},
   "outputs": [],
   "source": [
    "# case 4\n",
    "def test_default_arg4(arg1, arg2, arg3):\n",
    "    \"\"\"\n",
    "    This function accepts three required arguments and returns a string\n",
    "    that incorporates their values. While these arguments can be passed\n",
    "    positionally.\n",
    "    \n",
    "    Returns:\n",
    "        str: A formatted string displaying the values of arg1, arg2, and arg3.\n",
    "    \"\"\"\n",
    "    return \"arg1 is {}, agr2 is {}, agr3 is {}\".format(arg1,arg2,arg3)\n",
    "\n",
    "test_default_arg4(10, 20, arg3=30)"
   ]
  },
  {
   "cell_type": "markdown",
   "id": "9f000da6",
   "metadata": {},
   "source": [
    "##### 3. Keyword Arguments "
   ]
  },
  {
   "cell_type": "code",
   "execution_count": null,
   "id": "d3fcbda1-8189-483e-9e5e-52d19c1a142a",
   "metadata": {},
   "outputs": [],
   "source": [
    "def test_keyword_arg(*arg):\n",
    "    \"\"\"\n",
    "    This function accepts any number of positional arguments using the `*arg` syntax,\n",
    "    which packs them into a tuple. It then returns a formatted string\n",
    "    that includes the content of this tuple. If no arguments are provided, the `arg`\n",
    "    tuple will be empty.\n",
    "\n",
    "    Args:\n",
    "        *arg (tuple):  A tuple containing an arbitrary number of positional arguments.\n",
    "\n",
    "    Returns:\n",
    "        str: A formatted string showing the collected arguments.\n",
    "    \"\"\"\n",
    "    return f\"argument is: {arg}\"\n",
    "\n",
    "test_keyword_arg(0,1,2,3,4,5,6,7,8,9)"
   ]
  }
 ],
 "metadata": {
  "kernelspec": {
   "display_name": "Python 3",
   "language": "python",
   "name": "python3"
  },
  "language_info": {
   "codemirror_mode": {
    "name": "ipython",
    "version": 3
   },
   "file_extension": ".py",
   "mimetype": "text/x-python",
   "name": "python",
   "nbconvert_exporter": "python",
   "pygments_lexer": "ipython3",
   "version": "3.11.0"
  }
 },
 "nbformat": 4,
 "nbformat_minor": 5
}
