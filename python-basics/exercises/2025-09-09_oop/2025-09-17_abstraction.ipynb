{
 "cells": [
  {
   "cell_type": "markdown",
   "metadata": {},
   "source": [
    "# Abstraction"
   ]
  },
  {
   "cell_type": "markdown",
   "metadata": {},
   "source": [
    "- it means hiding implementation details and showing only essential features to user.\n",
    "- hiding the complexity of implementation."
   ]
  },
  {
   "cell_type": "code",
   "execution_count": 1,
   "metadata": {},
   "outputs": [],
   "source": [
    "from abc import ABC, abstractmethod"
   ]
  },
  {
   "cell_type": "markdown",
   "metadata": {},
   "source": [
    "### 1.1 Creating Different Classes\n",
    "1. __Student__\n",
    "2. __Fresher__\n",
    "3. __Experience__"
   ]
  },
  {
   "cell_type": "markdown",
   "metadata": {},
   "source": [
    "### Abstract Class"
   ]
  },
  {
   "cell_type": "code",
   "execution_count": 2,
   "metadata": {},
   "outputs": [],
   "source": [
    "class Student(ABC):\n",
    "\n",
    "    def __init__(self, name, gender, course):\n",
    "        self.name = name\n",
    "        self.gender = gender\n",
    "        self.course = course\n",
    "\n",
    "    def get_name(self):\n",
    "        return self.name\n",
    "    \n",
    "    def get_gender(self):\n",
    "        return self.gender\n",
    "    \n",
    "    @abstractmethod\n",
    "    def get_course(self):\n",
    "        pass"
   ]
  },
  {
   "cell_type": "markdown",
   "metadata": {},
   "source": [
    "### Concrete Class\n",
    "- __Inheritance Type:__ _Hierarchical_"
   ]
  },
  {
   "cell_type": "code",
   "execution_count": 3,
   "metadata": {},
   "outputs": [],
   "source": [
    "class Fresher(Student):\n",
    "\n",
    "    def get_course(self):\n",
    "        return f\"Fresher - {self.course}\"\n",
    "    \n",
    "class Experience(Student):\n",
    "\n",
    "    def get_course(self):\n",
    "        return f\"Experience - {self.course}\""
   ]
  },
  {
   "cell_type": "markdown",
   "metadata": {},
   "source": [
    "### 1.2 Instantiating Class Objects:"
   ]
  },
  {
   "cell_type": "code",
   "execution_count": 4,
   "metadata": {},
   "outputs": [],
   "source": [
    "students = [\n",
    "    Fresher(\"Pramila\", \"Female\", \"AI\"),\n",
    "    Fresher(\"Bhagyashri\", \"Female\", \"ML\"),\n",
    "    Experience(\"Sachin\", \"Male\", \"CS\"),\n",
    "    Experience(\"Divyanshu\", \"Male\", \"ME\"),\n",
    "    Experience(\"Koustubh\", \"Male\", \"CS\"),\n",
    "]"
   ]
  },
  {
   "cell_type": "markdown",
   "metadata": {},
   "source": [
    "### 1.3 Calling Methods:\n",
    "\n",
    "The method name which is __get_course()__ used in different class objects."
   ]
  },
  {
   "cell_type": "code",
   "execution_count": 5,
   "metadata": {},
   "outputs": [
    {
     "name": "stdout",
     "output_type": "stream",
     "text": [
      "Student ID      : S-1\n",
      "Student name    : Pramila\n",
      "Student Gender  : Female\n",
      "Student Course  : Fresher - AI\n",
      "----------------------------------------\n",
      "Student ID      : S-2\n",
      "Student name    : Bhagyashri\n",
      "Student Gender  : Female\n",
      "Student Course  : Fresher - ML\n",
      "----------------------------------------\n",
      "Student ID      : S-3\n",
      "Student name    : Sachin\n",
      "Student Gender  : Male\n",
      "Student Course  : Experience - CS\n",
      "----------------------------------------\n",
      "Student ID      : S-4\n",
      "Student name    : Divyanshu\n",
      "Student Gender  : Male\n",
      "Student Course  : Experience - ME\n",
      "----------------------------------------\n",
      "Student ID      : S-5\n",
      "Student name    : Koustubh\n",
      "Student Gender  : Male\n",
      "Student Course  : Experience - CS\n",
      "----------------------------------------\n"
     ]
    }
   ],
   "source": [
    "for x, student in enumerate(students, start=1):\n",
    "    print(f\"Student ID      : S-{x}\")\n",
    "    print(f\"Student name    : {student.get_name()}\")\n",
    "    print(f\"Student Gender  : {student.get_gender()}\")\n",
    "    print(f\"Student Course  : {student.get_course()}\")\n",
    "    print(\"-\"*40)"
   ]
  }
 ],
 "metadata": {
  "kernelspec": {
   "display_name": "Python 3",
   "language": "python",
   "name": "python3"
  },
  "language_info": {
   "codemirror_mode": {
    "name": "ipython",
    "version": 3
   },
   "file_extension": ".py",
   "mimetype": "text/x-python",
   "name": "python",
   "nbconvert_exporter": "python",
   "pygments_lexer": "ipython3",
   "version": "3.11.0"
  }
 },
 "nbformat": 4,
 "nbformat_minor": 2
}
