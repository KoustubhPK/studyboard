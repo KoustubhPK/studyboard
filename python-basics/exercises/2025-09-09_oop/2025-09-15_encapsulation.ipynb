{
 "cells": [
  {
   "cell_type": "markdown",
   "metadata": {},
   "source": [
    "# Encapsulation"
   ]
  },
  {
   "cell_type": "markdown",
   "metadata": {},
   "source": [
    "- Restrict direct access of method and variables from outside the class\n",
    "- Protect accidental modifcation of variables"
   ]
  },
  {
   "cell_type": "markdown",
   "metadata": {},
   "source": [
    "# Example 1."
   ]
  },
  {
   "cell_type": "markdown",
   "metadata": {},
   "source": [
    "# A: _(Public)_"
   ]
  },
  {
   "cell_type": "markdown",
   "metadata": {},
   "source": [
    "### A.1 Creating Class\n",
    "_Example of the class where all the methods and attributes are accessible from outside the class._"
   ]
  },
  {
   "cell_type": "code",
   "execution_count": 1,
   "metadata": {},
   "outputs": [],
   "source": [
    "class OrgDataPublic:\n",
    "    org_name = \"Deloitte\"                               # class variable\n",
    "\n",
    "    def __init__(self, emp_name, emp_id, emp_salary):\n",
    "        self.emp_name = emp_name                        # instace variable\n",
    "        self.emp_id = emp_id\n",
    "        self.emp_salary = emp_salary\n",
    "\n",
    "    def org_emp_info(self):                             # public method\n",
    "        self.var = 10\n",
    "        self.local_var = \"test local var\"               # instance variable\n",
    "        return f\"Employee Name: {self.emp_name}\"\n",
    "    \n",
    "    def org_emp_id(self):                               # public method\n",
    "        return f\"Employee ID: {self.emp_id}\"\n",
    "\n",
    "    def org_emp_salary(self):                           # public method\n",
    "        return f\"Employee Salary: {self.emp_salary}\"\n"
   ]
  },
  {
   "cell_type": "markdown",
   "metadata": {},
   "source": [
    "### A.2 Creating Object"
   ]
  },
  {
   "cell_type": "code",
   "execution_count": 2,
   "metadata": {},
   "outputs": [],
   "source": [
    "public_object = OrgDataPublic(\"test\", \"emp-027-558\", 98524)"
   ]
  },
  {
   "cell_type": "markdown",
   "metadata": {},
   "source": [
    "### A.3 Calling Methods"
   ]
  },
  {
   "cell_type": "code",
   "execution_count": 3,
   "metadata": {},
   "outputs": [
    {
     "name": "stdout",
     "output_type": "stream",
     "text": [
      "********** Methods **********\n",
      "Employee Name: test\n",
      "Employee ID: emp-027-558\n",
      "Employee Salary: 98524 \n",
      "\n",
      "********** Variables **********\n",
      "Class variable: Deloitte\n",
      "Method variable: 10\n"
     ]
    }
   ],
   "source": [
    "print(f\"{'*'*10} Methods {'*'*10}\")\n",
    "print(public_object.org_emp_info())\n",
    "print(public_object.org_emp_id())\n",
    "print(public_object.org_emp_salary(),\"\\n\")\n",
    "\n",
    "print(f\"{'*'*10} Variables {'*'*10}\")\n",
    "print(f\"Class variable: {public_object.org_name}\")\n",
    "print(f\"Method variable: {public_object.var}\")\n"
   ]
  },
  {
   "cell_type": "markdown",
   "metadata": {},
   "source": [
    "# B: _(Private)_"
   ]
  },
  {
   "cell_type": "markdown",
   "metadata": {},
   "source": [
    "### B.1 Creating Class\n",
    "_Example of the class where all the methods are restricted to call from outside the class._"
   ]
  },
  {
   "cell_type": "code",
   "execution_count": 4,
   "metadata": {},
   "outputs": [],
   "source": [
    "class OrgDataPrivate:\n",
    "    __org_name = \"Wipro\"                                # private class variable\n",
    "\n",
    "    def __init__(self, emp_name, emp_id, emp_salary):\n",
    "        self.emp_name = emp_name                        # instance variable\n",
    "        self.emp_id = emp_id\n",
    "        self.emp_salary = emp_salary\n",
    "\n",
    "    def __org_emp_info(self):                           # private method\n",
    "        self.local_var = \"test local var\"               # private instance variable\n",
    "        return f\"Employee Name: {self.emp_name}\"\n",
    "    \n",
    "    def __org_emp_id(self):                             # private method\n",
    "        return f\"Employee ID: {self.emp_id}\"\n",
    "\n",
    "    def __org_emp_salary(self):                         # private method\n",
    "        return f\"Employee Salary: {self.emp_salary}\"\n",
    "    \n",
    "    def display(self):                                  # public method\n",
    "        return self.__org_emp_info(), self.__org_emp_id(), self.__org_emp_salary()"
   ]
  },
  {
   "cell_type": "markdown",
   "metadata": {},
   "source": [
    "### B.2 Creating Object"
   ]
  },
  {
   "cell_type": "code",
   "execution_count": 5,
   "metadata": {},
   "outputs": [],
   "source": [
    "org_object_private = OrgDataPrivate(\"test1\", \"emp-092-632\", 73582)"
   ]
  },
  {
   "cell_type": "markdown",
   "metadata": {},
   "source": [
    "### B.3 Calling Methods"
   ]
  },
  {
   "cell_type": "code",
   "execution_count": 6,
   "metadata": {},
   "outputs": [
    {
     "data": {
      "text/plain": [
       "('Employee Name: test1', 'Employee ID: emp-092-632', 'Employee Salary: 73582')"
      ]
     },
     "execution_count": 6,
     "metadata": {},
     "output_type": "execute_result"
    }
   ],
   "source": [
    "org_object_private.display()"
   ]
  },
  {
   "cell_type": "markdown",
   "metadata": {},
   "source": [
    "### B.4 Accessing Private Data\n",
    "_Trying to access private class varibale outside the class._\n",
    "\n",
    "__Error Expected:__ AttributeError"
   ]
  },
  {
   "cell_type": "code",
   "execution_count": 7,
   "metadata": {},
   "outputs": [
    {
     "ename": "AttributeError",
     "evalue": "'OrgDataPrivate' object has no attribute 'org_name'",
     "output_type": "error",
     "traceback": [
      "\u001b[1;31m---------------------------------------------------------------------------\u001b[0m",
      "\u001b[1;31mAttributeError\u001b[0m                            Traceback (most recent call last)",
      "Cell \u001b[1;32mIn[7], line 1\u001b[0m\n\u001b[1;32m----> 1\u001b[0m \u001b[43morg_object_private\u001b[49m\u001b[38;5;241;43m.\u001b[39;49m\u001b[43morg_name\u001b[49m\n",
      "\u001b[1;31mAttributeError\u001b[0m: 'OrgDataPrivate' object has no attribute 'org_name'"
     ]
    }
   ],
   "source": [
    "org_object_private.org_name"
   ]
  },
  {
   "cell_type": "markdown",
   "metadata": {},
   "source": [
    "### B.5 Name Mangling\n",
    "\n",
    "_Explicitly accessing the private data outside the class._\n",
    "- Calling Method With Special Object Identification"
   ]
  },
  {
   "cell_type": "code",
   "execution_count": 8,
   "metadata": {},
   "outputs": [
    {
     "data": {
      "text/plain": [
       "'Employee Name: test1'"
      ]
     },
     "execution_count": 8,
     "metadata": {},
     "output_type": "execute_result"
    }
   ],
   "source": [
    "org_object_private._OrgDataPrivate__org_emp_info()"
   ]
  },
  {
   "cell_type": "markdown",
   "metadata": {},
   "source": [
    "# Example 2."
   ]
  },
  {
   "cell_type": "markdown",
   "metadata": {},
   "source": [
    "### 2.1 Encapsulation with Inheritance"
   ]
  },
  {
   "cell_type": "code",
   "execution_count": 9,
   "metadata": {},
   "outputs": [],
   "source": [
    "class NewBaseClass:\n",
    "    __org_name = \"Wipro\"                                # private class variable\n",
    "\n",
    "    def __init__(self, emp_name, emp_id, emp_salary):\n",
    "        self.emp_name = emp_name                        # instance variable\n",
    "        self.emp_id = emp_id\n",
    "        self.emp_salary = emp_salary\n",
    "\n",
    "    def __org_emp_info(self):                           # private method\n",
    "        self.local_var = \"test local var\"               # private instance variable\n",
    "        return f\"Employee Name: {self.emp_name}\"\n",
    "    \n",
    "    def __org_emp_id(self):                             # private method\n",
    "        return f\"Employee ID: {self.emp_id}\"\n",
    "\n",
    "    def __org_emp_salary(self):                         # private method\n",
    "        return f\"Employee Salary: {self.emp_salary}\"\n",
    "    \n",
    "    def display(self):                                  # public method\n",
    "        return self.__org_emp_info(), self.__org_emp_id(), self.__org_emp_salary(), self.__org_name"
   ]
  },
  {
   "cell_type": "markdown",
   "metadata": {},
   "source": [
    "### 2.2 Inheriting Base Class"
   ]
  },
  {
   "cell_type": "code",
   "execution_count": 10,
   "metadata": {},
   "outputs": [],
   "source": [
    "class EmpData(NewBaseClass):\n",
    "    def __init__(self, emp_name, emp_id, emp_salary):\n",
    "        super().__init__(emp_name, emp_id, emp_salary)\n",
    "\n",
    "    def disp(self):\n",
    "        return self.display()"
   ]
  },
  {
   "cell_type": "markdown",
   "metadata": {},
   "source": [
    "### 2.3 Creating Object"
   ]
  },
  {
   "cell_type": "code",
   "execution_count": 11,
   "metadata": {},
   "outputs": [],
   "source": [
    "    \n",
    "new_obj = EmpData(\"demo\", \"emp-120\", 65845)"
   ]
  },
  {
   "cell_type": "markdown",
   "metadata": {},
   "source": [
    "### 2.4 Calling Method"
   ]
  },
  {
   "cell_type": "code",
   "execution_count": 12,
   "metadata": {},
   "outputs": [
    {
     "data": {
      "text/plain": [
       "('Employee Name: demo',\n",
       " 'Employee ID: emp-120',\n",
       " 'Employee Salary: 65845',\n",
       " 'Wipro')"
      ]
     },
     "execution_count": 12,
     "metadata": {},
     "output_type": "execute_result"
    }
   ],
   "source": [
    "new_obj.disp()"
   ]
  }
 ],
 "metadata": {
  "kernelspec": {
   "display_name": "Python 3",
   "language": "python",
   "name": "python3"
  },
  "language_info": {
   "codemirror_mode": {
    "name": "ipython",
    "version": 3
   },
   "file_extension": ".py",
   "mimetype": "text/x-python",
   "name": "python",
   "nbconvert_exporter": "python",
   "pygments_lexer": "ipython3",
   "version": "3.11.0"
  }
 },
 "nbformat": 4,
 "nbformat_minor": 2
}
