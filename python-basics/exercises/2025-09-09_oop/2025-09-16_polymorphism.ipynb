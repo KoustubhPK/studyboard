{
 "cells": [
  {
   "cell_type": "markdown",
   "metadata": {},
   "source": [
    "# Polymorphism"
   ]
  },
  {
   "cell_type": "markdown",
   "metadata": {},
   "source": [
    "- Poly (many) + morphs (forms)\n",
    "- Polymorphism is the same function/method name with different functionalities for different classes."
   ]
  },
  {
   "cell_type": "code",
   "execution_count": 1,
   "metadata": {},
   "outputs": [],
   "source": [
    "import math"
   ]
  },
  {
   "cell_type": "markdown",
   "metadata": {},
   "source": [
    "# Example 1."
   ]
  },
  {
   "cell_type": "markdown",
   "metadata": {},
   "source": [
    "### 1.1 Creating Different Classes:\n",
    "1. __Circle__\n",
    "2. __Rectangle__\n",
    "3. __Square__"
   ]
  },
  {
   "cell_type": "code",
   "execution_count": 2,
   "metadata": {},
   "outputs": [],
   "source": [
    "class Circle():\n",
    "    def __init__(self, radius):\n",
    "        self.radius = radius\n",
    "\n",
    "    def area(self):\n",
    "        ar = math.pi * self.radius ** 2\n",
    "        return f\"Area of circle is : {ar}\"\n",
    "        \n",
    "    def perimeter(self):\n",
    "        peri = 2 * math.pi * self.radius\n",
    "        return f\"Perimeter of Circle is : {peri}\"\n",
    "\n",
    "class Rectangle():\n",
    "    def __init__(self,length, width):\n",
    "        self.length = length\n",
    "        self.width = width\n",
    "\n",
    "    def area(self):\n",
    "        ar = self.length * self.width\n",
    "        return f\"Area of Rectangle is : {ar}\"\n",
    "\n",
    "    def perimeter(self):\n",
    "        peri = 2 * self.length * self.width\n",
    "        return \"Perimeter of Rectangle is : {peri}\"\n",
    "\n",
    "class Square(Rectangle):\n",
    "    def __init__(self,side):\n",
    "        self.side = side\n",
    "\n",
    "    def area(self):\n",
    "        ar = self.side ** 2\n",
    "        return f\"Area of Square is : {ar}\"\n",
    "\n",
    "    def perimeter(self):\n",
    "        peri = 4 * self.side\n",
    "        return f\"Perimeter of Square is : {peri}\""
   ]
  },
  {
   "cell_type": "markdown",
   "metadata": {},
   "source": [
    "### 1.2 Creating Class Objects:\n",
    "1. __circle_object__\n",
    "2. __rect_object__\n",
    "3. __square_object__"
   ]
  },
  {
   "cell_type": "code",
   "execution_count": 3,
   "metadata": {},
   "outputs": [],
   "source": [
    "circle_object = Circle(10)\n",
    "rect_object = Rectangle(15, 18)\n",
    "square_object = Square(12)"
   ]
  },
  {
   "cell_type": "markdown",
   "metadata": {},
   "source": [
    "### 1.3 Calling Methods:\n",
    "\n",
    "same methods which is __area()__ and __perimeter()__ are used in different class objects."
   ]
  },
  {
   "cell_type": "code",
   "execution_count": 4,
   "metadata": {},
   "outputs": [
    {
     "name": "stdout",
     "output_type": "stream",
     "text": [
      "Area of circle is : 314.1592653589793 \n",
      "Perimeter of Circle is : 62.83185307179586\n",
      "*********************************************\n",
      "Area of Rectangle is : 270 \n",
      "Perimeter of Rectangle is : {peri}\n",
      "*********************************************\n",
      "Area of Square is : 144 \n",
      "Perimeter of Square is : 48\n",
      "*********************************************\n"
     ]
    }
   ],
   "source": [
    "for x in [circle_object, rect_object, square_object]:\n",
    "    print(f\"{x.area()} \\n{x.perimeter()}\")\n",
    "    print(\"*\"*45)"
   ]
  },
  {
   "cell_type": "markdown",
   "metadata": {},
   "source": [
    "# Example 2."
   ]
  },
  {
   "cell_type": "markdown",
   "metadata": {},
   "source": [
    "### 2.1 Creating Different Classes\n",
    "1. __Student__\n",
    "2. __Fresher__\n",
    "3. __Experience__"
   ]
  },
  {
   "cell_type": "code",
   "execution_count": 5,
   "metadata": {},
   "outputs": [],
   "source": [
    "class Student:\n",
    "\n",
    "    def __init__(self, name, gender, course):\n",
    "        self.name = name\n",
    "        self.gender = gender\n",
    "        self.course = course\n",
    "\n",
    "    def get_name(self):\n",
    "        return self.name\n",
    "    \n",
    "    def get_gender(self):\n",
    "        return self.gender\n",
    "    \n",
    "    def get_course(self):\n",
    "        return self.course"
   ]
  },
  {
   "cell_type": "markdown",
   "metadata": {},
   "source": [
    "- __Inheritance Type:__ _Hierarchical_"
   ]
  },
  {
   "cell_type": "code",
   "execution_count": 6,
   "metadata": {},
   "outputs": [],
   "source": [
    "class Fresher(Student):\n",
    "\n",
    "    def get_course(self):\n",
    "        return f\"Fresher - {self.course}\"\n",
    "    \n",
    "class Experience(Student):\n",
    "\n",
    "    def get_course(self):\n",
    "        return f\"Experience - {self.course}\""
   ]
  },
  {
   "cell_type": "markdown",
   "metadata": {},
   "source": [
    "- __Object Creation:__ _For individual methods_"
   ]
  },
  {
   "cell_type": "code",
   "execution_count": 7,
   "metadata": {},
   "outputs": [
    {
     "name": "stdout",
     "output_type": "stream",
     "text": [
      "Fresher - DS\n",
      "Experience - ML\n"
     ]
    }
   ],
   "source": [
    "obj = Fresher(\"test\", \"male\", \"DS\")\n",
    "print(obj.get_course())\n",
    "\n",
    "obj1 = Experience(\"test1\", \"male\", \"ML\")\n",
    "print(obj1.get_course())"
   ]
  },
  {
   "cell_type": "markdown",
   "metadata": {},
   "source": [
    "### 2.2 Instantiating Class Objects:"
   ]
  },
  {
   "cell_type": "code",
   "execution_count": 8,
   "metadata": {},
   "outputs": [],
   "source": [
    "students = [\n",
    "    Fresher(\"Pramila\", \"Female\", \"AI\"),\n",
    "    Fresher(\"Bhagyashri\", \"Female\", \"ML\"),\n",
    "    Experience(\"Sachin\", \"Male\", \"CS\"),\n",
    "    Experience(\"Divyanshu\", \"Male\", \"ME\"),\n",
    "    Experience(\"Koustubh\", \"Male\", \"CS\"),\n",
    "]"
   ]
  },
  {
   "cell_type": "markdown",
   "metadata": {},
   "source": [
    "### 2.3 Calling Methods:\n",
    "\n",
    "The method name which is __get_course()__ used in different class objects."
   ]
  },
  {
   "cell_type": "code",
   "execution_count": 9,
   "metadata": {},
   "outputs": [
    {
     "name": "stdout",
     "output_type": "stream",
     "text": [
      "Student ID      : S-1\n",
      "Student name    : Pramila\n",
      "Student Gender  : Female\n",
      "Student Course  : Fresher - AI\n",
      "----------------------------------------\n",
      "Student ID      : S-2\n",
      "Student name    : Bhagyashri\n",
      "Student Gender  : Female\n",
      "Student Course  : Fresher - ML\n",
      "----------------------------------------\n",
      "Student ID      : S-3\n",
      "Student name    : Sachin\n",
      "Student Gender  : Male\n",
      "Student Course  : Experience - CS\n",
      "----------------------------------------\n",
      "Student ID      : S-4\n",
      "Student name    : Divyanshu\n",
      "Student Gender  : Male\n",
      "Student Course  : Experience - ME\n",
      "----------------------------------------\n",
      "Student ID      : S-5\n",
      "Student name    : Koustubh\n",
      "Student Gender  : Male\n",
      "Student Course  : Experience - CS\n",
      "----------------------------------------\n"
     ]
    }
   ],
   "source": [
    "for x, student in enumerate(students, start=1):\n",
    "    print(f\"Student ID      : S-{x}\")\n",
    "    print(f\"Student name    : {student.get_name()}\")\n",
    "    print(f\"Student Gender  : {student.get_gender()}\")\n",
    "    print(f\"Student Course  : {student.get_course()}\")\n",
    "    print(\"-\"*40)"
   ]
  }
 ],
 "metadata": {
  "kernelspec": {
   "display_name": "Python 3",
   "language": "python",
   "name": "python3"
  },
  "language_info": {
   "codemirror_mode": {
    "name": "ipython",
    "version": 3
   },
   "file_extension": ".py",
   "mimetype": "text/x-python",
   "name": "python",
   "nbconvert_exporter": "python",
   "pygments_lexer": "ipython3",
   "version": "3.11.0"
  }
 },
 "nbformat": 4,
 "nbformat_minor": 2
}
