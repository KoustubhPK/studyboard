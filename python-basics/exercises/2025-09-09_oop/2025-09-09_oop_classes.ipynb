{
 "cells": [
  {
   "cell_type": "markdown",
   "metadata": {},
   "source": [
    "# Object-Oriented Programming"
   ]
  },
  {
   "cell_type": "markdown",
   "metadata": {},
   "source": [
    "It's programming paradigm that structures code around the concept of \"objects\" which are instances of \"classes\". This approach aims to model real-world entities and their interactions within a program, promoting modularity, reusability and maintainability.\n",
    "\n",
    "__Classes:__\n",
    "- A class serves as a blueprint or a template for creating objects. It defines the attributes (data) and methods (functions) that objects of that class will possess.\n",
    "    \n",
    "__Objects:__\n",
    "- An object is an instance of a class. When you create an object, it inherits the attributes and methods defined in its class. \n"
   ]
  },
  {
   "cell_type": "markdown",
   "metadata": {},
   "source": [
    "# Benefits of OOP\n",
    "\n",
    "__Modularity:__\n",
    "- Code is organized into self-contained units (objects), making it easier to manage and understand.\n",
    "\n",
    "__Reusability:__\n",
    "- Inheritance allows for the reuse of code from existing classes, reducing development time and effort.\n",
    "\n",
    "__Maintainability:__\n",
    "- Changes in one part of the code are less likely to affect other parts, simplifying debugging and updates.\n",
    "\n",
    "__Scalability:__\n",
    "- OP facilitates the development of large and complex applications by breaking them down into manageable components.\n",
    "\n",
    "__Real-world modeling:__\n",
    "- OOP's emphasis on objects and classes aligns well with modeling real-world entities and their behaviors, leading to more intuitive and understandable code."
   ]
  },
  {
   "cell_type": "markdown",
   "metadata": {},
   "source": [
    "# Core Concepts of OOP"
   ]
  },
  {
   "cell_type": "markdown",
   "metadata": {},
   "source": [
    "### Encapsulation:\n",
    "- This principle involves bundling data (attributes) and the methods that operate on that data within a single unit (the class). It also includes the concept of data hiding, where internal details of an object can be protected from external modification.\n",
    "\n",
    "### Inheritance:\n",
    "- Inheritance allows a new class (subclass or child class) to inherit attributes and methods from an existing class (superclass or parent class).\n",
    "\n",
    "### Polymorphism:\n",
    "- Polymorphism means \"many forms.\" In OOP, it refers to the ability of objects of different classes to respond to the same method call in their own specific ways, as long as they share a common interface or superclass.\n",
    "\n",
    "### Abstraction:\n",
    "- Abstraction focuses on hiding complex implementation details and exposing only the necessary functionalities to the user. This simplifies the interaction with objects and promotes a clearer understanding of their purpose."
   ]
  },
  {
   "cell_type": "markdown",
   "metadata": {},
   "source": [
    "# 1. Creating Class"
   ]
  },
  {
   "cell_type": "code",
   "execution_count": 1,
   "metadata": {},
   "outputs": [],
   "source": [
    "class MyMath():\n",
    "    var = \"this is class variable\"                               # class variable\n",
    "\n",
    "    def __init__(self, arg1, arg2):\n",
    "        self.arg1 = arg1\n",
    "        self.arg2 = int(arg2)\n",
    "\n",
    "    def add(self):\n",
    "        self.addition = self.arg1 + self.arg2\n",
    "        print(self.var)\n",
    "        return self.addition\n",
    "\n",
    "    def mult(self):\n",
    "        self.multiplication = self.arg1 * self.arg2\n",
    "        return self.multiplication"
   ]
  },
  {
   "cell_type": "markdown",
   "metadata": {},
   "source": [
    "# 1.1 Creating Object\n",
    "\n",
    "- Instantiating the class object with name __math_object__.\n",
    "- attribute values get assigned when object is created, i.e.: in our case arg1, arg2"
   ]
  },
  {
   "cell_type": "code",
   "execution_count": 2,
   "metadata": {},
   "outputs": [],
   "source": [
    "math_object = MyMath(10, 5)"
   ]
  },
  {
   "cell_type": "markdown",
   "metadata": {},
   "source": [
    "# 1.2 Accessing Attributes\n",
    "\n",
    "_here's I'm showing how to check assigned values from instance._"
   ]
  },
  {
   "cell_type": "code",
   "execution_count": 3,
   "metadata": {},
   "outputs": [
    {
     "name": "stdout",
     "output_type": "stream",
     "text": [
      "10\n",
      "5\n"
     ]
    }
   ],
   "source": [
    "print(math_object.arg1)\n",
    "print(math_object.arg2)"
   ]
  },
  {
   "cell_type": "markdown",
   "metadata": {},
   "source": [
    "# 1.3 Calling the Methods"
   ]
  },
  {
   "cell_type": "markdown",
   "metadata": {},
   "source": [
    "### >> calling approach: 1"
   ]
  },
  {
   "cell_type": "code",
   "execution_count": 4,
   "metadata": {},
   "outputs": [
    {
     "name": "stdout",
     "output_type": "stream",
     "text": [
      "this is class variable\n",
      "15\n",
      "50\n"
     ]
    }
   ],
   "source": [
    "print(math_object.add())\n",
    "print(math_object.mult())"
   ]
  },
  {
   "cell_type": "markdown",
   "metadata": {},
   "source": [
    "### >> calling approach: 2"
   ]
  },
  {
   "cell_type": "code",
   "execution_count": 5,
   "metadata": {},
   "outputs": [
    {
     "name": "stdout",
     "output_type": "stream",
     "text": [
      "this is class variable\n",
      "15\n",
      "18\n"
     ]
    }
   ],
   "source": [
    "print(MyMath(5,10).add())\n",
    "print(MyMath(3,6).mult())"
   ]
  },
  {
   "cell_type": "markdown",
   "metadata": {},
   "source": [
    "# 2. Creating Class"
   ]
  },
  {
   "cell_type": "code",
   "execution_count": 6,
   "metadata": {},
   "outputs": [],
   "source": [
    "class MyInfo():\n",
    "    state = \"Maharashtra\"\n",
    "\n",
    "    def person(self, name):\n",
    "        var = f\"Hi, I'm {name}...\"\n",
    "        return var\n",
    "    \n",
    "    def designation(self, role, city):\n",
    "        return f\"{role} from {city}.\""
   ]
  },
  {
   "cell_type": "markdown",
   "metadata": {},
   "source": [
    "# 2.1 Creating Object"
   ]
  },
  {
   "cell_type": "code",
   "execution_count": 7,
   "metadata": {},
   "outputs": [],
   "source": [
    "myinfo_obj = MyInfo()"
   ]
  },
  {
   "cell_type": "markdown",
   "metadata": {},
   "source": [
    "# 2.2 Calling the Methods"
   ]
  },
  {
   "cell_type": "markdown",
   "metadata": {},
   "source": [
    "### >> calling approach: 1"
   ]
  },
  {
   "cell_type": "code",
   "execution_count": 8,
   "metadata": {},
   "outputs": [
    {
     "name": "stdout",
     "output_type": "stream",
     "text": [
      "Hi, I'm Pramila...\n",
      "Designer from Pune.\n"
     ]
    }
   ],
   "source": [
    "print(myinfo_obj.person(\"Pramila\"))\n",
    "print(myinfo_obj.designation(\"Designer\", \"Pune\"))"
   ]
  },
  {
   "cell_type": "markdown",
   "metadata": {},
   "source": [
    "### >> calling approach: 2"
   ]
  },
  {
   "cell_type": "code",
   "execution_count": 9,
   "metadata": {},
   "outputs": [
    {
     "name": "stdout",
     "output_type": "stream",
     "text": [
      "Hi, I'm Bhagyashri...\n",
      "Python Developer from Mumbai.\n"
     ]
    }
   ],
   "source": [
    "print(MyInfo().person(\"Bhagyashri\"))\n",
    "print(MyInfo().designation(\"Python Developer\", \"Mumbai\"))"
   ]
  },
  {
   "cell_type": "markdown",
   "metadata": {},
   "source": [
    "# 3. Creating Class"
   ]
  },
  {
   "cell_type": "code",
   "execution_count": 10,
   "metadata": {},
   "outputs": [],
   "source": [
    "class EvenOdd():\n",
    "    def __init__(self,num):\n",
    "        self.num=num\n",
    "\n",
    "    def even(self):\n",
    "        return [x for x in range(self.num + 1) if x % 2 == 0]\n",
    "            \n",
    "    def odd(self):\n",
    "        return [x for x in range(self.num + 1) if x % 2 != 0]"
   ]
  },
  {
   "cell_type": "markdown",
   "metadata": {},
   "source": [
    "# 3.1 Creating Object"
   ]
  },
  {
   "cell_type": "code",
   "execution_count": 11,
   "metadata": {},
   "outputs": [],
   "source": [
    "even_odd_object =EvenOdd(10)"
   ]
  },
  {
   "cell_type": "markdown",
   "metadata": {},
   "source": [
    "# 3.2 Calling the Methods"
   ]
  },
  {
   "cell_type": "markdown",
   "metadata": {},
   "source": [
    "### >> calling method: even()"
   ]
  },
  {
   "cell_type": "code",
   "execution_count": 12,
   "metadata": {},
   "outputs": [
    {
     "data": {
      "text/plain": [
       "[0, 2, 4, 6, 8, 10]"
      ]
     },
     "execution_count": 12,
     "metadata": {},
     "output_type": "execute_result"
    }
   ],
   "source": [
    "even_odd_object.even()"
   ]
  },
  {
   "cell_type": "markdown",
   "metadata": {},
   "source": [
    "### >> calling method: odd()"
   ]
  },
  {
   "cell_type": "code",
   "execution_count": 13,
   "metadata": {},
   "outputs": [
    {
     "data": {
      "text/plain": [
       "[1, 3, 5, 7, 9]"
      ]
     },
     "execution_count": 13,
     "metadata": {},
     "output_type": "execute_result"
    }
   ],
   "source": [
    "even_odd_object.odd()"
   ]
  }
 ],
 "metadata": {
  "kernelspec": {
   "display_name": "Python 3",
   "language": "python",
   "name": "python3"
  },
  "language_info": {
   "codemirror_mode": {
    "name": "ipython",
    "version": 3
   },
   "file_extension": ".py",
   "mimetype": "text/x-python",
   "name": "python",
   "nbconvert_exporter": "python",
   "pygments_lexer": "ipython3",
   "version": "3.11.0"
  }
 },
 "nbformat": 4,
 "nbformat_minor": 2
}
