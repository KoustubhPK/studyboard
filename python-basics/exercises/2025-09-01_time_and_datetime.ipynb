{
 "cells": [
  {
   "cell_type": "markdown",
   "metadata": {},
   "source": [
    "# Time and Datetime"
   ]
  },
  {
   "cell_type": "markdown",
   "metadata": {},
   "source": [
    "### Time Module:\n",
    "    1. time.time()\n",
    "    2. time.sleep()\n",
    "    3. time.perf_counter()\n",
    "    4. time.localtime()\n",
    "\n",
    "### Datetime:\n",
    "    1. datetime.datetime():\n",
    "        datetime.datetime(datetime(year, month, day[, hour[, minute[, second[, microsecond[,tzinfo]]]]]))\n",
    "    2. datetime.datetime.now()\n",
    "    3. datetime.datetime.today()\n",
    "    4. datetime.datetime.today().date()\n",
    "    5. datetime.datetime.today().time()\n",
    "    6. datetime_object.date()\n",
    "    7. datetime_object.time()\n",
    "\n",
    "    8. datetime.timedelta():\n",
    "        timedelta(days=0, seconds=0, microseconds=0, milliseconds=0, minutes=0, hours=0, weeks=0)\n",
    "\n",
    "    9. datetime_object.strftime()\n",
    "    10. datetime.datetime.strptime(date_string, date_format)\n",
    "    11. datetime.datetime.combine(date, time)\n",
    "\n",
    "### zoneinfo:\n",
    "    1. current_datetime = datetime.datetime.now(zoneinfo.ZoneInfo(\"Asia/Kolkata\"))"
   ]
  }
 ],
 "metadata": {
  "language_info": {
   "name": "python"
  }
 },
 "nbformat": 4,
 "nbformat_minor": 2
}
