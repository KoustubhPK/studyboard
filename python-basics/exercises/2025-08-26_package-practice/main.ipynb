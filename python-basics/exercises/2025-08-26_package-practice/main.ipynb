{
 "cells": [
  {
   "cell_type": "markdown",
   "metadata": {},
   "source": [
    "# Packages\n",
    "\n",
    "This module contains reusable utility functions. Instead of writing the same logic again and again we can simply import functions from packages module whenever needed. Importing functions improves code reusability, readability & maintainability which making our programs more efficient and organized.\n",
    "\n",
    "### Our Packages Directory Stucture\n",
    "\n",
    "    2025-08-26_package-practice/\n",
    "        packages/\n",
    "            __init__.py\n",
    "            math_utils.py\n",
    "            patterns.py\n",
    "            string_utils.py\n",
    "        main.ipynb\n"
   ]
  },
  {
   "cell_type": "markdown",
   "metadata": {
    "vscode": {
     "languageId": "plaintext"
    }
   },
   "source": [
    "### math_utils\n"
   ]
  },
  {
   "cell_type": "code",
   "execution_count": 1,
   "metadata": {},
   "outputs": [
    {
     "name": "stdout",
     "output_type": "stream",
     "text": [
      "Addition: 11\n",
      "Factorial: 24\n"
     ]
    }
   ],
   "source": [
    "from packages.math_utils import add, factorial\n",
    "\n",
    "print(f\"Addition: {add(5,6)}\")\n",
    "print(f\"Factorial: {factorial(4)}\")"
   ]
  },
  {
   "cell_type": "markdown",
   "metadata": {},
   "source": [
    "### patterns\n"
   ]
  },
  {
   "cell_type": "code",
   "execution_count": 2,
   "metadata": {},
   "outputs": [
    {
     "name": "stdout",
     "output_type": "stream",
     "text": [
      "Pyramid:\n",
      "     * \n",
      "   * * \n",
      "  * * * \n",
      " * * * * \n",
      "* * * * * \n",
      "\n",
      "Diamond:\n",
      "     * \n",
      "   * * \n",
      "  * * * \n",
      " * * * * \n",
      "* * * * * \n",
      " * * * * \n",
      "  * * * \n",
      "   * * \n",
      "    * \n",
      "\n",
      "Square:\n",
      " * * * * * \n",
      "* * * * * \n",
      "* * * * * \n",
      "* * * * * \n",
      "* * * * * \n"
     ]
    }
   ],
   "source": [
    "from packages.patterns import pyramid, diamond, square\n",
    "\n",
    "print(\"Pyramid:\\n\", pyramid(5))\n",
    "print(\"\\nDiamond:\\n\", diamond(5))\n",
    "print(\"\\nSquare:\\n\", square(5))"
   ]
  },
  {
   "cell_type": "markdown",
   "metadata": {},
   "source": [
    "### string_utils\n"
   ]
  },
  {
   "cell_type": "code",
   "execution_count": 3,
   "metadata": {},
   "outputs": [
    {
     "name": "stdout",
     "output_type": "stream",
     "text": [
      "The most occurred character is 'r' with 7 times.\n"
     ]
    }
   ],
   "source": [
    "from packages.string_utils import most_occurred_char\n",
    "\n",
    "text = \"Returns the most occurred character and its frequency in a string.\"\n",
    "char, count = most_occurred_char(text)\n",
    "print(f\"The most occurred character is '{char}' with {count} times.\")"
   ]
  }
 ],
 "metadata": {
  "kernelspec": {
   "display_name": "Python 3",
   "language": "python",
   "name": "python3"
  },
  "language_info": {
   "codemirror_mode": {
    "name": "ipython",
    "version": 3
   },
   "file_extension": ".py",
   "mimetype": "text/x-python",
   "name": "python",
   "nbconvert_exporter": "python",
   "pygments_lexer": "ipython3",
   "version": "3.11.0"
  }
 },
 "nbformat": 4,
 "nbformat_minor": 2
}
