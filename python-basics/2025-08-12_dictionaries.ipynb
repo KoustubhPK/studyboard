{
 "cells": [
  {
   "cell_type": "markdown",
   "id": "ed69811d-0c92-4432-a343-54b6379933b9",
   "metadata": {},
   "source": [
    "# Dictionaries "
   ]
  },
  {
   "cell_type": "code",
   "execution_count": null,
   "id": "cb430802-b66d-4348-ad32-dc23a87e0f33",
   "metadata": {},
   "outputs": [],
   "source": [
    "mark_dict = {\"phy\":75, \"math\":86, \"phy\":86, \"chem\":65}\n",
    "res = {}\n",
    "\n",
    "for marks in sorted(mark_dict.keys()):\n",
    "    print(marks.capitalize())"
   ]
  },
  {
   "cell_type": "code",
   "execution_count": null,
   "id": "7460dee7-cc03-452e-8c92-290b9a785935",
   "metadata": {},
   "outputs": [],
   "source": [
    "subject = ['phy', 'math', 'phy', 'chem']\n",
    "marks = [75,86,86,65]\n",
    "\n",
    "sub_to_dict = {}\n",
    "\n",
    "# Simple Aproach\n",
    "for i in range(len(subject)):\n",
    "    sub_to_dict[subject[i]] = marks[i]\n",
    "print(sub_to_dict)"
   ]
  },
  {
   "cell_type": "code",
   "execution_count": null,
   "metadata": {},
   "outputs": [],
   "source": [
    "sub_to_dict1 = {}\n",
    "\n",
    "# to update duplicates\n",
    "for i in range(len(subject)):\n",
    "    sub_to_dict1.setdefault(subject[i],[]).append(marks[i])\n",
    "print(sub_to_dict1)"
   ]
  }
 ],
 "metadata": {
  "kernelspec": {
   "display_name": "Python 3",
   "language": "python",
   "name": "python3"
  },
  "language_info": {
   "codemirror_mode": {
    "name": "ipython",
    "version": 3
   },
   "file_extension": ".py",
   "mimetype": "text/x-python",
   "name": "python",
   "nbconvert_exporter": "python",
   "pygments_lexer": "ipython3",
   "version": "3.11.0"
  }
 },
 "nbformat": 4,
 "nbformat_minor": 5
}
