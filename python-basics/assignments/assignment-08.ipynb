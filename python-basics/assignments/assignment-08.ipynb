{
 "cells": [
  {
   "cell_type": "markdown",
   "metadata": {},
   "source": [
    "# Topics: Time and Datetime"
   ]
  },
  {
   "cell_type": "code",
   "execution_count": 1,
   "metadata": {},
   "outputs": [],
   "source": [
    "import datetime"
   ]
  },
  {
   "cell_type": "markdown",
   "metadata": {},
   "source": [
    "9. What is the significance of the timedelta class in the datetime module?"
   ]
  },
  {
   "cell_type": "code",
   "execution_count": 2,
   "metadata": {},
   "outputs": [
    {
     "name": "stdout",
     "output_type": "stream",
     "text": [
      "********* timedelta() *********\n",
      "<class 'datetime.timedelta'>\n",
      "7 days, 5:10:15 \n",
      "\n",
      "********* datetime() *********\n",
      "<class 'datetime.datetime'>\n",
      "current date & time: 2025-09-03 20:56:51.619171\n"
     ]
    }
   ],
   "source": [
    "\"\"\"\n",
    "timedelta:\n",
    "    - In Python's datetime module, timedelta is a class that represents a duration\n",
    "    - or the difference between two datetime or date objects\n",
    "\n",
    "datetime:\n",
    "    - datetime refers to a specific class within the built-in datetime module.\n",
    "    - This class represents a single point in time, combining both date and time information.\n",
    "    - datetie model has multiple mthods such as datetime.now(), datetime.time()\n",
    "\"\"\"\n",
    "\n",
    "print(f\"{'*'*9} timedelta() {'*'*9}\")\n",
    "var = datetime.timedelta(days=7, hours=5,minutes=10, seconds=15)\n",
    "print(type(var))\n",
    "print(var,\"\\n\")\n",
    "\n",
    "print(f\"{'*'*9} datetime() {'*'*9}\")\n",
    "my_date = datetime.datetime.now()\n",
    "print(type(my_date))\n",
    "print(f\"current date & time: {my_date}\")\n"
   ]
  },
  {
   "cell_type": "markdown",
   "metadata": {},
   "source": [
    "10. Write a Python script to display the various Date Time formats:\n",
    "\n",
    "    1. Current date and time\n",
    "    2. Current year\n",
    "    3. Month of year\n",
    "    4. Week number of the year\n",
    "    5. Weekday of the week\n",
    "    6. Day of year\n",
    "    7. Day of the month\n",
    "    8. Day of week"
   ]
  },
  {
   "cell_type": "code",
   "execution_count": 3,
   "metadata": {},
   "outputs": [
    {
     "name": "stdout",
     "output_type": "stream",
     "text": [
      "********** Displaying Date Time Formats **********\n",
      "\n",
      "1. Current date and time   : 2025-09-03 20:56:51.633254\n",
      "2. Current year            : 2025\n",
      "3. Month of year           : 9\n",
      "4. Week number of the year : 36\n",
      "5. Weekday of the week     : 2\n",
      "6. Day of year             : 246\n",
      "7. Day of the month        : 9\n",
      "8. Day of week             : 2\n"
     ]
    }
   ],
   "source": [
    "print(f\"{'*'*10} Displaying Date Time Formats {'*'*10}\\n\")\n",
    "\n",
    "current_date_time = datetime.datetime.now()\n",
    "print(f\"1. Current date and time   : {current_date_time}\")\n",
    "\n",
    "current_year = current_date_time.year\n",
    "print(f\"2. Current year            : {current_year}\")\n",
    "\n",
    "month_of_year = current_date_time.month\n",
    "print(f\"3. Month of year           : {month_of_year}\")\n",
    "\n",
    "week_number_of_year = current_date_time.isocalendar()\n",
    "print(f\"4. Week number of the year : {week_number_of_year[1]}\")\n",
    "\n",
    "weekday_of_week = current_date_time.weekday()\n",
    "print(f\"5. Weekday of the week     : {weekday_of_week}\")\n",
    "\n",
    "day_of_year = current_date_time.timetuple()\n",
    "# day_of_year1 = current_date_time.timetuple().tm_yday    # specifir tm_yday\n",
    "print(f\"6. Day of year             : {day_of_year[7]}\")\n",
    "\n",
    "day_of_month = current_date_time.timetuple()\n",
    "print(f\"7. Day of the month        : {day_of_month[1]}\")\n",
    "\n",
    "day_of_week = current_date_time.timetuple()\n",
    "print(f\"8. Day of week             : {day_of_week[6]}\")"
   ]
  },
  {
   "cell_type": "markdown",
   "metadata": {},
   "source": [
    "11. Python program to convert a string to datetime.\n",
    "\n",
    "    1. Sample String: Jan 1 2024\n",
    "    2. Expected Output: 2024-01-01"
   ]
  },
  {
   "cell_type": "code",
   "execution_count": 4,
   "metadata": {},
   "outputs": [
    {
     "name": "stdout",
     "output_type": "stream",
     "text": [
      "********* Convert Datetime: year-month-day *********\n",
      "Formatted Datetime : 2024-01-01\n"
     ]
    }
   ],
   "source": [
    "print(f\"{'*'*9} Convert Datetime: year-month-day {'*'*9}\")\n",
    "sample_str = \"Jan 1 2024\"\n",
    "date = datetime.datetime.strptime(sample_str, \"%b %d %Y\") \n",
    "result = date.strftime(\"%Y-%m-%d\")\n",
    "print(f\"Formatted Datetime : {result}\")"
   ]
  },
  {
   "cell_type": "markdown",
   "metadata": {},
   "source": [
    "12. Format the current date as \"Day Month Year\" (\"13 July 2024\")."
   ]
  },
  {
   "cell_type": "code",
   "execution_count": 5,
   "metadata": {},
   "outputs": [
    {
     "name": "stdout",
     "output_type": "stream",
     "text": [
      "********* Format Datetime: day-month-year *********\n",
      "Current date object     : 2025-09-03\n",
      "Formatted date string   : 03 Sep 2025\n"
     ]
    }
   ],
   "source": [
    "print(f\"{'*'*9} Format Datetime: day-month-year {'*'*9}\")\n",
    "current_date = datetime.datetime.now().date()\n",
    "print(f\"Current date object     : {current_date}\")\n",
    "\n",
    "result = current_date.strftime(\"%d %b %Y\")\n",
    "print(f\"Formatted date string   : {result}\")"
   ]
  }
 ],
 "metadata": {
  "kernelspec": {
   "display_name": "Python 3",
   "language": "python",
   "name": "python3"
  },
  "language_info": {
   "codemirror_mode": {
    "name": "ipython",
    "version": 3
   },
   "file_extension": ".py",
   "mimetype": "text/x-python",
   "name": "python",
   "nbconvert_exporter": "python",
   "pygments_lexer": "ipython3",
   "version": "3.11.0"
  }
 },
 "nbformat": 4,
 "nbformat_minor": 2
}
