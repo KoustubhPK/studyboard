{
 "cells": [
  {
   "cell_type": "markdown",
   "metadata": {},
   "source": [
    "# Topics: Datetime and Exception Handling"
   ]
  },
  {
   "cell_type": "code",
   "execution_count": 1,
   "metadata": {},
   "outputs": [],
   "source": [
    "import time\n",
    "import datetime"
   ]
  },
  {
   "cell_type": "markdown",
   "metadata": {},
   "source": [
    "1. What is the purpose of the time module in Python?"
   ]
  },
  {
   "cell_type": "code",
   "execution_count": 2,
   "metadata": {},
   "outputs": [
    {
     "name": "stdout",
     "output_type": "stream",
     "text": [
      "********* Current Time *********\n",
      "Thu Sep  4 14:06:04 2025 \n",
      "\n",
      "********* Epoch Convrsion *********\n",
      "time.struct_time(tm_year=2025, tm_mon=9, tm_mday=4, tm_hour=8, tm_min=36, tm_sec=4, tm_wday=3, tm_yday=247, tm_isdst=0) \n",
      "\n",
      "********* Format Time *********\n",
      "2025-Sep-04\n"
     ]
    }
   ],
   "source": [
    "\"\"\"\n",
    "# Purpose:\n",
    "    1. It allows to get current time\n",
    "    2. We can control the execution of the program.\n",
    "    3. It can also helps to conversion of time and it's formatting.\n",
    "\n",
    "# Steps:\n",
    "    1. import time\n",
    "\"\"\"\n",
    "\n",
    "# E.g.:\n",
    "print(f\"{'*'*9} Current Time {'*'*9}\")\n",
    "print(time.ctime(), \"\\n\")\n",
    "\n",
    "print(f\"{'*'*9} Epoch Convrsion {'*'*9}\")\n",
    "print(time.gmtime(), \"\\n\")\n",
    "\n",
    "print(f\"{'*'*9} Format Time {'*'*9}\")\n",
    "print(time.strftime(\"%Y-%b-%d\", time.gmtime(time.time())))\n"
   ]
  },
  {
   "cell_type": "markdown",
   "metadata": {},
   "source": [
    "2. What is the purpose of time.time()?"
   ]
  },
  {
   "cell_type": "code",
   "execution_count": 3,
   "metadata": {},
   "outputs": [
    {
     "name": "stdout",
     "output_type": "stream",
     "text": [
      "********* Epoch Time *********\n",
      "Timestamp: 1756974964.2652001 \n",
      "\n",
      "********* Calculate Execution Time *********\n",
      "Time elapsed: 0.004986286163330078\n"
     ]
    }
   ],
   "source": [
    "\"\"\"\n",
    "# Purpose:\n",
    "    1. It is commonly use to measure the duration of code execution. \n",
    "    2. It provide high precision numeric time stamps to create unique records. \n",
    "\n",
    "# Syntax:\n",
    "    time.time()\n",
    "\"\"\"\n",
    "\n",
    "# E.g.:\n",
    "print(f\"{'*'*9} Epoch Time {'*'*9}\")\n",
    "print(\"Timestamp:\",time.time(),\"\\n\")\n",
    "\n",
    "print(f\"{'*'*9} Calculate Execution Time {'*'*9}\")\n",
    "start_time = time.time()\n",
    "for x in range(100000):\n",
    "    pass\n",
    "print(f\"Time elapsed: {time.time()-start_time}\")"
   ]
  },
  {
   "cell_type": "markdown",
   "metadata": {},
   "source": [
    "3. Explain the purpose of the time.sleep() function in the time module."
   ]
  },
  {
   "cell_type": "code",
   "execution_count": 4,
   "metadata": {},
   "outputs": [
    {
     "name": "stdout",
     "output_type": "stream",
     "text": [
      "********* Program Sleep *********\n",
      "my sleep count: 1\n",
      "my sleep count: 2\n",
      "my sleep count: 3\n"
     ]
    }
   ],
   "source": [
    "\"\"\"\n",
    "# Purpose:\n",
    "    1. It pauses the execution of current thread for specific duration. \n",
    "    2. Helps in networking to await for resources to ready before code execution.\n",
    "\n",
    "# Syntax:\n",
    "    time.sleep(time_duration)\n",
    "\"\"\"\n",
    "\n",
    "# E.g.:\n",
    "print(f\"{'*'*9} Program Sleep {'*'*9}\")\n",
    "for x in range(1,4):\n",
    "    print(f\"my sleep count: {x}\")\n",
    "    time.sleep(1)"
   ]
  },
  {
   "cell_type": "markdown",
   "metadata": {},
   "source": [
    "4. Explain the difference between time.sleep() and time.delay()."
   ]
  },
  {
   "cell_type": "code",
   "execution_count": 5,
   "metadata": {},
   "outputs": [],
   "source": [
    "\"\"\"\n",
    "There is no any function time.delay() available in python\n",
    "\"\"\"\n",
    "pass"
   ]
  },
  {
   "cell_type": "markdown",
   "metadata": {},
   "source": [
    "5. How do you create a datetime object representing the current date and time?"
   ]
  },
  {
   "cell_type": "code",
   "execution_count": 6,
   "metadata": {},
   "outputs": [
    {
     "name": "stdout",
     "output_type": "stream",
     "text": [
      "*********** Datetime Object ***********\n",
      "Object      : <class 'datetime.datetime'>\n",
      "Date & Time : 2025-09-04 14:06:07.330453\n"
     ]
    }
   ],
   "source": [
    "print(f\"{'*'*11} Datetime Object {'*'*11}\")\n",
    "date_time_obj = datetime.datetime.now()\n",
    "print(f\"Object      : {type(date_time_obj)}\\nDate & Time : {date_time_obj}\")"
   ]
  },
  {
   "cell_type": "markdown",
   "metadata": {},
   "source": [
    "6. Explain the purpose of the strftime method in the datetime module. Provide an example."
   ]
  },
  {
   "cell_type": "code",
   "execution_count": 7,
   "metadata": {},
   "outputs": [
    {
     "name": "stdout",
     "output_type": "stream",
     "text": [
      "****** Date-Month(str)-Year *******\n",
      "04-Sep-2025 \n",
      "\n",
      "********* Date-Month-Year *********\n",
      "04-09-2025 \n",
      "\n",
      "****** Year-Month(str)-Date *******\n",
      "2025-Sep-04 \n",
      "\n",
      "********* Year-Month-Date *********\n",
      "2025-09-04 \n",
      "\n"
     ]
    }
   ],
   "source": [
    "\"\"\"\n",
    "# Purpose:\n",
    "    The method strftime() use to format the date and time with multiple conventions.\n",
    "\n",
    "# Steps:\n",
    "    import datetime\n",
    "\n",
    "# Syntax:\n",
    "    datetime.datetime.strftime(datetime.datetime.now(), \"conventions\")\n",
    "\"\"\"\n",
    "\n",
    "# E.g.:\n",
    "print(f\"{'*'*6} Date-Month(str)-Year {'*'*7}\")\n",
    "print(datetime.datetime.strftime(datetime.datetime.now(), \"%d-%b-%Y\"),\"\\n\")\n",
    "\n",
    "print(f\"{'*'*9} Date-Month-Year {'*'*9}\")\n",
    "print(datetime.datetime.strftime(datetime.datetime.now(), \"%d-%m-%Y\"),\"\\n\")\n",
    "\n",
    "print(f\"{'*'*6} Year-Month(str)-Date {'*'*7}\")\n",
    "print(datetime.datetime.strftime(datetime.datetime.now(), \"%Y-%b-%d\"),\"\\n\")\n",
    "\n",
    "print(f\"{'*'*9} Year-Month-Date {'*'*9}\")\n",
    "print(datetime.datetime.strftime(datetime.datetime.now(), \"%Y-%m-%d\"),\"\\n\")"
   ]
  },
  {
   "cell_type": "markdown",
   "metadata": {},
   "source": [
    "7. What is the datetime.strptime() method used for?"
   ]
  },
  {
   "cell_type": "code",
   "execution_count": 8,
   "metadata": {},
   "outputs": [
    {
     "name": "stdout",
     "output_type": "stream",
     "text": [
      "****** Date Format: Y-m-d *******\n",
      "2025-09-04 00:00:00 \n",
      "\n",
      "****** Date Format: Y-b-d *******\n",
      "2025-09-03 00:00:00 \n",
      "\n"
     ]
    }
   ],
   "source": [
    "\"\"\"\n",
    "# Purpose:\n",
    "    The method strptime() use to convert the string date or time to datetime object.\n",
    "\n",
    "# Steps:\n",
    "    import datetime\n",
    "\n",
    "# Syntax:\n",
    "    datetime.datetime.strptime(\"2025-Sep-01\", \"conventions\")\n",
    "\"\"\"\n",
    "\n",
    "# E.g.:\n",
    "print(f\"{'*'*6} Date Format: Y-m-d {'*'*7}\")\n",
    "print(datetime.datetime.strptime(str(datetime.datetime.now().date()), \"%Y-%m-%d\"),\"\\n\")\n",
    "\n",
    "print(f\"{'*'*6} Date Format: Y-b-d {'*'*7}\")\n",
    "print(datetime.datetime.strptime(\"2025 sep, 03\", \"%Y %b, %d\"),\"\\n\")"
   ]
  },
  {
   "cell_type": "markdown",
   "metadata": {},
   "source": [
    "8. How do you parse a string representing a date and time into a datetime object?"
   ]
  },
  {
   "cell_type": "code",
   "execution_count": 9,
   "metadata": {},
   "outputs": [
    {
     "name": "stdout",
     "output_type": "stream",
     "text": [
      "********* Date Time Object *********\n",
      "Object    : <class 'datetime.datetime'>\n",
      "Formatted : 2017-01-12 07:32:14\n"
     ]
    }
   ],
   "source": [
    "\"\"\"\n",
    "We can pass the string presentation of date and time into datetime object by using strptime() method.\n",
    "\"\"\"\n",
    "\n",
    "# E.g.:\n",
    "print(f\"{'*'*9} Date Time Object {'*'*9}\")\n",
    "date_time_string = \"12-Jan-2017 07:32:14\"\n",
    "date_time_object = datetime.datetime.strptime(date_time_string, \"%d-%b-%Y %H:%M:%S\")\n",
    "print(f\"Object    : {type(date_time_object)}\")\n",
    "print(f\"Formatted : {date_time_object}\")"
   ]
  },
  {
   "cell_type": "markdown",
   "metadata": {},
   "source": [
    "9. What is the significance of the timedelta class in the datetime module?"
   ]
  },
  {
   "cell_type": "code",
   "execution_count": 10,
   "metadata": {},
   "outputs": [
    {
     "name": "stdout",
     "output_type": "stream",
     "text": [
      "********* timedelta() *********\n",
      "<class 'datetime.timedelta'>\n",
      "7 days, 5:10:15 \n",
      "\n",
      "********* datetime() *********\n",
      "<class 'datetime.datetime'>\n",
      "current date & time: 2025-09-04 14:06:07.378931\n"
     ]
    }
   ],
   "source": [
    "\"\"\"\n",
    "timedelta:\n",
    "    - In Python's datetime module, timedelta is a class that represents a duration\n",
    "    - or the difference between two datetime or date objects\n",
    "\n",
    "datetime:\n",
    "    - datetime refers to a specific class within the built-in datetime module.\n",
    "    - This class represents a single point in time, combining both date and time information.\n",
    "    - datetie model has multiple mthods such as datetime.now(), datetime.time()\n",
    "\"\"\"\n",
    "\n",
    "# E.g.:\n",
    "print(f\"{'*'*9} timedelta() {'*'*9}\")\n",
    "var = datetime.timedelta(days=7, hours=5,minutes=10, seconds=15)\n",
    "print(type(var))\n",
    "print(var,\"\\n\")\n",
    "\n",
    "print(f\"{'*'*9} datetime() {'*'*9}\")\n",
    "my_date = datetime.datetime.now()\n",
    "print(type(my_date))\n",
    "print(f\"current date & time: {my_date}\")\n"
   ]
  },
  {
   "cell_type": "markdown",
   "metadata": {},
   "source": [
    "10. Write a Python script to display the various Date Time formats:\n",
    "\n",
    "    1. Current date and time\n",
    "    2. Current year\n",
    "    3. Month of year\n",
    "    4. Week number of the year\n",
    "    5. Weekday of the week\n",
    "    6. Day of year\n",
    "    7. Day of the month\n",
    "    8. Day of week"
   ]
  },
  {
   "cell_type": "code",
   "execution_count": 11,
   "metadata": {},
   "outputs": [
    {
     "name": "stdout",
     "output_type": "stream",
     "text": [
      "********** Displaying Date Time Formats **********\n",
      "\n",
      "1. Current date and time   : 2025-09-04 14:06:07.389167\n",
      "2. Current year            : 2025\n",
      "3. Month of year           : 9\n",
      "4. Week number of the year : 36\n",
      "5. Weekday of the week     : 3\n",
      "6. Day of year             : 247\n",
      "7. Day of the month        : 9\n",
      "8. Day of week             : 3\n"
     ]
    }
   ],
   "source": [
    "print(f\"{'*'*10} Displaying Date Time Formats {'*'*10}\\n\")\n",
    "\n",
    "current_date_time = datetime.datetime.now()\n",
    "print(f\"1. Current date and time   : {current_date_time}\")\n",
    "\n",
    "current_year = current_date_time.year\n",
    "print(f\"2. Current year            : {current_year}\")\n",
    "\n",
    "month_of_year = current_date_time.month\n",
    "print(f\"3. Month of year           : {month_of_year}\")\n",
    "\n",
    "week_number_of_year = current_date_time.isocalendar()\n",
    "print(f\"4. Week number of the year : {week_number_of_year[1]}\")\n",
    "\n",
    "weekday_of_week = current_date_time.weekday()\n",
    "print(f\"5. Weekday of the week     : {weekday_of_week}\")\n",
    "\n",
    "day_of_year = current_date_time.timetuple()\n",
    "# day_of_year1 = current_date_time.timetuple().tm_yday    # specifir tm_yday\n",
    "print(f\"6. Day of year             : {day_of_year[7]}\")\n",
    "\n",
    "day_of_month = current_date_time.timetuple()\n",
    "print(f\"7. Day of the month        : {day_of_month[1]}\")\n",
    "\n",
    "day_of_week = current_date_time.timetuple()\n",
    "print(f\"8. Day of week             : {day_of_week[6]}\")"
   ]
  },
  {
   "cell_type": "markdown",
   "metadata": {},
   "source": [
    "11. Python program to convert a string to datetime.\n",
    "\n",
    "    1. Sample String: Jan 1 2024\n",
    "    2. Expected Output: 2024-01-01"
   ]
  },
  {
   "cell_type": "code",
   "execution_count": 12,
   "metadata": {},
   "outputs": [
    {
     "name": "stdout",
     "output_type": "stream",
     "text": [
      "********* Convert Datetime: year-month-day *********\n",
      "Formatted Datetime : 2024-01-01\n"
     ]
    }
   ],
   "source": [
    "print(f\"{'*'*9} Convert Datetime: year-month-day {'*'*9}\")\n",
    "sample_str = \"Jan 1 2024\"\n",
    "date = datetime.datetime.strptime(sample_str, \"%b %d %Y\") \n",
    "result = date.strftime(\"%Y-%m-%d\")\n",
    "print(f\"Formatted Datetime : {result}\")"
   ]
  },
  {
   "cell_type": "markdown",
   "metadata": {},
   "source": [
    "12. Format the current date as \"Day Month Year\" (\"13 July 2024\")."
   ]
  },
  {
   "cell_type": "code",
   "execution_count": 13,
   "metadata": {},
   "outputs": [
    {
     "name": "stdout",
     "output_type": "stream",
     "text": [
      "********* Format Datetime: day-month-year *********\n",
      "Current date object     : 2025-09-04\n",
      "Formatted date string   : 04 Sep 2025\n"
     ]
    }
   ],
   "source": [
    "print(f\"{'*'*9} Format Datetime: day-month-year {'*'*9}\")\n",
    "current_date = datetime.datetime.now().date()\n",
    "print(f\"Current date object     : {current_date}\")\n",
    "\n",
    "result = current_date.strftime(\"%d %b %Y\")\n",
    "print(f\"Formatted date string   : {result}\")"
   ]
  },
  {
   "cell_type": "markdown",
   "metadata": {},
   "source": [
    "13. Python program to subtract five days from the current date."
   ]
  },
  {
   "cell_type": "code",
   "execution_count": 14,
   "metadata": {},
   "outputs": [
    {
     "name": "stdout",
     "output_type": "stream",
     "text": [
      "********* Subtract 5 Days *********\n",
      "Today      : 2025-09-04\n",
      "5 days ago : 2025-08-30\n"
     ]
    }
   ],
   "source": [
    "print(f\"{'*'*9} Subtract 5 Days {'*'*9}\")\n",
    "current_date = datetime.datetime.now().date()\n",
    "five_days_ago = current_date - datetime.timedelta(days=5)\n",
    "print(\"Today      :\", current_date)\n",
    "print(\"5 days ago :\", five_days_ago)"
   ]
  },
  {
   "cell_type": "markdown",
   "metadata": {},
   "source": [
    "14. Python program to print yesterday, today, and tomorrow."
   ]
  },
  {
   "cell_type": "code",
   "execution_count": 15,
   "metadata": {},
   "outputs": [
    {
     "name": "stdout",
     "output_type": "stream",
     "text": [
      "********* Dates: *********\n",
      "Yesterday  : 2025-09-03\n",
      "Today      : 2025-09-04\n",
      "Tomorrow   : 2025-09-05\n"
     ]
    }
   ],
   "source": [
    "print(f\"{'*'*9} Dates: {'*'*9}\")\n",
    "current_date = datetime.datetime.now().date()\n",
    "print(\"Yesterday  :\", current_date - datetime.timedelta(days=1))\n",
    "print(\"Today      :\", current_date)\n",
    "print(\"Tomorrow   :\", current_date + datetime.timedelta(days=1))"
   ]
  },
  {
   "cell_type": "markdown",
   "metadata": {},
   "source": [
    "15. Python program to print the next 5 days starting from today."
   ]
  },
  {
   "cell_type": "code",
   "execution_count": 16,
   "metadata": {},
   "outputs": [
    {
     "name": "stdout",
     "output_type": "stream",
     "text": [
      "********* Today + Next 5 Days *********\n",
      "2025-09-04\n",
      "2025-09-05\n",
      "2025-09-06\n",
      "2025-09-07\n",
      "2025-09-08\n",
      "2025-09-09\n"
     ]
    }
   ],
   "source": [
    "print(f\"{'*'*9} Today + Next 5 Days {'*'*9}\")\n",
    "current_date = datetime.datetime.now().date()\n",
    "\n",
    "for x in range(6):\n",
    "    print(current_date + datetime.timedelta(days=x))\n"
   ]
  },
  {
   "cell_type": "markdown",
   "metadata": {},
   "source": [
    "16. Python program to add 10 hours to the current time and print the result."
   ]
  },
  {
   "cell_type": "code",
   "execution_count": 17,
   "metadata": {},
   "outputs": [
    {
     "name": "stdout",
     "output_type": "stream",
     "text": [
      "********* Add 10 Hours *********\n",
      "Now      : 14:06:07.451681\n",
      "After 10 : 00:06:07.451681\n"
     ]
    }
   ],
   "source": [
    "print(f\"{'*'*9} Add 10 Hours {'*'*9}\")\n",
    "current_time = datetime.datetime.now()\n",
    "a = current_time + datetime.timedelta(hours=10)\n",
    "print(\"Now      :\", current_time.time())\n",
    "print(\"After 10 :\", a.time())"
   ]
  },
  {
   "cell_type": "markdown",
   "metadata": {},
   "source": [
    "17. Python program to determine whether a given year is a leap year."
   ]
  },
  {
   "cell_type": "code",
   "execution_count": 18,
   "metadata": {},
   "outputs": [
    {
     "name": "stdout",
     "output_type": "stream",
     "text": [
      "2024 is a Leap Year\n"
     ]
    }
   ],
   "source": [
    "year = 2024\n",
    "if (year % 4 == 0 and year % 100 != 0) or (year % 400 == 0):\n",
    "    print(year, \"is a Leap Year\")\n",
    "else:\n",
    "    print(year, \"is Not a Leap Year\")"
   ]
  },
  {
   "cell_type": "markdown",
   "metadata": {},
   "source": [
    "18. Python program to find the date of the first Monday of a given week."
   ]
  },
  {
   "cell_type": "code",
   "execution_count": 19,
   "metadata": {},
   "outputs": [
    {
     "name": "stdout",
     "output_type": "stream",
     "text": [
      "********* 1st Monday Of Week *********\n",
      "The first Monday of week 36 in 2025 is: 2025-09-01\n"
     ]
    }
   ],
   "source": [
    "print(f\"{'*'*9} 1st Monday Of Week {'*'*9}\")\n",
    "year = 2025\n",
    "week = 36\n",
    "first_monday = datetime.datetime.fromisocalendar(year, week, 1)\n",
    "print(f\"The first Monday of week {week} in {year} is:\", first_monday.date())"
   ]
  },
  {
   "cell_type": "markdown",
   "metadata": {},
   "source": [
    "19. Python program to select all the Sundays of a specified year."
   ]
  },
  {
   "cell_type": "code",
   "execution_count": 20,
   "metadata": {},
   "outputs": [
    {
     "name": "stdout",
     "output_type": "stream",
     "text": [
      "********* All Sundays in 2025 *********\n",
      "[datetime.date(2025, 1, 5), datetime.date(2025, 1, 12), datetime.date(2025, 1, 19), datetime.date(2025, 1, 26), datetime.date(2025, 2, 2), datetime.date(2025, 2, 9), datetime.date(2025, 2, 16), datetime.date(2025, 2, 23), datetime.date(2025, 3, 2), datetime.date(2025, 3, 9), datetime.date(2025, 3, 16), datetime.date(2025, 3, 23), datetime.date(2025, 3, 30), datetime.date(2025, 4, 6), datetime.date(2025, 4, 13), datetime.date(2025, 4, 20), datetime.date(2025, 4, 27), datetime.date(2025, 5, 4), datetime.date(2025, 5, 11), datetime.date(2025, 5, 18), datetime.date(2025, 5, 25), datetime.date(2025, 6, 1), datetime.date(2025, 6, 8), datetime.date(2025, 6, 15), datetime.date(2025, 6, 22), datetime.date(2025, 6, 29), datetime.date(2025, 7, 6), datetime.date(2025, 7, 13), datetime.date(2025, 7, 20), datetime.date(2025, 7, 27), datetime.date(2025, 8, 3), datetime.date(2025, 8, 10), datetime.date(2025, 8, 17), datetime.date(2025, 8, 24), datetime.date(2025, 8, 31), datetime.date(2025, 9, 7), datetime.date(2025, 9, 14), datetime.date(2025, 9, 21), datetime.date(2025, 9, 28), datetime.date(2025, 10, 5), datetime.date(2025, 10, 12), datetime.date(2025, 10, 19), datetime.date(2025, 10, 26), datetime.date(2025, 11, 2), datetime.date(2025, 11, 9), datetime.date(2025, 11, 16), datetime.date(2025, 11, 23), datetime.date(2025, 11, 30), datetime.date(2025, 12, 7), datetime.date(2025, 12, 14), datetime.date(2025, 12, 21), datetime.date(2025, 12, 28)]\n"
     ]
    }
   ],
   "source": [
    "year = 2025\n",
    "sundays = []\n",
    "d = datetime.date(year, 1, 1)\n",
    "\n",
    "while d.weekday() != 6:\n",
    "    d += datetime.timedelta(days=1)\n",
    "\n",
    "while d.year == year:\n",
    "    sundays.append(d)\n",
    "    d += datetime.timedelta(days=7)\n",
    "\n",
    "list_of_sunday = list()\n",
    "for s in sundays:\n",
    "    list_of_sunday.append(s)\n",
    "\n",
    "print(f\"{'*'*9} All Sundays in {year} {'*'*9}\")\n",
    "print(list_of_sunday)"
   ]
  },
  {
   "cell_type": "markdown",
   "metadata": {},
   "source": [
    "20. Python program to calculate the number of days between two dates."
   ]
  },
  {
   "cell_type": "code",
   "execution_count": 21,
   "metadata": {},
   "outputs": [
    {
     "name": "stdout",
     "output_type": "stream",
     "text": [
      "********* datetime.date() *********\n",
      "4 \n",
      "\n",
      "******* datetime.strptime() *******\n",
      "47\n"
     ]
    }
   ],
   "source": [
    "# Approach - 1\n",
    "print(f\"{'*'*9} datetime.date() {'*'*9}\")\n",
    "date1 = datetime.date(2025, 8, 31)\n",
    "date2 = datetime.date(2025, 9, 4)\n",
    "\n",
    "difference = date2 - date1\n",
    "print(difference.days, \"\\n\")\n",
    "\n",
    "# Approach - 2\n",
    "print(f\"{'*'*7} datetime.strptime() {'*'*7}\")\n",
    "str_date1 = datetime.datetime.strptime(\"2025-Jul-16\", \"%Y-%b-%d\")\n",
    "str_date2 = datetime.datetime.strptime(\"01-09-2025\", \"%d-%m-%Y\")\n",
    "\n",
    "str_difference = str_date2-str_date1\n",
    "print(str_difference.days)"
   ]
  },
  {
   "cell_type": "markdown",
   "metadata": {},
   "source": [
    "21. What is exception handling in Python, and why is it important?"
   ]
  },
  {
   "cell_type": "code",
   "execution_count": 22,
   "metadata": {},
   "outputs": [
    {
     "name": "stdout",
     "output_type": "stream",
     "text": [
      "********* Exeption Handling *********\n",
      "Error: Division by zero is not allowed.\n"
     ]
    }
   ],
   "source": [
    "\"\"\"\n",
    "Exception Handling:\n",
    "    - Exceptions are errors that occur during program execution.\n",
    "    - We can detect, catch & handle errors without crashing the program.\n",
    "\"\"\"\n",
    "\n",
    "# E.g.:\n",
    "print(f\"{'*'*9} Exeption Handling {'*'*9}\")\n",
    "try:\n",
    "    num1 = 10\n",
    "    num2 = 0\n",
    "    result = num1 / num2\n",
    "    print(result)\n",
    "except ZeroDivisionError:\n",
    "    print(\"Error: Division by zero is not allowed.\")\n"
   ]
  },
  {
   "cell_type": "markdown",
   "metadata": {},
   "source": [
    "22. Explain the syntax and purpose of the try, except, else, and finally blocks in Python."
   ]
  },
  {
   "cell_type": "code",
   "execution_count": 23,
   "metadata": {},
   "outputs": [
    {
     "name": "stdout",
     "output_type": "stream",
     "text": [
      "********* Case - 1 *********\n",
      "2.0\n",
      "No exception occurred.\n",
      "Program finished.\n",
      "\n",
      "********* Case - 2 *********\n",
      "Cannot divide by zero.\n",
      "Program finished.\n",
      "\n",
      "********* Case - 3 *********\n",
      "Invalid input! Please enter a number.\n",
      "Program finished.\n",
      "\n"
     ]
    }
   ],
   "source": [
    "\"\"\"\n",
    "try:\n",
    "    block of code that may raise an exception.\n",
    "\n",
    "except:\n",
    "    block that handles the exception.\n",
    "\n",
    "else:\n",
    "    block that runs if no exception occurs.\n",
    "\n",
    "finally:\n",
    "    block that always runs.\n",
    "\"\"\"\n",
    "\n",
    "# E.g.:\n",
    "def my_error_handling(n):\n",
    "    try:\n",
    "        print(10 / n)\n",
    "    except ZeroDivisionError:\n",
    "        print(\"Cannot divide by zero.\")\n",
    "    except TypeError:\n",
    "        print(\"Invalid input! Please enter a number.\")\n",
    "    else:\n",
    "        print(\"No exception occurred.\")\n",
    "    finally:\n",
    "        print(\"Program finished.\\n\")\n",
    "\n",
    "print(f\"{'*'*9} Case - 1 {'*'*9}\")\n",
    "my_error_handling(5)\n",
    "\n",
    "print(f\"{'*'*9} Case - 2 {'*'*9}\")\n",
    "my_error_handling(0)\n",
    "\n",
    "print(f\"{'*'*9} Case - 3 {'*'*9}\")\n",
    "my_error_handling(\"string\")"
   ]
  },
  {
   "cell_type": "markdown",
   "metadata": {},
   "source": [
    "23. Explain the purpose of the raise statement in Python. Provide an example."
   ]
  },
  {
   "cell_type": "code",
   "execution_count": 24,
   "metadata": {},
   "outputs": [],
   "source": [
    "\"\"\"\n",
    "Purpose:\n",
    "    - It can handles the run time errors.\n",
    "    - The raise statement is used to manually trigger an exception in python.\n",
    "    - We can use when we want to indicate that something went wrong intentionally instead of waiting for python to detect an error.\n",
    "\n",
    "Use:\n",
    "    - Input validations\n",
    "    - Custom exceptions\n",
    "\n",
    "Syntax:\n",
    "    raise MyCustomException(\"Custom error message\")\n",
    "\"\"\"\n",
    "\n",
    "# E.g.:\n",
    "class InvalidAgeError(Exception):\n",
    "    pass\n",
    "\n",
    "age = 200\n",
    "if age > 150:\n",
    "    # raise InvalidAgeError(\"Age cannot be more than 150!\")\n",
    "    pass\n",
    "\n",
    "\"\"\"\n",
    "---------------------------------------------------------------------------\n",
    "InvalidAgeError                           Traceback (most recent call last)\n",
    "Cell In[268], line 18\n",
    "     16 age = 200\n",
    "     17 if age > 150:\n",
    "---> 18     raise InvalidAgeError(\"Age cannot be more than 150!\")\n",
    "\n",
    "InvalidAgeError: Age cannot be more than 150!\n",
    "\"\"\"\n",
    "pass"
   ]
  },
  {
   "cell_type": "markdown",
   "metadata": {},
   "source": [
    "24. Explain the use of the assert statement in Python with an example."
   ]
  },
  {
   "cell_type": "code",
   "execution_count": 25,
   "metadata": {},
   "outputs": [
    {
     "name": "stdout",
     "output_type": "stream",
     "text": [
      "Program continues...\n"
     ]
    }
   ],
   "source": [
    "\"\"\"\n",
    "# Assert Statement:\n",
    "     - It can handles programming mistakes or invalid assumptions.\n",
    "     - The assert statement is used for debugging and testing.\n",
    "     - It checks whether a given condition is True.\n",
    "     - If the condition is True, the program continues normally.\n",
    "     - If the condition is False, an AssertionError is raised (custom error message is optional).\n",
    "\"\"\"\n",
    "\n",
    "# E.g.:\n",
    "x = 5\n",
    "assert x > 0\n",
    "print(\"Program continues...\")\n",
    "\n",
    "\"\"\"\n",
    "x = -5\n",
    "assert x > 0, \"x must be positive\"\n",
    "print(\"This will not run\")\n",
    "\n",
    "---------------------------------------------------------------------------\n",
    "AssertionError                            Traceback (most recent call last)\n",
    "Cell In[271], line 14\n",
    "     11 print(\"Program continues...\")\n",
    "     13 x = -5\n",
    "---> 14 assert x > 0, \"x must be positive\"\n",
    "     15 print(\"This will not run\")\n",
    "     17 def divide(a, b):\n",
    "\n",
    "AssertionError: x must be positive\n",
    "\"\"\"\n",
    "pass"
   ]
  },
  {
   "cell_type": "markdown",
   "metadata": {},
   "source": [
    "25. How do you create a custom exception in Python? Provide an example."
   ]
  },
  {
   "cell_type": "code",
   "execution_count": 26,
   "metadata": {},
   "outputs": [],
   "source": [
    "\"\"\"\n",
    "We can create a custom exception by defining a new class that inherits from the built-in Exception class.\n",
    "\n",
    "Steps:\n",
    "    - Define a class that extends Exception.\n",
    "    - Add a custom message or logic inside it.\n",
    "    - Use raise to trigger the exception when needed.\n",
    "    - Handle it with try-except.\n",
    "\"\"\"\n",
    "\n",
    "# E.g.:\n",
    "class MyError(Exception):\n",
    "    pass\n",
    "\n",
    "num = -5\n",
    "\n",
    "\"\"\"\n",
    "if num < 0:\n",
    "    raise MyError(\"Negative value not allowed\")\n",
    "\n",
    "---------------------------------------------------------------------------\n",
    "MyError                                   Traceback (most recent call last)\n",
    "Cell In[278], line 7\n",
    "      4 num = -5\n",
    "      6 if num < 0:\n",
    "----> 7     raise MyError(\"Negative value not allowed\")\n",
    "\n",
    "MyError: Negative value not allowed\n",
    "\"\"\"\n",
    "pass"
   ]
  },
  {
   "cell_type": "markdown",
   "metadata": {},
   "source": [
    "26. Explain how the finally block works in Python exception handling with an example."
   ]
  },
  {
   "cell_type": "code",
   "execution_count": 27,
   "metadata": {},
   "outputs": [
    {
     "name": "stdout",
     "output_type": "stream",
     "text": [
      "********* Case - 1 *********\n",
      "2.0\n",
      "No exception occurred.\n",
      "This is finally block which always executes.\n",
      "\n",
      "********* Case - 2 *********\n",
      "Cannot divide by zero.\n",
      "This is finally block which always executes.\n",
      "\n",
      "********* Case - 3 *********\n",
      "Invalid input! Please enter a number.\n",
      "This is finally block which always executes.\n",
      "\n"
     ]
    }
   ],
   "source": [
    "\"\"\"\n",
    "finally block in Python is used in exception handling to define a section of code that always executes,\n",
    "\"\"\"\n",
    "\n",
    "# E.g.:\n",
    "def my_error_handling(n):\n",
    "    try:\n",
    "        print(10 / n)\n",
    "    except ZeroDivisionError:\n",
    "        print(\"Cannot divide by zero.\")\n",
    "    except TypeError:\n",
    "        print(\"Invalid input! Please enter a number.\")\n",
    "    else:\n",
    "        print(\"No exception occurred.\")\n",
    "    finally:\n",
    "        print(\"This is finally block which always executes.\\n\")\n",
    "\n",
    "print(f\"{'*'*9} Case - 1 {'*'*9}\")\n",
    "my_error_handling(5)\n",
    "\n",
    "print(f\"{'*'*9} Case - 2 {'*'*9}\")\n",
    "my_error_handling(0)\n",
    "\n",
    "print(f\"{'*'*9} Case - 3 {'*'*9}\")\n",
    "my_error_handling(\"string\")"
   ]
  },
  {
   "cell_type": "markdown",
   "metadata": {},
   "source": [
    "27. Python Program to handle division by zero exception"
   ]
  },
  {
   "cell_type": "code",
   "execution_count": 28,
   "metadata": {},
   "outputs": [
    {
     "name": "stdout",
     "output_type": "stream",
     "text": [
      "********* Error Handling *********\n",
      "Error: Division by zero error handled.\n"
     ]
    }
   ],
   "source": [
    "print(f\"{'*'*9} Error Handling {'*'*9}\")\n",
    "try:\n",
    "    num1 = 10\n",
    "    num2 = 0\n",
    "    result = num1 / num2\n",
    "    print(result)\n",
    "except ZeroDivisionError:\n",
    "    print(\"Error: Division by zero error handled.\")"
   ]
  },
  {
   "cell_type": "markdown",
   "metadata": {},
   "source": [
    "28. Python Program to handle both ValueError and TypeError."
   ]
  },
  {
   "cell_type": "code",
   "execution_count": 29,
   "metadata": {},
   "outputs": [
    {
     "name": "stdout",
     "output_type": "stream",
     "text": [
      "********* ValueError *********\n",
      "Error: Please enter a valid integer\n",
      "\n",
      "********** TypeError *********\n",
      "Error: Invalid type used in operation\n",
      "\n",
      "************ Valid ************\n",
      "Result: 2.5\n"
     ]
    }
   ],
   "source": [
    "def value_and_type_error(n):\n",
    "    try:\n",
    "        n = int(n)\n",
    "        result = 10 / n\n",
    "        print(\"Result:\", result)\n",
    "    except ValueError:\n",
    "        print(\"Error: Please enter a valid integer\\n\")\n",
    "    except TypeError:\n",
    "        print(\"Error: Invalid type used in operation\\n\")\n",
    "\n",
    "print(f\"{'*'*9} ValueError {'*'*9}\")\n",
    "value_and_type_error(\"abc\")\n",
    "\n",
    "print(f\"{'*'*10} TypeError {'*'*9}\")\n",
    "value_and_type_error([5])\n",
    "\n",
    "print(f\"{'*'*12} Valid {'*'*12}\")\n",
    "value_and_type_error(4)"
   ]
  },
  {
   "cell_type": "markdown",
   "metadata": {},
   "source": [
    "29. Python Program to demonstrate the use of the else block with exception handling"
   ]
  },
  {
   "cell_type": "code",
   "execution_count": 30,
   "metadata": {},
   "outputs": [
    {
     "name": "stdout",
     "output_type": "stream",
     "text": [
      "********* Else Block *********\n",
      "Success! Division result is: 2.0\n"
     ]
    }
   ],
   "source": [
    "\"\"\"\n",
    "else block in exception handling runs only if no exception occurs inside the try block.\n",
    "\"\"\"\n",
    "\n",
    "# E.g.:\n",
    "print(f\"{'*'*9} Else Block {'*'*9}\")\n",
    "try:\n",
    "    num = 5\n",
    "    result = 10 / num\n",
    "except ValueError:\n",
    "    print(\"Error: Please enter a valid integer\")\n",
    "except ZeroDivisionError:\n",
    "    print(\"Error: Cannot divide by zero\")\n",
    "else:\n",
    "    print(\"Success! Division result is:\", result)"
   ]
  },
  {
   "cell_type": "markdown",
   "metadata": {},
   "source": [
    "30. Python Program to demonstrate nested try blocks"
   ]
  },
  {
   "cell_type": "code",
   "execution_count": 31,
   "metadata": {},
   "outputs": [
    {
     "name": "stdout",
     "output_type": "stream",
     "text": [
      "********* Nested Try Blocks *********\n",
      "Result: 1.25\n"
     ]
    }
   ],
   "source": [
    "print(f\"{'*'*9} Nested Try Blocks {'*'*9}\")\n",
    "try:\n",
    "    num1, num2 = 5, 4\n",
    "    try:\n",
    "        result = num1 / num2\n",
    "        print(\"Result:\", result)\n",
    "    except ZeroDivisionError:\n",
    "        print(\"Error: Cannot divide by zero (inner block)\")\n",
    "except ValueError:\n",
    "    print(\"Error: Invalid input, please enter integers (outer block)\")"
   ]
  }
 ],
 "metadata": {
  "kernelspec": {
   "display_name": "Python 3",
   "language": "python",
   "name": "python3"
  },
  "language_info": {
   "codemirror_mode": {
    "name": "ipython",
    "version": 3
   },
   "file_extension": ".py",
   "mimetype": "text/x-python",
   "name": "python",
   "nbconvert_exporter": "python",
   "pygments_lexer": "ipython3",
   "version": "3.11.0"
  }
 },
 "nbformat": 4,
 "nbformat_minor": 2
}
