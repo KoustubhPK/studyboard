{
 "cells": [
  {
   "cell_type": "markdown",
   "metadata": {},
   "source": [
    "# Topics: Object Oriented Programming"
   ]
  },
  {
   "cell_type": "markdown",
   "metadata": {},
   "source": [
    "### 1. What is meant by Object-Oriented Programming (OOP)?"
   ]
  },
  {
   "cell_type": "markdown",
   "metadata": {},
   "source": [
    "- A language which uses a objects in programming.\n",
    "- OOP aims to implement real world entities like inheritance, encapsulation, polymorphism etc. in programming.\n",
    "- it can bind together the data and the functions that operate on them so that no other part of the code can access this data except that function.\n",
    "- Concepts of OOP:\n",
    "    1. Class\n",
    "    2. Objects\n",
    "    3. Data Abstraction \n",
    "    4. Encapsulation\n",
    "    5. Inheritance\n",
    "    6. Polymorphism\n",
    "    7. Dynamic Binding\n",
    "    8. Message Passing\n",
    "\n",
    "- Benefits of OOP:\n",
    "    1. Reusability\n",
    "    2. Modularity\n",
    "    3. Maintainability\n",
    "    4. Scalability\n",
    "    5. Collaboration"
   ]
  },
  {
   "cell_type": "markdown",
   "metadata": {},
   "source": [
    "### 2. Name some major Object-Oriented Programming languages."
   ]
  },
  {
   "cell_type": "markdown",
   "metadata": {},
   "source": [
    "- Names of Object-Oriented Programming languages:\n",
    "\n",
    "    1. Python\n",
    "    2. JAVA\n",
    "    3. C++\n",
    "    4. C#\n",
    "    5. Swift"
   ]
  },
  {
   "cell_type": "markdown",
   "metadata": {},
   "source": [
    "### 3. What are the advantages of using OOP over procedural programming?"
   ]
  },
  {
   "cell_type": "markdown",
   "metadata": {},
   "source": [
    "- advantages of using OOP over procedural programming:\n",
    "\n",
    "    1. Better Organization and Modularity\n",
    "    2. Enhanced Code Reusability \n",
    "    3. Improved Data Security\n",
    "    4. Increased Flexibility\n",
    "    5. Easier Maintenance and Debugging\n",
    "    6. Real-World Modeling"
   ]
  },
  {
   "cell_type": "markdown",
   "metadata": {},
   "source": [
    "### 4. What are the four fundamental principles/features of OOP?"
   ]
  },
  {
   "cell_type": "markdown",
   "metadata": {},
   "source": [
    "- Features of OOP:\n",
    "\n",
    "    1. Inheritance\n",
    "    2. Encapsulation\n",
    "    3. Polymorphism\n",
    "    4. Abstraction"
   ]
  },
  {
   "cell_type": "markdown",
   "metadata": {},
   "source": [
    "### 5. What are the limitations of OOP?"
   ]
  },
  {
   "cell_type": "markdown",
   "metadata": {},
   "source": [
    "- Limitations of OOP\n",
    "\n",
    "    1. Implementation and Design Challenges\n",
    "    2. Testing and Maintenance Difficulties\n",
    "    3. Dependency Management\n",
    "    4. Higher Memory Usage\n",
    "    5. Performance Throttling"
   ]
  },
  {
   "cell_type": "markdown",
   "metadata": {},
   "source": [
    "### 6. Differentiate between a class and an object in Python."
   ]
  },
  {
   "cell_type": "markdown",
   "metadata": {},
   "source": [
    "| Class                                                                    | Object                                                        |\n",
    "| ------------------------------------------------------------------------ | ------------------------------------------------------------- |\n",
    "| Class is used as a template for declaring and creating the objects.     | An object is an instance of a class.                          |\n",
    "| When a class is created, no memory is allocated.                         | Objects are allocated memory space whenever they are created. |\n",
    "| The class has to be declared first and only once.                        | An object is created many times as per requirement.           |\n",
    "| A class can not be manipulated as they are not available in the memory. | Objects can be manipulated.                                   |\n",
    "| A class is a logical entity.                                             | An object is a physical entity.                               |\n",
    "| It is declared with the class keyword.                                   | Object can be instantiated with the class.                    |"
   ]
  },
  {
   "cell_type": "markdown",
   "metadata": {},
   "source": [
    "### 7. Explain the self keyword and its role in instance methods."
   ]
  },
  {
   "cell_type": "markdown",
   "metadata": {},
   "source": [
    "The self keyword in Python serves as a conventional name for the first parameter of an instance method within a class definition. It is a reference to the instance of the class on which the method is being called."
   ]
  },
  {
   "cell_type": "markdown",
   "metadata": {},
   "source": [
    "### 8. Explain the purpose of the __ __init__ __ method with an example."
   ]
  },
  {
   "cell_type": "markdown",
   "metadata": {},
   "source": [
    "- The __ __init__ __ method in Python serves as the constructor for a class.\n",
    "- Its primary purpose is to initialize the attributes of an object when it is created.\n",
    "- When an instance of a class is made, the __ __init__ __ method is automatically called, allowing for the setup of the object's initial state"
   ]
  },
  {
   "cell_type": "markdown",
   "metadata": {},
   "source": [
    "### 9. Differentiate between instance variables and class variables."
   ]
  },
  {
   "cell_type": "markdown",
   "metadata": {},
   "source": [
    "| **Instance Variable**                                                                        | **Class Variable**                                                                                              |\n",
    "| -------------------------------------------------------------------------------------------------- | --------------------------------------------------------------------------------------------------------------------- |\n",
    "| It is a variable whose value is instance-specific and now shared among instances                   | It is a variable that defines a specific attribute or property for a class.                                            |\n",
    "| These variables cannot be shared between classes. Instead, they only belong to one specific class. | These variables can be shared between class and its subclasses.                                                       |\n",
    "| It usually reserves memory for data that the class needs.                                          | It usually maintains a single shared value for all instances of class even if no instance object of the class exists. |\n",
    "| It is generally created when an instance of the class is created.                                  | It is generally created when the program begins to execute.                                                           |\n",
    "| It normally retains values as long as the object exists.                                           | It normally retains values until the program terminates.                                                              |\n",
    "| It can be accessed directly by calling variable names inside the class.                            | It can be accessed by calling with the class name.                                                                    |\n"
   ]
  },
  {
   "cell_type": "markdown",
   "metadata": {},
   "source": [
    "### 10. Explain instance method, class method, and static method with examples."
   ]
  },
  {
   "cell_type": "markdown",
   "metadata": {},
   "source": [
    "### 1. Instance Method:\n",
    "- Definition: Methods that operate on instance variables of a class.\n",
    "- Decorator: No decorator required.\n",
    "- First parameter: self (represents the instance).\n",
    "- Access: Can access and modify instance attributes.\n",
    "- Restriction: Cannot access class attributes directly via cls.\n",
    "- Accessed by: Object of the class (not directly by class name).\n",
    "\n",
    "### 2. Class Method:\n",
    "- Definition: Methods that work with class variables.\n",
    "- Decorator: @classmethod.\n",
    "- First parameter: cls (represents the class).\n",
    "- Access: Can access and modify class attributes.\n",
    "- Restriction: Cannot directly access instance attributes.\n",
    "- Accessed by: Either class name or object.\n",
    "- Object creation is optional to access method and variables from outside the class\n",
    "\n",
    "### 3. Static Method:\n",
    "- Definition: Methods that don’t use self or cls.\n",
    "- Decorator: @staticmethod\n",
    "- First parameter: Not required.\n",
    "- Access: Cannot access or modify instance or class attributes.\n",
    "- Accessed by: Either class name or object.\n",
    "\n",
    "### 4. Example:"
   ]
  },
  {
   "cell_type": "code",
   "execution_count": 1,
   "metadata": {},
   "outputs": [
    {
     "name": "stdout",
     "output_type": "stream",
     "text": [
      "Addition of 10 and 30 is 40\n",
      "Multiplication of 20 and 40 is 800\n",
      "Factorial of 9 is 362880\n"
     ]
    }
   ],
   "source": [
    "class Calculator:\n",
    "    x = 45\n",
    "    y = 56\n",
    "\n",
    "    def get_addition(self, a, b):                           # instance Method\n",
    "        add = a + b\n",
    "        print(f\"Addition of {a} and {b} is {add}\")\n",
    "\n",
    "    @classmethod\n",
    "    def get_multiplication(cls, x,y):                       # Class Method\n",
    "        mul = x*y\n",
    "        print(f\"Multiplication of {x} and {y} is {mul}\")\n",
    "\n",
    "    @staticmethod\n",
    "    def factorial(N):                                       # Static Method\n",
    "        fact = 1\n",
    "        for i in range(1,N+1):\n",
    "            fact *= i\n",
    "        print(f\"Factorial of {N} is {fact}\")\n",
    "\n",
    "Calculator().get_addition(10,30)\n",
    "Calculator.get_multiplication(20,40)\n",
    "Calculator.factorial(9)"
   ]
  },
  {
   "cell_type": "markdown",
   "metadata": {},
   "source": [
    "### 11. Explain inheritance in Python and its types (single, multiple, multilevel, hierarchical, hybrid) with examples."
   ]
  },
  {
   "cell_type": "markdown",
   "metadata": {},
   "source": [
    "__1. Single Inheritance__"
   ]
  },
  {
   "cell_type": "code",
   "execution_count": 2,
   "metadata": {},
   "outputs": [
    {
     "name": "stdout",
     "output_type": "stream",
     "text": [
      "('Koustubh', 29)\n",
      "95000.55\n",
      "Information Technology\n"
     ]
    }
   ],
   "source": [
    "# Defining Parent Class\n",
    "class ParentClass():                                # Parent Class\n",
    "    def __init__(self, org_name, org_location):\n",
    "        self.org_name = org_name\n",
    "        self.org_location = org_location\n",
    "\n",
    "    def emp_bio(self, name, age):\n",
    "        return name, int(age)\n",
    "    \n",
    "    def emp_salary(self, salary):\n",
    "        return float(salary)\n",
    "\n",
    "# Defining Inherited Child Class\n",
    "class ChildClass(ParentClass):                      # Child Class\n",
    "    def __init__(self):\n",
    "        pass\n",
    "    \n",
    "    def emp_department(self, department):\n",
    "        return department\n",
    "    \n",
    "# creating Our Class Object\n",
    "child_obj = ChildClass()\n",
    "\n",
    "\n",
    "# Calling the parent Methods from object of child class.\n",
    "print(child_obj.emp_bio(\"Koustubh\", 29))\n",
    "print(child_obj.emp_salary(95000.55))\n",
    "print(child_obj.emp_department(\"Information Technology\"))"
   ]
  },
  {
   "cell_type": "markdown",
   "metadata": {},
   "source": [
    "__2. Multiple Inheritance__"
   ]
  },
  {
   "cell_type": "markdown",
   "metadata": {},
   "source": [
    "### 26. Create a Python class Car with attributes make, model, and year, and include a method display_info()."
   ]
  },
  {
   "cell_type": "code",
   "execution_count": 1,
   "metadata": {},
   "outputs": [
    {
     "data": {
      "text/plain": [
       "'Make is: Audi | Car Model is: S3 | Year is: 2024'"
      ]
     },
     "execution_count": 1,
     "metadata": {},
     "output_type": "execute_result"
    }
   ],
   "source": [
    "class Car:\n",
    "    def __init__(self, make, model, year):\n",
    "        self.make = make\n",
    "        self.model = model\n",
    "        self. year = year\n",
    "\n",
    "    def display(self):\n",
    "        return f\"Make is: {self.make} | Car Model is: {self.model} | Year is: {self.year}\"\n",
    "    \n",
    "car_object = Car(\"Audi\", \"S3\", \"2024\")\n",
    "car_object.display()"
   ]
  },
  {
   "cell_type": "markdown",
   "metadata": {},
   "source": [
    "### 27. Define a Person class with attributes name and age. Create a Student subclass with an additional attribute student_id and override the introduce() method."
   ]
  },
  {
   "cell_type": "code",
   "execution_count": 15,
   "metadata": {},
   "outputs": [
    {
     "data": {
      "text/plain": [
       "\"Hi, I'm demo & my age is 25. My student ID: S-852\""
      ]
     },
     "execution_count": 15,
     "metadata": {},
     "output_type": "execute_result"
    }
   ],
   "source": [
    "class Person:\n",
    "    def __init__(self, name, age):\n",
    "        self.name = name\n",
    "        self.age = age\n",
    "\n",
    "    def introduce(self):\n",
    "        return f\"Hi, I'm {self.name} & my age is {self.age}\"\n",
    "    \n",
    "class Student(Person):\n",
    "    def __init__(self, name, age, studentid):\n",
    "        super().__init__(name, age)\n",
    "        self.studentid = studentid\n",
    "    \n",
    "    def introduce(self):\n",
    "        return f\"Hi, I'm {self.name} & my age is {self.age}. My student ID: {self.studentid}\"\n",
    "    \n",
    "student_object = Student(\"demo\", 25, \"S-852\")\n",
    "student_object.introduce()"
   ]
  },
  {
   "cell_type": "markdown",
   "metadata": {},
   "source": [
    "### 28. Create a Vehicle class with instance attributes max_speed and mileage, and add methods to update and display these attributes."
   ]
  },
  {
   "cell_type": "code",
   "execution_count": 19,
   "metadata": {},
   "outputs": [
    {
     "data": {
      "text/plain": [
       "(150, 30)"
      ]
     },
     "execution_count": 19,
     "metadata": {},
     "output_type": "execute_result"
    }
   ],
   "source": [
    "class Vehicle:\n",
    "    def __init__(self, max_speed, mileage):\n",
    "        self.max_speed = max_speed\n",
    "        self.mileage = mileage\n",
    "\n",
    "    def update(self):\n",
    "        return self.max_speed, self.mileage\n",
    "\n",
    "    def display(self):\n",
    "        return self.update()\n",
    "    \n",
    "vehicle_object = Vehicle(150, 30)\n",
    "vehicle_object.display()"
   ]
  },
  {
   "cell_type": "markdown",
   "metadata": {},
   "source": [
    "### 29. Create an empty class in Python and explain a possible use case."
   ]
  },
  {
   "cell_type": "markdown",
   "metadata": {},
   "source": [
    "It is use to define the actual functionalities in future with the empty class template.\n",
    "\n",
    "- use for error handling and makes code more readable.\n",
    "- customizing the python exceptions.\n",
    "- Attributes can be dynamically added to instances of these classes."
   ]
  },
  {
   "cell_type": "code",
   "execution_count": 27,
   "metadata": {},
   "outputs": [],
   "source": [
    "class Shape: # Intended as an abstract base for shapes\n",
    "    pass\n",
    "\n",
    "class Circle(Shape):\n",
    "    def __init__(self, radius):\n",
    "        self.radius = radius\n",
    "\n",
    "    def area(self):\n",
    "        return 3.14 * self.radius * self.radius"
   ]
  },
  {
   "cell_type": "markdown",
   "metadata": {},
   "source": [
    "### 30. Write a class MathUtils with a static method is_even(num) and a class method that keeps track of how many times is_even() was called."
   ]
  },
  {
   "cell_type": "code",
   "execution_count": 50,
   "metadata": {},
   "outputs": [],
   "source": [
    "class MathUtils:\n",
    "\n",
    "    count = 0\n",
    "    \n",
    "    def __init__(self):\n",
    "        pass\n",
    "\n",
    "    @staticmethod\n",
    "    def is_even(num):\n",
    "        return f\"{num} is even\" if num %2 == 0 else None\n",
    "    \n",
    "    @classmethod\n",
    "    def method_tracking(cls):\n",
    "        cls.count += 1\n",
    "        return f\"called {cls.count} times.\", cls.is_even(2)"
   ]
  },
  {
   "cell_type": "code",
   "execution_count": 53,
   "metadata": {},
   "outputs": [
    {
     "data": {
      "text/plain": [
       "('called 3 times.', '2 is even')"
      ]
     },
     "execution_count": 53,
     "metadata": {},
     "output_type": "execute_result"
    }
   ],
   "source": [
    "math_util_object = MathUtils\n",
    "math_util_object.method_tracking()"
   ]
  }
 ],
 "metadata": {
  "kernelspec": {
   "display_name": "Python 3",
   "language": "python",
   "name": "python3"
  },
  "language_info": {
   "codemirror_mode": {
    "name": "ipython",
    "version": 3
   },
   "file_extension": ".py",
   "mimetype": "text/x-python",
   "name": "python",
   "nbconvert_exporter": "python",
   "pygments_lexer": "ipython3",
   "version": "3.11.0"
  }
 },
 "nbformat": 4,
 "nbformat_minor": 2
}
