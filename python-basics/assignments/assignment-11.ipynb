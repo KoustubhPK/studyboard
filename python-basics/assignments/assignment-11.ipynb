{
 "cells": [
  {
   "cell_type": "markdown",
   "metadata": {},
   "source": [
    "# __Topics: Object Oriented Programming__"
   ]
  },
  {
   "cell_type": "code",
   "execution_count": 1,
   "metadata": {},
   "outputs": [],
   "source": [
    "import re\n",
    "import math\n",
    "import pytesseract\n",
    "from abc import ABC, abstractmethod\n",
    "from config import ASSIGNMENT11_Q20_FILE_PATH, TESSERACT_PATH"
   ]
  },
  {
   "cell_type": "markdown",
   "metadata": {},
   "source": [
    "### __1. What is meant by Object-Oriented Programming (OOP)?__"
   ]
  },
  {
   "cell_type": "markdown",
   "metadata": {},
   "source": [
    "- A language which uses a objects in programming.\n",
    "- OOP aims to implement real world entities like inheritance, encapsulation, polymorphism etc. in programming.\n",
    "- it can bind together the data and the functions that operate on them so that no other part of the code can access this data except that function.\n",
    "- Concepts of OOP:\n",
    "    1. Class\n",
    "    2. Objects\n",
    "    3. Data Abstraction \n",
    "    4. Encapsulation\n",
    "    5. Inheritance\n",
    "    6. Polymorphism\n",
    "    7. Dynamic Binding\n",
    "    8. Message Passing\n",
    "\n",
    "- Benefits of OOP:\n",
    "    1. Reusability\n",
    "    2. Modularity\n",
    "    3. Maintainability\n",
    "    4. Scalability\n",
    "    5. Collaboration"
   ]
  },
  {
   "cell_type": "markdown",
   "metadata": {},
   "source": [
    "### __2. Name some major Object-Oriented Programming languages.__"
   ]
  },
  {
   "cell_type": "markdown",
   "metadata": {},
   "source": [
    "- Names of Object-Oriented Programming languages:\n",
    "\n",
    "    1. Python\n",
    "    2. JAVA\n",
    "    3. C++\n",
    "    4. C#\n",
    "    5. Swift"
   ]
  },
  {
   "cell_type": "markdown",
   "metadata": {},
   "source": [
    "### __3. What are the advantages of using OOP over procedural programming?__"
   ]
  },
  {
   "cell_type": "markdown",
   "metadata": {},
   "source": [
    "- advantages of using OOP over procedural programming:\n",
    "\n",
    "    1. Better Organization and Modularity\n",
    "    2. Enhanced Code Reusability \n",
    "    3. Improved Data Security\n",
    "    4. Increased Flexibility\n",
    "    5. Easier Maintenance and Debugging\n",
    "    6. Real-World Modeling"
   ]
  },
  {
   "cell_type": "markdown",
   "metadata": {},
   "source": [
    "### __4. What are the four fundamental principles/features of OOP?__"
   ]
  },
  {
   "cell_type": "markdown",
   "metadata": {},
   "source": [
    "- Features of OOP:\n",
    "\n",
    "    1. Inheritance\n",
    "    2. Encapsulation\n",
    "    3. Polymorphism\n",
    "    4. Abstraction"
   ]
  },
  {
   "cell_type": "markdown",
   "metadata": {},
   "source": [
    "### __5. What are the limitations of OOP?__"
   ]
  },
  {
   "cell_type": "markdown",
   "metadata": {},
   "source": [
    "- Limitations of OOP\n",
    "\n",
    "    1. Implementation and Design Challenges\n",
    "    2. Testing and Maintenance Difficulties\n",
    "    3. Dependency Management\n",
    "    4. Higher Memory Usage\n",
    "    5. Performance Throttling"
   ]
  },
  {
   "cell_type": "markdown",
   "metadata": {},
   "source": [
    "### __6. Differentiate between a class and an object in Python.__"
   ]
  },
  {
   "cell_type": "markdown",
   "metadata": {},
   "source": [
    "| Class                                                                    | Object                                                        |\n",
    "| ------------------------------------------------------------------------ | ------------------------------------------------------------- |\n",
    "| Class is used as a template for declaring and creating the objects.     | An object is an instance of a class.                          |\n",
    "| When a class is created, no memory is allocated.                         | Objects are allocated memory space whenever they are created. |\n",
    "| The class has to be declared first and only once.                        | An object is created many times as per requirement.           |\n",
    "| A class can not be manipulated as they are not available in the memory. | Objects can be manipulated.                                   |\n",
    "| A class is a logical entity.                                             | An object is a physical entity.                               |\n",
    "| It is declared with the class keyword.                                   | Object can be instantiated with the class.                    |"
   ]
  },
  {
   "cell_type": "markdown",
   "metadata": {},
   "source": [
    "### __7. Explain the self keyword and its role in instance methods.__"
   ]
  },
  {
   "cell_type": "markdown",
   "metadata": {},
   "source": [
    "The self keyword in Python serves as a conventional name for the first parameter of an instance method within a class definition. It is a reference to the instance of the class on which the method is being called."
   ]
  },
  {
   "cell_type": "markdown",
   "metadata": {},
   "source": [
    "### __8. Explain the purpose of the __ __init__ __ method with an example.__"
   ]
  },
  {
   "cell_type": "markdown",
   "metadata": {},
   "source": [
    "- The __ __init__ __ method in Python serves as the constructor for a class.\n",
    "- Its primary purpose is to initialize the attributes of an object when it is created.\n",
    "- When an instance of a class is made, the __ __init__ __ method is automatically called, allowing for the setup of the object's initial state"
   ]
  },
  {
   "cell_type": "markdown",
   "metadata": {},
   "source": [
    "### __9. Differentiate between instance variables and class variables.__"
   ]
  },
  {
   "cell_type": "markdown",
   "metadata": {},
   "source": [
    "| **Instance Variable**                                                                        | **Class Variable**                                                                                              |\n",
    "| -------------------------------------------------------------------------------------------------- | --------------------------------------------------------------------------------------------------------------------- |\n",
    "| It is a variable whose value is instance-specific and now shared among instances                   | It is a variable that defines a specific attribute or property for a class.                                            |\n",
    "| These variables cannot be shared between classes. Instead, they only belong to one specific class. | These variables can be shared between class and its subclasses.                                                       |\n",
    "| It usually reserves memory for data that the class needs.                                          | It usually maintains a single shared value for all instances of class even if no instance object of the class exists. |\n",
    "| It is generally created when an instance of the class is created.                                  | It is generally created when the program begins to execute.                                                           |\n",
    "| It normally retains values as long as the object exists.                                           | It normally retains values until the program terminates.                                                              |\n",
    "| It can be accessed directly by calling variable names inside the class.                            | It can be accessed by calling with the class name.                                                                    |\n"
   ]
  },
  {
   "cell_type": "markdown",
   "metadata": {},
   "source": [
    "### __10. Explain instance method, class method, and static method with examples.__"
   ]
  },
  {
   "cell_type": "markdown",
   "metadata": {},
   "source": [
    "#### __1. Instance Method:__\n",
    "- Definition: Methods that operate on instance variables of a class.\n",
    "- Decorator: No decorator required.\n",
    "- First parameter: self (represents the instance).\n",
    "- Access: Can access and modify instance attributes.\n",
    "- Restriction: Cannot access class attributes directly via cls.\n",
    "- Accessed by: Object of the class (not directly by class name).\n",
    "\n",
    "#### __2. Class Method:__\n",
    "- Definition: Methods that work with class variables.\n",
    "- Decorator: @classmethod.\n",
    "- First parameter: cls (represents the class).\n",
    "- Access: Can access and modify class attributes.\n",
    "- Restriction: Cannot directly access instance attributes.\n",
    "- Accessed by: Either class name or object.\n",
    "- Object creation is optional to access method and variables from outside the class\n",
    "\n",
    "#### __3. Static Method:__\n",
    "- Definition: Methods that don’t use self or cls.\n",
    "- Decorator: @staticmethod\n",
    "- First parameter: Not required.\n",
    "- Access: Cannot access or modify instance or class attributes.\n",
    "- Accessed by: Either class name or object.\n",
    "\n",
    "#### __4. Example:__"
   ]
  },
  {
   "cell_type": "code",
   "execution_count": 2,
   "metadata": {},
   "outputs": [
    {
     "name": "stdout",
     "output_type": "stream",
     "text": [
      "Addition of 10 and 30 is 40\n",
      "Multiplication of 20 and 40 is 800\n",
      "Factorial of 9 is 362880\n"
     ]
    }
   ],
   "source": [
    "class Calculator:\n",
    "    x = 45\n",
    "    y = 56\n",
    "\n",
    "    def get_addition(self, a, b):                           # instance Method\n",
    "        add = a + b\n",
    "        print(f\"Addition of {a} and {b} is {add}\")\n",
    "\n",
    "    @classmethod\n",
    "    def get_multiplication(cls, x,y):                       # Class Method\n",
    "        mul = x*y\n",
    "        print(f\"Multiplication of {x} and {y} is {mul}\")\n",
    "\n",
    "    @staticmethod\n",
    "    def factorial(N):                                       # Static Method\n",
    "        fact = 1\n",
    "        for i in range(1,N+1):\n",
    "            fact *= i\n",
    "        print(f\"Factorial of {N} is {fact}\")\n",
    "\n",
    "Calculator().get_addition(10,30)\n",
    "Calculator.get_multiplication(20,40)\n",
    "Calculator.factorial(9)"
   ]
  },
  {
   "cell_type": "markdown",
   "metadata": {},
   "source": [
    "### __11. Explain inheritance in Python and its types (single, multiple, multilevel, hierarchical, hybrid) with examples.__"
   ]
  },
  {
   "cell_type": "markdown",
   "metadata": {},
   "source": [
    "#### __1. Single Inheritance__"
   ]
  },
  {
   "cell_type": "code",
   "execution_count": 3,
   "metadata": {},
   "outputs": [
    {
     "name": "stdout",
     "output_type": "stream",
     "text": [
      "('Koustubh', 29)\n",
      "95000.55\n",
      "Information Technology\n"
     ]
    }
   ],
   "source": [
    "# Defining Parent Class\n",
    "class ParentClass():                                # Parent Class\n",
    "    def __init__(self, org_name, org_location):\n",
    "        self.org_name = org_name\n",
    "        self.org_location = org_location\n",
    "\n",
    "    def emp_bio(self, name, age):\n",
    "        return name, int(age)\n",
    "    \n",
    "    def emp_salary(self, salary):\n",
    "        return float(salary)\n",
    "\n",
    "# Defining Inherited Child Class\n",
    "class ChildClass(ParentClass):                      # Child Class\n",
    "    def __init__(self):\n",
    "        pass\n",
    "    \n",
    "    def emp_department(self, department):\n",
    "        return department\n",
    "    \n",
    "# creating Our Class Object\n",
    "child_obj = ChildClass()\n",
    "\n",
    "\n",
    "# Calling the parent Methods from object of child class.\n",
    "print(child_obj.emp_bio(\"Koustubh\", 29))\n",
    "print(child_obj.emp_salary(95000.55))\n",
    "print(child_obj.emp_department(\"Information Technology\"))"
   ]
  },
  {
   "cell_type": "markdown",
   "metadata": {},
   "source": [
    "#### __2. Multiple Inheritance__"
   ]
  },
  {
   "cell_type": "code",
   "execution_count": 4,
   "metadata": {},
   "outputs": [
    {
     "name": "stdout",
     "output_type": "stream",
     "text": [
      "Father: Disciplined\n",
      "Son: Ambitious\n"
     ]
    }
   ],
   "source": [
    "class Father:\n",
    "    def quality(self):\n",
    "        print(\"Father: Disciplined\")\n",
    "\n",
    "class Mother:\n",
    "    def quality(self):\n",
    "        print(\"Mother: Caring\")\n",
    "\n",
    "class Son(Father, Mother):   # inherits from both\n",
    "    def hobby(self):\n",
    "        print(\"Son: Ambitious\")\n",
    "\n",
    "son_obj = Son()\n",
    "son_obj.quality()   # which one? → MRO decides (Father first here)\n",
    "son_obj.hobby()"
   ]
  },
  {
   "cell_type": "markdown",
   "metadata": {},
   "source": [
    "#### __3. Multilevel Inheritance__"
   ]
  },
  {
   "cell_type": "code",
   "execution_count": 5,
   "metadata": {},
   "outputs": [
    {
     "name": "stdout",
     "output_type": "stream",
     "text": [
      "grandfather's home\n",
      "father's car\n",
      "child's bike\n"
     ]
    }
   ],
   "source": [
    "class GrandFather :\n",
    "    def house(self):\n",
    "        print(\"grandfather's home\")\n",
    "\n",
    "class Father(GrandFather):\n",
    "    def car(self):\n",
    "        print(\"father's car\")\n",
    "\n",
    "class Child(Father):\n",
    "    def bike(self):\n",
    "        print(\"child's bike\")\n",
    "\n",
    "child_obj = Child()\n",
    "child_obj.house()\n",
    "child_obj.car()\n",
    "child_obj.bike()"
   ]
  },
  {
   "cell_type": "markdown",
   "metadata": {},
   "source": [
    "#### __4. Hierarchical Inheritance__"
   ]
  },
  {
   "cell_type": "code",
   "execution_count": 6,
   "metadata": {},
   "outputs": [
    {
     "name": "stdout",
     "output_type": "stream",
     "text": [
      "Father: Hardworking\n",
      "Son: Plays Guitar\n",
      "Father: Hardworking\n",
      "Daughter: Dances\n"
     ]
    }
   ],
   "source": [
    "class Father:\n",
    "    def quality(self):\n",
    "        print(\"Father: Hardworking\")\n",
    "\n",
    "class Son(Father):\n",
    "    def hobby(self):\n",
    "        print(\"Son: Plays Guitar\")\n",
    "\n",
    "class Daughter(Father):\n",
    "    def talent(self):\n",
    "        print(\"Daughter: Dances\")\n",
    "\n",
    "son_obj = Son()\n",
    "daughter_obj = Daughter()\n",
    "\n",
    "son_obj.quality()\n",
    "son_obj.hobby()\n",
    "\n",
    "daughter_obj.quality()\n",
    "daughter_obj.talent()"
   ]
  },
  {
   "cell_type": "markdown",
   "metadata": {},
   "source": [
    "#### __5. Hybrid Inheritance__"
   ]
  },
  {
   "cell_type": "code",
   "execution_count": 7,
   "metadata": {},
   "outputs": [
    {
     "name": "stdout",
     "output_type": "stream",
     "text": [
      "GrandFather: Wise\n",
      "Father: Disciplined\n",
      "Mother: Caring\n",
      "Son: Ambitious\n"
     ]
    }
   ],
   "source": [
    "class GrandFather:\n",
    "    def wisdom(self):\n",
    "        print(\"GrandFather: Wise\")\n",
    "\n",
    "class Father(GrandFather):\n",
    "    def discipline(self):\n",
    "        print(\"Father: Disciplined\")\n",
    "\n",
    "class Mother:\n",
    "    def care(self):\n",
    "        print(\"Mother: Caring\")\n",
    "\n",
    "class Son(Father, Mother):   # multiple + multilevel → hybrid\n",
    "    def hobby(self):\n",
    "        print(\"Son: Ambitious\")\n",
    "\n",
    "son_obj = Son()\n",
    "son_obj.wisdom()\n",
    "son_obj.discipline()\n",
    "son_obj.care()\n",
    "son_obj.hobby()"
   ]
  },
  {
   "cell_type": "markdown",
   "metadata": {},
   "source": [
    "### __12. Define superclass and subclass with an example.__"
   ]
  },
  {
   "cell_type": "markdown",
   "metadata": {},
   "source": [
    "In OOP, inheritance is a mechanism where one class can acquire the properties and behaviors of another class. This relationship defines superclasses and subclasses.\n",
    "\n",
    "#### __Superclass:__\n",
    "- (also known as a parent class or base class) is the class from which other classes inherit. It provides a common set of attributes and methods that its subclasses will share.\n",
    "\n",
    "#### __Subclass:__\n",
    "- (also known as a child class, derived class, or extended class) is a class that inherits from a superclass. It extends or specializes the superclass by adding its own unique attributes and methods or by overriding inherited ones."
   ]
  },
  {
   "cell_type": "code",
   "execution_count": 8,
   "metadata": {},
   "outputs": [
    {
     "name": "stdout",
     "output_type": "stream",
     "text": [
      "('Koustubh', 29)\n",
      "95000.55\n",
      "Information Technology\n"
     ]
    }
   ],
   "source": [
    "# Defining Parent Class\n",
    "class ParentClass():                                # Parent Class/Superclass\n",
    "    def __init__(self, org_name, org_location):\n",
    "        self.org_name = org_name\n",
    "        self.org_location = org_location\n",
    "\n",
    "    def emp_bio(self, name, age):\n",
    "        return name, int(age)\n",
    "    \n",
    "    def emp_salary(self, salary):\n",
    "        return float(salary)\n",
    "\n",
    "# Defining Inherited Child Class\n",
    "class ChildClass(ParentClass):                      # Child Class/Subclass\n",
    "    def __init__(self):\n",
    "        pass\n",
    "    \n",
    "    def emp_department(self, department):\n",
    "        return department\n",
    "    \n",
    "# creating Our Class Object\n",
    "child_obj = ChildClass()\n",
    "\n",
    "\n",
    "# Calling the parent Methods from object of child class.\n",
    "print(child_obj.emp_bio(\"Koustubh\", 29))\n",
    "print(child_obj.emp_salary(95000.55))\n",
    "print(child_obj.emp_department(\"Information Technology\"))"
   ]
  },
  {
   "cell_type": "markdown",
   "metadata": {},
   "source": [
    "### __13.Explain the super() function in Python and demonstrate calling base class methods from a subclass.__"
   ]
  },
  {
   "cell_type": "code",
   "execution_count": 9,
   "metadata": {},
   "outputs": [
    {
     "data": {
      "text/plain": [
       "('ABC', 'CS')"
      ]
     },
     "execution_count": 9,
     "metadata": {},
     "output_type": "execute_result"
    }
   ],
   "source": [
    "# super() --> This function is used in child class to call methods of parent class\n",
    "class Parent():\n",
    "    def __init__(self, name, course):\n",
    "        self.name = name\n",
    "        self.course = course\n",
    "\n",
    "class Child(Parent):\n",
    "    def __init__(self, name, course):\n",
    "        super().__init__(name, course)\n",
    "    \n",
    "    def get_data(self):\n",
    "        return self.name, self.course\n",
    "\n",
    "obj = Child(\"ABC\",\"CS\")\n",
    "obj.get_data()"
   ]
  },
  {
   "cell_type": "markdown",
   "metadata": {},
   "source": [
    "### __14. Can you call a parent class method without using super()?__"
   ]
  },
  {
   "cell_type": "markdown",
   "metadata": {},
   "source": [
    "#### __Aproach: 1__"
   ]
  },
  {
   "cell_type": "code",
   "execution_count": 10,
   "metadata": {},
   "outputs": [
    {
     "data": {
      "text/plain": [
       "(25, 40)"
      ]
     },
     "execution_count": 10,
     "metadata": {},
     "output_type": "execute_result"
    }
   ],
   "source": [
    "class Operation():\n",
    "    def __init__(self, area, perimeter):\n",
    "        self.area = area\n",
    "        self.perimeter= perimeter\n",
    "\n",
    "    def square(self):\n",
    "        area = self.area * self.area\n",
    "        perimeter = 4 * self.perimeter\n",
    "        return area, perimeter\n",
    "\n",
    "class Square(Operation):\n",
    "    def __init__(self):\n",
    "       pass\n",
    "    \n",
    "    def get_square(self):\n",
    "        return Operation(5,10).square()\n",
    "    \n",
    "obj = Square()\n",
    "obj.get_square()"
   ]
  },
  {
   "cell_type": "markdown",
   "metadata": {},
   "source": [
    "#### __Aproach: 2__"
   ]
  },
  {
   "cell_type": "code",
   "execution_count": 11,
   "metadata": {},
   "outputs": [
    {
     "data": {
      "text/plain": [
       "(25, 40)"
      ]
     },
     "execution_count": 11,
     "metadata": {},
     "output_type": "execute_result"
    }
   ],
   "source": [
    "class Operation():\n",
    "    def __init__(self):\n",
    "        pass\n",
    "\n",
    "    def square(self, area, perimeter):\n",
    "        area = area * area\n",
    "        perimeter = 4 * perimeter\n",
    "        return area, perimeter\n",
    "\n",
    "class Square(Operation):\n",
    "    def __init__(self):\n",
    "       pass\n",
    "    \n",
    "    def get_square(self):\n",
    "        return self.square(5,10)\n",
    "    \n",
    "obj = Square()\n",
    "obj.get_square()"
   ]
  },
  {
   "cell_type": "markdown",
   "metadata": {},
   "source": [
    "### __15.What is encapsulation, and why is it important?__"
   ]
  },
  {
   "cell_type": "markdown",
   "metadata": {},
   "source": [
    "Encapsulation is the process of restricting access to variables and methods from outside the class.\n",
    "- It helps to protect data and prevent accidental modifications.\n",
    "- Achieved using access modifiers (public, private in Python)"
   ]
  },
  {
   "cell_type": "markdown",
   "metadata": {},
   "source": [
    "### __16.Differentiate between public, protected, and private members in Python.__"
   ]
  },
  {
   "cell_type": "markdown",
   "metadata": {},
   "source": [
    "#### __1. Public Variables and Public Methods:__\n",
    "- We can accees Public variables and method from outside and inside the class\n",
    "\n",
    "__Example:__\n",
    "1. class_variable _Public Class Variables_\n",
    "2. self.instance_variable _Public Instance Variables_\n",
    "3. def method(slef): _Public Methods_\n",
    "\n",
    "#### __2. Protected Variables and Protected Methods:__\n",
    "__Note:__ that the python interpreter does not treat it as protected data like other languages, it is only denoted for the programmers since they would be trying to access it using plain name instead of calling it using the respective prefix.\n",
    "\n",
    "#### __3. Private Variables and Private Methods:__\n",
    "- Double underscore(__) is used to declare Private Variables and Private Methods\n",
    "- We can not accees priavte variables and method from outside the class\n",
    "\n",
    "__Example:__\n",
    "1. __class_variable _Private Class Variables_\n",
    "2. self.__instance_variable _Private Instance Variables_\n",
    "3. def __method(self): _Private Method_"
   ]
  },
  {
   "cell_type": "markdown",
   "metadata": {},
   "source": [
    "### __17.Explain name mangling in Python and its use.__"
   ]
  },
  {
   "cell_type": "markdown",
   "metadata": {},
   "source": [
    "#### __Name Mangling:__ \n",
    "\n",
    "Used to access private variables and method from outside the class by using special syntax\n",
    "- Obj._ClassName__privateClassvariable\n",
    "- Obj._ClassName__privateInstanceVariable\n",
    "- Obj._ClassName__privateMethod\n",
    "\n",
    "#### __Example:__"
   ]
  },
  {
   "cell_type": "code",
   "execution_count": 12,
   "metadata": {},
   "outputs": [
    {
     "name": "stdout",
     "output_type": "stream",
     "text": [
      "Testing private method using name mangling.\n"
     ]
    }
   ],
   "source": [
    "class Private_Class():\n",
    "    def __init__(self):\n",
    "        pass\n",
    "\n",
    "    def __testmethod(self):\n",
    "        print(f\"Testing private method using name mangling.\")\n",
    "\n",
    "obj = Private_Class()\n",
    "obj._Private_Class__testmethod()"
   ]
  },
  {
   "cell_type": "markdown",
   "metadata": {},
   "source": [
    "### __18. Write a class demonstrating encapsulation by creating private variables and providing public getter and setter methods.__"
   ]
  },
  {
   "cell_type": "code",
   "execution_count": 13,
   "metadata": {},
   "outputs": [
    {
     "name": "stdout",
     "output_type": "stream",
     "text": [
      "Old name before set - XYZ\n"
     ]
    },
    {
     "data": {
      "text/plain": [
       "'New name after set - PQR'"
      ]
     },
     "execution_count": 13,
     "metadata": {},
     "output_type": "execute_result"
    }
   ],
   "source": [
    "class GetSetClass():\n",
    "\n",
    "    def __init__(self,name):\n",
    "        self.name = name\n",
    "\n",
    "    def set_data(self,x):\n",
    "        print(f\"Old name before set - {self.name}\")\n",
    "        self.name = x\n",
    "\n",
    "    def get_data(self):\n",
    "        return f\"New name after set - {self.name}\"\n",
    "    \n",
    "obj = GetSetClass(\"XYZ\")\n",
    "obj.set_data(\"PQR\")\n",
    "obj.get_data()"
   ]
  },
  {
   "cell_type": "markdown",
   "metadata": {},
   "source": [
    "### __19. What is polymorphism? Explain with an example.__"
   ]
  },
  {
   "cell_type": "markdown",
   "metadata": {},
   "source": [
    "- Poly (many) + morphs (forms)\n",
    "- Polymorphism is the same function/method name with different functionalities for different classes."
   ]
  },
  {
   "cell_type": "markdown",
   "metadata": {},
   "source": [
    "#### __19.1 Creating Different Classes__\n",
    "1. __Student__\n",
    "2. __Fresher__\n",
    "3. __Experience__"
   ]
  },
  {
   "cell_type": "code",
   "execution_count": 14,
   "metadata": {},
   "outputs": [],
   "source": [
    "class Student:\n",
    "\n",
    "    def __init__(self, name, gender, course):\n",
    "        self.name = name\n",
    "        self.gender = gender\n",
    "        self.course = course\n",
    "\n",
    "    def get_name(self):\n",
    "        return self.name\n",
    "    \n",
    "    def get_gender(self):\n",
    "        return self.gender\n",
    "    \n",
    "    def get_course(self):\n",
    "        return self.course"
   ]
  },
  {
   "cell_type": "markdown",
   "metadata": {},
   "source": [
    "- __Inheritance Type:__ _Hierarchical_"
   ]
  },
  {
   "cell_type": "code",
   "execution_count": 15,
   "metadata": {},
   "outputs": [],
   "source": [
    "class Fresher(Student):\n",
    "\n",
    "    def get_course(self):\n",
    "        return f\"Fresher - {self.course}\"\n",
    "    \n",
    "class Experience(Student):\n",
    "\n",
    "    def get_course(self):\n",
    "        return f\"Experience - {self.course}\""
   ]
  },
  {
   "cell_type": "markdown",
   "metadata": {},
   "source": [
    "- __Object Creation:__ _For individual methods_"
   ]
  },
  {
   "cell_type": "code",
   "execution_count": 16,
   "metadata": {},
   "outputs": [
    {
     "name": "stdout",
     "output_type": "stream",
     "text": [
      "Fresher - DS\n",
      "Experience - ML\n"
     ]
    }
   ],
   "source": [
    "obj = Fresher(\"test\", \"male\", \"DS\")\n",
    "print(obj.get_course())\n",
    "\n",
    "obj1 = Experience(\"test1\", \"male\", \"ML\")\n",
    "print(obj1.get_course())"
   ]
  },
  {
   "cell_type": "markdown",
   "metadata": {},
   "source": [
    "#### __19.2 Instantiating Class Objects:__"
   ]
  },
  {
   "cell_type": "code",
   "execution_count": 17,
   "metadata": {},
   "outputs": [],
   "source": [
    "students = [\n",
    "    Fresher(\"Pramila\", \"Female\", \"AI\"),\n",
    "    Fresher(\"Bhagyashri\", \"Female\", \"ML\"),\n",
    "    Experience(\"Sachin\", \"Male\", \"CS\"),\n",
    "    Experience(\"Divyanshu\", \"Male\", \"ME\"),\n",
    "    Experience(\"Koustubh\", \"Male\", \"CS\"),\n",
    "]"
   ]
  },
  {
   "cell_type": "markdown",
   "metadata": {},
   "source": [
    "#### __19.3 Calling Methods:__\n",
    "\n",
    "The method name which is __get_course()__ used in different class objects."
   ]
  },
  {
   "cell_type": "code",
   "execution_count": 18,
   "metadata": {},
   "outputs": [
    {
     "name": "stdout",
     "output_type": "stream",
     "text": [
      "Student ID      : S-1\n",
      "Student name    : Pramila\n",
      "Student Gender  : Female\n",
      "Student Course  : Fresher - AI\n",
      "----------------------------------------\n",
      "Student ID      : S-2\n",
      "Student name    : Bhagyashri\n",
      "Student Gender  : Female\n",
      "Student Course  : Fresher - ML\n",
      "----------------------------------------\n",
      "Student ID      : S-3\n",
      "Student name    : Sachin\n",
      "Student Gender  : Male\n",
      "Student Course  : Experience - CS\n",
      "----------------------------------------\n",
      "Student ID      : S-4\n",
      "Student name    : Divyanshu\n",
      "Student Gender  : Male\n",
      "Student Course  : Experience - ME\n",
      "----------------------------------------\n",
      "Student ID      : S-5\n",
      "Student name    : Koustubh\n",
      "Student Gender  : Male\n",
      "Student Course  : Experience - CS\n",
      "----------------------------------------\n"
     ]
    }
   ],
   "source": [
    "for x, student in enumerate(students, start=1):\n",
    "    print(f\"Student ID      : S-{x}\")\n",
    "    print(f\"Student name    : {student.get_name()}\")\n",
    "    print(f\"Student Gender  : {student.get_gender()}\")\n",
    "    print(f\"Student Course  : {student.get_course()}\")\n",
    "    print(\"-\"*40)"
   ]
  },
  {
   "cell_type": "markdown",
   "metadata": {},
   "source": [
    "### __20. Explain method overriding with an example.__"
   ]
  },
  {
   "cell_type": "markdown",
   "metadata": {},
   "source": [
    "Method Overriding means writing a method in the child class with the same name and parameters as a method in the parent class to change its behavior.\n",
    "- It works only with inheritance.\n",
    "- The child class replaces the parent class method.\n",
    "- It helps in writing custom logic for specific child classes."
   ]
  },
  {
   "cell_type": "code",
   "execution_count": 19,
   "metadata": {},
   "outputs": [
    {
     "data": {
      "text/plain": [
       "['EJAPS0276M', '31/10/1992']"
      ]
     },
     "execution_count": 19,
     "metadata": {},
     "output_type": "execute_result"
    }
   ],
   "source": [
    "class Extractdata():                                            # Parent Class\n",
    "    def __init__(self,filepath):                                # parent Instance Method\n",
    "        self.filepath = filepath\n",
    "        pytesseract.pytesseract.tesseract_cmd = TESSERACT_PATH\n",
    "\n",
    "    def pan_data(self):\n",
    "        self.text = pytesseract.image_to_string(self.filepath)\n",
    "        return self.text\n",
    "    \n",
    "class ExtractPanData(Extractdata):                              # Child Clas\n",
    "    def __init__(self,imagepath):                               # Child Instance Method\n",
    "        super().__init__(imagepath)                             # Overriding The imagepath in child.\n",
    "    \n",
    "    def get_pan(self):\n",
    "        pan = self.pan_data()\n",
    "        pan_no = re.search(\"[A-Z]{5}\\d{4}[A-Z]{1}\",pan)\n",
    "        pan_dob = re.search(\"[0-9]{2}[/][0-9]{2}[/]\\d{4}\",pan)\n",
    "\n",
    "        result = [\n",
    "            pan_no.group() if pan_no else \"Number not found\", \n",
    "            pan_dob.group() if pan_dob else \"DOB not found\"\n",
    "        ]\n",
    "\n",
    "        return result\n",
    "    \n",
    "extract_pan_data = ExtractPanData(ASSIGNMENT11_Q20_FILE_PATH)\n",
    "extract_pan_data.get_pan()"
   ]
  },
  {
   "cell_type": "markdown",
   "metadata": {},
   "source": [
    "### __21. Demonstrate polymorphism by creating a base class Animal with a speak() method and two derived classes Dog and Cat that override it.__"
   ]
  },
  {
   "cell_type": "code",
   "execution_count": 20,
   "metadata": {},
   "outputs": [
    {
     "name": "stdout",
     "output_type": "stream",
     "text": [
      "Dog barks\n",
      "Sound --> Woof\n",
      "Cat Meows\n",
      "Sound --> Meow\n"
     ]
    }
   ],
   "source": [
    "class Animal:\n",
    "    def __init__(self):\n",
    "        pass\n",
    "\n",
    "    def speak(self, sound):\n",
    "        print(f\"Sound --> {sound}\")\n",
    "\n",
    "class Dog(Animal):\n",
    "    def __init__(self):\n",
    "        pass\n",
    "\n",
    "    def speak(self, sound=\"Woof\"):\n",
    "        print(\"Dog barks\")\n",
    "        return super().speak(sound)\n",
    "    \n",
    "class Cat(Animal):\n",
    "    def __init__(self):\n",
    "        pass\n",
    "\n",
    "    def speak(self, sound=\"Meow\"):\n",
    "        print(\"Cat Meows\")\n",
    "        return super().speak(sound)\n",
    "\n",
    "dog_object = Dog()\n",
    "dog_object.speak()\n",
    "\n",
    "cat_object = Cat()\n",
    "cat_object.speak()"
   ]
  },
  {
   "cell_type": "markdown",
   "metadata": {},
   "source": [
    "### __22. Differentiate between abstraction and encapsulation.__"
   ]
  },
  {
   "cell_type": "markdown",
   "metadata": {},
   "source": [
    "| Abstraction                                                            | Encapsulation                                                                          |\n",
    "| ------------------------------------------------------------------------- | ------------------------------------------------------------------------------------------ |\n",
    "| Hides the internal implementation and shows only necessary functionality. | Hides the internal state (data) of an object and restricts direct access to it.            |\n",
    "| Focuses on what a class does (behavior).                                 | Focuses on how data is accessed/modified (data hiding).                                   |\n",
    "| Abstract classes, interfaces, method overriding.                          | Access modifiers (public, protected, private) and getters/setters.                         |\n",
    "| Design level concept.                                                     | Implementation level concept.                                                              |\n",
    "| Reduce complexity by hiding unnecessary details.                          | Protect data integrity and security.                                                       |\n",
    "| Using `abc.ABC` and `@abstractmethod`.                                | Using private variables (`__var`) with getters and setters.                              |"
   ]
  },
  {
   "cell_type": "markdown",
   "metadata": {},
   "source": [
    "### __23. Explain abstract classes and abstract methods in Python with an example.__"
   ]
  },
  {
   "cell_type": "markdown",
   "metadata": {},
   "source": [
    "#### __Abstract Classes:__\n",
    "- An abstract class is a class that cannot be instantiated directly.\n",
    "- It can contain abstract methods (declared but not implemented) and concrete methods (with implementation).\n",
    "\n",
    "#### __Abstract Methods:__\n",
    "- An abstract method is a method that is declared, but not implemented in the base class.\n",
    "- Subclasses must override all abstract methods; otherwise, they cannot be instantiated."
   ]
  },
  {
   "cell_type": "code",
   "execution_count": 21,
   "metadata": {},
   "outputs": [
    {
     "name": "stdout",
     "output_type": "stream",
     "text": [
      "Woof! Woof!\n",
      "All animals breathe oxygen.\n",
      "Meow! Meow!\n"
     ]
    }
   ],
   "source": [
    "# Abstract class\n",
    "class Animal(ABC):\n",
    "    @abstractmethod\n",
    "    def speak(self):   # abstract method (no implementation here)\n",
    "        pass\n",
    "    \n",
    "    def breathe(self): # concrete method (shared implementation)\n",
    "        print(\"All animals breathe oxygen.\")\n",
    "\n",
    "# Subclass 1\n",
    "class Dog(Animal):\n",
    "    def speak(self):\n",
    "        print(\"Woof! Woof!\")\n",
    "\n",
    "# Subclass 2\n",
    "class Cat(Animal):\n",
    "    def speak(self):\n",
    "        print(\"Meow! Meow!\")\n",
    "\n",
    "dog = Dog()\n",
    "dog.speak()\n",
    "dog.breathe()\n",
    "\n",
    "cat = Cat()\n",
    "cat.speak()"
   ]
  },
  {
   "cell_type": "markdown",
   "metadata": {},
   "source": [
    "### __24. Can we create an object of an abstract class? Why or why not?__"
   ]
  },
  {
   "cell_type": "markdown",
   "metadata": {},
   "source": [
    "We cannot create an object of an abstract class because it may contain unimplemented (abstract) methods & instantiating such a class would lead to objects with incomplete behavior. Abstract classes are meant to be inherited and implemented by subclasses.\n",
    "\n",
    "- __Error:__\n",
    "    \n",
    "    `TypeError: Can't instantiate abstract class Animal with abstract method speak`\n",
    "\n",
    "- __Reason:__\n",
    "\n",
    "\n",
    "    - Incomplete implementation\n",
    "\n",
    "    An abstract class may have abstract methods (declared but not implemented).\n",
    "\n",
    "    If Python allowed us to instantiate it, we’d have an object with methods that don’t actually do anything → which breaks the contract.\n",
    "\n",
    "    - Blueprint role\n",
    "\n",
    "    Abstract classes are designed to be blueprints for other classes.\n",
    "\n",
    "    They define a common interface but leave the implementation to subclasses.\n",
    "\n",
    "    - Enforced by Python’s abc module\n",
    "\n",
    "    When you decorate a method with `@abstractmethod` inside a class that inherits from `ABC`, Python prevents instantiation of that class."
   ]
  },
  {
   "cell_type": "markdown",
   "metadata": {},
   "source": [
    "### __25. Implement a basic abstract class Shape with an abstract method area(). Create Circle and Rectangle classes that implement it.__"
   ]
  },
  {
   "cell_type": "code",
   "execution_count": 22,
   "metadata": {},
   "outputs": [
    {
     "name": "stdout",
     "output_type": "stream",
     "text": [
      "Area of Circle: 78.54\n",
      "Area of Rectangle: 24.00\n"
     ]
    }
   ],
   "source": [
    "# Abstract class\n",
    "class Shape(ABC):\n",
    "    @abstractmethod\n",
    "    def area(self):\n",
    "        \"\"\"Calculate area of the shape\"\"\"\n",
    "        pass\n",
    "\n",
    "# Subclass: Circle\n",
    "class Circle(Shape):\n",
    "    def __init__(self, radius):\n",
    "        self.radius = radius\n",
    "\n",
    "    def area(self):\n",
    "        return math.pi * self.radius ** 2\n",
    "\n",
    "# Subclass: Rectangle\n",
    "class Rectangle(Shape):\n",
    "    def __init__(self, width, height):\n",
    "        self.width = width\n",
    "        self.height = height\n",
    "\n",
    "    def area(self):\n",
    "        return self.width * self.height\n",
    "\n",
    "# Example usage\n",
    "shapes = [\n",
    "    Circle(5),\n",
    "    Rectangle(4, 6)\n",
    "]\n",
    "\n",
    "for shape in shapes:\n",
    "    print(f\"Area of {shape.__class__.__name__}: {shape.area():.2f}\")"
   ]
  },
  {
   "cell_type": "markdown",
   "metadata": {},
   "source": [
    "### __26. Create a Python class Car with attributes make, model, and year, and include a method display_info().__"
   ]
  },
  {
   "cell_type": "code",
   "execution_count": 23,
   "metadata": {},
   "outputs": [
    {
     "data": {
      "text/plain": [
       "'Make is: Audi | Car Model is: S3 | Year is: 2024'"
      ]
     },
     "execution_count": 23,
     "metadata": {},
     "output_type": "execute_result"
    }
   ],
   "source": [
    "class Car:\n",
    "    def __init__(self, make, model, year):\n",
    "        self.make = make\n",
    "        self.model = model\n",
    "        self. year = year\n",
    "\n",
    "    def display(self):\n",
    "        return f\"Make is: {self.make} | Car Model is: {self.model} | Year is: {self.year}\"\n",
    "    \n",
    "car_object = Car(\"Audi\", \"S3\", \"2024\")\n",
    "car_object.display()"
   ]
  },
  {
   "cell_type": "markdown",
   "metadata": {},
   "source": [
    "### __27. Define a Person class with attributes name and age. Create a Student subclass with an additional attribute student_id and override the introduce() method.__"
   ]
  },
  {
   "cell_type": "code",
   "execution_count": 24,
   "metadata": {},
   "outputs": [
    {
     "data": {
      "text/plain": [
       "\"Hi, I'm demo & my age is 25. My student ID: S-852\""
      ]
     },
     "execution_count": 24,
     "metadata": {},
     "output_type": "execute_result"
    }
   ],
   "source": [
    "class Person:\n",
    "    def __init__(self, name, age):\n",
    "        self.name = name\n",
    "        self.age = age\n",
    "\n",
    "    def introduce(self):\n",
    "        return f\"Hi, I'm {self.name} & my age is {self.age}\"\n",
    "    \n",
    "class Student(Person):\n",
    "    def __init__(self, name, age, studentid):\n",
    "        super().__init__(name, age)\n",
    "        self.studentid = studentid\n",
    "    \n",
    "    def introduce(self):\n",
    "        return f\"Hi, I'm {self.name} & my age is {self.age}. My student ID: {self.studentid}\"\n",
    "    \n",
    "student_object = Student(\"demo\", 25, \"S-852\")\n",
    "student_object.introduce()"
   ]
  },
  {
   "cell_type": "markdown",
   "metadata": {},
   "source": [
    "### __28. Create a Vehicle class with instance attributes max_speed and mileage, and add methods to update and display these attributes.__"
   ]
  },
  {
   "cell_type": "code",
   "execution_count": 25,
   "metadata": {},
   "outputs": [
    {
     "data": {
      "text/plain": [
       "(150, 30)"
      ]
     },
     "execution_count": 25,
     "metadata": {},
     "output_type": "execute_result"
    }
   ],
   "source": [
    "class Vehicle:\n",
    "    def __init__(self, max_speed, mileage):\n",
    "        self.max_speed = max_speed\n",
    "        self.mileage = mileage\n",
    "\n",
    "    def update(self):\n",
    "        return self.max_speed, self.mileage\n",
    "\n",
    "    def display(self):\n",
    "        return self.update()\n",
    "    \n",
    "vehicle_object = Vehicle(150, 30)\n",
    "vehicle_object.display()"
   ]
  },
  {
   "cell_type": "markdown",
   "metadata": {},
   "source": [
    "### __29. Create an empty class in Python and explain a possible use case.__"
   ]
  },
  {
   "cell_type": "markdown",
   "metadata": {},
   "source": [
    "It is use to define the actual functionalities in future with the empty class template.\n",
    "\n",
    "- use for error handling and makes code more readable.\n",
    "- customizing the python exceptions.\n",
    "- Attributes can be dynamically added to instances of these classes."
   ]
  },
  {
   "cell_type": "code",
   "execution_count": 26,
   "metadata": {},
   "outputs": [],
   "source": [
    "class Shape: # Intended as an abstract base for shapes\n",
    "    pass\n",
    "\n",
    "class Circle(Shape):\n",
    "    def __init__(self, radius):\n",
    "        self.radius = radius\n",
    "\n",
    "    def area(self):\n",
    "        return 3.14 * self.radius * self.radius"
   ]
  },
  {
   "cell_type": "markdown",
   "metadata": {},
   "source": [
    "### __30. Write a class MathUtils with a static method is_even(num) and a class method that keeps track of how many times is_even() was called.__"
   ]
  },
  {
   "cell_type": "code",
   "execution_count": 27,
   "metadata": {},
   "outputs": [],
   "source": [
    "class MathUtils:\n",
    "\n",
    "    count = 0\n",
    "    \n",
    "    def __init__(self):\n",
    "        pass\n",
    "\n",
    "    @staticmethod\n",
    "    def is_even(num):\n",
    "        return f\"{num} is even\" if num %2 == 0 else None\n",
    "    \n",
    "    @classmethod\n",
    "    def method_tracking(cls):\n",
    "        cls.count += 1\n",
    "        return f\"called {cls.count} times.\", cls.is_even(2)"
   ]
  },
  {
   "cell_type": "code",
   "execution_count": 28,
   "metadata": {},
   "outputs": [
    {
     "data": {
      "text/plain": [
       "('called 1 times.', '2 is even')"
      ]
     },
     "execution_count": 28,
     "metadata": {},
     "output_type": "execute_result"
    }
   ],
   "source": [
    "math_util_object = MathUtils\n",
    "math_util_object.method_tracking()"
   ]
  }
 ],
 "metadata": {
  "kernelspec": {
   "display_name": "Python 3",
   "language": "python",
   "name": "python3"
  },
  "language_info": {
   "codemirror_mode": {
    "name": "ipython",
    "version": 3
   },
   "file_extension": ".py",
   "mimetype": "text/x-python",
   "name": "python",
   "nbconvert_exporter": "python",
   "pygments_lexer": "ipython3",
   "version": "3.11.0"
  }
 },
 "nbformat": 4,
 "nbformat_minor": 2
}
