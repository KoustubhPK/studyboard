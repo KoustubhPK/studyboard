{
 "cells": [
  {
   "cell_type": "markdown",
   "metadata": {},
   "source": [
    "# __Topics: Regular Expressions - II__"
   ]
  },
  {
   "cell_type": "code",
   "execution_count": 1,
   "metadata": {},
   "outputs": [],
   "source": [
    "import re"
   ]
  },
  {
   "cell_type": "markdown",
   "metadata": {},
   "source": [
    "### __1. Python Program to remove all whitespaces from a string.__"
   ]
  },
  {
   "cell_type": "code",
   "execution_count": 2,
   "metadata": {},
   "outputs": [
    {
     "name": "stdout",
     "output_type": "stream",
     "text": [
      "removeallwhitespacesfromastring\n"
     ]
    }
   ],
   "source": [
    "string = \"remove all whitespaces from a string\"\n",
    "print(re.sub(\" \", \"\", string))"
   ]
  },
  {
   "cell_type": "markdown",
   "metadata": {},
   "source": [
    "### __2. Python Program to replace whitespaces with an underscore and vice versa.__"
   ]
  },
  {
   "cell_type": "code",
   "execution_count": 3,
   "metadata": {},
   "outputs": [
    {
     "name": "stdout",
     "output_type": "stream",
     "text": [
      "replace_whitespaces_with_an_underscore_and_vice versa\n"
     ]
    }
   ],
   "source": [
    "string = \"replace whitespaces with an underscore and vice_versa\"\n",
    "print(re.sub(\"[ _]\", lambda x:\"_\" if x.group(0) == \" \" else \" \", string))"
   ]
  },
  {
   "cell_type": "markdown",
   "metadata": {},
   "source": [
    "### __3. Python Program to replace all non-alphanumeric characters in a string with underscores.__"
   ]
  },
  {
   "cell_type": "code",
   "execution_count": 4,
   "metadata": {},
   "outputs": [
    {
     "name": "stdout",
     "output_type": "stream",
     "text": [
      "Purple02758_Mu5H_r00Ms571_\n"
     ]
    }
   ],
   "source": [
    "string = \"Purple02758&!* Mu5H.r00Ms571*&@!\"\n",
    "print(re.sub(\"\\W+\", \"_\", string))"
   ]
  },
  {
   "cell_type": "markdown",
   "metadata": {},
   "source": [
    "### __4. Python Program to find all sequences of digits in a string.__"
   ]
  },
  {
   "cell_type": "code",
   "execution_count": 5,
   "metadata": {},
   "outputs": [
    {
     "name": "stdout",
     "output_type": "stream",
     "text": [
      "['8', '40', '4', '0', '2', '5', '7', '9', '05', '5', '6', '1', '8', '1']\n"
     ]
    }
   ],
   "source": [
    "string = \"\"\"\n",
    "qAblWBi8yZxujWRZwBhVPdhv40nFDEDDdLy4NurRvTKFjsJKHRkH0Xbys2qDEKELJ5urj7n9UENuN05twnMwpRRYujpiCRiRdpdPoPI5bUvm6b1pS8Pp1xJbWQiHgshz\n",
    "\"\"\"\n",
    "numbers = re.findall(r\"\\d+\", string)\n",
    "\n",
    "print(numbers)"
   ]
  },
  {
   "cell_type": "markdown",
   "metadata": {},
   "source": [
    "### __5. Python Program to find all the words in a string that start with a vowel.__"
   ]
  },
  {
   "cell_type": "code",
   "execution_count": 6,
   "metadata": {},
   "outputs": [
    {
     "name": "stdout",
     "output_type": "stream",
     "text": [
      "['are', 'amazing', 'enjoy', 'eating', 'every', 'orange', 'is', 'a', 'unusual', 'ideas', 'often', 'inspire', 'innovation']\n"
     ]
    }
   ],
   "source": [
    "string = \"\"\"\n",
    "Apples are amazing fruits. \n",
    "Elephants enjoy eating bananas. \n",
    "Inside every orange is a juicy surprise. \n",
    "Over time, unusual ideas often inspire innovation.\n",
    "\"\"\"\n",
    "vowel = re.findall(r\"\\b[aeiou]\\w*\\b\", string)\n",
    "\n",
    "print(vowel)"
   ]
  },
  {
   "cell_type": "markdown",
   "metadata": {},
   "source": [
    "### __6. Python Program to split a string at each occurrence of a capital letter.__"
   ]
  },
  {
   "cell_type": "code",
   "execution_count": 7,
   "metadata": {},
   "outputs": [
    {
     "name": "stdout",
     "output_type": "stream",
     "text": [
      "['Markets', 'IT', 'H', 'B', 'Visa']\n"
     ]
    }
   ],
   "source": [
    "string = \"Markets plunge in early trade driven by IT firms amid H-1B Visa fee hike\"\n",
    "capital_words = re.findall(\"[A-Z]+[a-z]*\", string)\n",
    "print(capital_words)"
   ]
  },
  {
   "cell_type": "markdown",
   "metadata": {},
   "source": [
    "### __7. Python Program to extract the domain name from an email address.__"
   ]
  },
  {
   "cell_type": "code",
   "execution_count": 8,
   "metadata": {},
   "outputs": [
    {
     "name": "stdout",
     "output_type": "stream",
     "text": [
      "['@gmail.com', '@outlook.in', '@bcc.co.in', '@hotmail.com']\n"
     ]
    }
   ],
   "source": [
    "domains = \"\"\"\n",
    "virat_kohli123@gmail.com,\n",
    "kohlivirat@outlook.in,\n",
    "virat11kohli@bcc.co.in,\n",
    "kohli12virat34@hotmail.com\n",
    "\"\"\"\n",
    "\n",
    "domain_names = re.findall(\"[@][a-z.]+\", domains)\n",
    "print(domain_names)"
   ]
  },
  {
   "cell_type": "markdown",
   "metadata": {},
   "source": [
    "### __8. Write a program to search some literal strings in a string.__\n",
    "\n",
    "- ○ Sample text: 'The quick brown fox jumps over the lazy dog.'\n",
    "- ○ Searched words: 'fox', 'dog', 'horse'"
   ]
  },
  {
   "cell_type": "code",
   "execution_count": 9,
   "metadata": {},
   "outputs": [
    {
     "name": "stdout",
     "output_type": "stream",
     "text": [
      "Found:     ['fox', 'dog']\n",
      "Not Found: ['horse']\n"
     ]
    }
   ],
   "source": [
    "sample_text = \"The quick brown fox jumps over the lazy dog.\"\n",
    "search_words = ['fox', 'dog', 'horse']\n",
    "animals = re.findall(r\"\\b\\w[.o]\\w+\\b\", sample_text)\n",
    "\n",
    "found, not_found = [], []\n",
    "for w in search_words:\n",
    "    (found if w in sample_text else not_found).append(w)\n",
    "\n",
    "print(f\"Found:     {found}\\nNot Found: {not_found}\")"
   ]
  },
  {
   "cell_type": "markdown",
   "metadata": {},
   "source": [
    "### __9. Python Program to remove duplicate words from a sentence, keeping only the first occurrence.__"
   ]
  },
  {
   "cell_type": "code",
   "execution_count": 10,
   "metadata": {},
   "outputs": [
    {
     "name": "stdout",
     "output_type": "stream",
     "text": [
      "I felt happy because saw the others were and knew should feel happy, but wasn’t really\n"
     ]
    }
   ],
   "source": [
    "text =\"I felt happy because I saw the others were happy and because I knew I should feel happy, but I wasn’t really happy\"\n",
    "print(\" \".join(dict.fromkeys(text.split())))"
   ]
  },
  {
   "cell_type": "markdown",
   "metadata": {},
   "source": [
    "### __10. Python Program to extract all hashtags (#example) from a tweet.__"
   ]
  },
  {
   "cell_type": "code",
   "execution_count": 11,
   "metadata": {},
   "outputs": [
    {
     "name": "stdout",
     "output_type": "stream",
     "text": [
      "['#TrendingNow', '#Viralvideo', '#XChallenge', '#TrendAlert', '#ViralContent', '#NewChallenge', '#XTrends', '#ChallengeAccepted', '#WhatsHappening', '#NowTrending']\n"
     ]
    }
   ],
   "source": [
    "hashtags = \"\"\"\n",
    "for whats trending: #TrendingNow,\n",
    "use for viral video clips: #Viralvideo,\n",
    "twitter challenges: #XChallenge,\n",
    "alerts about trends: #TrendAlert,\n",
    "use for viral content: #ViralContent\n",
    "use for latest challeges: #NewChallenge,\n",
    "trending on twitter: #XTrends,\n",
    "to accept the challenge: #ChallengeAccepted,\n",
    "what is happening: #WhatsHappening,\n",
    "for whats trending now: #NowTrending\"\"\"\n",
    "\n",
    "fetch_hasgtags = re.findall(r\"#[A-Za-z]+\", hashtags)\n",
    "print(fetch_hasgtags)"
   ]
  }
 ],
 "metadata": {
  "kernelspec": {
   "display_name": "Python 3",
   "language": "python",
   "name": "python3"
  },
  "language_info": {
   "codemirror_mode": {
    "name": "ipython",
    "version": 3
   },
   "file_extension": ".py",
   "mimetype": "text/x-python",
   "name": "python",
   "nbconvert_exporter": "python",
   "pygments_lexer": "ipython3",
   "version": "3.11.0"
  }
 },
 "nbformat": 4,
 "nbformat_minor": 2
}
