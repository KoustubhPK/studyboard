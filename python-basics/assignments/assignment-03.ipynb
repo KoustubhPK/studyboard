{
 "cells": [
  {
   "cell_type": "markdown",
   "metadata": {},
   "source": [
    "# Topics: For Loop and While Loop"
   ]
  },
  {
   "cell_type": "markdown",
   "metadata": {},
   "source": [
    "1. What are the Loop Control Statements in Python?"
   ]
  },
  {
   "cell_type": "code",
   "execution_count": 1,
   "metadata": {},
   "outputs": [
    {
     "name": "stdout",
     "output_type": "stream",
     "text": [
      "pune\n",
      "['pune', 'mumbai', 'bengaluru']\n"
     ]
    }
   ],
   "source": [
    "\"\"\"\n",
    "loop control statements simply uses for controling the iterations within loop.\n",
    "BREAK -     we can use break statement specially when desired outcome is obtained\n",
    "PASS -      it can be used if we have no operations to work on\n",
    "CONTINUE -  this will skips the current iteratin.\n",
    "\"\"\"\n",
    "\n",
    "# BREAK\n",
    "city_names = [\"pune\", \"mumbai\", \"hyderabad\", \"bengaluru\"]\n",
    "for i in city_names:\n",
    "    if i == \"pune\":\n",
    "        print(i)\n",
    "        break\n",
    "\n",
    "# PASS\n",
    "for i in range(1,11):\n",
    "    pass\n",
    "        \n",
    "# CONTINUE\n",
    "filtered_city_names = []\n",
    "for city in city_names:\n",
    "    if city == \"hyderabad\":\n",
    "        continue\n",
    "    else:\n",
    "        filtered_city_names.append(city)\n",
    "print(filtered_city_names)"
   ]
  },
  {
   "cell_type": "markdown",
   "metadata": {},
   "source": [
    "2. What is the Python syntax for a for loop?"
   ]
  },
  {
   "cell_type": "code",
   "execution_count": 2,
   "metadata": {},
   "outputs": [
    {
     "name": "stdout",
     "output_type": "stream",
     "text": [
      "(1, 'pune')\n",
      "(2, 'mumbai')\n",
      "(3, 'hyderabad')\n",
      "(4, 'bengaluru')\n"
     ]
    }
   ],
   "source": [
    "\"\"\"\n",
    "in python we use *for keyword along with *iterator-variable to access the elements *in iterable.\n",
    "\"\"\"\n",
    "for x in enumerate(city_names,1):\n",
    "    print(x)"
   ]
  },
  {
   "cell_type": "markdown",
   "metadata": {},
   "source": [
    "3. What is the Python syntax for a While loop?"
   ]
  },
  {
   "cell_type": "code",
   "execution_count": 3,
   "metadata": {},
   "outputs": [
    {
     "name": "stdout",
     "output_type": "stream",
     "text": [
      "Mario is running on 3...\n",
      "Mario is running on 2...\n",
      "Mario is running on 1...\n",
      "Ah it looks dead!\n"
     ]
    }
   ],
   "source": [
    "\"\"\"\n",
    "in python we simply use *while keyword and condition to run till it will bocome false.\n",
    "\"\"\"\n",
    "health_xp = 3\n",
    "while health_xp > 0:\n",
    "    print(f\"Mario is running on {health_xp}...\")\n",
    "    health_xp -= 1\n",
    "print(\"Ah it looks dead!\")\n"
   ]
  },
  {
   "cell_type": "markdown",
   "metadata": {},
   "source": [
    "4. What are the advantages of using a for loop in Python?"
   ]
  },
  {
   "cell_type": "code",
   "execution_count": 4,
   "metadata": {},
   "outputs": [
    {
     "name": "stdout",
     "output_type": "stream",
     "text": [
      "-10 -8 -6 -4 -2 0 "
     ]
    }
   ],
   "source": [
    "\"\"\"\n",
    "basic definition is: it used to work by running the code within it's scope until\n",
    "the condtion is no longer true,\n",
    "& hence it is the major advantage of accessing the elements or items from the collections.\n",
    "\"\"\"\n",
    "collection = range(-10, 1, 2)\n",
    "for x in collection:\n",
    "    print(x, end=\" \")"
   ]
  },
  {
   "cell_type": "markdown",
   "metadata": {},
   "source": [
    "5. what is the difference between the continue and break statements in Python?"
   ]
  },
  {
   "cell_type": "code",
   "execution_count": 5,
   "metadata": {},
   "outputs": [
    {
     "name": "stdout",
     "output_type": "stream",
     "text": [
      "-10 -6 -4 -2 0 "
     ]
    }
   ],
   "source": [
    "\"\"\"\n",
    "---------------------------------------------------------------------------------------------\n",
    "|   CONTINUE                            |   BREAK                                           |\n",
    "|   1. skip the current iteration       |   1. break the loop as soon an found              |\n",
    "|   2. it jumps to nexr iteration       |   2. no way to get back to the loop               |\n",
    "|   3. it might stuck in infinite loop. |   3. there is no chance for as it broke already.  |\n",
    "---------------------------------------------------------------------------------------------\n",
    "\"\"\"\n",
    "\n",
    "# CONTINUE\n",
    "for x in collection:\n",
    "    if x == -8:\n",
    "        continue\n",
    "    print(x, end=\" \")\n",
    "\n",
    "# BREAK\n",
    "for col in collection:\n",
    "    break"
   ]
  },
  {
   "cell_type": "markdown",
   "metadata": {},
   "source": [
    "6. What is For Else and While Else in Python?"
   ]
  },
  {
   "cell_type": "code",
   "execution_count": 6,
   "metadata": {},
   "outputs": [
    {
     "name": "stdout",
     "output_type": "stream",
     "text": [
      "All number looks EVEN...\n",
      "I've found the value --> -2, on index location 4\n",
      "Have a good day..!\n"
     ]
    }
   ],
   "source": [
    "\"\"\"\n",
    "ELSE comes in picture when IF failures by the condition to both *for and *while loop.\n",
    "\"\"\"\n",
    "\n",
    "# ELSE -- > for loop\n",
    "for x in collection:\n",
    "    if x%2 != 0:\n",
    "        print(x)\n",
    "else:\n",
    "    print(\"All number looks EVEN...\")\n",
    "\n",
    "# ELSE --> while loop\n",
    "counter = 0\n",
    "while len(collection) > counter:\n",
    "    if counter == 4:\n",
    "        print(f\"I've found the value --> {collection[counter]}, on index location {counter}\")\n",
    "    counter += 1\n",
    "else:\n",
    "    print(\"Have a good day..!\")"
   ]
  },
  {
   "cell_type": "markdown",
   "metadata": {},
   "source": [
    "7. Python program to calculate the sum of all the odd numbers within the given range."
   ]
  },
  {
   "cell_type": "code",
   "execution_count": 7,
   "metadata": {},
   "outputs": [
    {
     "name": "stdout",
     "output_type": "stream",
     "text": [
      "1 3 5 sum is 9\n"
     ]
    }
   ],
   "source": [
    "our_range = range(6)\n",
    "sum_of_odd_numbers = 0\n",
    "for x in our_range:\n",
    "    if x%2 != 0:\n",
    "        print(x, end=\" \")\n",
    "        sum_of_odd_numbers = x + sum_of_odd_numbers\n",
    "print(\"sum is\",sum_of_odd_numbers)\n"
   ]
  },
  {
   "cell_type": "markdown",
   "metadata": {},
   "source": [
    "8. Python program to print a multiplication table of a given number"
   ]
  },
  {
   "cell_type": "code",
   "execution_count": 8,
   "metadata": {},
   "outputs": [
    {
     "name": "stdout",
     "output_type": "stream",
     "text": [
      "********** FOR LOOP **********\n",
      "2 * 1 ==> 2\n",
      "2 * 2 ==> 4\n",
      "2 * 3 ==> 6\n",
      "2 * 4 ==> 8\n",
      "2 * 5 ==> 10\n",
      "********** WHILE LOOP **********\n",
      "2 * 6 ==> 12\n",
      "2 * 7 ==> 14\n",
      "2 * 8 ==> 16\n",
      "2 * 9 ==> 18\n",
      "2 * 10 ==> 20\n"
     ]
    }
   ],
   "source": [
    "table_of_given_number = 2\n",
    "\n",
    "# using for loop\n",
    "print(f\"{'*'*10} FOR LOOP {'*'*10}\")\n",
    "for x in range(1,6):\n",
    "    print(f\"{table_of_given_number} * {x} ==> {table_of_given_number * x}\")\n",
    "\n",
    "# ussing while loop\n",
    "print(f\"{'*'*10} WHILE LOOP {'*'*10}\")\n",
    "start, end = 6, 11\n",
    "while start < end:\n",
    "    print(f\"{table_of_given_number} * {start} ==> {table_of_given_number * start}\")\n",
    "    start += 1\n"
   ]
  },
  {
   "cell_type": "markdown",
   "metadata": {},
   "source": [
    "9. Python program to count the total number of digits in a number."
   ]
  },
  {
   "cell_type": "code",
   "execution_count": 9,
   "metadata": {},
   "outputs": [
    {
     "name": "stdout",
     "output_type": "stream",
     "text": [
      "********** With For Loop **********\n",
      "--> Number: 124798, Sum: 31\n",
      "\n",
      "******** List Comprehension *******\n",
      "--> Number: 856, Sum: 19\n",
      "\n",
      "******** With While Loop **********\n",
      "--> Number: 3214, Sum: 10\n",
      "\n"
     ]
    }
   ],
   "source": [
    "# using for loop\n",
    "print(f\"{'*'*10} With For Loop {'*'*10}\")\n",
    "total_numbers = 124798\n",
    "sum_of_number = 0\n",
    "for i in str(total_numbers):\n",
    "    sum_of_number += int(i)\n",
    "print(f\"--> Number: {total_numbers}, Sum: {sum_of_number}\\n\")\n",
    "\n",
    "# using list comprehension with in-built function\n",
    "print(f\"{'*'*8} List Comprehension {'*'*7}\")\n",
    "total_numbers = 856\n",
    "num_range = [int(x) for x in str(total_numbers)]\n",
    "print(f\"--> Number: {total_numbers}, Sum: {sum(num_range)}\\n\")\n",
    "\n",
    "# using while loop\n",
    "print(f\"{'*'*8} With While Loop {'*'*10}\")\n",
    "total_numbers = 3214\n",
    "copy_total_nuber = total_numbers\n",
    "sum_of_number = 0\n",
    "while total_numbers > 0:\n",
    "    last_digit = total_numbers%10\n",
    "    sum_of_number += last_digit\n",
    "    total_numbers = total_numbers //10\n",
    "print(f\"--> Number: {copy_total_nuber}, Sum: {sum_of_number}\\n\")"
   ]
  },
  {
   "cell_type": "markdown",
   "metadata": {},
   "source": [
    "10. Python program to reverse a number with and without using string function."
   ]
  },
  {
   "cell_type": "code",
   "execution_count": 10,
   "metadata": {},
   "outputs": [
    {
     "name": "stdout",
     "output_type": "stream",
     "text": [
      "********** Reverse With Function **********\n",
      "Before: 123456789 | After: 987654321\n",
      "\n",
      "********* Reverse Without Function ********\n",
      "Before: 741852963 | After: 369258147\n"
     ]
    }
   ],
   "source": [
    "# using str function\n",
    "print(f\"{'*'*10} Reverse With Function {'*'*10}\")\n",
    "q10_number = 123456789\n",
    "print(f\"Before: {q10_number} | After: {str(q10_number)[::-1]}\\n\")\n",
    "\n",
    "# using without str function\n",
    "print(f\"{'*'*9} Reverse Without Function {'*'*8}\")\n",
    "q10_number = 741852963\n",
    "cp_q10_number = q10_number\n",
    "reverse_q10_number = 0\n",
    "while q10_number > 0:\n",
    "    last_digit = q10_number % 10\n",
    "    reverse_q10_number = (reverse_q10_number*10) + last_digit\n",
    "    q10_number //= 10\n",
    "print(f\"Before: {cp_q10_number} | After: {reverse_q10_number}\")"
   ]
  },
  {
   "cell_type": "markdown",
   "metadata": {},
   "source": [
    "11. Python program to check if the given string is a palindrome."
   ]
  },
  {
   "cell_type": "code",
   "execution_count": 11,
   "metadata": {},
   "outputs": [
    {
     "name": "stdout",
     "output_type": "stream",
     "text": [
      "********** PALINDROME **********\n",
      "Given string 'MaDaM' is Palindrome\n"
     ]
    }
   ],
   "source": [
    "# check whether given string is palindrome or not\n",
    "print(f\"{'*'*10} PALINDROME {'*'*10}\")\n",
    "string = \"MaDaM\"\n",
    "if str(string) == str(string)[::-1]:\n",
    "    print(f\"Given string '{string}' is Palindrome\")\n",
    "else:\n",
    "    print(f\"Givem string '{string}' is not Palindrome\")"
   ]
  },
  {
   "cell_type": "markdown",
   "metadata": {},
   "source": [
    "12. Python program that accepts a word from the user and reverses it."
   ]
  },
  {
   "cell_type": "code",
   "execution_count": 12,
   "metadata": {},
   "outputs": [
    {
     "name": "stdout",
     "output_type": "stream",
     "text": [
      "********** Reverse User Input **********\n",
      "# Input:--->\n",
      " python does not supports tail call optimization \n",
      "\n",
      "Solution 1. noitazimitpo llac liat stroppus ton seod nohtyp\n",
      "\n",
      "Solution 2. optimization call tail supports not does python\n",
      "\n",
      "Solution 3. nohtyp seod ton stroppus liat llac noitazimitpo\n"
     ]
    }
   ],
   "source": [
    "print(f\"{'*'*10} Reverse User Input {'*'*10}\")\n",
    "user_input = input(\"Write anything...\") # python does not supports tail call optimization\n",
    "print(\"# Input:--->\\n\", user_input, \"\\n\")\n",
    "\n",
    "#Solution 1.\n",
    "print(f\"Solution 1. {user_input[::-1]}\\n\")\n",
    "\n",
    "#Solution 2.\n",
    "sentence = [word for word in user_input.split(\" \")]\n",
    "new_sentence = ' '.join(reversed(sentence))\n",
    "print(f\"Solution 2. {new_sentence}\\n\")\n",
    "\n",
    "#Solution 3.\n",
    "holder = new_sentence.split(\" \")\n",
    "n = ' '.join([x for x in holder])\n",
    "print(f\"Solution 3. {n[::-1]}\")\n"
   ]
  },
  {
   "cell_type": "markdown",
   "metadata": {},
   "source": [
    "13. Python program to check if a given number is an Armstrong number"
   ]
  },
  {
   "cell_type": "code",
   "execution_count": 13,
   "metadata": {},
   "outputs": [
    {
     "name": "stdout",
     "output_type": "stream",
     "text": [
      "********** Armstrong Number **********\n",
      "--> 407 is an Armstrong number\n"
     ]
    }
   ],
   "source": [
    "print(f\"{'*'*10} Armstrong Number {'*'*10}\")\n",
    "q13_number = 407\n",
    "copy_q13_number = q13_number\n",
    "count = 0\n",
    "while q13_number > 0:\n",
    "    last_digit = q13_number % 10\n",
    "    count += last_digit**3\n",
    "    q13_number //= 10\n",
    "if count == copy_q13_number:\n",
    "    print(f\"--> {copy_q13_number} is an Armstrong number\")\n",
    "else:\n",
    "    print(f\"--> {copy_q13_number} is not an Armstrong number\")\n"
   ]
  },
  {
   "cell_type": "markdown",
   "metadata": {},
   "source": [
    "14. Python program to count the number of even and odd numbers from a series of numbers."
   ]
  },
  {
   "cell_type": "code",
   "execution_count": 14,
   "metadata": {},
   "outputs": [
    {
     "name": "stdout",
     "output_type": "stream",
     "text": [
      "********** Even/Odd from Series **********\n",
      "Even --> [2, 4, 6, 8, 10, 12, 14]\n",
      "Odd --> [1, 3, 5, 7, 9, 11, 13, 15]\n"
     ]
    }
   ],
   "source": [
    "print(f\"{'*'*10} Even/Odd from Series {'*'*10}\")\n",
    "\n",
    "series = range(1,16)\n",
    "even, odd = [], []\n",
    "for x in series:\n",
    "    if x%2 == 0:\n",
    "        even.append(x)\n",
    "    else:\n",
    "        odd.append(x)\n",
    "print(f\"Even --> {even}\")\n",
    "print(f\"Odd --> {odd}\")"
   ]
  },
  {
   "cell_type": "markdown",
   "metadata": {},
   "source": [
    "15. Python program to display all numbers within a range except the prime numbers."
   ]
  },
  {
   "cell_type": "code",
   "execution_count": 15,
   "metadata": {},
   "outputs": [
    {
     "name": "stdout",
     "output_type": "stream",
     "text": [
      "********** Non Prime Numbers in Range **********\n",
      "List is: [4, 6, 8, 10, 12, 14]\n"
     ]
    }
   ],
   "source": [
    "print(f\"{'*'*10} Non Prime Numbers in Range {'*'*10}\")\n",
    "\n",
    "q15_number_range = 15\n",
    "non_prime_numbers = list()\n",
    "for num in range(2, q15_number_range+1):\n",
    "    prime_flag = True\n",
    "    for x in range(2, num):\n",
    "        if num % 2 == 0:\n",
    "            prime_flag = False\n",
    "            break\n",
    "    if prime_flag:\n",
    "        pass\n",
    "    else:\n",
    "        non_prime_numbers.append(num)\n",
    "print(f\"List is: {non_prime_numbers}\")"
   ]
  },
  {
   "cell_type": "markdown",
   "metadata": {},
   "source": [
    "16. Python program to display all prime numbers within a range."
   ]
  },
  {
   "cell_type": "code",
   "execution_count": 16,
   "metadata": {},
   "outputs": [
    {
     "name": "stdout",
     "output_type": "stream",
     "text": [
      "********** Prime Numbers in Range **********\n",
      "List is: [2, 3, 5, 7, 9, 11, 13, 15]\n"
     ]
    }
   ],
   "source": [
    "print(f\"{'*'*10} Prime Numbers in Range {'*'*10}\")\n",
    "\n",
    "q16_number_range = 15\n",
    "prime_numbers = list()\n",
    "for num in range(2, q16_number_range+1):\n",
    "    prime_flag = True\n",
    "    for x in range(2, num):\n",
    "        if num % 2 == 0:\n",
    "            prime_flag = False\n",
    "            break\n",
    "    if prime_flag:\n",
    "        prime_numbers.append(num)\n",
    "    else:\n",
    "        pass\n",
    "print(f\"List is: {prime_numbers}\")"
   ]
  },
  {
   "cell_type": "markdown",
   "metadata": {},
   "source": [
    "17. Python program to get the Fibonacci series between 0 to 50."
   ]
  },
  {
   "cell_type": "code",
   "execution_count": 17,
   "metadata": {},
   "outputs": [
    {
     "name": "stdout",
     "output_type": "stream",
     "text": [
      "********** Fibonacci series: 0 to 50 **********\n",
      "[0, 1, 1, 2, 3, 5, 8, 13, 21, 34, 55, 89, 144, 233, 377, 610, 987, 1597, 2584, 4181, 6765, 10946, 17711, 28657, 46368, 75025, 121393, 196418, 317811, 514229, 832040, 1346269, 2178309, 3524578, 5702887, 9227465, 14930352, 24157817, 39088169, 63245986, 102334155, 165580141, 267914296, 433494437, 701408733, 1134903170, 1836311903, 2971215073, 4807526976, 7778742049]\n"
     ]
    }
   ],
   "source": [
    "print(f\"{'*'*10} Fibonacci series: 0 to 50 {'*'*10}\")\n",
    "\n",
    "q17_number = 50\n",
    "series_list = [0,1]\n",
    "first, second = 0, 1\n",
    "for x in range(1, q17_number-1):\n",
    "    new = first + second\n",
    "    first = second\n",
    "    second = new\n",
    "    series_list.append(second)\n",
    "print(series_list)"
   ]
  },
  {
   "cell_type": "markdown",
   "metadata": {},
   "source": [
    "18. Python program to display Fibonacci series up to 7 terms"
   ]
  },
  {
   "cell_type": "code",
   "execution_count": 18,
   "metadata": {},
   "outputs": [
    {
     "name": "stdout",
     "output_type": "stream",
     "text": [
      "********** Fibonacci series: 1 to 7 **********\n",
      "[0, 1, 1, 2, 3, 5, 8]\n"
     ]
    }
   ],
   "source": [
    "print(f\"{'*'*10} Fibonacci series: 1 to 7 {'*'*10}\")\n",
    "\n",
    "q18_number = 7\n",
    "series_list = [0,1]\n",
    "first, second = 0, 1\n",
    "for x in range(1, q18_number-1):\n",
    "    new = first + second\n",
    "    first = second\n",
    "    second = new\n",
    "    series_list.append(second)\n",
    "print(series_list)"
   ]
  },
  {
   "cell_type": "markdown",
   "metadata": {},
   "source": [
    "19. Python program to find the factorial of a given number."
   ]
  },
  {
   "cell_type": "code",
   "execution_count": 19,
   "metadata": {},
   "outputs": [
    {
     "name": "stdout",
     "output_type": "stream",
     "text": [
      "********** Factorial of Number. **********\n",
      "# Input:---> 5\n",
      "Factorial is: 120\n"
     ]
    }
   ],
   "source": [
    "print(f\"{'*'*10} Factorial of Number. {'*'*10}\")\n",
    "q19_number = 5\n",
    "print(\"# Input:--->\", q19_number)\n",
    "fact = 1\n",
    "while q19_number > 0:\n",
    "    fact = fact * q19_number\n",
    "    q19_number -= 1\n",
    "    \n",
    "print(\"Factorial is:\", fact)"
   ]
  },
  {
   "cell_type": "markdown",
   "metadata": {},
   "source": [
    "20. Python program that accepts a string and calculates the number of digits and letters."
   ]
  },
  {
   "cell_type": "code",
   "execution_count": 20,
   "metadata": {},
   "outputs": [
    {
     "name": "stdout",
     "output_type": "stream",
     "text": [
      "********** Digit & Letters from String **********\n",
      "# Input:---> Thenew123Password4785\n",
      "Total digits are: ThenewPassword\n",
      "Total letters are: 1234785\n"
     ]
    }
   ],
   "source": [
    "print(f\"{'*'*10} Digit & Letters from String {'*'*10}\")\n",
    "string = \"Thenew123Password4785\"\n",
    "print(\"# Input:--->\", string)\n",
    "total_digit = str()\n",
    "total_string = str()\n",
    "\n",
    "for x in string:\n",
    "    if x.isalpha():\n",
    "        total_digit += x\n",
    "    else:\n",
    "        total_string += x\n",
    "\n",
    "print(\"Total digits are:\", total_digit)\n",
    "print(\"Total letters are:\", total_string)"
   ]
  },
  {
   "cell_type": "markdown",
   "metadata": {},
   "source": [
    "21. Python program to convert the month name to a number of days."
   ]
  },
  {
   "cell_type": "code",
   "execution_count": 21,
   "metadata": {},
   "outputs": [
    {
     "name": "stdout",
     "output_type": "stream",
     "text": [
      "**********  Month to Number of Days **********\n",
      "Current Year: 2025\n",
      "\n",
      "January: 31 days\n",
      "February: 28 days\n",
      "March: 31 days\n",
      "April: 30 days\n",
      "May: 31 days\n",
      "June: 30 days\n",
      "July: 31 days\n",
      "August: 31 days\n",
      "September: 30 days\n",
      "October: 31 days\n",
      "November: 30 days\n",
      "December: 31 days\n"
     ]
    }
   ],
   "source": [
    "print(f\"{'*'*10}  Month to Number of Days {'*'*10}\")\n",
    "\"\"\"\n",
    "**Note:\n",
    "The answer contains the import from module datetime & calender\n",
    "\"\"\"\n",
    "import datetime, calendar\n",
    "year = datetime.datetime.now().year\n",
    "print(f\"Current Year: {year}\\n\")\n",
    "\n",
    "months = list(calendar.month_name)[1::]\n",
    "for i, month in enumerate(months, start=1):\n",
    "    days_in_month = calendar.monthrange(year, i)[1]\n",
    "    print(f\"{month}: {days_in_month} days\")"
   ]
  },
  {
   "cell_type": "markdown",
   "metadata": {},
   "source": [
    "#### Write a Python Program to print below Patterns using For and While Loop"
   ]
  },
  {
   "cell_type": "markdown",
   "metadata": {},
   "source": [
    "Pattern 1"
   ]
  },
  {
   "cell_type": "code",
   "execution_count": 22,
   "metadata": {},
   "outputs": [
    {
     "name": "stdout",
     "output_type": "stream",
     "text": [
      "* \n",
      "* * \n",
      "* * * \n",
      "* * * * \n",
      "* * * * * \n"
     ]
    }
   ],
   "source": [
    "n = 5\n",
    "for i in range(1,n+1):\n",
    "    for x in range(i):\n",
    "        print(\"*\", end = \" \")\n",
    "    print()"
   ]
  },
  {
   "cell_type": "markdown",
   "metadata": {},
   "source": [
    "Pattern 2"
   ]
  },
  {
   "cell_type": "code",
   "execution_count": 23,
   "metadata": {},
   "outputs": [
    {
     "name": "stdout",
     "output_type": "stream",
     "text": [
      "    *\n",
      "   **\n",
      "  ***\n",
      " ****\n",
      "*****\n"
     ]
    }
   ],
   "source": [
    "n = 5\n",
    "for i in range(1, n+1):\n",
    "    print(\" \"*(n-i) + \"*\"*i)"
   ]
  },
  {
   "cell_type": "markdown",
   "metadata": {},
   "source": [
    "Pattern 3"
   ]
  },
  {
   "cell_type": "code",
   "execution_count": 24,
   "metadata": {},
   "outputs": [
    {
     "name": "stdout",
     "output_type": "stream",
     "text": [
      "    * \n",
      "   * * \n",
      "  * * * \n",
      " * * * * \n",
      "* * * * * \n"
     ]
    }
   ],
   "source": [
    "n = 5\n",
    "for i in range(1, n+1):\n",
    "    print(\" \"*(n-i) + \"* \"*i)"
   ]
  },
  {
   "cell_type": "markdown",
   "metadata": {},
   "source": [
    "Pattern 4"
   ]
  },
  {
   "cell_type": "code",
   "execution_count": 25,
   "metadata": {},
   "outputs": [
    {
     "name": "stdout",
     "output_type": "stream",
     "text": [
      "    *\n",
      "   ***\n",
      "  *****\n",
      " *******\n",
      "*********\n"
     ]
    }
   ],
   "source": [
    "n = 5\n",
    "for i in range(1, n+1):\n",
    "    print(\" \"*(n-i) + \"*\"*(2*i-1))"
   ]
  },
  {
   "cell_type": "markdown",
   "metadata": {},
   "source": [
    "Pattern 5"
   ]
  },
  {
   "cell_type": "code",
   "execution_count": 26,
   "metadata": {},
   "outputs": [
    {
     "name": "stdout",
     "output_type": "stream",
     "text": [
      "*********\n",
      " *******\n",
      "  *****\n",
      "   ***\n",
      "    *\n"
     ]
    }
   ],
   "source": [
    "n=5\n",
    "for i in range(n):\n",
    "    print(' '*i,end='')\n",
    "    print('*'*(2*(n-i)-1))"
   ]
  },
  {
   "cell_type": "markdown",
   "metadata": {},
   "source": [
    "Pattern 6"
   ]
  },
  {
   "cell_type": "code",
   "execution_count": 27,
   "metadata": {},
   "outputs": [
    {
     "name": "stdout",
     "output_type": "stream",
     "text": [
      "1 \n",
      "1 2 \n",
      "1 2 3 \n",
      "1 2 3 4 \n",
      "1 2 3 4 5 \n"
     ]
    }
   ],
   "source": [
    "n = 5\n",
    "for i in range(1, n+1):\n",
    "    for j in range(1, i+1):\n",
    "        print(j, end=\" \")\n",
    "    print()"
   ]
  },
  {
   "cell_type": "markdown",
   "metadata": {},
   "source": [
    "Pattern 7"
   ]
  },
  {
   "cell_type": "code",
   "execution_count": 28,
   "metadata": {},
   "outputs": [
    {
     "name": "stdout",
     "output_type": "stream",
     "text": [
      "1 \n",
      "2 3 \n",
      "4 5 6 \n",
      "7 8 9 10 \n",
      "11 12 13 14 15 \n"
     ]
    }
   ],
   "source": [
    "n = 5\n",
    "start = 1\n",
    "for i in range(1, n+1):\n",
    "    for j in range(1, i+1):\n",
    "        print(start, end=\" \")\n",
    "        start = start + 1\n",
    "    print()"
   ]
  },
  {
   "cell_type": "markdown",
   "metadata": {},
   "source": [
    "Pattern 8"
   ]
  },
  {
   "cell_type": "code",
   "execution_count": 29,
   "metadata": {},
   "outputs": [
    {
     "name": "stdout",
     "output_type": "stream",
     "text": [
      "A \n",
      "B B \n",
      "C C C \n",
      "D D D D \n",
      "E E E E E \n"
     ]
    }
   ],
   "source": [
    "n = 5\n",
    "a = 65\n",
    "for i in range(1, n+1):\n",
    "    for j in range(1, i+1):\n",
    "        print(chr(a), end=\" \")\n",
    "    a += 1\n",
    "    print()"
   ]
  },
  {
   "cell_type": "markdown",
   "metadata": {},
   "source": [
    "Pattern 9"
   ]
  },
  {
   "cell_type": "code",
   "execution_count": 30,
   "metadata": {},
   "outputs": [
    {
     "name": "stdout",
     "output_type": "stream",
     "text": [
      "A \n",
      "B C \n",
      "D E F \n",
      "G H I J \n",
      "K L M N O \n"
     ]
    }
   ],
   "source": [
    "n = 5\n",
    "a = 65\n",
    "for i in range(1, n+1):\n",
    "    for j in range(1, i+1):\n",
    "        print(chr(a), end=\" \")\n",
    "        a += 1\n",
    "    print()"
   ]
  },
  {
   "cell_type": "markdown",
   "metadata": {},
   "source": [
    "Pattern 10"
   ]
  },
  {
   "cell_type": "code",
   "execution_count": 31,
   "metadata": {},
   "outputs": [
    {
     "name": "stdout",
     "output_type": "stream",
     "text": [
      "K \n",
      "K K \n",
      "K K K \n",
      "K K K K \n",
      "K K K K K \n"
     ]
    }
   ],
   "source": [
    "n = 5\n",
    "for i in range(1, n+1):\n",
    "    for j in range(1, i+1):\n",
    "        print(\"K\", end=\" \")\n",
    "    print()"
   ]
  },
  {
   "cell_type": "markdown",
   "metadata": {},
   "source": [
    "Pattern 11"
   ]
  },
  {
   "cell_type": "code",
   "execution_count": 32,
   "metadata": {},
   "outputs": [
    {
     "name": "stdout",
     "output_type": "stream",
     "text": [
      "A \n",
      "A B \n",
      "A B C \n",
      "A B C D \n",
      "A B C D E \n"
     ]
    }
   ],
   "source": [
    "n = 5\n",
    "a = 65\n",
    "for i in range(1, n+1):\n",
    "    for j in range(i):\n",
    "        print(chr(a+j), end=\" \") \n",
    "    print()"
   ]
  },
  {
   "cell_type": "markdown",
   "metadata": {},
   "source": [
    "Pattern 12"
   ]
  },
  {
   "cell_type": "code",
   "execution_count": 33,
   "metadata": {},
   "outputs": [
    {
     "name": "stdout",
     "output_type": "stream",
     "text": [
      "P\n",
      "Py\n",
      "Pyt\n",
      "Pyth\n",
      "Pytho\n",
      "Python\n"
     ]
    }
   ],
   "source": [
    "string = \"Python\"\n",
    "for i in range(1, len(string)+1):\n",
    "    print(string[:i])"
   ]
  },
  {
   "cell_type": "markdown",
   "metadata": {},
   "source": [
    "Pattern 13"
   ]
  },
  {
   "cell_type": "code",
   "execution_count": 34,
   "metadata": {},
   "outputs": [
    {
     "name": "stdout",
     "output_type": "stream",
     "text": [
      "1 1 1 1 1 \n",
      "2 2 2 2 \n",
      "3 3 3 \n",
      "4 4 \n",
      "5 \n"
     ]
    }
   ],
   "source": [
    "n = 5\n",
    "for i in range(1, n+1):\n",
    "    for j in range(n-i+1):\n",
    "        print(i, end=\" \")\n",
    "    print()"
   ]
  },
  {
   "cell_type": "markdown",
   "metadata": {},
   "source": [
    "Pattern 14"
   ]
  },
  {
   "cell_type": "code",
   "execution_count": 35,
   "metadata": {},
   "outputs": [
    {
     "name": "stdout",
     "output_type": "stream",
     "text": [
      "6 6 6 6 6 6 \n",
      "5 5 5 5 5 \n",
      "4 4 4 4 \n",
      "3 3 3 \n",
      "2 2 \n",
      "1 \n"
     ]
    }
   ],
   "source": [
    "n = 5\n",
    "for i in range(n+1, 0, -1):\n",
    "    for j in range(i):\n",
    "        print(i, end=\" \")\n",
    "    print() "
   ]
  },
  {
   "cell_type": "markdown",
   "metadata": {},
   "source": [
    "Pattern 15"
   ]
  },
  {
   "cell_type": "code",
   "execution_count": 36,
   "metadata": {},
   "outputs": [
    {
     "name": "stdout",
     "output_type": "stream",
     "text": [
      "0 1 2 3 4 5 \n",
      "0 1 2 3 4 \n",
      "0 1 2 3 \n",
      "0 1 2 \n",
      "0 1 \n",
      "0 \n"
     ]
    }
   ],
   "source": [
    "n = 5\n",
    "for i in range(n, -1, -1):\n",
    "    for j in range(i+1):\n",
    "        print(j, end=\" \")\n",
    "    print() "
   ]
  },
  {
   "cell_type": "markdown",
   "metadata": {},
   "source": [
    "Pattern 16"
   ]
  },
  {
   "cell_type": "code",
   "execution_count": 37,
   "metadata": {},
   "outputs": [
    {
     "name": "stdout",
     "output_type": "stream",
     "text": [
      "1 \n",
      "2 3 4 \n",
      "5 6 7 8 9 \n"
     ]
    }
   ],
   "source": [
    "n = 1\n",
    "for i in range(1,4):\n",
    "    for j in range(i*2-1):\n",
    "        print(n, end=\" \")\n",
    "        n += 1\n",
    "    print()"
   ]
  },
  {
   "cell_type": "markdown",
   "metadata": {},
   "source": [
    "Pattern 17"
   ]
  },
  {
   "cell_type": "code",
   "execution_count": 38,
   "metadata": {},
   "outputs": [
    {
     "name": "stdout",
     "output_type": "stream",
     "text": [
      "6 5 4 3 2 1 \n",
      "5 4 3 2 1 \n",
      "4 3 2 1 \n",
      "3 2 1 \n",
      "2 1 \n",
      "1 \n"
     ]
    }
   ],
   "source": [
    "for i in range(6,0,-1):\n",
    "    for j in range(i,0,-1):\n",
    "        print(j,end=' ')\n",
    "    print()"
   ]
  },
  {
   "cell_type": "markdown",
   "metadata": {},
   "source": [
    "Pattern 18"
   ]
  },
  {
   "cell_type": "code",
   "execution_count": 39,
   "metadata": {},
   "outputs": [
    {
     "name": "stdout",
     "output_type": "stream",
     "text": [
      "1 \n",
      "3 3 \n",
      "5 5 5 \n",
      "7 7 7 7 \n",
      "9 9 9 9 9 \n"
     ]
    }
   ],
   "source": [
    "n = 1\n",
    "for i in range(1,6):\n",
    "    for j in range(i):\n",
    "        print(n, end=\" \")\n",
    "    print()\n",
    "    n += 2"
   ]
  },
  {
   "cell_type": "markdown",
   "metadata": {},
   "source": [
    "Pattern 19"
   ]
  },
  {
   "cell_type": "code",
   "execution_count": 40,
   "metadata": {},
   "outputs": [
    {
     "name": "stdout",
     "output_type": "stream",
     "text": [
      "          1 \n",
      "        1 2 \n",
      "      1 2 3 \n",
      "    1 2 3 4 \n",
      "  1 2 3 4 5 \n"
     ]
    }
   ],
   "source": [
    "for i in range(1,6):\n",
    "    print(\"  \"*(6-i), end=\"\")\n",
    "    for j in range(1,i+1):\n",
    "        print(j,end=' ')\n",
    "    print()"
   ]
  },
  {
   "cell_type": "markdown",
   "metadata": {},
   "source": [
    "Pattern 20"
   ]
  },
  {
   "cell_type": "code",
   "execution_count": 41,
   "metadata": {},
   "outputs": [
    {
     "name": "stdout",
     "output_type": "stream",
     "text": [
      "1 2 3 4 5 \n",
      "2 2 3 4 5 \n",
      "3 3 3 4 5 \n",
      "4 4 4 4 5 \n",
      "5 5 5 5 5 \n"
     ]
    }
   ],
   "source": [
    "for i in range(1,6):\n",
    "    for j in range(1,6):\n",
    "        if j<i:\n",
    "            print(i,end=' ')\n",
    "        else:\n",
    "            print(j,end=' ')\n",
    "    print()"
   ]
  },
  {
   "cell_type": "markdown",
   "metadata": {},
   "source": [
    "Pattern 21"
   ]
  },
  {
   "cell_type": "code",
   "execution_count": 42,
   "metadata": {},
   "outputs": [
    {
     "name": "stdout",
     "output_type": "stream",
     "text": [
      "1 \n",
      "2 4 \n",
      "3 6 9 \n",
      "4 8 12 16 \n",
      "5 10 15 20 25 \n",
      "6 12 18 24 30 36 \n",
      "7 14 21 28 35 42 49 \n"
     ]
    }
   ],
   "source": [
    "for i in range(1,8):\n",
    "    for j in range(1,i+1):\n",
    "        print(i*j,end=' ')\n",
    "    print()"
   ]
  },
  {
   "cell_type": "markdown",
   "metadata": {},
   "source": [
    "Pattern 22"
   ]
  },
  {
   "cell_type": "code",
   "execution_count": 43,
   "metadata": {},
   "outputs": [
    {
     "name": "stdout",
     "output_type": "stream",
     "text": [
      "1 \n",
      "2 1 \n",
      "4 2 1 \n",
      "8 4 2 1 \n",
      "16 8 4 2 1 \n",
      "32 16 8 4 2 1 \n",
      "64 32 16 8 4 2 1 \n",
      "128 64 32 16 8 4 2 1 \n"
     ]
    }
   ],
   "source": [
    "for i in range(1,9):\n",
    "    n=2**(i-1)\n",
    "    for j in range(i):\n",
    "        print(n,end=' ')\n",
    "        n//=2\n",
    "    print()"
   ]
  },
  {
   "cell_type": "markdown",
   "metadata": {},
   "source": [
    "Pattern 23"
   ]
  },
  {
   "cell_type": "code",
   "execution_count": 44,
   "metadata": {},
   "outputs": [
    {
     "name": "stdout",
     "output_type": "stream",
     "text": [
      "* \n",
      "* * \n",
      "* * * \n",
      "* * * * \n",
      "* * * * * \n",
      "* * * * * * \n",
      "* * * * * * * \n",
      "* * * * * * * \n",
      "* * * * * * \n",
      "* * * * * \n",
      "* * * * \n",
      "* * * \n",
      "* * \n",
      "* \n"
     ]
    }
   ],
   "source": [
    "for i in range(1,8):\n",
    "    print('* '*i)\n",
    "for i in range(7,0,-1):\n",
    "    print('* '*i)"
   ]
  }
 ],
 "metadata": {
  "kernelspec": {
   "display_name": "Python 3",
   "language": "python",
   "name": "python3"
  },
  "language_info": {
   "codemirror_mode": {
    "name": "ipython",
    "version": 3
   },
   "file_extension": ".py",
   "mimetype": "text/x-python",
   "name": "python",
   "nbconvert_exporter": "python",
   "pygments_lexer": "ipython3",
   "version": "3.11.0"
  }
 },
 "nbformat": 4,
 "nbformat_minor": 4
}
