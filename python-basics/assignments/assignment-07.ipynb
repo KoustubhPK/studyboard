{
 "cells": [
  {
   "cell_type": "markdown",
   "metadata": {},
   "source": [
    "# Assignment - 07\n",
    "\n",
    "### Topics: File Handling and OS, glob, shutil Module"
   ]
  },
  {
   "cell_type": "code",
   "execution_count": 1,
   "metadata": {},
   "outputs": [],
   "source": [
    "import os\n",
    "import glob\n",
    "import shutil"
   ]
  },
  {
   "cell_type": "markdown",
   "metadata": {},
   "source": [
    "1. How do you open a file in Python?"
   ]
  },
  {
   "cell_type": "code",
   "execution_count": 2,
   "metadata": {},
   "outputs": [
    {
     "name": "stdout",
     "output_type": "stream",
     "text": [
      "Reading File Content:\n",
      "hello\n"
     ]
    }
   ],
   "source": [
    "\"\"\"\n",
    "we can open a file by using open() method.\n",
    "\n",
    "I'm creating new file if not exists, then will open it to read.\n",
    "\"\"\"\n",
    "if not os.path.isfile(\"data/test.txt\"):\n",
    "    var = open(\"data/test.txt\", mode=\"w\")\n",
    "    var.write(\"hello\")\n",
    "    var.close()\n",
    "else:\n",
    "    print(\"Filename Already Exists.\\n\")\n",
    "\n",
    "\n",
    "\"\"\"\n",
    "Opening the file and reading it's content.\n",
    "\"\"\"\n",
    "test_file = open(f\"data/test.txt\", mode=\"r\")\n",
    "read_test_file= test_file.read()\n",
    "test_file.close()\n",
    "print(f\"Reading File Content:\\n{read_test_file}\")\n"
   ]
  },
  {
   "cell_type": "markdown",
   "metadata": {},
   "source": [
    "2. What are the modes in which a file can be opened in Python?"
   ]
  },
  {
   "cell_type": "code",
   "execution_count": 3,
   "metadata": {},
   "outputs": [],
   "source": [
    "\"\"\"\n",
    "We can open the file by usind below modes:\n",
    "#### MODES ####\n",
    "Read Mode       : \"r\"\n",
    "Write Mode      : \"w\"\n",
    "Append Mode     : \"a\"\n",
    "Read Byte Mode  : \"rb\"\n",
    "Write Byte Mode : \"wb\"\n",
    "\"\"\"\n",
    "pass"
   ]
  },
  {
   "cell_type": "markdown",
   "metadata": {},
   "source": [
    "3. What is the purpose of the write() method in file handling?"
   ]
  },
  {
   "cell_type": "code",
   "execution_count": 4,
   "metadata": {},
   "outputs": [
    {
     "name": "stdout",
     "output_type": "stream",
     "text": [
      "File Created Successfully..\n"
     ]
    }
   ],
   "source": [
    "\"\"\"\n",
    "write method is used to write the files which orverrides the content if already exists else it creates the new file.\n",
    "syntax: file.write()\n",
    "\"\"\"\n",
    "#E.g.:\n",
    "if not os.path.isfile(\"data/test1.txt\"):\n",
    "    with open(\"data/test1.txt\", mode=\"w\") as f:\n",
    "        f.write(\"demo text...\")\n",
    "        print(\"File Created Successfully..\")\n",
    "else:\n",
    "    print(\"Filename Already Exists.\")"
   ]
  },
  {
   "cell_type": "markdown",
   "metadata": {},
   "source": [
    "4. Explain the purpose of the with statement in file handling."
   ]
  },
  {
   "cell_type": "code",
   "execution_count": 5,
   "metadata": {},
   "outputs": [
    {
     "name": "stdout",
     "output_type": "stream",
     "text": [
      "hello\n"
     ]
    }
   ],
   "source": [
    "\"\"\"\n",
    "- with statement used for open a file with different modes in python.\n",
    "- by using with statement we don't need to close the file.\n",
    "\n",
    "syntax: with open(filename, mode=\"\") as file\n",
    "\"\"\"\n",
    "\n",
    "# E.g.:\n",
    "with open(\"data/test.txt\", \"r\") as f:\n",
    "    text = f.read()\n",
    "    print(text)"
   ]
  },
  {
   "cell_type": "markdown",
   "metadata": {},
   "source": [
    "5. What is the purpose of the os module in Python?"
   ]
  },
  {
   "cell_type": "code",
   "execution_count": 6,
   "metadata": {},
   "outputs": [
    {
     "data": {
      "text/plain": [
       "'f:\\\\studyboard\\\\exercise_group_mock'"
      ]
     },
     "execution_count": 6,
     "metadata": {},
     "output_type": "execute_result"
    }
   ],
   "source": [
    "\"\"\"\n",
    "- os module provides the different kernel previlages to handle the files and directories.\n",
    "- we use to perform specific tasks such as rename, remove, mkdir, makedirs, getcwd by this methods.\n",
    "\"\"\"\n",
    "\n",
    "# E.g.:\n",
    "os.getcwd()"
   ]
  },
  {
   "cell_type": "markdown",
   "metadata": {},
   "source": [
    "6. How can you check if a file or directory exists using the os module?"
   ]
  },
  {
   "cell_type": "code",
   "execution_count": 7,
   "metadata": {},
   "outputs": [
    {
     "name": "stdout",
     "output_type": "stream",
     "text": [
      "['test.txt', 'test1.txt']\n",
      "File path exists...\n"
     ]
    }
   ],
   "source": [
    "\"\"\"\n",
    "we can check the file or directory is exists or not by using:\n",
    "os.path.exists(file_name)\n",
    "\"\"\"\n",
    "\n",
    "#E.g:\n",
    "print(os.listdir(\"data\"))\n",
    "\n",
    "if os.path.exists(\"data/test.txt\"):\n",
    "    print(\"File path exists...\")\n",
    "else:\n",
    "    print(\"File path not exists...\")"
   ]
  },
  {
   "cell_type": "markdown",
   "metadata": {},
   "source": [
    "7. Explain the use of os.path.join() in file path manipulation."
   ]
  },
  {
   "cell_type": "code",
   "execution_count": 8,
   "metadata": {},
   "outputs": [
    {
     "name": "stdout",
     "output_type": "stream",
     "text": [
      "data\\testing-path-joining\\demo\n"
     ]
    }
   ],
   "source": [
    "\"\"\"\n",
    "we can use the os.path.join() to join the file path dynamically instead of repeating the base path.\n",
    "\"\"\"\n",
    "file_path = os.path.join(\"data\", \"testing-path-joining\\demo\")\n",
    "print(file_path)"
   ]
  },
  {
   "cell_type": "markdown",
   "metadata": {},
   "source": [
    "8. What is the purpose of the os.makedirs() function, and how does it differ from os.mkdir()?"
   ]
  },
  {
   "cell_type": "code",
   "execution_count": 9,
   "metadata": {},
   "outputs": [
    {
     "name": "stdout",
     "output_type": "stream",
     "text": [
      "# Testing makedirs():\n",
      "All directories created successfuly.\n",
      "\n",
      "# Testing mkdir():\n",
      "Directory created successfuly.\n"
     ]
    }
   ],
   "source": [
    "\"\"\"\n",
    "os.makedirs():\n",
    "    - it use to create parent directories.\n",
    "    - if create missing parent directory and nor raise FileNotFound error.\n",
    "\n",
    "os.mkdir():\n",
    "    - it use to create single directory on valid path location.\n",
    "    - if the parent directory not exists then FileExistsError is raised.\n",
    "\"\"\"\n",
    "print(\"# Testing makedirs():\")\n",
    "if not os.path.exists(\"data/test\"):\n",
    "    os.makedirs(\"data/test/new/python/demo\")\n",
    "    print(\"All directories created successfuly.\\n\")\n",
    "else:\n",
    "    print(\"Directories are already exists.\\n\")\n",
    "\n",
    "print(\"# Testing mkdir():\")\n",
    "if not os.path.exists(\"data/single_dir\"):\n",
    "    os.mkdir(\"data/single_dir\")\n",
    "    print(\"Directory created successfuly.\")\n",
    "else:\n",
    "    print(\"Directory is already exists.\")"
   ]
  }
 ],
 "metadata": {
  "kernelspec": {
   "display_name": "Python 3",
   "language": "python",
   "name": "python3"
  },
  "language_info": {
   "codemirror_mode": {
    "name": "ipython",
    "version": 3
   },
   "file_extension": ".py",
   "mimetype": "text/x-python",
   "name": "python",
   "nbconvert_exporter": "python",
   "pygments_lexer": "ipython3",
   "version": "3.11.0"
  }
 },
 "nbformat": 4,
 "nbformat_minor": 2
}
