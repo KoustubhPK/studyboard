{
 "cells": [
  {
   "cell_type": "markdown",
   "metadata": {},
   "source": [
    "# Assignment - 07\n",
    "\n",
    "### Topics: File Handling and OS, glob, shutil Module"
   ]
  },
  {
   "cell_type": "code",
   "execution_count": 1,
   "metadata": {},
   "outputs": [
    {
     "name": "stdout",
     "output_type": "stream",
     "text": [
      "Removed Old Content.\n",
      "Created Base Directory..!\n"
     ]
    }
   ],
   "source": [
    "import os\n",
    "import time\n",
    "import glob\n",
    "import shutil\n",
    "\n",
    "if os.path.isdir(\"data\"):\n",
    "    shutil.rmtree(\"data\")\n",
    "    time.sleep(0.5)\n",
    "    print(\"Removed Old Content.\")\n",
    "\n",
    "os.mkdir(\"data\")\n",
    "print(\"Created Base Directory..!\")"
   ]
  },
  {
   "cell_type": "markdown",
   "metadata": {},
   "source": [
    "1. How do you open a file in Python?"
   ]
  },
  {
   "cell_type": "code",
   "execution_count": 2,
   "metadata": {},
   "outputs": [
    {
     "name": "stdout",
     "output_type": "stream",
     "text": [
      "Reading File Content:\n",
      "hello\n"
     ]
    }
   ],
   "source": [
    "\"\"\"\n",
    "we can open a file by using open() method.\n",
    "\n",
    "I'm creating new file if not exists, then will open it to read.\n",
    "\"\"\"\n",
    "if not os.path.isfile(\"data/test.txt\"):\n",
    "    var = open(\"data/test.txt\", mode=\"w\")\n",
    "    var.write(\"hello\")\n",
    "    var.close()\n",
    "else:\n",
    "    print(\"Filename Already Exists.\\n\")\n",
    "\n",
    "\n",
    "\"\"\"\n",
    "Opening the file and reading it's content.\n",
    "\"\"\"\n",
    "test_file = open(f\"data/test.txt\", mode=\"r\")\n",
    "read_test_file= test_file.read()\n",
    "test_file.close()\n",
    "print(f\"Reading File Content:\\n{read_test_file}\")\n"
   ]
  },
  {
   "cell_type": "markdown",
   "metadata": {},
   "source": [
    "2. What are the modes in which a file can be opened in Python?"
   ]
  },
  {
   "cell_type": "code",
   "execution_count": 3,
   "metadata": {},
   "outputs": [],
   "source": [
    "\"\"\"\n",
    "We can open the file by usind below modes:\n",
    "#### MODES ####\n",
    "Read Mode       : \"r\"\n",
    "Write Mode      : \"w\"\n",
    "Append Mode     : \"a\"\n",
    "Read Byte Mode  : \"rb\"\n",
    "Write Byte Mode : \"wb\"\n",
    "\"\"\"\n",
    "pass"
   ]
  },
  {
   "cell_type": "markdown",
   "metadata": {},
   "source": [
    "3. What is the purpose of the write() method in file handling?"
   ]
  },
  {
   "cell_type": "code",
   "execution_count": 4,
   "metadata": {},
   "outputs": [
    {
     "name": "stdout",
     "output_type": "stream",
     "text": [
      "File Created Successfully..\n"
     ]
    }
   ],
   "source": [
    "\"\"\"\n",
    "write method is used to write the files which orverrides the content if already exists else it creates the new file.\n",
    "syntax: file.write()\n",
    "\"\"\"\n",
    "#E.g.:\n",
    "if not os.path.isfile(\"data/test1.txt\"):\n",
    "    with open(\"data/test1.txt\", mode=\"w\") as f:\n",
    "        f.write(\"demo text...\")\n",
    "        print(\"File Created Successfully..\")\n",
    "else:\n",
    "    print(\"Filename Already Exists.\")"
   ]
  },
  {
   "cell_type": "markdown",
   "metadata": {},
   "source": [
    "4. Explain the purpose of the with statement in file handling."
   ]
  },
  {
   "cell_type": "code",
   "execution_count": 5,
   "metadata": {},
   "outputs": [
    {
     "name": "stdout",
     "output_type": "stream",
     "text": [
      "hello\n"
     ]
    }
   ],
   "source": [
    "\"\"\"\n",
    "- with statement used for open a file with different modes in python.\n",
    "- by using with statement we don't need to close the file.\n",
    "\n",
    "syntax: with open(filename, mode=\"\") as file\n",
    "\"\"\"\n",
    "\n",
    "# E.g.:\n",
    "with open(\"data/test.txt\", \"r\") as f:\n",
    "    text = f.read()\n",
    "    print(text)"
   ]
  },
  {
   "cell_type": "markdown",
   "metadata": {},
   "source": [
    "5. What is the purpose of the os module in Python?"
   ]
  },
  {
   "cell_type": "code",
   "execution_count": 6,
   "metadata": {},
   "outputs": [
    {
     "data": {
      "text/plain": [
       "'f:\\\\studyboard\\\\exercise_group_mock'"
      ]
     },
     "execution_count": 6,
     "metadata": {},
     "output_type": "execute_result"
    }
   ],
   "source": [
    "\"\"\"\n",
    "- os module provides the different kernel previlages to handle the files and directories.\n",
    "- we use to perform specific tasks such as rename, remove, mkdir, makedirs, getcwd by this methods.\n",
    "\"\"\"\n",
    "\n",
    "# E.g.:\n",
    "os.getcwd()"
   ]
  },
  {
   "cell_type": "markdown",
   "metadata": {},
   "source": [
    "6. How can you check if a file or directory exists using the os module?"
   ]
  },
  {
   "cell_type": "code",
   "execution_count": 7,
   "metadata": {},
   "outputs": [
    {
     "name": "stdout",
     "output_type": "stream",
     "text": [
      "['test.txt', 'test1.txt']\n",
      "File path exists...\n"
     ]
    }
   ],
   "source": [
    "\"\"\"\n",
    "we can check the file or directory is exists or not by using:\n",
    "os.path.exists(file_name)\n",
    "\"\"\"\n",
    "\n",
    "#E.g:\n",
    "print(os.listdir(\"data\"))\n",
    "\n",
    "if os.path.exists(\"data/test.txt\"):\n",
    "    print(\"File path exists...\")\n",
    "else:\n",
    "    print(\"File path not exists...\")"
   ]
  },
  {
   "cell_type": "markdown",
   "metadata": {},
   "source": [
    "7. Explain the use of os.path.join() in file path manipulation."
   ]
  },
  {
   "cell_type": "code",
   "execution_count": 8,
   "metadata": {},
   "outputs": [
    {
     "name": "stdout",
     "output_type": "stream",
     "text": [
      "data\\testing-path-joining\\demo\n"
     ]
    }
   ],
   "source": [
    "\"\"\"\n",
    "we can use the os.path.join() to join the file path dynamically instead of repeating the base path.\n",
    "\"\"\"\n",
    "file_path = os.path.join(\"data\", \"testing-path-joining\\demo\")\n",
    "print(file_path)"
   ]
  },
  {
   "cell_type": "markdown",
   "metadata": {},
   "source": [
    "8. What is the purpose of the os.makedirs() function, and how does it differ from os.mkdir()?"
   ]
  },
  {
   "cell_type": "code",
   "execution_count": 9,
   "metadata": {},
   "outputs": [
    {
     "name": "stdout",
     "output_type": "stream",
     "text": [
      "# Testing makedirs():\n",
      "All directories created successfuly.\n",
      "\n",
      "# Testing mkdir():\n",
      "Directory created successfuly.\n"
     ]
    }
   ],
   "source": [
    "\"\"\"\n",
    "os.makedirs():\n",
    "    - it use to create parent directories.\n",
    "    - if create missing parent directory and nor raise FileNotFound error.\n",
    "\n",
    "os.mkdir():\n",
    "    - it use to create single directory on valid path location.\n",
    "    - if the parent directory not exists then FileExistsError is raised.\n",
    "\"\"\"\n",
    "print(\"# Testing makedirs():\")\n",
    "if not os.path.exists(\"data/test\"):\n",
    "    os.makedirs(\"data/test/new/python/demo\")\n",
    "    print(\"All directories created successfuly.\\n\")\n",
    "else:\n",
    "    print(\"Directories are already exists.\\n\")\n",
    "\n",
    "print(\"# Testing mkdir():\")\n",
    "if not os.path.exists(\"data/single_dir\"):\n",
    "    os.mkdir(\"data/single_dir\")\n",
    "    print(\"Directory created successfuly.\")\n",
    "else:\n",
    "    print(\"Directory is already exists.\")"
   ]
  },
  {
   "cell_type": "markdown",
   "metadata": {},
   "source": [
    "9. Explain the difference between glob.glob() and os.listdir() for listing files."
   ]
  },
  {
   "cell_type": "code",
   "execution_count": 10,
   "metadata": {},
   "outputs": [
    {
     "name": "stdout",
     "output_type": "stream",
     "text": [
      "********** glob.glob() **********\n",
      "['data\\\\test.txt', 'data\\\\test1.txt'] \n",
      "\n",
      "********** os.listdir() **********\n",
      "['single_dir', 'test', 'test.txt', 'test1.txt']\n"
     ]
    }
   ],
   "source": [
    "\"\"\"\n",
    "glob.glob:\n",
    "    1. when we need to find files or directories based on specific patterns glob.glob() can be used.\n",
    "    2. we need to import glob module to find perticular files in specified path location\n",
    "\n",
    "os.listdir():\n",
    "    1. we can use to get simple list of all entries in a single directory.\n",
    "    2. It shows all available file and directories.\n",
    "\n",
    "\"\"\"\n",
    "\n",
    "print(f\"{'*'*10} glob.glob() {'*'*10}\")\n",
    "glob_list = glob.glob(\"data/\" + \"//\" + \"*.txt\")\n",
    "print(glob_list,\"\\n\")\n",
    "\n",
    "print(f\"{'*'*10} os.listdir() {'*'*10}\")\n",
    "list_dir = os.listdir(\"data\")\n",
    "print(list_dir)"
   ]
  },
  {
   "cell_type": "markdown",
   "metadata": {},
   "source": [
    "10. What is the purpose of the shutil.rmtree() function?"
   ]
  },
  {
   "cell_type": "code",
   "execution_count": 11,
   "metadata": {},
   "outputs": [
    {
     "name": "stdout",
     "output_type": "stream",
     "text": [
      "Directories deleted successfuly...\n"
     ]
    }
   ],
   "source": [
    "\"\"\"\n",
    "Purpose of shutil.rmtree():\n",
    "    1. It is used to remove all the directories and its all content.\n",
    "    2. The shutil.rmtree() function in Python is used to delete an entire directory tree. \n",
    "    3. This means it removes the specified directory and all its contents, including subdirectories and files within those subdirectories.\n",
    "\"\"\"\n",
    "\n",
    "# E.g.:\n",
    "if os.path.exists(\"data/test\"):\n",
    "    shutil.rmtree(\"data/test\")\n",
    "    print(\"Directories deleted successfuly...\")\n",
    "else:\n",
    "    print(\"Directory does not exists.\")"
   ]
  },
  {
   "cell_type": "markdown",
   "metadata": {},
   "source": [
    "11. Explain the use of the os.path.isfile() and os.path.isdir() functions."
   ]
  },
  {
   "cell_type": "code",
   "execution_count": 12,
   "metadata": {},
   "outputs": [
    {
     "name": "stdout",
     "output_type": "stream",
     "text": [
      "********** Valid File **********\n",
      "True \n",
      "\n",
      "********* Invalid File *********\n",
      "False\n"
     ]
    }
   ],
   "source": [
    "\"\"\"\n",
    "Purpose:\n",
    "    1. It is use to find specific file is available on path location or not.\n",
    "    2. It returns the output in True and False.\n",
    "\n",
    "Syntax:\n",
    "    os.path.isdir(\"file_path\")\n",
    "\"\"\"\n",
    "\n",
    "# E.g.:\n",
    "print(f\"{'*'*10} Valid File {'*'*10}\")\n",
    "print(os.path.isfile(\"data/test.txt\"),\"\\n\")\n",
    "\n",
    "print(f\"{'*'*9} Invalid File {'*'*9}\")\n",
    "print(os.path.isfile(\"data/random.txt\"))"
   ]
  },
  {
   "cell_type": "markdown",
   "metadata": {},
   "source": [
    "12. How do you get the current working directory using the os module?"
   ]
  },
  {
   "cell_type": "code",
   "execution_count": 13,
   "metadata": {},
   "outputs": [
    {
     "name": "stdout",
     "output_type": "stream",
     "text": [
      "********** Current Directory **********\n",
      "Path: f:\\studyboard\\exercise_group_mock\n"
     ]
    }
   ],
   "source": [
    "\"\"\"\n",
    "we can get the current working directory path by using os.getcwd()\n",
    "\"\"\"\n",
    "\n",
    "# E.g.:\n",
    "print(f\"{'*'*10} Current Directory {'*'*10}\")\n",
    "current_dir_path = os.getcwd()\n",
    "print(f\"Path: {current_dir_path}\")"
   ]
  },
  {
   "cell_type": "markdown",
   "metadata": {},
   "source": [
    "13. How do you use the glob module to list all files in a directory with a specific extension?"
   ]
  },
  {
   "cell_type": "code",
   "execution_count": 14,
   "metadata": {},
   "outputs": [
    {
     "name": "stdout",
     "output_type": "stream",
     "text": [
      "********** All files with .txt extention **********\n",
      "['data\\\\test.txt', 'data\\\\test1.txt'] \n",
      "\n"
     ]
    }
   ],
   "source": [
    "\"\"\"\n",
    "Steps to use globe module:\n",
    "    1. import glob\n",
    "    2. glob.glob(\"file_path\" + \"//\" + \"*.txt\")\n",
    "\"\"\"\n",
    "\n",
    "# E.g.:\n",
    "\n",
    "print(f\"{'*'*10} All files with .txt extention {'*'*10}\")\n",
    "glob_list = glob.glob(\"data/\" + \"//\" + \"*.txt\")\n",
    "print(glob_list,\"\\n\")"
   ]
  },
  {
   "cell_type": "markdown",
   "metadata": {},
   "source": [
    "14. What are different methods available in the os module for creating a directory?"
   ]
  },
  {
   "cell_type": "code",
   "execution_count": 15,
   "metadata": {},
   "outputs": [
    {
     "name": "stdout",
     "output_type": "stream",
     "text": [
      "********** Directory : os.makedirs() **********\n",
      "Directoris created successfuly.\n",
      "\n",
      "********** Directory : os.mkdir() **********\n",
      "Directory created successfuly.\n"
     ]
    }
   ],
   "source": [
    "\"\"\"\n",
    "Method\tDescription --->(For creating a directory different methods available)\n",
    "os.makedirs()  :    Creates a directory recursively\n",
    "os.mkdir()     :    Creates a directory (with a specified mode)\n",
    "\"\"\"\n",
    "\n",
    "# E.g.:\n",
    "print(f\"{'*'*10} Directory : os.makedirs() {'*'*10}\")\n",
    "if not os.path.isdir(\"data/mult/temp/test/dir1\"):\n",
    "    os.makedirs(\"data/mult/temp/test/dir1\")\n",
    "    os.makedirs(\"data/test/temp/mult/dir1\")\n",
    "    print(\"Directoris created successfuly.\\n\")\n",
    "else:\n",
    "    print(\"Directory already exists.\\n\")\n",
    "\n",
    "print(f\"{'*'*10} Directory : os.mkdir() {'*'*10}\")\n",
    "if not os.path.isdir(\"data/test_dir\"):\n",
    "    os.mkdir(\"data/test_dir\")\n",
    "    print(\"Directory created successfuly.\")\n",
    "else:\n",
    "    print(\"Directory already exists.\")"
   ]
  },
  {
   "cell_type": "markdown",
   "metadata": {},
   "source": [
    "15. How do you use shutil.copy() to copy a file?"
   ]
  },
  {
   "cell_type": "code",
   "execution_count": 16,
   "metadata": {},
   "outputs": [
    {
     "name": "stdout",
     "output_type": "stream",
     "text": [
      "********** Copying file... **********\n",
      "All .txt files copied successfuly.\n"
     ]
    }
   ],
   "source": [
    "\"\"\"\n",
    "We can simply use shutil module to copy the file with below steps,\n",
    "Steps:\n",
    "    1. import shutil\n",
    "    2. shutil.copy(\"file_path\", \"destination_path\")\n",
    "\"\"\"\n",
    "\n",
    "# E.g.:\n",
    "print(f\"{'*'*10} Copying file... {'*'*10}\")\n",
    "if os.path.isdir(\"data\"):\n",
    "    for x in glob.glob(\"data\"+\"//\"+\"*.txt\"):\n",
    "        shutil.copy(x, \"data/test_dir\")\n",
    "    print(\"All .txt files copied successfuly.\")\n",
    "else:\n",
    "    print(\"Ahh, An error occured while copying...\")"
   ]
  },
  {
   "cell_type": "markdown",
   "metadata": {},
   "source": [
    "16. What are different methods for removing directories and files in Python?"
   ]
  },
  {
   "cell_type": "code",
   "execution_count": 17,
   "metadata": {},
   "outputs": [
    {
     "name": "stdout",
     "output_type": "stream",
     "text": [
      "********** Removing Files: **********\n",
      "Files Removed, Method:--> os.remove()\n",
      "Files Removed, Method:--> os.unlink()\n",
      "\n",
      "********** Removing Directories: **********\n",
      "  Directory Removed, Method:--> os.rmdir()\n",
      "Directories removed, Method:--> os.removedirs()\n",
      "Directories removed, Method:--> shutil.rmtree()\n"
     ]
    }
   ],
   "source": [
    "\"\"\"\n",
    "# For Removing Directories:\n",
    "    1. os.rmdir(\"directory-path\")\n",
    "    2. os.removedirs(\"directory-path\")\n",
    "    3. shutil.rmtree(\"directory-path\")\n",
    "\n",
    "# For Rempving Files:\n",
    "    1. os.remove(\"file-path\")\n",
    "    2. os.unlink(\"file-path\")\n",
    "\"\"\"\n",
    "\n",
    "print(f\"{'*'*10} Removing Files: {'*'*10}\")\n",
    "if os.path.isdir(\"data/test_dir\"):\n",
    "    os.remove(\"data/test_dir/test.txt\")\n",
    "    print(f\"Files Removed, Method:--> os.remove()\")\n",
    "    \n",
    "    os.unlink(\"data/test_dir/test1.txt\")\n",
    "    print(\"Files Removed, Method:--> os.unlink()\\n\")\n",
    "else:\n",
    "    print(\"Error occured.\\n\")\n",
    "\n",
    "print(f\"{'*'*10} Removing Directories: {'*'*10}\")\n",
    "if os.path.isdir(\"data/test_dir\"):\n",
    "    os.removedirs(\"data/single_dir\")\n",
    "    print(\"  Directory Removed, Method:--> os.rmdir()\")\n",
    "\n",
    "    os.removedirs(\"data/test/temp/mult/dir1\")\n",
    "    print(\"Directories removed, Method:--> os.removedirs()\")\n",
    "\n",
    "    shutil.rmtree(\"data/mult\")\n",
    "    print(\"Directories removed, Method:--> shutil.rmtree()\")\n",
    "else:\n",
    "    print(\"Error occured.\")"
   ]
  },
  {
   "cell_type": "markdown",
   "metadata": {},
   "source": [
    "17. Python program to read the first n lines of a file."
   ]
  },
  {
   "cell_type": "code",
   "execution_count": 18,
   "metadata": {},
   "outputs": [
    {
     "name": "stdout",
     "output_type": "stream",
     "text": [
      "********** Reading File **********\n",
      "First 4 Lines:--> demo\n"
     ]
    }
   ],
   "source": [
    "print(f\"{'*'*10} Reading File {'*'*10}\")\n",
    "with open(\"data/test1.txt\", \"r\") as f:\n",
    "    print(f\"First 4 Lines:--> {f.read(4)}\")"
   ]
  },
  {
   "cell_type": "markdown",
   "metadata": {},
   "source": [
    "18. Python program to append text to a file and display the text."
   ]
  },
  {
   "cell_type": "code",
   "execution_count": 19,
   "metadata": {},
   "outputs": [
    {
     "name": "stdout",
     "output_type": "stream",
     "text": [
      "********** Appending Text To File **********\n",
      "New line appended successfuly...\n",
      "\n",
      "********** Displaying Text: **********\n",
      "hello\n",
      "New line from question 18.\n"
     ]
    }
   ],
   "source": [
    "print(f\"{'*'*10} Appending Text To File {'*'*10}\")\n",
    "with open(\"data/test.txt\", \"a+\") as f:\n",
    "    f.write(\"\\nNew line from question 18.\")\n",
    "    print(\"New line appended successfuly...\\n\")\n",
    "    f.seek(0)\n",
    "\n",
    "    print(f\"{'*'*10} Displaying Text: {'*'*10}\")\n",
    "    print(f.read())\n",
    "\n"
   ]
  },
  {
   "cell_type": "markdown",
   "metadata": {},
   "source": [
    "19. Python program to read a file line by line and store it into a list."
   ]
  },
  {
   "cell_type": "code",
   "execution_count": 20,
   "metadata": {},
   "outputs": [
    {
     "name": "stdout",
     "output_type": "stream",
     "text": [
      "********** Reading Lines & Storind Data To List **********\n",
      "['hello', 'New', 'line', 'from', 'question', '18.']\n"
     ]
    }
   ],
   "source": [
    "print(f\"{'*'*10} Reading Lines & Storind Data To List {'*'*10}\")\n",
    "\n",
    "with open(\"data/test.txt\", \"r\") as f:\n",
    "    data_list = [x for x in f.read().split()]\n",
    "    print(data_list)"
   ]
  },
  {
   "cell_type": "markdown",
   "metadata": {},
   "source": [
    "20. Python program to count the number of lines in a text file."
   ]
  },
  {
   "cell_type": "code",
   "execution_count": 21,
   "metadata": {},
   "outputs": [
    {
     "name": "stdout",
     "output_type": "stream",
     "text": [
      "********** Number Of Lines **********\n",
      "Count: 2\n"
     ]
    }
   ],
   "source": [
    "print(f\"{'*'*10} Number Of Lines {'*'*10}\")\n",
    "\n",
    "with open(\"data/test.txt\", \"r\") as f:\n",
    "    print(\"Count:\",len(f.readline().split(\"\\n\")))"
   ]
  },
  {
   "cell_type": "markdown",
   "metadata": {},
   "source": [
    "21. Python program to count the frequency of words in a file."
   ]
  },
  {
   "cell_type": "code",
   "execution_count": 22,
   "metadata": {},
   "outputs": [
    {
     "name": "stdout",
     "output_type": "stream",
     "text": [
      "********** Frequency Of Words **********\n",
      "{'hello': 1, 'New': 1, 'line': 1, 'from': 1, 'question': 1, '18.': 1}\n"
     ]
    }
   ],
   "source": [
    "print(f\"{'*'*10} Frequency Of Words {'*'*10}\")\n",
    "\n",
    "with open(\"data/test.txt\", \"r\") as f:\n",
    "    text = f.read().split()\n",
    "    word_frequency = {x:text.count(x) for x in text}\n",
    "    print(word_frequency)"
   ]
  },
  {
   "cell_type": "markdown",
   "metadata": {},
   "source": [
    "22. Python program to copy the contents of a file to another file."
   ]
  },
  {
   "cell_type": "code",
   "execution_count": 23,
   "metadata": {},
   "outputs": [
    {
     "name": "stdout",
     "output_type": "stream",
     "text": [
      "********** Copy File Content **********\n",
      "Content copied successfuly...\n",
      "Content added successfuly...\n",
      "\n",
      "*********** Displaying Text: **********\n",
      "demo text...\n",
      "\n",
      "       hello\n",
      "New line from question 18.       \n"
     ]
    }
   ],
   "source": [
    "print(f\"{'*'*10} Copy File Content {'*'*10}\")\n",
    "\n",
    "with open(\"data/test.txt\", \"r\") as f:\n",
    "    content = f.read()\n",
    "    print(\"Content copied successfuly...\")\n",
    "\n",
    "with open(\"data/test1.txt\", \"a+\") as f:\n",
    "    f.write(f\"\\n\\n       {content}       \")\n",
    "    print(\"Content added successfuly...\\n\")\n",
    "\n",
    "    f.seek(0)\n",
    "    print(f\"{'*'*11} Displaying Text: {'*'*10}\")\n",
    "    print(f.read())"
   ]
  },
  {
   "cell_type": "markdown",
   "metadata": {},
   "source": [
    "23. Python program to create a file, write some text, and rename the file."
   ]
  },
  {
   "cell_type": "code",
   "execution_count": 24,
   "metadata": {},
   "outputs": [
    {
     "name": "stdout",
     "output_type": "stream",
     "text": [
      "********** Creating File: **********\n",
      "text added successfuly...data/demo.txt\n",
      "\n",
      "********** Renaming File: **********\n",
      "Filename renamed successfuly...\n"
     ]
    },
    {
     "data": {
      "text/plain": [
       "['demo_renamed.txt', 'test.txt', 'test1.txt', 'test_dir']"
      ]
     },
     "execution_count": 24,
     "metadata": {},
     "output_type": "execute_result"
    }
   ],
   "source": [
    "print(f\"{'*'*10} Creating File: {'*'*10}\")\n",
    "\n",
    "with open(\"data/demo.txt\", \"w\") as f:\n",
    "    f.write(content)\n",
    "    print(f\"text added successfuly...{f.name}\\n\")\n",
    "\n",
    "print(f\"{'*'*10} Renaming File: {'*'*10}\")\n",
    "os.rename(\"data/demo.txt\", \"data/demo_renamed.txt\")\n",
    "print(\"Filename renamed successfuly...\")\n",
    "os.listdir(\"data\")\n"
   ]
  },
  {
   "cell_type": "markdown",
   "metadata": {},
   "source": [
    "24. Python program to check if a file or directory exists."
   ]
  },
  {
   "cell_type": "code",
   "execution_count": 25,
   "metadata": {},
   "outputs": [
    {
     "name": "stdout",
     "output_type": "stream",
     "text": [
      "Path exists\n"
     ]
    }
   ],
   "source": [
    "\"\"\"\n",
    "Checking for file or directory, we use os.path.exists(\"file_or_directory_path)) \n",
    "\"\"\"\n",
    "# E.g.:\n",
    "if os.path.exists(\"data/test.txt\"):\n",
    "    print(\"Path exists\")\n",
    "else:\n",
    "    print(\"Path not exists\")"
   ]
  },
  {
   "cell_type": "markdown",
   "metadata": {},
   "source": [
    "25. Python program to list all files in a directory with a specific extension using the glob module."
   ]
  },
  {
   "cell_type": "code",
   "execution_count": 26,
   "metadata": {},
   "outputs": [
    {
     "data": {
      "text/plain": [
       "['data\\\\demo_renamed.txt', 'data\\\\test.txt', 'data\\\\test1.txt']"
      ]
     },
     "execution_count": 26,
     "metadata": {},
     "output_type": "execute_result"
    }
   ],
   "source": [
    "\"\"\"\n",
    "To list all the files with specific extension, we use glob module.\n",
    "Steps:\n",
    "    1. import glob\n",
    "    2. glob.glob(\"file_path\" + \"//\" + \"*.extension\")\n",
    "\"\"\"\n",
    "\n",
    "glob.glob(\"data/\" + \"//\" + \"*.txt\")"
   ]
  },
  {
   "cell_type": "markdown",
   "metadata": {},
   "source": [
    "26. Python program to read the last n lines of a file."
   ]
  },
  {
   "cell_type": "code",
   "execution_count": 27,
   "metadata": {},
   "outputs": [
    {
     "name": "stdout",
     "output_type": "stream",
     "text": [
      "********** Reading File **********\n",
      "Last 4 Lines:--> n 18.       \n"
     ]
    }
   ],
   "source": [
    "print(f\"{'*'*10} Reading File {'*'*10}\")\n",
    "with open(\"data/test1.txt\", \"r\") as f:\n",
    "    last_n_lines = f.read()\n",
    "    print(f\"Last 4 Lines:--> {last_n_lines[-12::]}\")"
   ]
  },
  {
   "cell_type": "markdown",
   "metadata": {},
   "source": [
    "27. Python program to read a file line by line, remove leading and trailing whitespace, and store the cleaned lines in a new file."
   ]
  },
  {
   "cell_type": "code",
   "execution_count": 28,
   "metadata": {},
   "outputs": [
    {
     "name": "stdout",
     "output_type": "stream",
     "text": [
      "********** Reading Affected File **********\n",
      "data/test1.txt\n",
      "Data cleaned successfuly...\n",
      "\n",
      "********** Writing Cleaned File **********\n",
      "data/clean_data.txt\n",
      "File created successfuly...\n",
      "\n",
      "********** Displaying Data **********\n",
      "demo text...\n",
      "\n",
      "hello\n",
      "New line from question 18.\n",
      "\n"
     ]
    }
   ],
   "source": [
    "print(f\"{'*'*10} Reading Affected File {'*'*10}\")\n",
    "with open(\"data/test1.txt\", 'r') as f:\n",
    "    cleaned_lines = [line.strip() for line in f]\n",
    "    print(f\"{f.name}\\nData cleaned successfuly...\\n\")\n",
    "\n",
    "print(f\"{'*'*10} Writing Cleaned File {'*'*10}\")\n",
    "with open(\"data/clean_data.txt\", 'w+') as f:\n",
    "    for line in cleaned_lines:\n",
    "        f.write(line + '\\n')\n",
    "    \n",
    "    print(f\"{f.name}\\nFile created successfuly...\\n\")\n",
    "\n",
    "    print(f\"{'*'*10} Displaying Data {'*'*10}\")\n",
    "    f.seek(0)\n",
    "    print(f.read())"
   ]
  },
  {
   "cell_type": "markdown",
   "metadata": {},
   "source": [
    "28. Python program to merge the contents of multiple text files into a single text file."
   ]
  },
  {
   "cell_type": "code",
   "execution_count": 29,
   "metadata": {},
   "outputs": [
    {
     "name": "stdout",
     "output_type": "stream",
     "text": [
      "********* Merging File Content *********\n",
      "Merged Successfuly...\n",
      "\n",
      "********** Displaying Content **********\n",
      "demo text...\n",
      "\n",
      "hello\n",
      "New line from question 18.\n",
      "hello\n",
      "New line from question 18.hello\n",
      "New line from question 18.demo text...\n",
      "\n",
      "       hello\n",
      "New line from question 18.       \n"
     ]
    }
   ],
   "source": [
    "print(f\"{'*'*9} Merging File Content {'*'*9}\")\n",
    "\n",
    "with open(\"data/merged_file.txt\", \"w+\") as f:\n",
    "    for x in glob.glob(\"data/\" + \"//\" + \"*.txt\"):\n",
    "        with open(x, \"r\") as merged_data:\n",
    "            f.write(merged_data.read())\n",
    "    print(\"Merged Successfuly...\\n\")\n",
    "\n",
    "    print(f\"{'*'*10} Displaying Content {'*'*10}\")\n",
    "    f.seek(0)\n",
    "    print(f.read())"
   ]
  },
  {
   "cell_type": "markdown",
   "metadata": {},
   "source": [
    "29. Python program to delete files older than a specific number of days in a directory."
   ]
  },
  {
   "cell_type": "code",
   "execution_count": 31,
   "metadata": {},
   "outputs": [
    {
     "name": "stdout",
     "output_type": "stream",
     "text": [
      "2025-09-03 14:06:49.642212\n",
      "Deleted: data/clean_data.txt\n",
      "Deleted: data/demo_renamed.txt\n",
      "Deleted: data/merged_file.txt\n",
      "Deleted: data/test.txt\n",
      "Deleted: data/test1.txt\n",
      "no older files than 1 minutes\n"
     ]
    }
   ],
   "source": [
    "import time, datetime\n",
    "\n",
    "file_path = \"data/\"\n",
    "minutes = 1\n",
    "\n",
    "older_than_15minute = time.time() - (minutes * 60)\n",
    "print(datetime.datetime.fromtimestamp(older_than_15minute))\n",
    "\n",
    "for x in os.listdir(file_path):\n",
    "    my_files = os.path.join(file_path, x)\n",
    "    if os.path.isfile(my_files):\n",
    "        if os.path.getmtime(my_files) < older_than_15minute:\n",
    "            os.remove(my_files)\n",
    "            print(\"Deleted:\", my_files)\n",
    "else:\n",
    "    print(\"no older files than 1 minutes\")"
   ]
  }
 ],
 "metadata": {
  "kernelspec": {
   "display_name": "Python 3",
   "language": "python",
   "name": "python3"
  },
  "language_info": {
   "codemirror_mode": {
    "name": "ipython",
    "version": 3
   },
   "file_extension": ".py",
   "mimetype": "text/x-python",
   "name": "python",
   "nbconvert_exporter": "python",
   "pygments_lexer": "ipython3",
   "version": "3.11.0"
  }
 },
 "nbformat": 4,
 "nbformat_minor": 2
}
