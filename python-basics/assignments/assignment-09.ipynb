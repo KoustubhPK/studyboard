{
 "cells": [
  {
   "cell_type": "markdown",
   "metadata": {},
   "source": [
    "# __Topics: Regular Expressions__"
   ]
  },
  {
   "cell_type": "code",
   "execution_count": 1,
   "metadata": {},
   "outputs": [],
   "source": [
    "import re"
   ]
  },
  {
   "cell_type": "markdown",
   "metadata": {},
   "source": [
    "### __1. What is a regular expression in Python?__"
   ]
  },
  {
   "cell_type": "markdown",
   "metadata": {},
   "source": [
    "#### __Regular Expression:__\n",
    "- A sequence of symbols and characters expressing a string or pattern to be searched for within a longer piece of text.\n",
    "\n",
    "#### __Steps:__\n",
    "- import re\n",
    "\n",
    "#### __Syntax:__\n",
    "- re.funtion(\"pattern\", iterables)"
   ]
  },
  {
   "cell_type": "markdown",
   "metadata": {},
   "source": [
    "### __2. Explain the difference between re.match() and re.search() in Python.__"
   ]
  },
  {
   "cell_type": "markdown",
   "metadata": {},
   "source": [
    "| re.match()                                                             | re.search()                                                              |\n",
    "| ---------------------------------------------------------------------- | ------------------------------------------------------------------------ |\n",
    "| Find pattern at the beginning of the string and return a match object. | Find pattern anywhere in the string and return a match object            |\n",
    "| Useful for validating if a string starts with specific pattern         | Used for finding pattern that might appear at any position within string |"
   ]
  },
  {
   "cell_type": "code",
   "execution_count": 2,
   "metadata": {},
   "outputs": [
    {
     "name": "stdout",
     "output_type": "stream",
     "text": [
      "*********** re.match() ***********\n",
      "<re.Match object; span=(0, 4), match='some'> \n",
      "\n",
      "*********** re.search() **********\n",
      "<re.Match object; span=(10, 19), match='someother'>\n"
     ]
    }
   ],
   "source": [
    "string_with_newlines = \"\"\"something\n",
    "someotherthing\"\"\"\n",
    "\n",
    "print(f\"{'*'*11} re.match() {'*'*11}\")\n",
    "print(re.match('some', string_with_newlines), \"\\n\")     # matches at first else None\n",
    "\n",
    "print(f\"{'*'*11} re.search() {'*'*10}\")\n",
    "print(re.search('someother', string_with_newlines))     # finds in entire string"
   ]
  },
  {
   "cell_type": "markdown",
   "metadata": {},
   "source": [
    "### __3. Explain the purpose of the re.sub() function in Python.__"
   ]
  },
  {
   "cell_type": "markdown",
   "metadata": {},
   "source": [
    "#### __Purpose:__\n",
    "- re.sub() method that match a given regular expression pattern with a new substring.\n",
    "- it is useful in text processing or data cleaning.\n",
    "\n",
    "#### __Syntax:__\n",
    "- re.sub()\n",
    "\n",
    "#### __Example:__"
   ]
  },
  {
   "cell_type": "code",
   "execution_count": 3,
   "metadata": {},
   "outputs": [
    {
     "name": "stdout",
     "output_type": "stream",
     "text": [
      "*********** Replacing Only One Occurance by Count ***********\n",
      "Replaced String:\n",
      "--> grape orange apple banana\n"
     ]
    }
   ],
   "source": [
    "my_string = \"apple orange apple banana\"\n",
    "pattern = \"apple\"\n",
    "replacement = \"grape\"\n",
    "\n",
    "result = re.sub(pattern, replacement, my_string, count=1)\n",
    "\n",
    "print(f\"{'*'*11} Replacing Only One Occurance by Count {'*'*11}\")\n",
    "print(f\"Replaced String:\\n--> {result}\")"
   ]
  },
  {
   "cell_type": "markdown",
   "metadata": {},
   "source": [
    "### __4. What is the purpose of the re.compile() function in Python?__"
   ]
  },
  {
   "cell_type": "markdown",
   "metadata": {},
   "source": [
    "#### __Purpose:__\n",
    "- re.compile() that compiles the regular expression pattern into a regular expression object.\n",
    "- compiling patterns can improve the readability of code.\n",
    "- ir can be used multiple times within a program.\n",
    "\n",
    "#### __Syntax:__\n",
    "- re.compile()\n",
    "\n",
    "#### __Example:__"
   ]
  },
  {
   "cell_type": "code",
   "execution_count": 4,
   "metadata": {},
   "outputs": [
    {
     "name": "stdout",
     "output_type": "stream",
     "text": [
      "valid emails: ['viratkohli@gmail.com', 'viratkohli18@gmail.com', 'virat.kohli@gmail.com', 'virat.kohli18@gmail.com', 'viratkohli@bcci.co.in', 'viratkohli18@vctcpune.com', 'virat_kohli@gmail.com', 'virat_kohli1234@gmail.com', 'virat@outlook.com', 'ViRat@outlook.com']\n",
      "invalid data: ['Email', 'IDs:', \"virat_kohli1234@gmail.com'\"]\n"
     ]
    }
   ],
   "source": [
    "emails = \"\"\"Email IDs:\n",
    "viratkohli@gmail.com\n",
    "viratkohli18@gmail.com\n",
    "virat.kohli@gmail.com\n",
    "virat.kohli18@gmail.com\n",
    "viratkohli@bcci.co.in\n",
    "viratkohli18@vctcpune.com\n",
    "virat_kohli@gmail.com\n",
    "virat_kohli1234@gmail.com\n",
    "virat_kohli1234@gmail.com'\n",
    "virat@outlook.com\n",
    "ViRat@outlook.com\n",
    "\"\"\"\n",
    "\n",
    "email_pattern = re.compile(r\"^[a-zA-Z0-9_.%+-]+@[a-zA-Z0-9.-]+\\.[a-zA-Z]{2,}$\")\n",
    "\n",
    "valid, invalid = [],[]\n",
    "for x in emails.split():\n",
    "    if re.match(email_pattern, x) is not None:\n",
    "        valid.append(x)\n",
    "    else:\n",
    "        invalid.append(x)\n",
    "\n",
    "print(f\"valid emails: {valid}\")\n",
    "print(f\"invalid data: {invalid}\")"
   ]
  },
  {
   "cell_type": "markdown",
   "metadata": {},
   "source": [
    "### __5. Explain the significance of all special characters (*, +, ?, ^, $).__"
   ]
  },
  {
   "cell_type": "markdown",
   "metadata": {},
   "source": [
    "#### __Significance:__\n",
    "\n",
    "| Character | Description              |\n",
    "| --------- | ------------------------ |\n",
    "| *         | Zero or more occurrences |\n",
    "| +         | One or more occurrences  |\n",
    "| ?         | Zero or one occurrences  |\n",
    "| ^         | Starts with              |\n",
    "| $         | Ends with                |\n",
    "\n",
    "#### __Example:__"
   ]
  },
  {
   "cell_type": "code",
   "execution_count": 5,
   "metadata": {},
   "outputs": [
    {
     "name": "stdout",
     "output_type": "stream",
     "text": [
      "(*) --> 0 or more\n",
      "['a', 'ab', 'abb', 'abbb', 'ab']\n",
      "\n",
      "(+) --> 1 or more\n",
      "['ab', 'abb', 'abbb', 'ab']\n",
      "\n",
      "(?) --> 0 or 1 (optional)\n",
      "['color', 'colour']\n",
      "\n",
      "(^) --> start of string\n",
      "['GST']\n",
      "\n",
      "($) --> end of string\n",
      "['features']\n"
     ]
    }
   ],
   "source": [
    "print(f\"(*) --> 0 or more\\n{re.findall(r'ab*', 'a ab abb abbb abc')}\\n\")\n",
    "print(f\"(+) --> 1 or more\\n{re.findall(r'ab+', 'a ab abb abbb abc')}\\n\")\n",
    "print(f\"(?) --> 0 or 1 (optional)\\n{re.findall(r'colou?r', 'color colour colouur')}\\n\")\n",
    "print(f\"(^) --> start of string\\n{re.findall(r'^GST', 'GST inversion eases but wide gap in input-output rates remains a worry for industry')}\\n\")\n",
    "print(f\"($) --> end of string\\n{re.findall(r'features$', 'Google is testing new Gboard features')}\")"
   ]
  },
  {
   "cell_type": "markdown",
   "metadata": {},
   "source": [
    "### __6. What is the purpose of the \\b anchor in regular expressions?__"
   ]
  },
  {
   "cell_type": "markdown",
   "metadata": {},
   "source": [
    "#### __Purpose:__\n",
    "- To ensure that a pattern matches an entire word rather than just a part of a word i.e: \\bword\\b"
   ]
  },
  {
   "cell_type": "code",
   "execution_count": 6,
   "metadata": {},
   "outputs": [
    {
     "name": "stdout",
     "output_type": "stream",
     "text": [
      "*********** Strict Pattern Match ***********\n",
      "['DFGHJ4567V']\n"
     ]
    }
   ],
   "source": [
    "pan_cards = \"\"\"DFGHJ4567V\n",
    "FGBVJD4562J\n",
    "HIOPA1234KO\"\"\"\n",
    "\n",
    "valid_pan = re.findall(r\"\\b[A-Z]{5}[0-9]{4}[A-z]\\b\", pan_cards)\n",
    "print(f\"{'*'*11} Strict Pattern Match {'*'*11}\")\n",
    "print(valid_pan)"
   ]
  },
  {
   "cell_type": "markdown",
   "metadata": {},
   "source": [
    "### __7. How do you perform a case-insensitive search using regular expressions in Python?__"
   ]
  },
  {
   "cell_type": "markdown",
   "metadata": {},
   "source": [
    "- To perform case-insensitive search we can use re.IGNORECASE flag."
   ]
  },
  {
   "cell_type": "code",
   "execution_count": 7,
   "metadata": {},
   "outputs": [
    {
     "name": "stdout",
     "output_type": "stream",
     "text": [
      "['Python', 'python', 'PyThOn']\n"
     ]
    }
   ],
   "source": [
    "text = \"Python python PyThOn\"\n",
    "pattern = r\"python\"\n",
    "\n",
    "# Perform a case-insensitive search\n",
    "matches = re.findall(pattern, text, re.IGNORECASE)\n",
    "print(matches)"
   ]
  },
  {
   "cell_type": "markdown",
   "metadata": {},
   "source": [
    "### __8. What is the purpose of the re.findall() function in Python?__"
   ]
  },
  {
   "cell_type": "markdown",
   "metadata": {},
   "source": [
    "#### __Purpose:__\n",
    "- it find all non-overlapping occurrences of a given RE pattern within a string and return them as a list of strings.\n",
    "- The matches are returned in the order.\n",
    "\n",
    "#### __Syntax:__\n",
    "- re.findall()"
   ]
  },
  {
   "cell_type": "code",
   "execution_count": 8,
   "metadata": {},
   "outputs": [
    {
     "name": "stdout",
     "output_type": "stream",
     "text": [
      "['don', 'oron', 'cron', 'pron', 'dron']\n"
     ]
    }
   ],
   "source": [
    "my_string = \"don moron cron prone drone\"\n",
    "matches = re.findall(\".on|..on\", my_string)\n",
    "print(matches)"
   ]
  },
  {
   "cell_type": "markdown",
   "metadata": {},
   "source": [
    "### __9. What is the purpose of the re.split() function in Python?__"
   ]
  },
  {
   "cell_type": "markdown",
   "metadata": {},
   "source": [
    "#### __Purpose:__\n",
    "- it is used to split a string into a list of substrings based on a regular expression pattern.\n",
    "- it can handles multiple delimiters for searching patterns.\n",
    "\n",
    "#### __Syntax:__\n",
    "- re.split()"
   ]
  },
  {
   "cell_type": "code",
   "execution_count": 9,
   "metadata": {},
   "outputs": [
    {
     "name": "stdout",
     "output_type": "stream",
     "text": [
      "['DFGHJ', '4567', 'V']\n"
     ]
    }
   ],
   "source": [
    "data = \"DFGHJ4567V\"\n",
    "print(re.split(\"(\\d+)\", data))"
   ]
  },
  {
   "cell_type": "markdown",
   "metadata": {},
   "source": [
    "### __10. How do you use the re.IGNORECASE flag in a regular expression pattern?__"
   ]
  },
  {
   "cell_type": "code",
   "execution_count": 10,
   "metadata": {},
   "outputs": [
    {
     "name": "stdout",
     "output_type": "stream",
     "text": [
      "*********** IGNORECASE ***********\n",
      "Some\n"
     ]
    }
   ],
   "source": [
    "string_with_newlines = \"\"\"Something\n",
    "someotherthing\"\"\"\n",
    "\n",
    "print(f\"{'*'*11} IGNORECASE {'*'*11}\")\n",
    "print(re.match('some', string_with_newlines, re.IGNORECASE).group())   "
   ]
  },
  {
   "cell_type": "markdown",
   "metadata": {},
   "source": [
    "### __11. How can you escape special characters in a regular expression pattern?__"
   ]
  },
  {
   "cell_type": "code",
   "execution_count": 11,
   "metadata": {},
   "outputs": [
    {
     "name": "stdout",
     "output_type": "stream",
     "text": [
      "www\\.google\\.com\n"
     ]
    }
   ],
   "source": [
    "# text = \"$pe@ial Chars *\"\n",
    "# print(re.sub(\"[~`!@#$%^&*()_+-=]\", \"\", text))\n",
    "\n",
    "text = \"www.google.com\"\n",
    "print(re.escape(text))"
   ]
  },
  {
   "cell_type": "markdown",
   "metadata": {},
   "source": [
    "### __12. Python Program to check that a string contains only a certain set of characters (in this case a-z, A-Z, and 0-9).__"
   ]
  },
  {
   "cell_type": "code",
   "execution_count": 12,
   "metadata": {},
   "outputs": [
    {
     "name": "stdout",
     "output_type": "stream",
     "text": [
      "['kp', 'gmail', 'com', 'INDIA', '8752', 'kpcI8']\n"
     ]
    }
   ],
   "source": [
    "string = \"kp@gmail.com INDIA 8752 kpcI8\"\n",
    "pattern = re.compile(r\"[a-zA-Z0-9]+\")\n",
    "result = re.findall(pattern, string)\n",
    "print(result)"
   ]
  },
  {
   "cell_type": "markdown",
   "metadata": {},
   "source": [
    "### __13. Python Program that matches a string that has an 'a' followed by one or more 'b's.__"
   ]
  },
  {
   "cell_type": "code",
   "execution_count": 13,
   "metadata": {},
   "outputs": [
    {
     "name": "stdout",
     "output_type": "stream",
     "text": [
      "['abb']\n",
      "['abbbbbb'] []\n"
     ]
    }
   ],
   "source": [
    "string = \"abbreviation\"\n",
    "pattern = re.compile(r\"ab+\")\n",
    "result = re.findall(pattern, string)\n",
    "print(result)\n",
    "print(re.findall(r\"ab+\", \"abbbbbb\"), re.findall(r\"ab+\", \"a123bb\"))"
   ]
  },
  {
   "cell_type": "markdown",
   "metadata": {},
   "source": [
    "### __14. Python Program that matches a string that has an 'a' followed by zero or one 'b'.__"
   ]
  },
  {
   "cell_type": "code",
   "execution_count": 14,
   "metadata": {},
   "outputs": [
    {
     "name": "stdout",
     "output_type": "stream",
     "text": [
      "['ab', 'a', 'a', 'ab', 'ab', 'a']\n"
     ]
    }
   ],
   "source": [
    "string = \"abap argb abab acdb\"\n",
    "pattern = re.compile(\"ab?\")\n",
    "result = re.findall(pattern, string)\n",
    "print(result)"
   ]
  },
  {
   "cell_type": "markdown",
   "metadata": {},
   "source": [
    "### __15. Python Program that matches a string that has an 'a' followed by anything, ending in 'b'.__"
   ]
  },
  {
   "cell_type": "code",
   "execution_count": 15,
   "metadata": {},
   "outputs": [
    {
     "name": "stdout",
     "output_type": "stream",
     "text": [
      "['argb', 'abab', 'acdb']\n"
     ]
    }
   ],
   "source": [
    "string1 = \"abap argb prab abab acdb\"\n",
    "print(re.findall(r\"\\ba\\w+b\\b\", string1))"
   ]
  },
  {
   "cell_type": "markdown",
   "metadata": {},
   "source": [
    "### __16. Python Program to find sequences of lowercase letters joined with an underscore.__"
   ]
  },
  {
   "cell_type": "code",
   "execution_count": 16,
   "metadata": {},
   "outputs": [
    {
     "name": "stdout",
     "output_type": "stream",
     "text": [
      "['kala_jamun', 'test_runner']\n"
     ]
    }
   ],
   "source": [
    "string = \"\"\"Abstract_class,\n",
    "kala_jamun,\n",
    "test_runner,\n",
    "Quality_Assurance,\n",
    "enventory_Management\n",
    "\"\"\"\n",
    "\n",
    "print(re.findall(r\"\\b[a-z_]+[a-z]\\b\", string))"
   ]
  },
  {
   "cell_type": "markdown",
   "metadata": {},
   "source": [
    "### __17. Python Program to find the sequences of one uppercase letter followed by lowercase letters.__"
   ]
  },
  {
   "cell_type": "code",
   "execution_count": 17,
   "metadata": {},
   "outputs": [
    {
     "name": "stdout",
     "output_type": "stream",
     "text": [
      "['Abstract_class']\n"
     ]
    }
   ],
   "source": [
    "string = \"\"\"Abstract_class,\n",
    "kala_jamun,\n",
    "test_runner,\n",
    "Quality_Assurance,\n",
    "enventory_Management\n",
    "\"\"\"\n",
    "\n",
    "print(re.findall(r\"\\b[A-Z][a-z_]+\\b\", string))"
   ]
  },
  {
   "cell_type": "markdown",
   "metadata": {},
   "source": [
    "### __18. Python Program that matches a word at the beginning of a string.__"
   ]
  },
  {
   "cell_type": "code",
   "execution_count": 18,
   "metadata": {},
   "outputs": [
    {
     "name": "stdout",
     "output_type": "stream",
     "text": [
      "ABCDF2861Z\n"
     ]
    }
   ],
   "source": [
    "string = \"ABCDF2861Z PAN Status demo\"\n",
    "print(re.match(r\"\\w{5}\\d{4}\\w\", string).group())"
   ]
  },
  {
   "cell_type": "markdown",
   "metadata": {},
   "source": [
    "### __19. Python Program that matches a word at the end of a string, with optional punctuation.__"
   ]
  },
  {
   "cell_type": "code",
   "execution_count": 19,
   "metadata": {},
   "outputs": [
    {
     "name": "stdout",
     "output_type": "stream",
     "text": [
      "['world!', 'winners.']\n"
     ]
    }
   ],
   "source": [
    "thought = \"\"\"\n",
    "Imagination governs the world!\n",
    "History is written by the winners.\n",
    "-Napoleon Bonaparte\n",
    "\"\"\"\n",
    "\n",
    "print(re.findall(\"\\w+[.!_$]\", thought))"
   ]
  },
  {
   "cell_type": "markdown",
   "metadata": {},
   "source": [
    "### __20. Python Program that matches a word containing 'z'.__"
   ]
  },
  {
   "cell_type": "code",
   "execution_count": 20,
   "metadata": {},
   "outputs": [
    {
     "name": "stdout",
     "output_type": "stream",
     "text": [
      "['normalize', 'zest', 'enzymes']\n"
     ]
    }
   ],
   "source": [
    "string = \"normalize the zest of enzymes\"\n",
    "print(re.findall(r\"[a-z]*[z]+[a-z]+\", string))"
   ]
  },
  {
   "cell_type": "markdown",
   "metadata": {},
   "source": [
    "### __21. Python Program to match a string that contains only upper and lowercase letters, numbers, and underscores.__"
   ]
  },
  {
   "cell_type": "code",
   "execution_count": 21,
   "metadata": {},
   "outputs": [
    {
     "name": "stdout",
     "output_type": "stream",
     "text": [
      "['_cwkHfr230925', '0x2A0x80070005']\n"
     ]
    }
   ],
   "source": [
    "string = \"order id _cwkHfr230925, error code is 0x2A0x80070005\"\n",
    "print(re.findall(r\"\\b\\w+\\d+\\b\", string))"
   ]
  },
  {
   "cell_type": "markdown",
   "metadata": {},
   "source": [
    "### __22. Python Program where a string will start with a specific number.__"
   ]
  },
  {
   "cell_type": "code",
   "execution_count": 22,
   "metadata": {},
   "outputs": [
    {
     "name": "stdout",
     "output_type": "stream",
     "text": [
      "['223-B95685', '223-B95795', '223-B94985']\n"
     ]
    }
   ],
   "source": [
    "string = \"\"\"batch id:\n",
    "223-B95685\n",
    "223-B95795\n",
    "225-B98873\n",
    "226-B100123\n",
    "223-B94985\n",
    "\"\"\"\n",
    "\n",
    "print(re.findall(r\"\\b[223]+[-]\\w\\d+\\b\", string))    "
   ]
  },
  {
   "cell_type": "markdown",
   "metadata": {},
   "source": [
    "### __23. Python Program to check for a number at the end of a string.__"
   ]
  },
  {
   "cell_type": "code",
   "execution_count": 23,
   "metadata": {},
   "outputs": [
    {
     "name": "stdout",
     "output_type": "stream",
     "text": [
      "0x1004\n"
     ]
    }
   ],
   "source": [
    "string = \"ERROR_DHCP_ADDRESS_CONFLICT 4100 0x1004\"\n",
    "print(re.search(\"\\d[a-z]\\d+$\", string).group())"
   ]
  },
  {
   "cell_type": "markdown",
   "metadata": {},
   "source": [
    "### __24. Python Program to validate an email address using a regular expression.__"
   ]
  },
  {
   "cell_type": "code",
   "execution_count": 24,
   "metadata": {},
   "outputs": [
    {
     "name": "stdout",
     "output_type": "stream",
     "text": [
      "['abc.def@mail.cc', 'abcdef1236@mail.org', 'abc65.def@mail.com']\n"
     ]
    }
   ],
   "source": [
    "emails = \"\"\"\n",
    "abc'def@mail.c abc.def@mail.cc\n",
    "abc.def@mail#archive.com abc_def@mail-archive.com\n",
    "abc.def@mail abcdef1236@mail.org\n",
    "abc.def@mail..com abc65.def@mail.com\n",
    "\"\"\"\n",
    "\n",
    "valid_email_pattern = re.compile(r\"\\b\\w{3,10}[._0-9]\\w+[@][a-z]{3,15}[.]\\w+\\b\")\n",
    "print(re.findall(valid_email_pattern, emails))"
   ]
  },
  {
   "cell_type": "markdown",
   "metadata": {},
   "source": [
    "### __25. Python Program to extract all phone numbers from a string containing phone numbers.__"
   ]
  },
  {
   "cell_type": "code",
   "execution_count": 25,
   "metadata": {},
   "outputs": [
    {
     "name": "stdout",
     "output_type": "stream",
     "text": [
      "['8600742471', '9865421786', '8596324756']\n"
     ]
    }
   ],
   "source": [
    "numbers = \"\"\"\n",
    "75658963\n",
    "8600742471\n",
    "98255225634\n",
    "9865421786\n",
    "8596324756\n",
    "\"\"\"\n",
    "\n",
    "print(re.findall(r\"\\b\\d{10}\\b\", numbers))"
   ]
  }
 ],
 "metadata": {
  "kernelspec": {
   "display_name": "Python 3",
   "language": "python",
   "name": "python3"
  },
  "language_info": {
   "codemirror_mode": {
    "name": "ipython",
    "version": 3
   },
   "file_extension": ".py",
   "mimetype": "text/x-python",
   "name": "python",
   "nbconvert_exporter": "python",
   "pygments_lexer": "ipython3",
   "version": "3.11.0"
  }
 },
 "nbformat": 4,
 "nbformat_minor": 2
}
