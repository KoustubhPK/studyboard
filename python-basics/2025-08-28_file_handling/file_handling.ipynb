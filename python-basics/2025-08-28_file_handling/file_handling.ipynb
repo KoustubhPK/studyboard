{
 "cells": [
  {
   "cell_type": "markdown",
   "metadata": {},
   "source": [
    "# File Handling"
   ]
  },
  {
   "cell_type": "markdown",
   "metadata": {},
   "source": [
    "In Python, file handling is the technique used to interact with files stored on a system. With it, you can create new files, open existing ones, read or modify their contents, and finally close them once the task is done. This process acts as a bridge between a program and the underlying storage, making sure data is managed in a reliable and efficient manner.\n",
    "\n",
    "#### Importance of File Handling:\n",
    "    Output of program will be stored in file.\n",
    "    We can create any type of data files.\n",
    "    Helps in processing large amounts of information without loading everything into memory at once.\n",
    "    Enables automation such as reading configuration files or generating reports.\n",
    "\n",
    "#### Opening Files in Python\n",
    "\n",
    "To begin working with a file, Python provides the built-in open() function. It needs two things: the file name (or path) and the mode that defines how you want to use the file (i.e.: read, write or append)."
   ]
  },
  {
   "cell_type": "markdown",
   "metadata": {},
   "source": [
    "#### Modes\n",
    "1.  r   -   read the file\n",
    "2.  r+  -   read & write\n",
    "3.  w   -   write only\n",
    "4.  w+  -   read & write (but overwrite the content)\n",
    "5.  a   -   append the content at the end\n",
    "6.  a+  -   read and append the content at the end\n",
    "7.  rb  -   read in binary\n",
    "8.  rb+ -   read and write in binary\n",
    "9.  wb  -   write in binary\n",
    "10. wb+ -   read and write in binary"
   ]
  },
  {
   "cell_type": "markdown",
   "metadata": {},
   "source": [
    "### Data Files Path\n",
    "Note: All generated files will stored in this path location."
   ]
  },
  {
   "cell_type": "code",
   "execution_count": 1,
   "metadata": {},
   "outputs": [],
   "source": [
    "absolute_path = r\"F:\\studyboard\\python-basics\\2025-08-28_file_handling\\data\""
   ]
  },
  {
   "cell_type": "markdown",
   "metadata": {
    "vscode": {
     "languageId": "plaintext"
    }
   },
   "source": [
    "### 1. Write Mode"
   ]
  },
  {
   "cell_type": "code",
   "execution_count": 2,
   "metadata": {},
   "outputs": [
    {
     "name": "stdout",
     "output_type": "stream",
     "text": [
      "file created successfully...\n"
     ]
    }
   ],
   "source": [
    "f = open(f\"{absolute_path}\\my_first_text_file.txt\", \"w\")\n",
    "f.write(\"test content...\")\n",
    "print(\"file created successfully...\")\n",
    "f.close()"
   ]
  },
  {
   "cell_type": "markdown",
   "metadata": {},
   "source": [
    "### 2. Append Mode"
   ]
  },
  {
   "cell_type": "code",
   "execution_count": 3,
   "metadata": {},
   "outputs": [
    {
     "name": "stdout",
     "output_type": "stream",
     "text": [
      "data appended successfully...\n"
     ]
    }
   ],
   "source": [
    "f = open(f\"{absolute_path}/my_first_text_file.txt\", \"a\")\n",
    "f.write(\"\\ncheck\")\n",
    "print(\"data appended successfully...\")\n",
    "f.close()"
   ]
  },
  {
   "cell_type": "markdown",
   "metadata": {},
   "source": [
    "### 3. Read Mode"
   ]
  },
  {
   "cell_type": "code",
   "execution_count": 4,
   "metadata": {},
   "outputs": [
    {
     "name": "stdout",
     "output_type": "stream",
     "text": [
      "test content...\n",
      "check\n"
     ]
    }
   ],
   "source": [
    "f = open(f\"{absolute_path}/my_first_text_file.txt\", \"r\")\n",
    "text = f.read()\n",
    "f.close()\n",
    "print(text)\n"
   ]
  },
  {
   "cell_type": "markdown",
   "metadata": {},
   "source": [
    "### 4. Write Mode - with open()"
   ]
  },
  {
   "cell_type": "code",
   "execution_count": 5,
   "metadata": {},
   "outputs": [
    {
     "name": "stdout",
     "output_type": "stream",
     "text": [
      "file created successfully...\n"
     ]
    }
   ],
   "source": [
    "with open(f\"{absolute_path}/with_open_test.txt\", \"w\") as f:\n",
    "    f.write(\"no need to close the file explicitely if we use with statement.\")\n",
    "    print(\"file created successfully...\")"
   ]
  },
  {
   "cell_type": "markdown",
   "metadata": {},
   "source": [
    "### 5. Append Mode - with open()"
   ]
  },
  {
   "cell_type": "code",
   "execution_count": 6,
   "metadata": {},
   "outputs": [
    {
     "name": "stdout",
     "output_type": "stream",
     "text": [
      "data appended successfully...\n"
     ]
    }
   ],
   "source": [
    "with open(f\"{absolute_path}/with_open_test.txt\", \"a\") as f:\n",
    "    f.write(\"\\nfile handing does smoothly by with open.\")\n",
    "    print(\"data appended successfully...\")"
   ]
  },
  {
   "cell_type": "markdown",
   "metadata": {},
   "source": [
    "### 6. Read Mode - with open()"
   ]
  },
  {
   "cell_type": "code",
   "execution_count": 7,
   "metadata": {},
   "outputs": [
    {
     "name": "stdout",
     "output_type": "stream",
     "text": [
      "no need to close the file explicitely if we use with statement.\n",
      "file handing does smoothly by with open.\n"
     ]
    }
   ],
   "source": [
    "with open(f\"{absolute_path}/with_open_test.txt\", \"r\") as f:\n",
    "    data = f.read()\n",
    "print(data)"
   ]
  }
 ],
 "metadata": {
  "kernelspec": {
   "display_name": "Python 3",
   "language": "python",
   "name": "python3"
  },
  "language_info": {
   "codemirror_mode": {
    "name": "ipython",
    "version": 3
   },
   "file_extension": ".py",
   "mimetype": "text/x-python",
   "name": "python",
   "nbconvert_exporter": "python",
   "pygments_lexer": "ipython3",
   "version": "3.11.0"
  }
 },
 "nbformat": 4,
 "nbformat_minor": 2
}
